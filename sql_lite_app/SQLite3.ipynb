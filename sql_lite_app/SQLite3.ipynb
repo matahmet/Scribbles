{
 "cells": [
  {
   "cell_type": "code",
   "execution_count": 1,
   "id": "0172cff1-01f1-40eb-8640-e678ea1b500a",
   "metadata": {},
   "outputs": [],
   "source": [
    "import sqlite3"
   ]
  },
  {
   "cell_type": "code",
   "execution_count": 2,
   "id": "c4e11322-bb3d-4ba0-8fba-2bd82dc32cb0",
   "metadata": {},
   "outputs": [],
   "source": [
    "connect=sqlite3.connect(\"DSS.db\")"
   ]
  },
  {
   "cell_type": "code",
   "execution_count": 3,
   "id": "10fd9e69-2dce-4df9-9b54-6a15d78e99df",
   "metadata": {},
   "outputs": [
    {
     "data": {
      "text/plain": [
       "\u001b[1;31mCall signature:\u001b[0m \u001b[0mconnect\u001b[0m\u001b[1;33m(\u001b[0m\u001b[1;33m*\u001b[0m\u001b[0margs\u001b[0m\u001b[1;33m,\u001b[0m \u001b[1;33m**\u001b[0m\u001b[0mkwargs\u001b[0m\u001b[1;33m)\u001b[0m\u001b[1;33m\u001b[0m\u001b[1;33m\u001b[0m\u001b[0m\n",
       "\u001b[1;31mType:\u001b[0m           Connection\n",
       "\u001b[1;31mString form:\u001b[0m    <sqlite3.Connection object at 0x000002011DAD1B70>\n",
       "\u001b[1;31mFile:\u001b[0m           c:\\users\\emrehan\\anaconda3\\lib\\sqlite3\\__init__.py\n",
       "\u001b[1;31mDocstring:\u001b[0m      SQLite database connection object.\n"
      ]
     },
     "metadata": {},
     "output_type": "display_data"
    }
   ],
   "source": [
    "?connect"
   ]
  },
  {
   "cell_type": "code",
   "execution_count": 5,
   "id": "c34b90d1-625d-454f-a20c-39fa0175d735",
   "metadata": {},
   "outputs": [],
   "source": [
    "c=connect.cursor()"
   ]
  },
  {
   "cell_type": "code",
   "execution_count": 6,
   "id": "4e1d42c3-9b68-421f-8af1-e5bb191ec51d",
   "metadata": {},
   "outputs": [
    {
     "data": {
      "text/plain": [
       "\u001b[1;31mType:\u001b[0m        Cursor\n",
       "\u001b[1;31mString form:\u001b[0m <sqlite3.Cursor object at 0x000002011DCCC260>\n",
       "\u001b[1;31mFile:\u001b[0m        c:\\users\\emrehan\\anaconda3\\lib\\sqlite3\\__init__.py\n",
       "\u001b[1;31mDocstring:\u001b[0m   SQLite database cursor class.\n"
      ]
     },
     "metadata": {},
     "output_type": "display_data"
    }
   ],
   "source": [
    "?c"
   ]
  },
  {
   "cell_type": "code",
   "execution_count": 9,
   "id": "6148f971-3b44-4935-88af-12b562bcbd42",
   "metadata": {},
   "outputs": [],
   "source": [
    "import pandas as pd\n",
    "#?pd.read_sql"
   ]
  },
  {
   "cell_type": "code",
   "execution_count": 12,
   "id": "1b6994f4-52dd-4318-b980-31284b95f591",
   "metadata": {},
   "outputs": [],
   "source": [
    "dff=pd.read_sql(\"SELECT Country, COUNT(CustomerID) AS Count FROM Customers GROUP BY Country;\",connect)"
   ]
  },
  {
   "cell_type": "code",
   "execution_count": 14,
   "id": "c0b98bc9-13de-444d-90ed-7ec758f03610",
   "metadata": {},
   "outputs": [
    {
     "data": {
      "text/plain": [
       "pandas.core.frame.DataFrame"
      ]
     },
     "execution_count": 14,
     "metadata": {},
     "output_type": "execute_result"
    }
   ],
   "source": [
    "type(dff)"
   ]
  },
  {
   "cell_type": "code",
   "execution_count": 15,
   "id": "150a941b-9c07-4df9-9b8f-1278aed2ceec",
   "metadata": {},
   "outputs": [
    {
     "data": {
      "text/plain": [
       "<sqlite3.Cursor at 0x2011dccc260>"
      ]
     },
     "execution_count": 15,
     "metadata": {},
     "output_type": "execute_result"
    }
   ],
   "source": [
    "c.execute(\"SELECT Country, COUNT(CustomerID) AS Count FROM Customers GROUP BY Country;\")"
   ]
  },
  {
   "cell_type": "code",
   "execution_count": 16,
   "id": "454fb6cf-0f65-4dd7-a8e1-89e96c657d25",
   "metadata": {},
   "outputs": [
    {
     "data": {
      "text/plain": [
       "('Argentina', 3)"
      ]
     },
     "execution_count": 16,
     "metadata": {},
     "output_type": "execute_result"
    }
   ],
   "source": [
    "c.fetchone()"
   ]
  },
  {
   "cell_type": "code",
   "execution_count": 17,
   "id": "980acf6b-c4c1-4fec-b7b6-b065d1121fbc",
   "metadata": {},
   "outputs": [
    {
     "data": {
      "text/plain": [
       "[('Austria', 2),\n",
       " ('Belgium', 2),\n",
       " ('Brazil', 9),\n",
       " ('Canada', 3),\n",
       " ('Denmark', 2),\n",
       " ('Finland', 2),\n",
       " ('France', 11),\n",
       " ('Germany', 11),\n",
       " ('Ireland', 1),\n",
       " ('Italy', 3),\n",
       " ('Mexico', 5),\n",
       " ('Norway', 1),\n",
       " ('Poland', 1),\n",
       " ('Portugal', 2),\n",
       " ('Spain', 5),\n",
       " ('Sweden', 2),\n",
       " ('Switzerland', 2),\n",
       " ('UK', 7),\n",
       " ('USA', 13),\n",
       " ('Venezuela', 4)]"
      ]
     },
     "execution_count": 17,
     "metadata": {},
     "output_type": "execute_result"
    }
   ],
   "source": [
    "c.fetchall()"
   ]
  },
  {
   "cell_type": "code",
   "execution_count": 19,
   "id": "873ba529-c5d9-471f-9c97-30a80e5271f5",
   "metadata": {},
   "outputs": [
    {
     "name": "stdout",
     "output_type": "stream",
     "text": [
      "('Argentina', 3)\n",
      "('Austria', 2)\n",
      "('Belgium', 2)\n",
      "('Brazil', 9)\n",
      "('Canada', 3)\n",
      "('Denmark', 2)\n",
      "('Finland', 2)\n",
      "('France', 11)\n",
      "('Germany', 11)\n",
      "('Ireland', 1)\n",
      "('Italy', 3)\n",
      "('Mexico', 5)\n",
      "('Norway', 1)\n",
      "('Poland', 1)\n",
      "('Portugal', 2)\n",
      "('Spain', 5)\n",
      "('Sweden', 2)\n",
      "('Switzerland', 2)\n",
      "('UK', 7)\n",
      "('USA', 13)\n",
      "('Venezuela', 4)\n"
     ]
    }
   ],
   "source": [
    "g=c.execute(\"SELECT Country, COUNT(CustomerID) AS Count FROM Customers GROUP BY Country;\")\n",
    "for row in g :\n",
    "    print(row)\n"
   ]
  },
  {
   "cell_type": "code",
   "execution_count": null,
   "id": "b6dd3385-25d3-476e-a10f-a817f212ba6f",
   "metadata": {},
   "outputs": [],
   "source": []
  },
  {
   "cell_type": "code",
   "execution_count": null,
   "id": "3bcb36f3-f5ac-46f3-a7cb-b1036749c855",
   "metadata": {},
   "outputs": [],
   "source": []
  },
  {
   "cell_type": "code",
   "execution_count": null,
   "id": "8c3b933d-f404-4a36-aac6-f71b42c89928",
   "metadata": {},
   "outputs": [],
   "source": []
  },
  {
   "cell_type": "code",
   "execution_count": null,
   "id": "c840533f-d51f-4091-b5a2-5710f021de34",
   "metadata": {},
   "outputs": [],
   "source": []
  },
  {
   "cell_type": "code",
   "execution_count": null,
   "id": "e7ca2b8f-7825-4fcd-bb55-7c329863db43",
   "metadata": {},
   "outputs": [],
   "source": []
  },
  {
   "cell_type": "code",
   "execution_count": null,
   "id": "d1dec8c1-00e4-43e1-990c-ec7444e0161c",
   "metadata": {},
   "outputs": [],
   "source": []
  },
  {
   "cell_type": "code",
   "execution_count": null,
   "id": "d6eb2e5a-9f99-48fb-bd86-74edcd43d1bc",
   "metadata": {},
   "outputs": [],
   "source": []
  },
  {
   "cell_type": "code",
   "execution_count": null,
   "id": "e355f460-957b-4b2e-aa7f-e66f5c3eafb0",
   "metadata": {},
   "outputs": [],
   "source": []
  }
 ],
 "metadata": {
  "kernelspec": {
   "display_name": "Python 3 (ipykernel)",
   "language": "python",
   "name": "python3"
  },
  "language_info": {
   "codemirror_mode": {
    "name": "ipython",
    "version": 3
   },
   "file_extension": ".py",
   "mimetype": "text/x-python",
   "name": "python",
   "nbconvert_exporter": "python",
   "pygments_lexer": "ipython3",
   "version": "3.9.7"
  }
 },
 "nbformat": 4,
 "nbformat_minor": 5
}
