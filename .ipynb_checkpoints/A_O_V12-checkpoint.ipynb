{
 "cells": [
  {
   "cell_type": "code",
   "execution_count": 1,
   "id": "875e0155-689c-46d7-ac5b-10c99f7fc9fb",
   "metadata": {},
   "outputs": [],
   "source": [
    "import numpy as np\n",
    "import pandas as pd \n",
    "from sklearn.model_selection import train_test_split, GridSearchCV,cross_val_score\n",
    "from sklearn.metrics import mean_squared_error, r2_score\n",
    "import matplotlib.pyplot as plt\n",
    "from sklearn.preprocessing import scale \n",
    "from sklearn import model_selection\n",
    "from sklearn.tree import DecisionTreeRegressor, DecisionTreeClassifier\n",
    "from sklearn.neighbors import KNeighborsRegressor\n",
    "from sklearn.ensemble import BaggingRegressor\n",
    "\n",
    "from warnings import filterwarnings\n",
    "filterwarnings('ignore')"
   ]
  },
  {
   "cell_type": "code",
   "execution_count": 3,
   "id": "a3f81943-155c-4b36-bbd7-6f2cad81d8e1",
   "metadata": {},
   "outputs": [],
   "source": [
    "hit = pd.read_csv(\"Hitters.csv\")\n",
    "df = hit.copy()\n",
    "df = df.dropna()\n",
    "dms = pd.get_dummies(df[['League', 'Division', 'NewLeague']])\n",
    "y = df[\"Salary\"]\n",
    "X_ = df.drop(['Salary', 'League', 'Division', 'NewLeague'], axis=1).astype('float64')\n",
    "X = pd.concat([X_, dms[['League_N', 'Division_W', 'NewLeague_N']]], axis=1)\n",
    "X_train, X_test, y_train, y_test = train_test_split(X, y, \n",
    "                                                    test_size=0.25, \n",
    "                                                    random_state=42)"
   ]
  },
  {
   "cell_type": "code",
   "execution_count": 4,
   "id": "bc8af523-fc4d-4a10-8470-21e61564193e",
   "metadata": {},
   "outputs": [
    {
     "data": {
      "text/plain": [
       "5"
      ]
     },
     "execution_count": 4,
     "metadata": {},
     "output_type": "execute_result"
    }
   ],
   "source": [
    "knn_model = KNeighborsRegressor().fit(X_train, y_train)\n",
    "knn_model.n_neighbors"
   ]
  },
  {
   "cell_type": "code",
   "execution_count": 5,
   "id": "1e190825-6cbc-40c7-bbfc-07fc4b9c04f3",
   "metadata": {},
   "outputs": [
    {
     "data": {
      "text/plain": [
       "KNeighborsRegressor()"
      ]
     },
     "execution_count": 5,
     "metadata": {},
     "output_type": "execute_result"
    }
   ],
   "source": [
    "knn_model"
   ]
  },
  {
   "cell_type": "code",
   "execution_count": 6,
   "id": "776dd209-9580-459f-bf8b-04c64f91b05e",
   "metadata": {},
   "outputs": [
    {
     "data": {
      "text/plain": [
       "'euclidean'"
      ]
     },
     "execution_count": 6,
     "metadata": {},
     "output_type": "execute_result"
    }
   ],
   "source": [
    "knn_model.effective_metric_"
   ]
  },
  {
   "cell_type": "code",
   "execution_count": 8,
   "id": "fbbf536d-0f8c-419a-a8e3-ae5c8276a2f0",
   "metadata": {},
   "outputs": [
    {
     "data": {
      "text/plain": [
       "426.6570764525201"
      ]
     },
     "execution_count": 8,
     "metadata": {},
     "output_type": "execute_result"
    }
   ],
   "source": [
    "y_pred = knn_model.predict(X_test)\n",
    "np.sqrt(mean_squared_error(y_test, y_pred))"
   ]
  },
  {
   "cell_type": "code",
   "execution_count": 10,
   "id": "da417054-dedf-41e1-92d7-dadc844cb9f6",
   "metadata": {},
   "outputs": [
    {
     "name": "stdout",
     "output_type": "stream",
     "text": [
      "k = 1  RMSE:  0.0\n",
      "k = 2  RMSE:  179.52761335480352\n",
      "k = 3  RMSE:  205.20157172291863\n",
      "k = 4  RMSE:  220.5139794876305\n",
      "k = 5  RMSE:  239.6467132541376\n",
      "k = 6  RMSE:  243.5904190007242\n",
      "k = 7  RMSE:  258.1478781634636\n",
      "k = 8  RMSE:  266.05374203349805\n",
      "k = 9  RMSE:  269.73782093553376\n",
      "k = 10  RMSE:  271.2798300436963\n"
     ]
    }
   ],
   "source": [
    "RMSE = [] \n",
    "#for train\n",
    "for k in range(10):\n",
    "    k = k+1\n",
    "    knn_model = KNeighborsRegressor(n_neighbors = k).fit(X_train, y_train)\n",
    "    y_pred = knn_model.predict(X_train) \n",
    "    rmse = np.sqrt(mean_squared_error(y_train,y_pred)) \n",
    "    RMSE.append(rmse) \n",
    "    print(\"k =\" , k , \" RMSE: \", rmse)"
   ]
  },
  {
   "cell_type": "code",
   "execution_count": 11,
   "id": "7cafc450-faa7-440d-932f-f83420f49c06",
   "metadata": {},
   "outputs": [
    {
     "name": "stdout",
     "output_type": "stream",
     "text": [
      "k = 1  RMSE:  455.03925390751965\n",
      "k = 2  RMSE:  415.99629571490965\n",
      "k = 3  RMSE:  420.6765370082348\n",
      "k = 4  RMSE:  428.8564674588792\n",
      "k = 5  RMSE:  426.6570764525201\n",
      "k = 6  RMSE:  423.5071669008732\n",
      "k = 7  RMSE:  414.9361222421057\n",
      "k = 8  RMSE:  413.7094731463598\n",
      "k = 9  RMSE:  417.84419990871265\n",
      "k = 10  RMSE:  421.6252180741266\n"
     ]
    }
   ],
   "source": [
    "RMSE = [] \n",
    "#for test\n",
    "for k in range(10):\n",
    "    k = k+1\n",
    "    knn_model = KNeighborsRegressor(n_neighbors = k).fit(X_train, y_train)\n",
    "    y_pred = knn_model.predict(X_test) \n",
    "    rmse = np.sqrt(mean_squared_error(y_test,y_pred)) \n",
    "    RMSE.append(rmse) \n",
    "    print(\"k =\" , k , \" RMSE: \", rmse)"
   ]
  },
  {
   "cell_type": "code",
   "execution_count": 12,
   "id": "f32ff11e-2008-434d-8c99-37b667a91303",
   "metadata": {},
   "outputs": [
    {
     "data": {
      "text/plain": [
       "8"
      ]
     },
     "execution_count": 12,
     "metadata": {},
     "output_type": "execute_result"
    }
   ],
   "source": [
    "knn_params = {'n_neighbors': np.arange(1,30,1)}\n",
    "knn = KNeighborsRegressor()\n",
    "knn_cv_model = GridSearchCV(knn, knn_params, cv = 10)\n",
    "knn_cv_model.fit(X_train, y_train)\n",
    "knn_cv_model.best_params_[\"n_neighbors\"]"
   ]
  },
  {
   "cell_type": "code",
   "execution_count": 13,
   "id": "680453f6-1811-404b-9275-d7278584fe8e",
   "metadata": {},
   "outputs": [
    {
     "name": "stdout",
     "output_type": "stream",
     "text": [
      "k = 1 RMSE:  0.0 RMSE_CV:  325.3947514706382\n",
      "k = 2 RMSE:  179.52761335480352 RMSE_CV:  293.24000183333817\n",
      "k = 3 RMSE:  205.20157172291863 RMSE_CV:  283.7486667487823\n",
      "k = 4 RMSE:  220.5139794876305 RMSE_CV:  286.3240222024089\n",
      "k = 5 RMSE:  239.6467132541376 RMSE_CV:  290.0705466132226\n",
      "k = 6 RMSE:  243.5904190007242 RMSE_CV:  298.1263115575851\n",
      "k = 7 RMSE:  258.1478781634636 RMSE_CV:  294.77070479194987\n",
      "k = 8 RMSE:  266.05374203349805 RMSE_CV:  291.98672028891235\n",
      "k = 9 RMSE:  269.73782093553376 RMSE_CV:  295.7162739573105\n",
      "k = 10 RMSE:  271.2798300436963 RMSE_CV:  301.31047022701154\n"
     ]
    }
   ],
   "source": [
    "RMSE = [] \n",
    "RMSE_CV = []\n",
    "for k in range(10):\n",
    "    k = k+1\n",
    "    knn_model = KNeighborsRegressor(n_neighbors = k).fit(X_train, y_train)\n",
    "    y_pred = knn_model.predict(X_train) \n",
    "    rmse = np.sqrt(mean_squared_error(y_train,y_pred)) \n",
    "    rmse_cv = np.sqrt(-1*cross_val_score(knn_model, X_train, y_train, cv=10, \n",
    "                                         scoring = \"neg_mean_squared_error\").mean())\n",
    "    RMSE.append(rmse) \n",
    "    RMSE_CV.append(rmse_cv)\n",
    "    print(\"k =\" , k , \"RMSE: \", rmse, \"RMSE_CV: \", rmse_cv )\n"
   ]
  },
  {
   "cell_type": "code",
   "execution_count": 29,
   "id": "821977ac-917f-4b0e-ae7e-17aeb1bd9828",
   "metadata": {},
   "outputs": [],
   "source": [
    "X_train = pd.DataFrame(X_train[\"Hits\"])\n",
    "X_test = pd.DataFrame(X_test[\"Hits\"])"
   ]
  },
  {
   "cell_type": "code",
   "execution_count": 30,
   "id": "ca0e382d-6800-4718-b961-9d479ee88446",
   "metadata": {},
   "outputs": [
    {
     "name": "stdout",
     "output_type": "stream",
     "text": [
      "y = -48.69756097561513 + 4.969512195122093 x\n"
     ]
    }
   ],
   "source": [
    "from sklearn.svm import SVR\n",
    "svr_model = SVR(\"linear\").fit(X_train, y_train)\n",
    "\n",
    "svr_model.predict(X_train)[0:5]\n",
    "\n",
    "print (\"y = {0} + {1} x\".format(svr_model.intercept_[0], \n",
    "                                svr_model.coef_[0][0])) "
   ]
  },
  {
   "cell_type": "code",
   "execution_count": 31,
   "id": "6d760527-d21f-4cd8-a78c-cdeb754ac4c4",
   "metadata": {},
   "outputs": [],
   "source": [
    "y_pred = svr_model.predict(X_train)"
   ]
  },
  {
   "cell_type": "code",
   "execution_count": 32,
   "id": "a743c9c2-7d0d-4ea7-a5a7-977c06baf8b9",
   "metadata": {},
   "outputs": [
    {
     "data": {
      "image/png": "[encoded data removed]",
      "text/plain": [
       "<Figure size 432x288 with 1 Axes>"
      ]
     },
     "metadata": {
      "needs_background": "light"
     },
     "output_type": "display_data"
    }
   ],
   "source": [
    "plt.scatter(X_train, y_train);\n",
    "plt.plot(X_train,y_pred, color = \"r\");"
   ]
  },
  {
   "cell_type": "code",
   "execution_count": 21,
   "id": "092c767a-d5d2-47d7-a509-40588bc2ffff",
   "metadata": {},
   "outputs": [
    {
     "data": {
      "text/plain": [
       "array([403.52804878])"
      ]
     },
     "execution_count": 21,
     "metadata": {},
     "output_type": "execute_result"
    }
   ],
   "source": [
    "svr_model.predict([[91]])\n"
   ]
  },
  {
   "cell_type": "code",
   "execution_count": 22,
   "id": "f52ce56b-fe82-448f-9106-86f1a6f129c1",
   "metadata": {},
   "outputs": [
    {
     "data": {
      "text/plain": [
       "459.0187960365147"
      ]
     },
     "execution_count": 22,
     "metadata": {},
     "output_type": "execute_result"
    }
   ],
   "source": [
    "y_pred = svr_model.predict(X_test)\n",
    "np.sqrt(mean_squared_error(y_test, y_pred))"
   ]
  },
  {
   "cell_type": "code",
   "execution_count": 23,
   "id": "31dfa826-3877-4ac9-a932-01decd7a582e",
   "metadata": {},
   "outputs": [],
   "source": [
    "svr_params = {\"C\": np.arange(0.1,2,0.1)}\n",
    "svr_cv_model = GridSearchCV(svr_model, svr_params, cv = 10).fit(X_train,y_train)"
   ]
  },
  {
   "cell_type": "code",
   "execution_count": 26,
   "id": "4e7da58a-ea0d-4764-b747-b0e25fc6deeb",
   "metadata": {},
   "outputs": [],
   "source": [
    "svr_tuned = SVR(\"linear\", \n",
    "                C = pd.Series(svr_cv_model.best_params_)[0]).fit(X_train, y_train)"
   ]
  },
  {
   "cell_type": "code",
   "execution_count": 25,
   "id": "5206d3bc-f466-4367-9c9b-9e36c7d0fb25",
   "metadata": {},
   "outputs": [
    {
     "data": {
      "text/plain": [
       "458.198966781116"
      ]
     },
     "execution_count": 25,
     "metadata": {},
     "output_type": "execute_result"
    }
   ],
   "source": [
    "y_pred = svr_tuned.predict(X_test)\n",
    "np.sqrt(mean_squared_error(y_test, y_pred))"
   ]
  },
  {
   "cell_type": "code",
   "execution_count": 33,
   "id": "f3e12fcc-7ac6-4d76-a4e8-08cc0a591a0c",
   "metadata": {},
   "outputs": [
    {
     "data": {
      "image/png": "[encoded data removed]",
      "text/plain": [
       "<Figure size 432x288 with 1 Axes>"
      ]
     },
     "metadata": {
      "needs_background": "light"
     },
     "output_type": "display_data"
    }
   ],
   "source": [
    "np.random.seed(3)\n",
    "\n",
    "x_sim = np.random.uniform(2, 10, 145)\n",
    "y_sim = np.sin(x_sim) + np.random.normal(0, 0.4, 145)\n",
    "\n",
    "x_outliers = np.arange(2.5, 5, 0.5)\n",
    "y_outliers = -5*np.ones(5)\n",
    "\n",
    "x_sim_idx = np.argsort(np.concatenate([x_sim, x_outliers]))\n",
    "x_sim = np.concatenate([x_sim, x_outliers])[x_sim_idx]\n",
    "y_sim = np.concatenate([y_sim, y_outliers])[x_sim_idx]\n",
    "\n",
    "\n",
    "from sklearn.linear_model import LinearRegression\n",
    "ols = LinearRegression()\n",
    "ols.fit(np.sin(x_sim[:, np.newaxis]), y_sim)\n",
    "ols_pred = ols.predict(np.sin(x_sim[:, np.newaxis]))\n",
    "\n",
    "from sklearn.svm import SVR\n",
    "eps = 0.1\n",
    "svr = SVR('rbf', epsilon = eps)\n",
    "svr.fit(x_sim[:, np.newaxis], y_sim)\n",
    "svr_pred = svr.predict(x_sim[:, np.newaxis])\n",
    "\n",
    "plt.scatter(x_sim, y_sim, alpha=0.5, s=26)\n",
    "plt_ols, = plt.plot(x_sim, ols_pred, 'g')\n",
    "plt_svr, = plt.plot(x_sim, svr_pred, color='r')\n",
    "plt.xlabel(\"Bağımsız Değişken\")\n",
    "plt.ylabel(\"Bağımlı Değişken\")\n",
    "plt.ylim(-5.2, 2.2)\n",
    "plt.legend([plt_ols, plt_svr], ['EKK', 'SVR'], loc = 4);"
   ]
  },
  {
   "cell_type": "code",
   "execution_count": 37,
   "id": "541b76eb-1570-4bf8-90fa-3d76aa596b88",
   "metadata": {},
   "outputs": [],
   "source": [
    "hit = pd.read_csv(\"Hitters.csv\")\n",
    "df = hit.copy()\n",
    "df = df.dropna()\n",
    "dms = pd.get_dummies(df[['League', 'Division', 'NewLeague']])\n",
    "y = df[\"Salary\"]\n",
    "X_ = df.drop(['Salary', 'League', 'Division', 'NewLeague'], axis=1).astype('float64')\n",
    "X = pd.concat([X_, dms[['League_N', 'Division_W', 'NewLeague_N']]], axis=1)\n",
    "X_train, X_test, y_train, y_test = train_test_split(X, y, \n",
    "                                                    test_size=0.25, \n",
    "                                                    random_state=42)"
   ]
  },
  {
   "cell_type": "code",
   "execution_count": 38,
   "id": "c9a43daa-ef67-4a3a-b9eb-eb9b827a46f1",
   "metadata": {},
   "outputs": [
    {
     "data": {
      "text/plain": [
       "460.0032657244849"
      ]
     },
     "execution_count": 38,
     "metadata": {},
     "output_type": "execute_result"
    }
   ],
   "source": [
    "svr_rbf = SVR(\"rbf\").fit(X_train, y_train)\n",
    "y_pred = svr_rbf.predict(X_test)\n",
    "np.sqrt(mean_squared_error(y_test, y_pred))"
   ]
  },
  {
   "cell_type": "code",
   "execution_count": 39,
   "id": "5a1a1aca-bc7b-4acb-9900-d79129583726",
   "metadata": {},
   "outputs": [
    {
     "data": {
      "text/plain": [
       "SVR()"
      ]
     },
     "execution_count": 39,
     "metadata": {},
     "output_type": "execute_result"
    }
   ],
   "source": [
    "svr_rbf"
   ]
  },
  {
   "cell_type": "code",
   "execution_count": 40,
   "id": "c161cff4-f579-47f6-958b-90cc73e47719",
   "metadata": {},
   "outputs": [
    {
     "data": {
      "text/plain": [
       "GridSearchCV(cv=10, estimator=SVR(),\n",
       "             param_grid={'C': [0.01, 0.1, 0.4, 5, 10, 20, 30, 40, 50]})"
      ]
     },
     "execution_count": 40,
     "metadata": {},
     "output_type": "execute_result"
    }
   ],
   "source": [
    "svr_params = {\"C\": [0.01, 0.1,0.4,5,10,20,30,40,50]}\n",
    "svr_cv_model = GridSearchCV(svr_rbf,svr_params, cv = 10)\n",
    "svr_cv_model.fit(X_train, y_train)"
   ]
  },
  {
   "cell_type": "code",
   "execution_count": 41,
   "id": "cf895666-82e6-4031-b68b-8f6f5f7da32e",
   "metadata": {},
   "outputs": [],
   "source": [
    "svr_tuned = SVR(\"rbf\", C = pd.Series(svr_cv_model.best_params_)[0]).fit(X_train, \n",
    "                                                                        y_train)"
   ]
  },
  {
   "cell_type": "code",
   "execution_count": 42,
   "id": "7f5227ae-0a97-45de-9bac-1168222f712f",
   "metadata": {},
   "outputs": [
    {
     "data": {
      "text/plain": [
       "428.00406888095694"
      ]
     },
     "execution_count": 42,
     "metadata": {},
     "output_type": "execute_result"
    }
   ],
   "source": [
    "y_pred = svr_tuned.predict(X_test)\n",
    "\n",
    "np.sqrt(mean_squared_error(y_test, y_pred))"
   ]
  },
  {
   "cell_type": "code",
   "execution_count": 43,
   "id": "a90aa6ba-680a-4bc5-a786-a46c5f8bb442",
   "metadata": {},
   "outputs": [
    {
     "data": {
      "text/plain": [
       "323.54591099068784"
      ]
     },
     "execution_count": 43,
     "metadata": {},
     "output_type": "execute_result"
    }
   ],
   "source": [
    "y_pred = svr_tuned.predict(X_train)\n",
    "\n",
    "np.sqrt(mean_squared_error(y_train, y_pred))"
   ]
  },
  {
   "cell_type": "code",
   "execution_count": 3,
   "id": "e2d92e09-bd0d-4509-8276-9b2c4c6f201b",
   "metadata": {},
   "outputs": [],
   "source": [
    "hit = pd.read_csv(\"Hitters.csv\")\n",
    "df = hit.copy()\n",
    "df = df.dropna()\n",
    "dms = pd.get_dummies(df[['League', 'Division', 'NewLeague']])\n",
    "y = df[\"Salary\"]\n",
    "X_ = df.drop(['Salary', 'League', 'Division', 'NewLeague'], axis=1).astype('float64')\n",
    "X = pd.concat([X_, dms[['League_N', 'Division_W', 'NewLeague_N']]], axis=1)\n",
    "X_train, X_test, y_train, y_test = train_test_split(X, y, \n",
    "                                                    test_size=0.25, \n",
    "                                                    random_state=42)"
   ]
  },
  {
   "cell_type": "code",
   "execution_count": 7,
   "id": "530ff0e6-3473-4f0f-b5f2-c349ab8dd091",
   "metadata": {},
   "outputs": [
    {
     "data": {
      "text/plain": [
       "(100, 20)"
      ]
     },
     "execution_count": 7,
     "metadata": {},
     "output_type": "execute_result"
    }
   ],
   "source": [
    "from sklearn.preprocessing import StandardScaler\n",
    "scaler = StandardScaler()\n",
    "scaler.fit(X_train)\n",
    "X_train_scaled = scaler.transform(X_train)\n",
    "X_test_scaled = scaler.transform(X_test)\n",
    "from sklearn.neural_network import MLPRegressor\n",
    "mlp_model = MLPRegressor(hidden_layer_sizes = (100,20)).fit(X_train_scaled, y_train)\n",
    "mlp_model\n",
    "mlp_model.n_layers_\n",
    "mlp_model.hidden_layer_sizes"
   ]
  },
  {
   "cell_type": "code",
   "execution_count": 9,
   "id": "1093910a-9fe2-4f0d-9b98-2710ec0a3721",
   "metadata": {},
   "outputs": [
    {
     "name": "stdout",
     "output_type": "stream",
     "text": [
      "MLPRegressor(hidden_layer_sizes=(100, 20))\n"
     ]
    },
    {
     "data": {
      "text/plain": [
       "475.8047014685692"
      ]
     },
     "execution_count": 9,
     "metadata": {},
     "output_type": "execute_result"
    }
   ],
   "source": [
    "mlp_model = MLPRegressor(hidden_layer_sizes = (100,20)).fit(X_train_scaled, y_train)\n",
    "print(mlp_model)\n",
    "y_pred = mlp_model.predict(X_test_scaled)\n",
    "np.sqrt(mean_squared_error(y_test, y_pred))"
   ]
  },
  {
   "cell_type": "code",
   "execution_count": 11,
   "id": "f29bf815-0277-4f9b-9a1e-77522b01e4e8",
   "metadata": {},
   "outputs": [
    {
     "name": "stdout",
     "output_type": "stream",
     "text": [
      "MLPRegressor(hidden_layer_sizes=(20, 100))\n"
     ]
    },
    {
     "data": {
      "text/plain": [
       "430.22949737464126"
      ]
     },
     "execution_count": 11,
     "metadata": {},
     "output_type": "execute_result"
    }
   ],
   "source": [
    "mlp_model = MLPRegressor(hidden_layer_sizes = (20,100)).fit(X_train_scaled, y_train)\n",
    "print(mlp_model)\n",
    "y_pred = mlp_model.predict(X_test_scaled)\n",
    "np.sqrt(mean_squared_error(y_test, y_pred))"
   ]
  },
  {
   "cell_type": "code",
   "execution_count": 12,
   "id": "8e9ed53e-db00-4045-8703-e996b4c9d786",
   "metadata": {},
   "outputs": [
    {
     "name": "stdout",
     "output_type": "stream",
     "text": [
      "MLPRegressor(hidden_layer_sizes=(20, 20))\n"
     ]
    },
    {
     "data": {
      "text/plain": [
       "617.265023658605"
      ]
     },
     "execution_count": 12,
     "metadata": {},
     "output_type": "execute_result"
    }
   ],
   "source": [
    "mlp_model = MLPRegressor(hidden_layer_sizes = (20,20)).fit(X_train_scaled, y_train)\n",
    "print(mlp_model)\n",
    "y_pred = mlp_model.predict(X_test_scaled)\n",
    "np.sqrt(mean_squared_error(y_test, y_pred))"
   ]
  },
  {
   "cell_type": "code",
   "execution_count": 13,
   "id": "bede1795-10dc-427a-a80e-dbdd29f8a50d",
   "metadata": {},
   "outputs": [
    {
     "name": "stdout",
     "output_type": "stream",
     "text": [
      "MLPRegressor(hidden_layer_sizes=(100, 100))\n"
     ]
    },
    {
     "data": {
      "text/plain": [
       "356.6983035726574"
      ]
     },
     "execution_count": 13,
     "metadata": {},
     "output_type": "execute_result"
    }
   ],
   "source": [
    "mlp_model = MLPRegressor(hidden_layer_sizes = (100,100)).fit(X_train_scaled, y_train)\n",
    "print(mlp_model)\n",
    "y_pred = mlp_model.predict(X_test_scaled)\n",
    "np.sqrt(mean_squared_error(y_test, y_pred))"
   ]
  },
  {
   "cell_type": "code",
   "execution_count": 15,
   "id": "353d9489-379d-4b51-be5b-54037ab69191",
   "metadata": {},
   "outputs": [
    {
     "data": {
      "text/plain": [
       "{'activation': 'relu', 'alpha': 0.01, 'hidden_layer_sizes': (100, 50, 150)}"
      ]
     },
     "execution_count": 15,
     "metadata": {},
     "output_type": "execute_result"
    }
   ],
   "source": [
    "mlp_model\n",
    "mlp_params = {'alpha': [0.1, 0.01,0.02,0.005],\n",
    "             'hidden_layer_sizes': [(20,20),(100,50,150),(300,200,150)],\n",
    "             'activation': ['relu','logistic']}\n",
    "mlp_cv_model = GridSearchCV(mlp_model, mlp_params, cv = 10)\n",
    "mlp_cv_model.fit(X_train_scaled, y_train)\n",
    "mlp_cv_model.best_params_"
   ]
  },
  {
   "cell_type": "code",
   "execution_count": 19,
   "id": "5752f95e-65df-47f8-8bef-04054413ce93",
   "metadata": {},
   "outputs": [
    {
     "data": {
      "text/plain": [
       "MLPRegressor(alpha=0.01, hidden_layer_sizes=(100, 50, 150))"
      ]
     },
     "execution_count": 19,
     "metadata": {},
     "output_type": "execute_result"
    }
   ],
   "source": [
    "mlp_tuned = MLPRegressor(alpha = 0.01, hidden_layer_sizes = (100,50,150))\n",
    "mlp_tuned.fit(X_train_scaled, y_train)"
   ]
  },
  {
   "cell_type": "code",
   "execution_count": 20,
   "id": "cd7f585e-164b-4666-bd7c-ea9a64921877",
   "metadata": {},
   "outputs": [
    {
     "data": {
      "text/plain": [
       "362.26396895855567"
      ]
     },
     "execution_count": 20,
     "metadata": {},
     "output_type": "execute_result"
    }
   ],
   "source": [
    "y_pred = mlp_tuned.predict(X_test_scaled)\n",
    "np.sqrt(mean_squared_error(y_test, y_pred))"
   ]
  },
  {
   "cell_type": "code",
   "execution_count": 21,
   "id": "e297ef4b-6a98-40d2-bc1f-3b25ed374eb9",
   "metadata": {},
   "outputs": [
    {
     "data": {
      "text/plain": [
       "294.67945813288406"
      ]
     },
     "execution_count": 21,
     "metadata": {},
     "output_type": "execute_result"
    }
   ],
   "source": [
    "y_pred = mlp_tuned.predict(X_train_scaled)\n",
    "np.sqrt(mean_squared_error(y_train, y_pred))"
   ]
  },
  {
   "cell_type": "code",
   "execution_count": 2,
   "id": "198bb156-fe89-4d56-bfe6-c32b0fd03660",
   "metadata": {},
   "outputs": [],
   "source": [
    "hit = pd.read_csv(\"Hitters.csv\")\n",
    "df = hit.copy()\n",
    "df = df.dropna()\n",
    "dms = pd.get_dummies(df[['League', 'Division', 'NewLeague']])\n",
    "y = df[\"Salary\"]\n",
    "X_ = df.drop(['Salary', 'League', 'Division', 'NewLeague'], axis=1).astype('float64')\n",
    "X = pd.concat([X_, dms[['League_N', 'Division_W', 'NewLeague_N']]], axis=1)\n",
    "X_train, X_test, y_train, y_test = train_test_split(X, y, \n",
    "                                                    test_size=0.25, \n",
    "                                                    random_state=42)"
   ]
  },
  {
   "cell_type": "code",
   "execution_count": 3,
   "id": "b8c97d95-c3e3-4f48-8ac8-221313b8a4b2",
   "metadata": {},
   "outputs": [],
   "source": [
    "X_train = pd.DataFrame(X_train[\"Hits\"])\n",
    "X_test = pd.DataFrame(X_test[\"Hits\"])"
   ]
  },
  {
   "cell_type": "code",
   "execution_count": 10,
   "id": "0543c2ad-3bb8-4872-a579-283911da8b9d",
   "metadata": {},
   "outputs": [],
   "source": [
    "cart_model = DecisionTreeRegressor(min_samples_split = 2).fit(X_train, y_train)"
   ]
  },
  {
   "cell_type": "code",
   "execution_count": 11,
   "id": "c2c0a7ac-39d4-4bdc-8c2d-e140adc42bc3",
   "metadata": {},
   "outputs": [
    {
     "name": "stdout",
     "output_type": "stream",
     "text": [
      "DecisionTreeRegressor()\n"
     ]
    },
    {
     "data": {
      "text/plain": [
       "DecisionTreeRegressor()"
      ]
     },
     "execution_count": 11,
     "metadata": {},
     "output_type": "execute_result"
    }
   ],
   "source": [
    "print(cart_model)\n",
    "cart_model"
   ]
  },
  {
   "cell_type": "code",
   "execution_count": null,
   "id": "35e723bc-6063-4d76-b3ce-2c956525e441",
   "metadata": {},
   "outputs": [],
   "source": []
  },
  {
   "cell_type": "code",
   "execution_count": 12,
   "id": "71a40b91-414c-449d-b04d-068633fd87d2",
   "metadata": {},
   "outputs": [
    {
     "data": {
      "text/html": [
       "<div>\n",
       "<style scoped>\n",
       "    .dataframe tbody tr th:only-of-type {\n",
       "        vertical-align: middle;\n",
       "    }\n",
       "\n",
       "    .dataframe tbody tr th {\n",
       "        vertical-align: top;\n",
       "    }\n",
       "\n",
       "    .dataframe thead th {\n",
       "        text-align: right;\n",
       "    }\n",
       "</style>\n",
       "<table border=\"1\" class=\"dataframe\">\n",
       "  <thead>\n",
       "    <tr style=\"text-align: right;\">\n",
       "      <th></th>\n",
       "      <th>Hits</th>\n",
       "    </tr>\n",
       "  </thead>\n",
       "  <tbody>\n",
       "    <tr>\n",
       "      <th>183</th>\n",
       "      <td>91.0</td>\n",
       "    </tr>\n",
       "    <tr>\n",
       "      <th>229</th>\n",
       "      <td>144.0</td>\n",
       "    </tr>\n",
       "    <tr>\n",
       "      <th>286</th>\n",
       "      <td>152.0</td>\n",
       "    </tr>\n",
       "    <tr>\n",
       "      <th>102</th>\n",
       "      <td>49.0</td>\n",
       "    </tr>\n",
       "    <tr>\n",
       "      <th>153</th>\n",
       "      <td>95.0</td>\n",
       "    </tr>\n",
       "    <tr>\n",
       "      <th>...</th>\n",
       "      <td>...</td>\n",
       "    </tr>\n",
       "    <tr>\n",
       "      <th>24</th>\n",
       "      <td>168.0</td>\n",
       "    </tr>\n",
       "    <tr>\n",
       "      <th>236</th>\n",
       "      <td>52.0</td>\n",
       "    </tr>\n",
       "    <tr>\n",
       "      <th>93</th>\n",
       "      <td>138.0</td>\n",
       "    </tr>\n",
       "    <tr>\n",
       "      <th>137</th>\n",
       "      <td>103.0</td>\n",
       "    </tr>\n",
       "    <tr>\n",
       "      <th>133</th>\n",
       "      <td>99.0</td>\n",
       "    </tr>\n",
       "  </tbody>\n",
       "</table>\n",
       "<p>197 rows × 1 columns</p>\n",
       "</div>"
      ],
      "text/plain": [
       "      Hits\n",
       "183   91.0\n",
       "229  144.0\n",
       "286  152.0\n",
       "102   49.0\n",
       "153   95.0\n",
       "..     ...\n",
       "24   168.0\n",
       "236   52.0\n",
       "93   138.0\n",
       "137  103.0\n",
       "133   99.0\n",
       "\n",
       "[197 rows x 1 columns]"
      ]
     },
     "execution_count": 12,
     "metadata": {},
     "output_type": "execute_result"
    }
   ],
   "source": [
    "X_train"
   ]
  },
  {
   "cell_type": "code",
   "execution_count": 13,
   "id": "0dbe37d0-5252-4fd1-8bbb-3630cb020dc2",
   "metadata": {},
   "outputs": [
    {
     "data": {
      "image/png": "[encoded data removed]",
      "text/plain": [
       "<Figure size 432x288 with 1 Axes>"
      ]
     },
     "metadata": {
      "needs_background": "light"
     },
     "output_type": "display_data"
    }
   ],
   "source": [
    "X_grid = np.arange(min(np.array(X_train)),max(np.array(X_train)), 0.01) \n",
    "X_grid = X_grid.reshape((len(X_grid), 1))  \n",
    "plt.scatter(X_train, y_train, color = 'red') \n",
    "plt.plot(X_grid, cart_model.predict(X_grid), color = 'blue')  \n",
    "plt.title('CART Regression Tree')  \n",
    "plt.xlabel('Hits') \n",
    "plt.ylabel('Salary') ;"
   ]
  },
  {
   "cell_type": "code",
   "execution_count": 14,
   "id": "c4cd174c-9e84-4c0b-97a0-7d3ffe19a7f6",
   "metadata": {},
   "outputs": [
    {
     "name": "stdout",
     "output_type": "stream",
     "text": [
      "Collecting skompiler\n",
      "  Downloading SKompiler-0.6.tar.gz (45 kB)\n",
      "Requirement already satisfied: scikit-learn>=0.22 in c:\\users\\emrehan\\anaconda3\\lib\\site-packages (from skompiler) (0.24.2)\n",
      "Requirement already satisfied: joblib>=0.11 in c:\\users\\emrehan\\anaconda3\\lib\\site-packages (from scikit-learn>=0.22->skompiler) (1.1.0)\n",
      "Requirement already satisfied: numpy>=1.13.3 in c:\\users\\emrehan\\anaconda3\\lib\\site-packages (from scikit-learn>=0.22->skompiler) (1.20.3)\n",
      "Requirement already satisfied: threadpoolctl>=2.0.0 in c:\\users\\emrehan\\anaconda3\\lib\\site-packages (from scikit-learn>=0.22->skompiler) (2.2.0)\n",
      "Requirement already satisfied: scipy>=0.19.1 in c:\\users\\emrehan\\anaconda3\\lib\\site-packages (from scikit-learn>=0.22->skompiler) (1.7.1)\n",
      "Building wheels for collected packages: skompiler\n",
      "  Building wheel for skompiler (setup.py): started\n",
      "  Building wheel for skompiler (setup.py): finished with status 'done'\n",
      "  Created wheel for skompiler: filename=SKompiler-0.6-py3-none-any.whl size=54287 sha256=a1209c091f596bb47146b69b560f6d4fe1ceabd5a2532c3028d12bf1311c5cce\n",
      "  Stored in directory: c:\\users\\emrehan\\appdata\\local\\pip\\cache\\wheels\\fd\\94\\33\\2a75ac13109534426a0ace0cde02f41aef30a846f1facd4110\n",
      "Successfully built skompiler\n",
      "Installing collected packages: skompiler\n",
      "Successfully installed skompiler-0.6\n"
     ]
    }
   ],
   "source": [
    "!pip install skompiler\n"
   ]
  },
  {
   "cell_type": "code",
   "execution_count": 15,
   "id": "221e3b8d-3cc0-4824-90c0-2b4546a47c3d",
   "metadata": {},
   "outputs": [],
   "source": [
    "from skompiler import skompile"
   ]
  },
  {
   "cell_type": "code",
   "execution_count": 18,
   "id": "29d1f67b-78e0-4568-a62c-e1baf55d38f1",
   "metadata": {},
   "outputs": [
    {
     "name": "stdout",
     "output_type": "stream",
     "text": [
      "(if (x[0] <= 117.5) then (if (x[0] <= 18.0) then 920.0 else (if (x[0] <= 76.5) then (if (x[0] <= 41.5) then (if (x[0] <= 34.5) then 500.0 else (if (x[0] <= 39.5) then (if (x[0] <= 38.0) then 70.0 else 175.0) else (if (x[0] <= 40.5) then 90.0 else 67.5))) else (if (x[0] <= 42.5) then 900.0 else (if (x[0] <= 54.5) then (if (x[0] <= 52.5) then (if (x[0] <= 51.5) then (if (x[0] <= 50.0) then (if (x[0] <= 46.5) then (if (x[0] <= 44.5) then 215.55566666666664 else 180.0) else (if (x[0] <= 48.0) then 347.5 else 337.5)) else 70.0) else 507.5) else (if (x[0] <= 53.5) then 150.0 else 146.83333333333334)) else (if (x[0] <= 55.5) then 1300.0 else (if (x[0] <= 57.5) then (if (x[0] <= 56.5) then 170.0 else 193.75) else (if (x[0] <= 70.5) then (if (x[0] <= 69.0) then (if (x[0] <= 65.5) then (if (x[0] <= 64.5) then (if (x[0] <= 63.5) then (if (x[0] <= 60.5) then (if (x[0] <= 59.0) then 340.0 else 418.5) else (if (x[0] <= 62.0) then 235.0 else 341.667)) else 75.0) else 650.0) else (if (x[0] <= 67.0) then 170.0 else 228.66666666666666)) else 472.5) else (if (x[0] <= 72.5) then (if (x[0] <= 71.5) then 100.0 else 130.0) else (if (x[0] <= 74.5) then 409.1665 else 215.0)))))))) else (if (x[0] <= 116.0) then (if (x[0] <= 103.5) then (if (x[0] <= 101.5) then (if (x[0] <= 77.5) then 505.0 else (if (x[0] <= 93.5) then (if (x[0] <= 84.5) then (if (x[0] <= 82.5) then (if (x[0] <= 80.5) then (if (x[0] <= 79.0) then 328.88899999999995 else 700.0) else (if (x[0] <= 81.5) then 348.75 else 267.5)) else (if (x[0] <= 83.5) then 600.0 else 600.0)) else (if (x[0] <= 91.5) then (if (x[0] <= 85.5) then 331.25 else (if (x[0] <= 88.5) then (if (x[0] <= 86.5) then 180.0 else 91.5) else (if (x[0] <= 90.5) then 450.0 else 125.0))) else (if (x[0] <= 92.5) then 411.25 else 250.0))) else (if (x[0] <= 94.5) then 670.0 else (if (x[0] <= 100.0) then (if (x[0] <= 96.5) then (if (x[0] <= 95.5) then 100.0 else 504.1665) else (if (x[0] <= 98.0) then 210.0 else 87.5)) else 466.0)))) else (if (x[0] <= 102.5) then 247.5 else 257.3334)) else (if (x[0] <= 107.0) then (if (x[0] <= 105.0) then 750.0 else 850.0) else (if (x[0] <= 109.0) then 162.5 else (if (x[0] <= 114.0) then (if (x[0] <= 111.0) then 560.0 else (if (x[0] <= 112.5) then 442.5 else 487.5)) else 300.0)))) else 110.0))) else (if (x[0] <= 225.5) then (if (x[0] <= 143.0) then (if (x[0] <= 125.5) then (if (x[0] <= 122.5) then (if (x[0] <= 118.5) then 1300.0 else (if (x[0] <= 120.5) then 773.3333333333334 else 442.5)) else (if (x[0] <= 124.0) then 1240.0 else 1925.571)) else (if (x[0] <= 131.5) then (if (x[0] <= 126.5) then 561.25 else (if (x[0] <= 128.5) then (if (x[0] <= 127.5) then 695.2776666666667 else 1043.75) else (if (x[0] <= 130.5) then (if (x[0] <= 129.5) then 750.0 else 480.0) else 726.6666666666666))) else (if (x[0] <= 140.5) then (if (x[0] <= 137.0) then (if (x[0] <= 135.5) then (if (x[0] <= 133.5) then 611.6665 else 461.0) else 725.0) else (if (x[0] <= 138.5) then 152.5 else (if (x[0] <= 139.5) then 555.0 else 200.0))) else (if (x[0] <= 141.5) then 712.5 else 777.5)))) else (if (x[0] <= 151.5) then (if (x[0] <= 150.5) then (if (x[0] <= 146.5) then (if (x[0] <= 144.5) then 1021.6666666666666 else (if (x[0] <= 145.5) then 500.0 else 815.0)) else (if (x[0] <= 148.0) then 1230.0 else (if (x[0] <= 149.5) then 787.5 else 1000.0))) else 2460.0) else (if (x[0] <= 157.5) then (if (x[0] <= 153.0) then 451.6666666666667 else (if (x[0] <= 155.5) then 580.0 else 530.0)) else (if (x[0] <= 212.0) then (if (x[0] <= 171.5) then (if (x[0] <= 169.5) then (if (x[0] <= 168.5) then (if (x[0] <= 159.5) then (if (x[0] <= 158.5) then 775.0 else 759.1665) else (if (x[0] <= 161.5) then 1670.0 else (if (x[0] <= 165.5) then 923.0 else 863.0556666666666))) else 743.3333333333334) else (if (x[0] <= 170.5) then 1118.75 else 1350.0)) else (if (x[0] <= 173.0) then 165.0 else (if (x[0] <= 177.5) then (if (x[0] <= 175.5) then 849.3335 else 1350.0) else (if (x[0] <= 185.0) then (if (x[0] <= 178.5) then 740.0 else (if (x[0] <= 181.5) then 575.0 else 630.0)) else (if (x[0] <= 198.5) then 1300.0 else 740.0))))) else 350.0)))) else 1975.0))\n"
     ]
    }
   ],
   "source": [
    "print(skompile(cart_model.predict))"
   ]
  },
  {
   "cell_type": "code",
   "execution_count": 19,
   "id": "9bc2d2c4-c816-4183-9f7b-7a2c947e65eb",
   "metadata": {},
   "outputs": [
    {
     "data": {
      "text/plain": [
       "array([ 725.    , 1230.    ,  725.    ,  504.1665,   67.5   ])"
      ]
     },
     "execution_count": 19,
     "metadata": {},
     "output_type": "execute_result"
    }
   ],
   "source": [
    "cart_model.predict(X_test)[0:5]"
   ]
  },
  {
   "cell_type": "code",
   "execution_count": 20,
   "id": "47ba86b7-4127-4fbd-88ef-8f44ae940cf0",
   "metadata": {},
   "outputs": [
    {
     "data": {
      "text/plain": [
       "468.49579052913884"
      ]
     },
     "execution_count": 20,
     "metadata": {},
     "output_type": "execute_result"
    }
   ],
   "source": [
    "y_pred =cart_model.predict(X_test)\n",
    "np.sqrt(mean_squared_error(y_test, y_pred))"
   ]
  },
  {
   "cell_type": "code",
   "execution_count": 21,
   "id": "5dbb7408-ed73-4e96-95f4-656a3923d8ef",
   "metadata": {},
   "outputs": [],
   "source": [
    "x=[91]"
   ]
  },
  {
   "cell_type": "code",
   "execution_count": 25,
   "id": "45eb9661-9d19-4fd6-be6f-0cb2ae13d1cd",
   "metadata": {},
   "outputs": [
    {
     "data": {
      "text/plain": [
       "468.49579052913884"
      ]
     },
     "execution_count": 25,
     "metadata": {},
     "output_type": "execute_result"
    }
   ],
   "source": [
    "cart_model = DecisionTreeRegressor()\n",
    "cart_model.fit(X_train, y_train)\n",
    "y_pred = cart_model.predict(X_test)\n",
    "np.sqrt(mean_squared_error(y_test, y_pred))"
   ]
  },
  {
   "cell_type": "code",
   "execution_count": 26,
   "id": "e1afa93e-8aa5-4add-9a11-188fc49e29ba",
   "metadata": {},
   "outputs": [
    {
     "data": {
      "text/plain": [
       "{'max_leaf_nodes': 9, 'min_samples_split': 76}"
      ]
     },
     "execution_count": 26,
     "metadata": {},
     "output_type": "execute_result"
    }
   ],
   "source": [
    "cart_params = {\"min_samples_split\": range(2,100),\n",
    "               \"max_leaf_nodes\": range(2,10)}\n",
    "\n",
    "cart_cv_model = GridSearchCV(cart_model, cart_params, cv = 10)\n",
    "cart_cv_model.fit(X_train, y_train)\n",
    "cart_cv_model.best_params_"
   ]
  },
  {
   "cell_type": "code",
   "execution_count": 27,
   "id": "dfa9de17-e141-40cc-9499-a7fa43cf993a",
   "metadata": {},
   "outputs": [
    {
     "data": {
      "text/plain": [
       "434.2326688144208"
      ]
     },
     "execution_count": 27,
     "metadata": {},
     "output_type": "execute_result"
    }
   ],
   "source": [
    "cart_tuned = DecisionTreeRegressor(max_leaf_nodes = 9, min_samples_split = 37)\n",
    "cart_tuned.fit(X_train, y_train)\n",
    "y_pred = cart_tuned.predict(X_test)\n",
    "np.sqrt(mean_squared_error(y_test, y_pred))"
   ]
  },
  {
   "cell_type": "code",
   "execution_count": 28,
   "id": "1b5f245f-e97b-4ba6-86a1-76e00114d6bb",
   "metadata": {},
   "outputs": [
    {
     "data": {
      "text/plain": [
       "423.406689243066"
      ]
     },
     "execution_count": 28,
     "metadata": {},
     "output_type": "execute_result"
    }
   ],
   "source": [
    "cart_tuned = DecisionTreeRegressor(max_leaf_nodes = 9, min_samples_split = 76)\n",
    "cart_tuned.fit(X_train, y_train)\n",
    "y_pred = cart_tuned.predict(X_test)\n",
    "np.sqrt(mean_squared_error(y_test, y_pred))"
   ]
  },
  {
   "cell_type": "code",
   "execution_count": 29,
   "id": "bbe44412-3415-4824-befa-728f2d5546a4",
   "metadata": {},
   "outputs": [],
   "source": [
    "hit = pd.read_csv(\"Hitters.csv\")\n",
    "df = hit.copy()\n",
    "df = df.dropna()\n",
    "dms = pd.get_dummies(df[['League', 'Division', 'NewLeague']])\n",
    "y = df[\"Salary\"]\n",
    "X_ = df.drop(['Salary', 'League', 'Division', 'NewLeague'], axis=1).astype('float64')\n",
    "X = pd.concat([X_, dms[['League_N', 'Division_W', 'NewLeague_N']]], axis=1)\n",
    "X_train, X_test, y_train, y_test = train_test_split(X, y, \n",
    "                                                    test_size=0.25, \n",
    "                                                    random_state=42)"
   ]
  },
  {
   "cell_type": "code",
   "execution_count": 30,
   "id": "bc56f946-8a35-4c80-a959-04bd7ffdc25f",
   "metadata": {},
   "outputs": [
    {
     "data": {
      "text/plain": [
       "BaggingRegressor(bootstrap_features=True)"
      ]
     },
     "execution_count": 30,
     "metadata": {},
     "output_type": "execute_result"
    }
   ],
   "source": [
    "bag_model = BaggingRegressor(bootstrap_features = True)\n",
    "bag_model.fit(X_train, y_train)"
   ]
  },
  {
   "cell_type": "code",
   "execution_count": 31,
   "id": "6fb32c19-6ed8-4657-adb8-05680f4f3471",
   "metadata": {},
   "outputs": [
    {
     "data": {
      "text/plain": [
       "[DecisionTreeRegressor(random_state=248961214),\n",
       " DecisionTreeRegressor(random_state=1207807503),\n",
       " DecisionTreeRegressor(random_state=918817496),\n",
       " DecisionTreeRegressor(random_state=503546203),\n",
       " DecisionTreeRegressor(random_state=1527567866),\n",
       " DecisionTreeRegressor(random_state=1322960211),\n",
       " DecisionTreeRegressor(random_state=740699455),\n",
       " DecisionTreeRegressor(random_state=221618313),\n",
       " DecisionTreeRegressor(random_state=1033969229),\n",
       " DecisionTreeRegressor(random_state=1492674929)]"
      ]
     },
     "execution_count": 31,
     "metadata": {},
     "output_type": "execute_result"
    }
   ],
   "source": [
    "bag_model.estimators_"
   ]
  },
  {
   "cell_type": "code",
   "execution_count": 33,
   "id": "dbe1db38-16b6-4672-aa93-c2027ebd0bdc",
   "metadata": {},
   "outputs": [
    {
     "data": {
      "text/plain": [
       "[array([ 6, 10, 18, 13, 15, 18,  9, 10,  4,  9,  6,  6, 12,  4, 18, 17, 17,\n",
       "        12, 11]),\n",
       " array([15,  4, 14, 15,  3,  8,  9,  6, 18, 13,  4,  1, 18, 12, 10,  9, 11,\n",
       "        14,  5]),\n",
       " array([ 3,  8,  6, 14, 16, 14,  7, 12, 18,  0,  0, 17,  7, 13,  6,  1,  8,\n",
       "        17, 17]),\n",
       " array([14,  1, 17,  5, 16, 11, 14, 11, 16,  6, 11, 13,  4, 15, 18, 16,  4,\n",
       "        13,  7]),\n",
       " array([11,  2, 17, 11, 11, 13,  6, 18, 10,  8, 16,  2,  2, 13,  2, 14,  5,\n",
       "         4,  0]),\n",
       " array([11,  4, 11, 18,  6, 13, 18, 11,  8,  7, 13,  2, 13,  4,  8,  6,  5,\n",
       "         7, 14]),\n",
       " array([14, 13, 10, 12, 13, 10, 12,  9, 13, 17, 18, 13,  7,  5, 16,  9,  8,\n",
       "         3, 13]),\n",
       " array([ 9,  1,  1, 16,  7,  7, 12, 14, 16,  6, 11, 18,  9, 18, 11,  8,  7,\n",
       "        12, 17]),\n",
       " array([13,  6,  8, 16, 10,  7, 13, 11,  6, 10,  3,  2, 13, 10,  6, 11, 14,\n",
       "         4,  8]),\n",
       " array([17, 18,  7,  0,  2,  4, 17, 17, 16,  4, 14,  7,  0,  9,  7,  7, 18,\n",
       "        14,  3])]"
      ]
     },
     "execution_count": 33,
     "metadata": {},
     "output_type": "execute_result"
    }
   ],
   "source": [
    "bag_model.estimators_features_"
   ]
  },
  {
   "cell_type": "code",
   "execution_count": 34,
   "id": "2c835516-7f5d-4dce-a4e8-023e673c6523",
   "metadata": {},
   "outputs": [
    {
     "data": {
      "text/plain": [
       "308.22517791251033"
      ]
     },
     "execution_count": 34,
     "metadata": {},
     "output_type": "execute_result"
    }
   ],
   "source": [
    "\n",
    "y_pred = bag_model.predict(X_test)\n",
    "\n",
    "np.sqrt(mean_squared_error(y_test, y_pred))"
   ]
  },
  {
   "cell_type": "code",
   "execution_count": 37,
   "id": "967c218b-2a9e-45ac-a94b-70d24bd235e6",
   "metadata": {},
   "outputs": [
    {
     "data": {
      "text/plain": [
       "435.5503471086722"
      ]
     },
     "execution_count": 37,
     "metadata": {},
     "output_type": "execute_result"
    }
   ],
   "source": [
    "y_pred = bag_model.estimators_[7].fit(X_train, y_train).predict(X_test)\n",
    "np.sqrt(mean_squared_error(y_test, y_pred))"
   ]
  },
  {
   "cell_type": "code",
   "execution_count": 38,
   "id": "bad08790-b834-4bd2-a27d-c233b8732931",
   "metadata": {},
   "outputs": [
    {
     "data": {
      "text/plain": [
       "{'n_estimators': 9}"
      ]
     },
     "execution_count": 38,
     "metadata": {},
     "output_type": "execute_result"
    }
   ],
   "source": [
    "bag_model = BaggingRegressor(bootstrap_features = True)\n",
    "bag_model.fit(X_train, y_train)\n",
    "bag_params = {\"n_estimators\": range(2,20)}\n",
    "bag_cv_model = GridSearchCV(bag_model, bag_params, cv = 10)\n",
    "bag_cv_model.fit(X_train, y_train)\n",
    "bag_cv_model.best_params_"
   ]
  },
  {
   "cell_type": "code",
   "execution_count": 39,
   "id": "a4f54472-c3ba-41db-93d2-ae08944ff782",
   "metadata": {},
   "outputs": [
    {
     "data": {
      "text/plain": [
       "346.457987188104"
      ]
     },
     "execution_count": 39,
     "metadata": {},
     "output_type": "execute_result"
    }
   ],
   "source": [
    "bag_tuned = BaggingRegressor( n_estimators = 14, random_state = 45)\n",
    "bag_tuned.fit(X_train, y_train)\n",
    "y_pred = bag_tuned.predict(X_test)\n",
    "np.sqrt(mean_squared_error(y_test, y_pred))"
   ]
  },
  {
   "cell_type": "code",
   "execution_count": 40,
   "id": "37275e11-7eb9-4a66-98e1-8fd5eb143bb8",
   "metadata": {},
   "outputs": [
    {
     "data": {
      "text/plain": [
       "361.99375978078"
      ]
     },
     "execution_count": 40,
     "metadata": {},
     "output_type": "execute_result"
    }
   ],
   "source": [
    "bag_tuned = BaggingRegressor( n_estimators = 9, random_state = 45)\n",
    "bag_tuned.fit(X_train, y_train)\n",
    "y_pred = bag_tuned.predict(X_test)\n",
    "np.sqrt(mean_squared_error(y_test, y_pred))"
   ]
  },
  {
   "cell_type": "code",
   "execution_count": 41,
   "id": "26df36fc-148f-42c4-92e9-0f5a5b87f62d",
   "metadata": {},
   "outputs": [],
   "source": [
    "from sklearn.ensemble import RandomForestRegressor"
   ]
  },
  {
   "cell_type": "code",
   "execution_count": 42,
   "id": "e5073a19-fb27-4b31-bf01-055045741735",
   "metadata": {},
   "outputs": [
    {
     "data": {
      "text/plain": [
       "RandomForestRegressor(random_state=42)"
      ]
     },
     "execution_count": 42,
     "metadata": {},
     "output_type": "execute_result"
    }
   ],
   "source": [
    "rf_model = RandomForestRegressor(random_state = 42)\n",
    "rf_model.fit(X_train, y_train)"
   ]
  },
  {
   "cell_type": "code",
   "execution_count": 43,
   "id": "bcf8faac-1ab9-4046-b54b-4fe84880c359",
   "metadata": {},
   "outputs": [
    {
     "data": {
      "text/plain": [
       "array([ 738.69167,  913.51164, 1181.145  ,  139.65167,  634.60833])"
      ]
     },
     "execution_count": 43,
     "metadata": {},
     "output_type": "execute_result"
    }
   ],
   "source": [
    "rf_model.predict(X_test)[0:5]"
   ]
  },
  {
   "cell_type": "code",
   "execution_count": 44,
   "id": "a04f9a67-ac37-4dc8-88e5-2c6e390cc72b",
   "metadata": {},
   "outputs": [
    {
     "data": {
      "text/plain": [
       "344.8191624908484"
      ]
     },
     "execution_count": 44,
     "metadata": {},
     "output_type": "execute_result"
    }
   ],
   "source": [
    "y_pred = rf_model.predict(X_test)\n",
    "np.sqrt(mean_squared_error(y_test, y_pred))"
   ]
  },
  {
   "cell_type": "code",
   "execution_count": 49,
   "id": "daa51df4-a526-4e51-8dc6-75d05821247b",
   "metadata": {},
   "outputs": [],
   "source": [
    "rf_params = {'max_depth': list(range(1,10)),\n",
    "            'max_features': [3,5,10,15],\n",
    "            'n_estimators' : [100, 200, 500, 1000, 2000]}\n",
    "rf_model = RandomForestRegressor(random_state = 42)\n",
    "rf_cv_model = GridSearchCV(rf_model, \n",
    "                           rf_params, \n",
    "                           cv = 10, \n",
    "                            n_jobs = -1)\n",
    "#rf_cv_model.fit(X_train, y_train)\n",
    "#rf_cv_model.best_params_"
   ]
  },
  {
   "cell_type": "code",
   "execution_count": 46,
   "id": "05b3e7cc-a6f2-4088-9c0b-9723e0d7cbbc",
   "metadata": {},
   "outputs": [],
   "source": [
    "rf_tuned = RandomForestRegressor(max_depth  = 8, \n",
    "                                 max_features = 3, \n",
    "                                 n_estimators =200)"
   ]
  },
  {
   "cell_type": "code",
   "execution_count": 47,
   "id": "680cf95f-affb-417c-bbc4-97d24ccb56aa",
   "metadata": {},
   "outputs": [
    {
     "data": {
      "text/plain": [
       "339.00715782186006"
      ]
     },
     "execution_count": 47,
     "metadata": {},
     "output_type": "execute_result"
    }
   ],
   "source": [
    "rf_tuned.fit(X_train, y_train)\n",
    "y_pred = rf_tuned.predict(X_test)\n",
    "np.sqrt(mean_squared_error(y_test, y_pred))"
   ]
  },
  {
   "cell_type": "code",
   "execution_count": 50,
   "id": "b90c779b-8935-4a38-a5cc-4382b96c2527",
   "metadata": {},
   "outputs": [],
   "source": [
    "Importance = pd.DataFrame({\"Importance\": rf_tuned.feature_importances_*100},\n",
    "                         index = X_train.columns)"
   ]
  },
  {
   "cell_type": "code",
   "execution_count": 53,
   "id": "7571de2c-ca4e-4f13-8b10-87e5569a57d6",
   "metadata": {},
   "outputs": [
    {
     "data": {
      "text/plain": [
       "Text(0.5, 0, 'Level of Importance')"
      ]
     },
     "execution_count": 53,
     "metadata": {},
     "output_type": "execute_result"
    },
    {
     "data": {
      "image/png": "[encoded data removed]",
      "text/plain": [
       "<Figure size 432x288 with 1 Axes>"
      ]
     },
     "metadata": {
      "needs_background": "light"
     },
     "output_type": "display_data"
    }
   ],
   "source": [
    "Importance.sort_values(by = \"Importance\", \n",
    "                       axis = 0, \n",
    "                       ascending = True).plot(kind =\"barh\", color = \"r\")\n",
    "\n",
    "plt.xlabel(\"Level of Importance\")"
   ]
  },
  {
   "cell_type": "code",
   "execution_count": 54,
   "id": "c1a11688-540d-457c-aeeb-ae5aacd0a21e",
   "metadata": {},
   "outputs": [
    {
     "data": {
      "text/html": [
       "<div>\n",
       "<style scoped>\n",
       "    .dataframe tbody tr th:only-of-type {\n",
       "        vertical-align: middle;\n",
       "    }\n",
       "\n",
       "    .dataframe tbody tr th {\n",
       "        vertical-align: top;\n",
       "    }\n",
       "\n",
       "    .dataframe thead th {\n",
       "        text-align: right;\n",
       "    }\n",
       "</style>\n",
       "<table border=\"1\" class=\"dataframe\">\n",
       "  <thead>\n",
       "    <tr style=\"text-align: right;\">\n",
       "      <th></th>\n",
       "      <th>Importance</th>\n",
       "    </tr>\n",
       "  </thead>\n",
       "  <tbody>\n",
       "    <tr>\n",
       "      <th>AtBat</th>\n",
       "      <td>5.638937</td>\n",
       "    </tr>\n",
       "    <tr>\n",
       "      <th>Hits</th>\n",
       "      <td>5.426913</td>\n",
       "    </tr>\n",
       "    <tr>\n",
       "      <th>HmRun</th>\n",
       "      <td>3.025407</td>\n",
       "    </tr>\n",
       "    <tr>\n",
       "      <th>Runs</th>\n",
       "      <td>4.018719</td>\n",
       "    </tr>\n",
       "    <tr>\n",
       "      <th>RBI</th>\n",
       "      <td>4.507660</td>\n",
       "    </tr>\n",
       "    <tr>\n",
       "      <th>Walks</th>\n",
       "      <td>4.503751</td>\n",
       "    </tr>\n",
       "    <tr>\n",
       "      <th>Years</th>\n",
       "      <td>5.399884</td>\n",
       "    </tr>\n",
       "    <tr>\n",
       "      <th>CAtBat</th>\n",
       "      <td>10.546622</td>\n",
       "    </tr>\n",
       "    <tr>\n",
       "      <th>CHits</th>\n",
       "      <td>8.730545</td>\n",
       "    </tr>\n",
       "    <tr>\n",
       "      <th>CHmRun</th>\n",
       "      <td>8.852506</td>\n",
       "    </tr>\n",
       "    <tr>\n",
       "      <th>CRuns</th>\n",
       "      <td>12.404515</td>\n",
       "    </tr>\n",
       "    <tr>\n",
       "      <th>CRBI</th>\n",
       "      <td>10.651311</td>\n",
       "    </tr>\n",
       "    <tr>\n",
       "      <th>CWalks</th>\n",
       "      <td>8.382594</td>\n",
       "    </tr>\n",
       "    <tr>\n",
       "      <th>PutOuts</th>\n",
       "      <td>4.005697</td>\n",
       "    </tr>\n",
       "    <tr>\n",
       "      <th>Assists</th>\n",
       "      <td>1.551248</td>\n",
       "    </tr>\n",
       "    <tr>\n",
       "      <th>Errors</th>\n",
       "      <td>1.317969</td>\n",
       "    </tr>\n",
       "    <tr>\n",
       "      <th>League_N</th>\n",
       "      <td>0.262232</td>\n",
       "    </tr>\n",
       "    <tr>\n",
       "      <th>Division_W</th>\n",
       "      <td>0.411043</td>\n",
       "    </tr>\n",
       "    <tr>\n",
       "      <th>NewLeague_N</th>\n",
       "      <td>0.362447</td>\n",
       "    </tr>\n",
       "  </tbody>\n",
       "</table>\n",
       "</div>"
      ],
      "text/plain": [
       "             Importance\n",
       "AtBat          5.638937\n",
       "Hits           5.426913\n",
       "HmRun          3.025407\n",
       "Runs           4.018719\n",
       "RBI            4.507660\n",
       "Walks          4.503751\n",
       "Years          5.399884\n",
       "CAtBat        10.546622\n",
       "CHits          8.730545\n",
       "CHmRun         8.852506\n",
       "CRuns         12.404515\n",
       "CRBI          10.651311\n",
       "CWalks         8.382594\n",
       "PutOuts        4.005697\n",
       "Assists        1.551248\n",
       "Errors         1.317969\n",
       "League_N       0.262232\n",
       "Division_W     0.411043\n",
       "NewLeague_N    0.362447"
      ]
     },
     "execution_count": 54,
     "metadata": {},
     "output_type": "execute_result"
    }
   ],
   "source": [
    "Importance"
   ]
  },
  {
   "cell_type": "code",
   "execution_count": 55,
   "id": "e514fa7f-af18-42b9-a386-c66cb8d91b47",
   "metadata": {},
   "outputs": [],
   "source": [
    "hit = pd.read_csv(\"Hitters.csv\")\n",
    "df = hit.copy()\n",
    "df = df.dropna()\n",
    "dms = pd.get_dummies(df[['League', 'Division', 'NewLeague']])\n",
    "y = df[\"Salary\"]\n",
    "X_ = df.drop(['Salary', 'League', 'Division', 'NewLeague'], axis=1).astype('float64')\n",
    "X = pd.concat([X_, dms[['League_N', 'Division_W', 'NewLeague_N']]], axis=1)\n",
    "X_train, X_test, y_train, y_test = train_test_split(X, y, \n",
    "                                                    test_size=0.25, \n",
    "                                                    random_state=42)"
   ]
  },
  {
   "cell_type": "code",
   "execution_count": 56,
   "id": "83bcf9cd-d63d-463a-8dff-b22f942cf13b",
   "metadata": {},
   "outputs": [
    {
     "name": "stdout",
     "output_type": "stream",
     "text": [
      "Collecting xgboost\n",
      "  Downloading xgboost-1.5.2-py3-none-win_amd64.whl (106.6 MB)\n",
      "Requirement already satisfied: scipy in c:\\users\\emrehan\\anaconda3\\lib\\site-packages (from xgboost) (1.7.1)\n",
      "Requirement already satisfied: numpy in c:\\users\\emrehan\\anaconda3\\lib\\site-packages (from xgboost) (1.20.3)\n",
      "Installing collected packages: xgboost\n",
      "Successfully installed xgboost-1.5.2\n"
     ]
    }
   ],
   "source": [
    "!pip install xgboost"
   ]
  },
  {
   "cell_type": "code",
   "execution_count": 57,
   "id": "317f6f18-4379-4cc7-95dd-366c330d0072",
   "metadata": {},
   "outputs": [],
   "source": [
    "import xgboost as xgb"
   ]
  },
  {
   "cell_type": "code",
   "execution_count": 58,
   "id": "616d76ba-a333-4563-b44f-2c03cc629bba",
   "metadata": {},
   "outputs": [],
   "source": [
    "gbm_model = GradientBoostingRegressor()\n",
    "gbm_model.fit(X_train, y_train)"
   ]
  },
  {
   "cell_type": "code",
   "execution_count": 65,
   "id": "aefbff39-e87a-42fc-a708-4ee9311dbfbe",
   "metadata": {},
   "outputs": [],
   "source": [
    "from sklearn.ensemble import GradientBoostingRegressor"
   ]
  },
  {
   "cell_type": "code",
   "execution_count": 60,
   "id": "94de62eb-a416-440f-85fd-cb32494916d0",
   "metadata": {},
   "outputs": [],
   "source": [
    "xgb_model = XGBRegressor().fit(X_train, y_train)"
   ]
  },
  {
   "cell_type": "code",
   "execution_count": 61,
   "id": "a79cb871-588d-4fdf-ad2a-81fccbd054f4",
   "metadata": {},
   "outputs": [
    {
     "data": {
      "text/plain": [
       "355.46515176059927"
      ]
     },
     "execution_count": 61,
     "metadata": {},
     "output_type": "execute_result"
    }
   ],
   "source": [
    "y_pred = xgb_model.predict(X_test)\n",
    "np.sqrt(mean_squared_error(y_test, y_pred))"
   ]
  },
  {
   "cell_type": "code",
   "execution_count": 68,
   "id": "60bea2e3-ab18-402d-a29f-a687f036cebc",
   "metadata": {},
   "outputs": [],
   "source": [
    "Importance = pd.DataFrame({\"Importance\": gbm_tuned.feature_importances_*100},\n",
    "                         index = X_train.columns)"
   ]
  },
  {
   "cell_type": "code",
   "execution_count": 67,
   "id": "50bb9807-21ec-4342-824e-27857eba3263",
   "metadata": {},
   "outputs": [
    {
     "data": {
      "text/plain": [
       "323.6924342393753"
      ]
     },
     "execution_count": 67,
     "metadata": {},
     "output_type": "execute_result"
    }
   ],
   "source": [
    "y_pred = gbm_tuned.predict(X_test)\n",
    "np.sqrt(mean_squared_error(y_test, y_pred))"
   ]
  },
  {
   "cell_type": "code",
   "execution_count": 69,
   "id": "0ed3c839-81c9-40be-87da-71509da43077",
   "metadata": {},
   "outputs": [],
   "source": [
    "gbm_tuned = GradientBoostingRegressor(learning_rate = 0.1,  \n",
    "                                      max_depth = 5, \n",
    "                                      n_estimators = 200, \n",
    "                                      subsample = 0.5)\n",
    "\n",
    "gbm_tuned = gbm_tuned.fit(X_train,y_train)"
   ]
  },
  {
   "cell_type": "code",
   "execution_count": 71,
   "id": "a129cb82-461c-4867-99c2-6be362c01051",
   "metadata": {},
   "outputs": [
    {
     "data": {
      "text/plain": [
       "Text(0.5, 0, 'Level of Importance')"
      ]
     },
     "execution_count": 71,
     "metadata": {},
     "output_type": "execute_result"
    },
    {
     "data": {
      "image/png": "[encoded data removed]",
      "text/plain": [
       "<Figure size 432x288 with 1 Axes>"
      ]
     },
     "metadata": {
      "needs_background": "light"
     },
     "output_type": "display_data"
    }
   ],
   "source": [
    "Importance = pd.DataFrame({\"Importance\": gbm_tuned.feature_importances_*100},\n",
    "                         index = X_train.columns)\n",
    "Importance.sort_values(by = \"Importance\", \n",
    "                       axis = 0, \n",
    "                       ascending = True).plot(kind =\"barh\", color = \"r\")\n",
    "\n",
    "plt.xlabel(\"Level of Importance\")"
   ]
  },
  {
   "cell_type": "code",
   "execution_count": null,
   "id": "60cea83b-c679-4a8e-a9f9-cdf87e9ea30b",
   "metadata": {},
   "outputs": [],
   "source": []
  }
 ],
 "metadata": {
  "kernelspec": {
   "display_name": "Python 3 (ipykernel)",
   "language": "python",
   "name": "python3"
  },
  "language_info": {
   "codemirror_mode": {
    "name": "ipython",
    "version": 3
   },
   "file_extension": ".py",
   "mimetype": "text/x-python",
   "name": "python",
   "nbconvert_exporter": "python",
   "pygments_lexer": "ipython3",
   "version": "3.9.7"
  }
 },
 "nbformat": 4,
 "nbformat_minor": 5
}
