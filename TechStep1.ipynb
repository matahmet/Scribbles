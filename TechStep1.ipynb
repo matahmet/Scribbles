{
 "cells": [
  {
   "cell_type": "code",
   "execution_count": 6,
   "id": "7725d317",
   "metadata": {},
   "outputs": [],
   "source": [
    "#Data Engineering\n",
    "list1=[\"Snowflake\",\"AWS\",\"Azure\",\"Synapse\",\"Oracle\",\"SQL\",\"Python\",\"R \",\"R,\",\"R ,\",\"Kafka\",\"Redshift\",\"Google Cloud Platform\",\"Talend\",\"Informatica\",\"Google BigQuery\",\"DBT\",\"Fivetran\",\"Matillion\",\"GCP\"]\n",
    "\n",
    "\n",
    "#Business Intellegence\n",
    "list2=[\"Tableau\", \"Looker\", \"LookML\", \"Lookml\", \"Dax\", \"Power BI\",\"PBI\", \"QlikView\", \"Qlik\", \"Zoho Analytics\",\"Zoho\"]\n",
    "\n",
    "#Data Architect\n",
    "list3=[\"Snowflake\",\"AWS\",\"Azure\",\"Synapse\",\"Oracle\",\"SQL\",\"Python\",\"R \",\"R,\",\"R ,\",\"Kafka\",\"Redshift\",\"Google Cloud Platform\",\"Talend\",\"Informatica\",\"Google BigQuery\"]\n",
    "\n",
    "#Solution / Enterprise Architect\n",
    "list4=[\"Snowflake\",\"AWS\",\"Azure\",\"Synapse\",\"Oracle\",\"SQL\",\"Python\",\"R \",\"R,\",\"R ,\",\"Kafka\",\"Redshift\",\"Google Cloud Platform\",\"Talend\",\"Informatica\",\"Google BigQuery\"]\n",
    "\n",
    "#Data Analyst\n",
    "list5=[\"Tableau\", \"Looker\", \"LookML\", \"Lookml\", \"Dax\", \"Power BI\",\"PBI\", \"QlikView\", \"Qlik\", \"Zoho\", \"SQL\", \"Python\",\"R \",\"R,\",\"R ,\"]\n",
    "\n",
    "#Data Governance\n",
    "list6=[\"Collibra\",\"Microsoft Azure Data Catalog\", \"Alation Data Catalog\", \"Informatica Enterprise Data Catalog\", \"Oracle Enterprise Metadata Management\", \"SAP PowerDesigne\", \"ALEX\", \"erwin Data Intelligence\", \"Dataedo\"]\n",
    "\n"
   ]
  },
  {
   "cell_type": "code",
   "execution_count": 9,
   "id": "2a7c3693",
   "metadata": {},
   "outputs": [],
   "source": [
    "TechSet=set(list1)\n",
    "TechSet=TechSet.union(set(list2))\n",
    "TechSet=TechSet.union(set(list3))\n",
    "TechSet=TechSet.union(set(list4))\n",
    "TechSet=TechSet.union(set(list5))\n",
    "TechSet=TechSet.union(set(list6))"
   ]
  },
  {
   "cell_type": "code",
   "execution_count": 10,
   "id": "194e11bb",
   "metadata": {},
   "outputs": [
    {
     "data": {
      "text/plain": [
       "{'ALEX',\n",
       " 'AWS',\n",
       " 'Alation Data Catalog',\n",
       " 'Azure',\n",
       " 'Collibra',\n",
       " 'DBT',\n",
       " 'Dataedo',\n",
       " 'Dax',\n",
       " 'Fivetran',\n",
       " 'GCP',\n",
       " 'Google BigQuery',\n",
       " 'Google Cloud Platform',\n",
       " 'Informatica',\n",
       " 'Informatica Enterprise Data Catalog',\n",
       " 'Kafka',\n",
       " 'LookML',\n",
       " 'Looker',\n",
       " 'Lookml',\n",
       " 'Matillion',\n",
       " 'Microsoft Azure Data Catalog',\n",
       " 'Oracle',\n",
       " 'Oracle Enterprise Metadata Management',\n",
       " 'PBI',\n",
       " 'Power BI',\n",
       " 'Python',\n",
       " 'Qlik',\n",
       " 'QlikView',\n",
       " 'R ',\n",
       " 'R ,',\n",
       " 'R,',\n",
       " 'Redshift',\n",
       " 'SAP PowerDesigne',\n",
       " 'SQL',\n",
       " 'Snowflake',\n",
       " 'Synapse',\n",
       " 'Tableau',\n",
       " 'Talend',\n",
       " 'Zoho',\n",
       " 'Zoho Analytics',\n",
       " 'erwin Data Intelligence'}"
      ]
     },
     "execution_count": 10,
     "metadata": {},
     "output_type": "execute_result"
    }
   ],
   "source": [
    "TechSet"
   ]
  },
  {
   "cell_type": "code",
   "execution_count": 11,
   "id": "c37a5040",
   "metadata": {},
   "outputs": [
    {
     "data": {
      "text/plain": [
       "40"
      ]
     },
     "execution_count": 11,
     "metadata": {},
     "output_type": "execute_result"
    }
   ],
   "source": [
    "len(TechSet)"
   ]
  },
  {
   "cell_type": "code",
   "execution_count": 17,
   "id": "4fa8aa00",
   "metadata": {},
   "outputs": [
    {
     "data": {
      "text/plain": [
       "['R ',\n",
       " 'Talend',\n",
       " 'Looker',\n",
       " 'GCP',\n",
       " 'Oracle',\n",
       " 'Dax',\n",
       " 'Qlik',\n",
       " 'R,',\n",
       " 'Zoho Analytics',\n",
       " 'Oracle Enterprise Metadata Management',\n",
       " 'Kafka',\n",
       " 'Synapse',\n",
       " 'R ,',\n",
       " 'PBI',\n",
       " 'Google BigQuery',\n",
       " 'Dataedo',\n",
       " 'Zoho',\n",
       " 'Power BI',\n",
       " 'Fivetran',\n",
       " 'Informatica Enterprise Data Catalog',\n",
       " 'Snowflake',\n",
       " 'SAP PowerDesigne',\n",
       " 'Lookml',\n",
       " 'Tableau',\n",
       " 'Redshift',\n",
       " 'erwin Data Intelligence',\n",
       " 'Azure',\n",
       " 'Google Cloud Platform',\n",
       " 'QlikView',\n",
       " 'SQL',\n",
       " 'LookML',\n",
       " 'AWS',\n",
       " 'Informatica',\n",
       " 'ALEX',\n",
       " 'Alation Data Catalog',\n",
       " 'Collibra',\n",
       " 'Matillion',\n",
       " 'Python',\n",
       " 'Microsoft Azure Data Catalog',\n",
       " 'DBT']"
      ]
     },
     "execution_count": 17,
     "metadata": {},
     "output_type": "execute_result"
    }
   ],
   "source": [
    "TechList=list(TechSet)\n",
    "#sorted_list = list(sorted(TechList, key = len))\n",
    "#TechList=sorted_list\n",
    "TechList"
   ]
  },
  {
   "cell_type": "code",
   "execution_count": null,
   "id": "1082895d",
   "metadata": {},
   "outputs": [],
   "source": []
  },
  {
   "cell_type": "code",
   "execution_count": null,
   "id": "c1837713",
   "metadata": {},
   "outputs": [],
   "source": []
  },
  {
   "cell_type": "code",
   "execution_count": null,
   "id": "441e2bdc",
   "metadata": {},
   "outputs": [],
   "source": []
  },
  {
   "cell_type": "code",
   "execution_count": null,
   "id": "a1b8a7a1",
   "metadata": {},
   "outputs": [],
   "source": []
  },
  {
   "cell_type": "code",
   "execution_count": null,
   "id": "1242f3c8",
   "metadata": {},
   "outputs": [],
   "source": []
  }
 ],
 "metadata": {
  "kernelspec": {
   "display_name": "Python 3 (ipykernel)",
   "language": "python",
   "name": "python3"
  },
  "language_info": {
   "codemirror_mode": {
    "name": "ipython",
    "version": 3
   },
   "file_extension": ".py",
   "mimetype": "text/x-python",
   "name": "python",
   "nbconvert_exporter": "python",
   "pygments_lexer": "ipython3",
   "version": "3.9.7"
  }
 },
 "nbformat": 4,
 "nbformat_minor": 5
}
