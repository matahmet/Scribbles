{
 "cells": [
  {
   "cell_type": "code",
   "execution_count": 1,
   "id": "578fc072-ca32-4156-b042-9e9d52175d4e",
   "metadata": {},
   "outputs": [
    {
     "data": {
      "text/plain": [
       "['Collecting ipython-sql',\n",
       " '  Downloading ipython_sql-0.4.1-py3-none-any.whl (21 kB)',\n",
       " 'Requirement already satisfied: six in c:\\\\users\\\\user07\\\\anaconda3\\\\lib\\\\site-packages (from ipython-sql) (1.16.0)',\n",
       " 'Requirement already satisfied: sqlalchemy>=0.6.7 in c:\\\\users\\\\user07\\\\anaconda3\\\\lib\\\\site-packages (from ipython-sql) (1.4.22)',\n",
       " 'Requirement already satisfied: ipython>=1.0 in c:\\\\users\\\\user07\\\\anaconda3\\\\lib\\\\site-packages (from ipython-sql) (7.29.0)',\n",
       " 'Collecting sqlparse',\n",
       " '  Downloading sqlparse-0.4.2-py3-none-any.whl (42 kB)',\n",
       " 'Requirement already satisfied: ipython-genutils>=0.1.0 in c:\\\\users\\\\user07\\\\anaconda3\\\\lib\\\\site-packages (from ipython-sql) (0.2.0)',\n",
       " 'Collecting prettytable<1',\n",
       " '  Downloading prettytable-0.7.2.zip (28 kB)',\n",
       " 'Requirement already satisfied: setuptools>=18.5 in c:\\\\users\\\\user07\\\\anaconda3\\\\lib\\\\site-packages (from ipython>=1.0->ipython-sql) (58.0.4)',\n",
       " 'Requirement already satisfied: jedi>=0.16 in c:\\\\users\\\\user07\\\\anaconda3\\\\lib\\\\site-packages (from ipython>=1.0->ipython-sql) (0.18.0)',\n",
       " 'Requirement already satisfied: backcall in c:\\\\users\\\\user07\\\\anaconda3\\\\lib\\\\site-packages (from ipython>=1.0->ipython-sql) (0.2.0)',\n",
       " 'Requirement already satisfied: matplotlib-inline in c:\\\\users\\\\user07\\\\anaconda3\\\\lib\\\\site-packages (from ipython>=1.0->ipython-sql) (0.1.2)',\n",
       " 'Requirement already satisfied: pygments in c:\\\\users\\\\user07\\\\anaconda3\\\\lib\\\\site-packages (from ipython>=1.0->ipython-sql) (2.10.0)',\n",
       " 'Requirement already satisfied: decorator in c:\\\\users\\\\user07\\\\anaconda3\\\\lib\\\\site-packages (from ipython>=1.0->ipython-sql) (5.1.0)',\n",
       " 'Requirement already satisfied: colorama in c:\\\\users\\\\user07\\\\anaconda3\\\\lib\\\\site-packages (from ipython>=1.0->ipython-sql) (0.4.4)',\n",
       " 'Requirement already satisfied: prompt-toolkit!=3.0.0,!=3.0.1,<3.1.0,>=2.0.0 in c:\\\\users\\\\user07\\\\anaconda3\\\\lib\\\\site-packages (from ipython>=1.0->ipython-sql) (3.0.20)',\n",
       " 'Requirement already satisfied: traitlets>=4.2 in c:\\\\users\\\\user07\\\\anaconda3\\\\lib\\\\site-packages (from ipython>=1.0->ipython-sql) (5.1.0)',\n",
       " 'Requirement already satisfied: pickleshare in c:\\\\users\\\\user07\\\\anaconda3\\\\lib\\\\site-packages (from ipython>=1.0->ipython-sql) (0.7.5)',\n",
       " 'Requirement already satisfied: parso<0.9.0,>=0.8.0 in c:\\\\users\\\\user07\\\\anaconda3\\\\lib\\\\site-packages (from jedi>=0.16->ipython>=1.0->ipython-sql) (0.8.2)',\n",
       " 'Requirement already satisfied: wcwidth in c:\\\\users\\\\user07\\\\anaconda3\\\\lib\\\\site-packages (from prompt-toolkit!=3.0.0,!=3.0.1,<3.1.0,>=2.0.0->ipython>=1.0->ipython-sql) (0.2.5)',\n",
       " 'Requirement already satisfied: greenlet!=0.4.17 in c:\\\\users\\\\user07\\\\anaconda3\\\\lib\\\\site-packages (from sqlalchemy>=0.6.7->ipython-sql) (1.1.1)',\n",
       " 'Building wheels for collected packages: prettytable',\n",
       " '  Building wheel for prettytable (setup.py): started',\n",
       " \"  Building wheel for prettytable (setup.py): finished with status 'done'\",\n",
       " '  Created wheel for prettytable: filename=prettytable-0.7.2-py3-none-any.whl size=13714 sha256=e3021e120ef687bf31b28c98b6f4410f451fdca04efea11d510915618b9297d0',\n",
       " '  Stored in directory: c:\\\\users\\\\user07\\\\appdata\\\\local\\\\pip\\\\cache\\\\wheels\\\\75\\\\f7\\\\28\\\\77a076f1fa8cbeda61aca712815d04d7a32435f04a26a2dd7b',\n",
       " 'Successfully built prettytable',\n",
       " 'Installing collected packages: sqlparse, prettytable, ipython-sql',\n",
       " 'Successfully installed ipython-sql-0.4.1 prettytable-0.7.2 sqlparse-0.4.2']"
      ]
     },
     "execution_count": 1,
     "metadata": {},
     "output_type": "execute_result"
    }
   ],
   "source": [
    "%%!\n",
    "pip install --trusted-host pypi.org ipython-sql"
   ]
  },
  {
   "cell_type": "code",
   "execution_count": 2,
   "id": "200571bb-200f-4f93-8315-7416d6556aaa",
   "metadata": {},
   "outputs": [],
   "source": [
    "%load_ext sql"
   ]
  },
  {
   "cell_type": "code",
   "execution_count": 5,
   "id": "4964cd8f-b9b5-48e8-9f9f-7b91e028cfe6",
   "metadata": {},
   "outputs": [],
   "source": [
    "%sql sqlite:///DSS.db"
   ]
  },
  {
   "cell_type": "code",
   "execution_count": 6,
   "id": "23bf0f36-f53f-4cd5-b328-c84a0889bf12",
   "metadata": {},
   "outputs": [
    {
     "name": "stdout",
     "output_type": "stream",
     "text": [
      " * sqlite:///DSS.db\n",
      "Done.\n"
     ]
    },
    {
     "data": {
      "text/html": [
       "<table>\n",
       "    <tr>\n",
       "        <th>CustomerID</th>\n",
       "        <th>CustomerName</th>\n",
       "        <th>ContactName</th>\n",
       "        <th>Address</th>\n",
       "        <th>City</th>\n",
       "        <th>PostalCode</th>\n",
       "        <th>Country</th>\n",
       "    </tr>\n",
       "    <tr>\n",
       "        <td>1</td>\n",
       "        <td>Alfreds Futterkiste</td>\n",
       "        <td>Maria Anders</td>\n",
       "        <td>Obere Str. 57</td>\n",
       "        <td>Berlin</td>\n",
       "        <td>12209</td>\n",
       "        <td>Germany</td>\n",
       "    </tr>\n",
       "    <tr>\n",
       "        <td>2</td>\n",
       "        <td>Ana Trujillo Emparedados y helados</td>\n",
       "        <td>Ana Trujillo</td>\n",
       "        <td>Avda. de la Constitución 2222</td>\n",
       "        <td>México D.F.</td>\n",
       "        <td>5021</td>\n",
       "        <td>Mexico</td>\n",
       "    </tr>\n",
       "    <tr>\n",
       "        <td>3</td>\n",
       "        <td>Antonio Moreno Taquería</td>\n",
       "        <td>Antonio Moreno</td>\n",
       "        <td>Mataderos 2312</td>\n",
       "        <td>México D.F.</td>\n",
       "        <td>5023</td>\n",
       "        <td>Mexico</td>\n",
       "    </tr>\n",
       "</table>"
      ],
      "text/plain": [
       "[(1, 'Alfreds Futterkiste', 'Maria Anders', 'Obere Str. 57', 'Berlin', '12209', 'Germany'),\n",
       " (2, 'Ana Trujillo Emparedados y helados', 'Ana Trujillo', 'Avda. de la Constitución 2222', 'México D.F.', '5021', 'Mexico'),\n",
       " (3, 'Antonio Moreno Taquería', 'Antonio Moreno', 'Mataderos 2312', 'México D.F.', '5023', 'Mexico')]"
      ]
     },
     "execution_count": 6,
     "metadata": {},
     "output_type": "execute_result"
    }
   ],
   "source": [
    "%%sql\n",
    "SELECT * FROM Customers LIMIT 3;"
   ]
  },
  {
   "cell_type": "code",
   "execution_count": 7,
   "id": "5581e35e-ce22-4865-98ec-f6a8e8e5ed9a",
   "metadata": {},
   "outputs": [
    {
     "name": "stdout",
     "output_type": "stream",
     "text": [
      " * sqlite:///DSS.db\n",
      "Done.\n"
     ]
    },
    {
     "data": {
      "text/html": [
       "<table>\n",
       "    <tr>\n",
       "        <th>ProductID</th>\n",
       "        <th>ProductName</th>\n",
       "        <th>SupplierID</th>\n",
       "        <th>CategoryID</th>\n",
       "        <th>Unit</th>\n",
       "        <th>Price</th>\n",
       "    </tr>\n",
       "    <tr>\n",
       "        <td>1</td>\n",
       "        <td>Chais</td>\n",
       "        <td>1</td>\n",
       "        <td>1</td>\n",
       "        <td>10 boxes x 20 bags</td>\n",
       "        <td>18</td>\n",
       "    </tr>\n",
       "    <tr>\n",
       "        <td>2</td>\n",
       "        <td>Chang</td>\n",
       "        <td>1</td>\n",
       "        <td>1</td>\n",
       "        <td>24 - 12 oz bottles</td>\n",
       "        <td>19</td>\n",
       "    </tr>\n",
       "    <tr>\n",
       "        <td>3</td>\n",
       "        <td>Aniseed Syrup</td>\n",
       "        <td>1</td>\n",
       "        <td>2</td>\n",
       "        <td>12 - 550 ml bottles</td>\n",
       "        <td>10</td>\n",
       "    </tr>\n",
       "</table>"
      ],
      "text/plain": [
       "[(1, 'Chais', 1, 1, '10 boxes x 20 bags', 18),\n",
       " (2, 'Chang', 1, 1, '24 - 12 oz bottles', 19),\n",
       " (3, 'Aniseed Syrup', 1, 2, '12 - 550 ml bottles', 10)]"
      ]
     },
     "execution_count": 7,
     "metadata": {},
     "output_type": "execute_result"
    }
   ],
   "source": [
    "%%sql\n",
    "SELECT * FROM Products LIMIT 3;"
   ]
  },
  {
   "cell_type": "code",
   "execution_count": null,
   "id": "51325d25-5cea-4d5c-b347-a464a416825f",
   "metadata": {},
   "outputs": [],
   "source": []
  }
 ],
 "metadata": {
  "kernelspec": {
   "display_name": "Python 3 (ipykernel)",
   "language": "python",
   "name": "python3"
  },
  "language_info": {
   "codemirror_mode": {
    "name": "ipython",
    "version": 3
   },
   "file_extension": ".py",
   "mimetype": "text/x-python",
   "name": "python",
   "nbconvert_exporter": "python",
   "pygments_lexer": "ipython3",
   "version": "3.9.7"
  }
 },
 "nbformat": 4,
 "nbformat_minor": 5
}
