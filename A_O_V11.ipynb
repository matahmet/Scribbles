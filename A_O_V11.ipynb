{
 "cells": [
  {
   "cell_type": "code",
   "execution_count": 3,
   "id": "d0ab06a9-53a6-4acf-97ab-8dd03870fcb5",
   "metadata": {},
   "outputs": [],
   "source": [
    "import pandas as pd\n",
    "from sklearn.model_selection import train_test_split\n",
    "hit = pd.read_csv(\"Hitters.csv\")\n",
    "df = hit.copy()\n",
    "df = df.dropna()\n",
    "ms = pd.get_dummies(df[['League', 'Division', 'NewLeague']])\n",
    "y = df[\"Salary\"]\n",
    "\n",
    "dms = pd.get_dummies(df[['League', 'Division', 'NewLeague']])\n",
    "dms.head()\n",
    "\n",
    "X_ = df.drop(['Salary', 'League', 'Division', 'NewLeague'], axis=1).astype('float64')\n",
    "X = pd.concat([X_, dms[['League_N', 'Division_W', 'NewLeague_N']]], axis=1)\n",
    "X_train, X_test, y_train, y_test = train_test_split(X, y, test_size=0.25, random_state=42)"
   ]
  },
  {
   "cell_type": "code",
   "execution_count": 4,
   "id": "5dfbff08-8f89-42de-914f-00c65f719659",
   "metadata": {},
   "outputs": [],
   "source": [
    "from sklearn.cross_decomposition import PLSRegression, PLSSVD"
   ]
  },
  {
   "cell_type": "code",
   "execution_count": 5,
   "id": "01e4df8a-4629-48c8-b19d-6e5cc7c7bf56",
   "metadata": {},
   "outputs": [
    {
     "data": {
      "text/plain": [
       "array([[ 35.32916493],\n",
       "       [ 48.83425857],\n",
       "       [ 18.50240933],\n",
       "       [ 39.28117603],\n",
       "       [ 30.59952998],\n",
       "       [ 40.03398345],\n",
       "       [ 16.85990516],\n",
       "       [ 28.22289896],\n",
       "       [ 32.73784993],\n",
       "       [ 22.00875744],\n",
       "       [ 33.60903032],\n",
       "       [ 30.39402522],\n",
       "       [ 25.73279799],\n",
       "       [ 54.98835148],\n",
       "       [  6.56590871],\n",
       "       [ -0.90894359],\n",
       "       [ 17.60903423],\n",
       "       [-37.24246339],\n",
       "       [ 14.69680385]])"
      ]
     },
     "execution_count": 5,
     "metadata": {},
     "output_type": "execute_result"
    }
   ],
   "source": [
    "pls_model=PLSRegression().fit(X_train,y_train)\n",
    "pls_model.coef_"
   ]
  },
  {
   "cell_type": "code",
   "execution_count": 7,
   "id": "b615c8b4-d8fa-4e77-9783-b489c619ad9e",
   "metadata": {},
   "outputs": [
    {
     "data": {
      "text/plain": [
       "array([[ 35.32916493],\n",
       "       [ 48.83425857],\n",
       "       [ 18.50240933],\n",
       "       [ 39.28117603],\n",
       "       [ 30.59952998],\n",
       "       [ 40.03398345],\n",
       "       [ 16.85990516],\n",
       "       [ 28.22289896],\n",
       "       [ 32.73784993],\n",
       "       [ 22.00875744],\n",
       "       [ 33.60903032],\n",
       "       [ 30.39402522],\n",
       "       [ 25.73279799],\n",
       "       [ 54.98835148],\n",
       "       [  6.56590871],\n",
       "       [ -0.90894359],\n",
       "       [ 17.60903423],\n",
       "       [-37.24246339],\n",
       "       [ 14.69680385]])"
      ]
     },
     "execution_count": 7,
     "metadata": {},
     "output_type": "execute_result"
    }
   ],
   "source": [
    "pls_model=PLSRegression(n_components=2).fit(X_train,y_train)\n",
    "pls_model.coef_"
   ]
  },
  {
   "cell_type": "code",
   "execution_count": 10,
   "id": "204eeea0-d323-49ee-895b-f2c22aa37849",
   "metadata": {},
   "outputs": [],
   "source": [
    "y_pred=pls_model.predict(X_train)"
   ]
  },
  {
   "cell_type": "code",
   "execution_count": 13,
   "id": "49fb9c28-bfcd-4433-81d1-d6bb1a338b37",
   "metadata": {},
   "outputs": [
    {
     "data": {
      "text/plain": [
       "310.1167593109696"
      ]
     },
     "execution_count": 13,
     "metadata": {},
     "output_type": "execute_result"
    }
   ],
   "source": [
    "import numpy as np\n",
    "from sklearn.metrics import mean_squared_error,r2_score\n",
    "np.sqrt(mean_squared_error(y_train, y_pred))"
   ]
  },
  {
   "cell_type": "code",
   "execution_count": 14,
   "id": "62830773-d3aa-40f2-b4a1-058c275e0b1f",
   "metadata": {},
   "outputs": [
    {
     "data": {
      "text/plain": [
       "0.5140424486535482"
      ]
     },
     "execution_count": 14,
     "metadata": {},
     "output_type": "execute_result"
    }
   ],
   "source": [
    "r2_score(y_train, y_pred)"
   ]
  },
  {
   "cell_type": "code",
   "execution_count": 16,
   "id": "e89fa16e-38d2-46db-8b8b-9cf5bb400b6f",
   "metadata": {},
   "outputs": [
    {
     "name": "stdout",
     "output_type": "stream",
     "text": [
      "398.09956327448526\n",
      "0.2678940112232917\n"
     ]
    }
   ],
   "source": [
    "y_pred=pls_model.predict(X_test)\n",
    "print(np.sqrt(mean_squared_error(y_test, y_pred)))\n",
    "print(r2_score(y_test, y_pred))"
   ]
  },
  {
   "cell_type": "code",
   "execution_count": 19,
   "id": "43c528a6-c18d-43e8-a156-0618a2ae88f8",
   "metadata": {},
   "outputs": [
    {
     "data": {
      "image/png": "[encoded data removed]",
      "text/plain": [
       "<Figure size 432x288 with 1 Axes>"
      ]
     },
     "metadata": {
      "needs_background": "light"
     },
     "output_type": "display_data"
    }
   ],
   "source": [
    "from sklearn import model_selection    \n",
    "import matplotlib.pyplot as plt\n",
    "#CV\n",
    "cv_10 = model_selection.KFold(n_splits=10, shuffle=True, random_state=1)\n",
    "\n",
    "\n",
    "#Hata hesaplamak için döngü\n",
    "RMSE = []\n",
    "\n",
    "for i in np.arange(1, X_train.shape[1] + 1):\n",
    "    pls = PLSRegression(n_components=i)\n",
    "    score = np.sqrt(-1*model_selection.cross_val_score(pls, X_train, y_train, cv=cv_10, scoring='neg_mean_squared_error').mean())\n",
    "    RMSE.append(score)\n",
    "\n",
    "#Sonuçların Görselleştirilmesi\n",
    "plt.plot(np.arange(1, X_train.shape[1] + 1), np.array(RMSE), '-v', c = \"r\")\n",
    "plt.xlabel('Bileşen Sayısı')\n",
    "plt.ylabel('RMSE')\n",
    "plt.title('Salary');"
   ]
  },
  {
   "cell_type": "code",
   "execution_count": 20,
   "id": "dcd140ae-4fbb-41d1-a9ab-972c1a4b12a4",
   "metadata": {},
   "outputs": [],
   "source": [
    "from sklearn.linear_model import Ridge"
   ]
  },
  {
   "cell_type": "code",
   "execution_count": 22,
   "id": "d9da6546-ae8c-4f9f-b399-2ea7c86bd3b1",
   "metadata": {},
   "outputs": [
    {
     "data": {
      "text/plain": [
       "array([ -1.77435737,   8.80240528,   7.29595605,  -3.33257639,\n",
       "        -2.08316481,   5.42531283,   7.58514945,  -0.13752764,\n",
       "        -0.20779701,  -0.60361067,   1.7927957 ,   0.72866408,\n",
       "        -0.68710375,   0.26153564,   0.26888652,  -0.52674278,\n",
       "       112.14640272, -99.80997876, -48.07152768])"
      ]
     },
     "execution_count": 22,
     "metadata": {},
     "output_type": "execute_result"
    }
   ],
   "source": [
    "ridge_model=Ridge(alpha=0.1).fit(X_train,y_train)\n",
    "ridge_model.coef_"
   ]
  },
  {
   "cell_type": "code",
   "execution_count": 24,
   "id": "e5435667-14d2-4041-88ea-51f5a1a56b49",
   "metadata": {},
   "outputs": [
    {
     "data": {
      "text/plain": [
       "array([5.00000000e+09, 3.78231664e+09, 2.86118383e+09, 2.16438064e+09,\n",
       "       1.63727458e+09, 1.23853818e+09, 9.36908711e+08, 7.08737081e+08,\n",
       "       5.36133611e+08, 4.05565415e+08, 3.06795364e+08, 2.32079442e+08,\n",
       "       1.75559587e+08, 1.32804389e+08, 1.00461650e+08, 7.59955541e+07,\n",
       "       5.74878498e+07, 4.34874501e+07, 3.28966612e+07, 2.48851178e+07,\n",
       "       1.88246790e+07, 1.42401793e+07, 1.07721735e+07, 8.14875417e+06,\n",
       "       6.16423370e+06, 4.66301673e+06, 3.52740116e+06, 2.66834962e+06,\n",
       "       2.01850863e+06, 1.52692775e+06, 1.15506485e+06, 8.73764200e+05,\n",
       "       6.60970574e+05, 5.00000000e+05, 3.78231664e+05, 2.86118383e+05,\n",
       "       2.16438064e+05, 1.63727458e+05, 1.23853818e+05, 9.36908711e+04,\n",
       "       7.08737081e+04, 5.36133611e+04, 4.05565415e+04, 3.06795364e+04,\n",
       "       2.32079442e+04, 1.75559587e+04, 1.32804389e+04, 1.00461650e+04,\n",
       "       7.59955541e+03, 5.74878498e+03, 4.34874501e+03, 3.28966612e+03,\n",
       "       2.48851178e+03, 1.88246790e+03, 1.42401793e+03, 1.07721735e+03,\n",
       "       8.14875417e+02, 6.16423370e+02, 4.66301673e+02, 3.52740116e+02,\n",
       "       2.66834962e+02, 2.01850863e+02, 1.52692775e+02, 1.15506485e+02,\n",
       "       8.73764200e+01, 6.60970574e+01, 5.00000000e+01, 3.78231664e+01,\n",
       "       2.86118383e+01, 2.16438064e+01, 1.63727458e+01, 1.23853818e+01,\n",
       "       9.36908711e+00, 7.08737081e+00, 5.36133611e+00, 4.05565415e+00,\n",
       "       3.06795364e+00, 2.32079442e+00, 1.75559587e+00, 1.32804389e+00,\n",
       "       1.00461650e+00, 7.59955541e-01, 5.74878498e-01, 4.34874501e-01,\n",
       "       3.28966612e-01, 2.48851178e-01, 1.88246790e-01, 1.42401793e-01,\n",
       "       1.07721735e-01, 8.14875417e-02, 6.16423370e-02, 4.66301673e-02,\n",
       "       3.52740116e-02, 2.66834962e-02, 2.01850863e-02, 1.52692775e-02,\n",
       "       1.15506485e-02, 8.73764200e-03, 6.60970574e-03, 5.00000000e-03])"
      ]
     },
     "execution_count": 24,
     "metadata": {},
     "output_type": "execute_result"
    }
   ],
   "source": [
    "lambdas = 10**np.linspace(10,-2,100)*0.5 \n",
    "lambdas"
   ]
  },
  {
   "cell_type": "code",
   "execution_count": 25,
   "id": "8f48ccfa-ff9c-4a82-9f28-ec73c2b5f2f4",
   "metadata": {},
   "outputs": [
    {
     "data": {
      "image/png": "[encoded data removed]",
      "text/plain": [
       "<Figure size 432x288 with 1 Axes>"
      ]
     },
     "metadata": {
      "needs_background": "light"
     },
     "output_type": "display_data"
    }
   ],
   "source": [
    "ridge_model = Ridge()\n",
    "coeffs = []\n",
    "\n",
    "for i in lambdas:\n",
    "    ridge_model.set_params(alpha = i)\n",
    "    ridge_model.fit(X_train, y_train) \n",
    "    coeffs.append(ridge_model.coef_) \n",
    "    \n",
    "\n",
    "    \n",
    "ax = plt.gca()\n",
    "ax.plot(lambdas, coeffs) \n",
    "ax.set_xscale('log') \n",
    "\n",
    "plt.xlabel('Lambda(Alpha) Değerleri')\n",
    "plt.ylabel('Katsayılar/Ağırlıklar')\n",
    "plt.title('Düzenlileştirmenin Bir Fonksiyonu Olarak Ridge Katsayıları');"
   ]
  },
  {
   "cell_type": "code",
   "execution_count": 40,
   "id": "e59e776b-8bc8-49b7-9128-0b5a5861f8c1",
   "metadata": {},
   "outputs": [
    {
     "name": "stdout",
     "output_type": "stream",
     "text": [
      "289.3292830531484\n"
     ]
    },
    {
     "data": {
      "text/plain": [
       "0.5770075235888348"
      ]
     },
     "execution_count": 40,
     "metadata": {},
     "output_type": "execute_result"
    }
   ],
   "source": [
    "ridge_model.set_params(alpha = 10)\n",
    "y_pred=ridge_model.predict(X_train)\n",
    "print(np.sqrt(mean_squared_error(y_train, y_pred)))\n",
    "r2_score(y_train, y_pred)"
   ]
  },
  {
   "cell_type": "code",
   "execution_count": 38,
   "id": "8ae83a66-db8b-43f8-9f5d-f8b6ec80674d",
   "metadata": {},
   "outputs": [
    {
     "name": "stdout",
     "output_type": "stream",
     "text": [
      "357.0517922282843\n"
     ]
    },
    {
     "data": {
      "text/plain": [
       "0.4110844905067613"
      ]
     },
     "execution_count": 38,
     "metadata": {},
     "output_type": "execute_result"
    }
   ],
   "source": [
    "ridge_model.set_params(alpha = 1)\n",
    "y_pred=ridge_model.predict(X_test)\n",
    "print(np.sqrt(mean_squared_error(y_pred, y_test)))\n",
    "r2_score(y_test, y_pred)"
   ]
  },
  {
   "cell_type": "code",
   "execution_count": 31,
   "id": "fc64c50e-516f-415b-be60-a262932ddded",
   "metadata": {},
   "outputs": [
    {
     "data": {
      "text/plain": [
       "0.7599555414764666"
      ]
     },
     "execution_count": 31,
     "metadata": {},
     "output_type": "execute_result"
    }
   ],
   "source": [
    "lambdas = 10**np.linspace(10,-2,100)*0.5 \n",
    "from sklearn.linear_model import RidgeCV\n",
    "ridge_cv = RidgeCV(alphas = lambdas, \n",
    "                   scoring = \"neg_mean_squared_error\",\n",
    "                   normalize = True)\n",
    "ridge_cv.fit(X_train, y_train)\n",
    "ridge_cv.alpha_"
   ]
  },
  {
   "cell_type": "code",
   "execution_count": 36,
   "id": "8b8afc82-a89e-4947-94a5-1d59968071f4",
   "metadata": {},
   "outputs": [],
   "source": [
    "ridge_tuned = Ridge(alpha = ridge_cv.alpha_, \n",
    "                   normalize = True).fit(X_train,y_train)"
   ]
  },
  {
   "cell_type": "code",
   "execution_count": 37,
   "id": "49c3a27a-bb39-4a86-93e3-63a03a21bdad",
   "metadata": {},
   "outputs": [
    {
     "data": {
      "text/plain": [
       "386.6826429756415"
      ]
     },
     "execution_count": 37,
     "metadata": {},
     "output_type": "execute_result"
    }
   ],
   "source": [
    "np.sqrt(mean_squared_error(y_test, ridge_tuned.predict(X_test)))"
   ]
  },
  {
   "cell_type": "code",
   "execution_count": 41,
   "id": "2fb5671d-5552-430b-8260-a2a22b09af1b",
   "metadata": {},
   "outputs": [],
   "source": [
    "hit = pd.read_csv(\"Hitters.csv\")\n",
    "df = hit.copy()\n",
    "df = df.dropna()\n",
    "ms = pd.get_dummies(df[['League', 'Division', 'NewLeague']])\n",
    "y = df[\"Salary\"]\n",
    "X_ = df.drop(['Salary', 'League', 'Division', 'NewLeague'], axis=1).astype('float64')\n",
    "X = pd.concat([X_, dms[['League_N', 'Division_W', 'NewLeague_N']]], axis=1)\n",
    "X_train, X_test, y_train, y_test = train_test_split(X, y, \n",
    "                                                    test_size=0.25, \n",
    "                                                    random_state=42)"
   ]
  },
  {
   "cell_type": "code",
   "execution_count": 44,
   "id": "1bb48f9d-bc60-44c7-901c-bb9b4ae17b32",
   "metadata": {},
   "outputs": [
    {
     "name": "stderr",
     "output_type": "stream",
     "text": [
      "C:\\Users\\emrehan\\Anaconda3\\lib\\site-packages\\sklearn\\linear_model\\_coordinate_descent.py:530: ConvergenceWarning: Objective did not converge. You might want to increase the number of iterations. Duality gap: 8249174.751388062, tolerance: 3898.686956380658\n",
      "  model = cd_fast.enet_coordinate_descent(\n"
     ]
    }
   ],
   "source": [
    "from sklearn.linear_model import Lasso\n",
    "lasso_model=Lasso(alpha=0.1).fit(X_train,y_train)"
   ]
  },
  {
   "cell_type": "code",
   "execution_count": 45,
   "id": "c5168e4c-c4b2-4927-8e0b-4849b429bba0",
   "metadata": {},
   "outputs": [
    {
     "data": {
      "text/plain": [
       "Lasso(alpha=0.1)"
      ]
     },
     "execution_count": 45,
     "metadata": {},
     "output_type": "execute_result"
    }
   ],
   "source": [
    "lasso_model"
   ]
  },
  {
   "cell_type": "code",
   "execution_count": 47,
   "id": "ed4624d0-51b1-4d0b-945a-45236b354d75",
   "metadata": {},
   "outputs": [
    {
     "name": "stderr",
     "output_type": "stream",
     "text": [
      "C:\\Users\\emrehan\\Anaconda3\\lib\\site-packages\\sklearn\\linear_model\\_coordinate_descent.py:530: ConvergenceWarning: Objective did not converge. You might want to increase the number of iterations. Duality gap: 8249174.751388062, tolerance: 3898.686956380658\n",
      "  model = cd_fast.enet_coordinate_descent(\n"
     ]
    },
    {
     "data": {
      "text/plain": [
       "array([-1.72206506e+00,  8.56210197e+00,  6.91175137e+00, -3.13240128e+00,\n",
       "       -2.00771676e+00,  5.36159035e+00,  8.86871593e+00, -1.69520371e-01,\n",
       "       -5.58121413e-02, -3.53962588e-01,  1.70961000e+00,  6.40603469e-01,\n",
       "       -6.58519895e-01,  2.60093222e-01,  2.78717030e-01, -5.92690965e-01,\n",
       "        1.12659630e+02, -9.99652090e+01, -4.81289395e+01])"
      ]
     },
     "execution_count": 47,
     "metadata": {},
     "output_type": "execute_result"
    }
   ],
   "source": [
    "lasso_model=Lasso(alpha=0.1).fit(X_train,y_train)\n",
    "lasso_model.coef_"
   ]
  },
  {
   "cell_type": "code",
   "execution_count": 48,
   "id": "6b2f9a8c-34b2-4431-a731-65de1d30ad86",
   "metadata": {},
   "outputs": [
    {
     "name": "stderr",
     "output_type": "stream",
     "text": [
      "C:\\Users\\emrehan\\Anaconda3\\lib\\site-packages\\sklearn\\linear_model\\_coordinate_descent.py:530: ConvergenceWarning: Objective did not converge. You might want to increase the number of iterations. Duality gap: 8035108.076949988, tolerance: 3898.686956380658\n",
      "  model = cd_fast.enet_coordinate_descent(\n"
     ]
    },
    {
     "data": {
      "text/plain": [
       "array([-1.84583136e+00,  8.42669551e+00,  4.03035728e+00, -2.52530653e+00,\n",
       "       -9.60755664e-01,  5.11762010e+00,  3.21304874e+00, -1.36569811e-01,\n",
       "       -1.32922158e-01, -4.85853974e-01,  1.65121500e+00,  6.84288918e-01,\n",
       "       -5.89175006e-01,  2.65114685e-01,  2.47813057e-01, -2.50915612e-02,\n",
       "        2.54457676e+01, -5.72554250e+01,  0.00000000e+00])"
      ]
     },
     "execution_count": 48,
     "metadata": {},
     "output_type": "execute_result"
    }
   ],
   "source": [
    "lasso_model=Lasso(alpha=10).fit(X_train,y_train)\n",
    "lasso_model.coef_"
   ]
  },
  {
   "cell_type": "code",
   "execution_count": 49,
   "id": "20afc957-3329-4b9f-9309-36f3c8710fe5",
   "metadata": {},
   "outputs": [
    {
     "name": "stderr",
     "output_type": "stream",
     "text": [
      "C:\\Users\\emrehan\\Anaconda3\\lib\\site-packages\\sklearn\\linear_model\\_coordinate_descent.py:530: ConvergenceWarning: Objective did not converge. You might want to increase the number of iterations. Duality gap: 4305.533696062863, tolerance: 3898.686956380658\n",
      "  model = cd_fast.enet_coordinate_descent(\n"
     ]
    },
    {
     "data": {
      "text/plain": [
       "array([-1.56545525,  6.6473521 ,  0.        , -0.        ,  0.        ,\n",
       "        3.63379311,  0.        , -0.14739262,  0.11139149, -0.        ,\n",
       "        1.21858021,  0.49151469, -0.35533779,  0.27544439,  0.21458561,\n",
       "       -0.        ,  0.        , -0.        ,  0.        ])"
      ]
     },
     "execution_count": 49,
     "metadata": {},
     "output_type": "execute_result"
    }
   ],
   "source": [
    "lasso_model=Lasso(alpha=100).fit(X_train,y_train)\n",
    "lasso_model.coef_"
   ]
  },
  {
   "cell_type": "code",
   "execution_count": 50,
   "id": "b00f7318-8907-4b8f-9abf-cb8154c16966",
   "metadata": {},
   "outputs": [
    {
     "data": {
      "text/plain": [
       "array([ -1.77435737,   8.80240528,   7.29595605,  -3.33257639,\n",
       "        -2.08316481,   5.42531283,   7.58514945,  -0.13752764,\n",
       "        -0.20779701,  -0.60361067,   1.7927957 ,   0.72866408,\n",
       "        -0.68710375,   0.26153564,   0.26888652,  -0.52674278,\n",
       "       112.14640272, -99.80997876, -48.07152768])"
      ]
     },
     "execution_count": 50,
     "metadata": {},
     "output_type": "execute_result"
    }
   ],
   "source": [
    "ridge_model=Ridge(alpha=0.1).fit(X_train,y_train)\n",
    "ridge_model.coef_"
   ]
  },
  {
   "cell_type": "code",
   "execution_count": 51,
   "id": "5c409c16-2c98-407e-9bd4-4e1672ed1379",
   "metadata": {},
   "outputs": [
    {
     "data": {
      "text/plain": [
       "array([ -1.7833362 ,   8.82281559,   7.26631498,  -3.33050119,\n",
       "        -2.07091307,   5.42111154,   7.50977607,  -0.13557983,\n",
       "        -0.21962511,  -0.63033482,   1.7974231 ,   0.73919181,\n",
       "        -0.68443562,   0.26159973,   0.26762087,  -0.48054311,\n",
       "       102.20055186, -97.88649765, -38.9216579 ])"
      ]
     },
     "execution_count": 51,
     "metadata": {},
     "output_type": "execute_result"
    }
   ],
   "source": [
    "ridge_model=Ridge(alpha=1).fit(X_train,y_train)\n",
    "ridge_model.coef_"
   ]
  },
  {
   "cell_type": "code",
   "execution_count": 53,
   "id": "5072cedd-e1c7-4e30-abe1-d0f38df044e7",
   "metadata": {},
   "outputs": [
    {
     "data": {
      "text/plain": [
       "array([ -1.83110238,   8.91471662,   6.95563247,  -3.2988624 ,\n",
       "        -1.94058277,   5.39441854,   7.02809567,  -0.12697611,\n",
       "        -0.27963511,  -0.77363301,   1.83083809,   0.7951527 ,\n",
       "        -0.6715745 ,   0.26289674,   0.26332372,  -0.31549535,\n",
       "        60.58610716, -82.05126656,  -3.68403032])"
      ]
     },
     "execution_count": 53,
     "metadata": {},
     "output_type": "execute_result"
    }
   ],
   "source": [
    "ridge_model=Ridge(alpha=10).fit(X_train,y_train)\n",
    "ridge_model.coef_"
   ]
  },
  {
   "cell_type": "code",
   "execution_count": 54,
   "id": "f061ef23-1c4b-4119-8677-3b9b18fa57fa",
   "metadata": {},
   "outputs": [
    {
     "data": {
      "text/plain": [
       "array([ -1.91364661,   8.95761888,   5.56011781,  -3.11736466,\n",
       "        -1.3870488 ,   5.3154875 ,   5.10648962,  -0.1155687 ,\n",
       "        -0.37230939,  -1.04807433,   1.9001643 ,   0.90078494,\n",
       "        -0.64433817,   0.26965561,   0.2625772 ,  -0.30368762,\n",
       "        19.39546773, -31.38777553,   9.55307828])"
      ]
     },
     "execution_count": 54,
     "metadata": {},
     "output_type": "execute_result"
    }
   ],
   "source": [
    "ridge_model=Ridge(alpha=100).fit(X_train,y_train)\n",
    "ridge_model.coef_"
   ]
  },
  {
   "cell_type": "code",
   "execution_count": 55,
   "id": "4c198df9-dbec-4aa4-b3df-f0ebc18a0809",
   "metadata": {},
   "outputs": [
    {
     "data": {
      "text/plain": [
       "array([-1.85470291,  8.20995143,  2.78786582, -2.17190551, -0.43403331,\n",
       "        4.87840338,  1.86597102, -0.11803081, -0.28558924, -0.91331002,\n",
       "        1.76393267,  0.84848717, -0.57001757,  0.27481381,  0.25690068,\n",
       "       -0.52125714,  2.92973063, -4.3649086 ,  1.89039396])"
      ]
     },
     "execution_count": 55,
     "metadata": {},
     "output_type": "execute_result"
    }
   ],
   "source": [
    "ridge_model=Ridge(alpha=1000).fit(X_train,y_train)\n",
    "ridge_model.coef_"
   ]
  },
  {
   "cell_type": "code",
   "execution_count": 56,
   "id": "0b224bd5-b379-4544-bd93-a3934ab933b9",
   "metadata": {},
   "outputs": [
    {
     "name": "stderr",
     "output_type": "stream",
     "text": [
      "C:\\Users\\emrehan\\Anaconda3\\lib\\site-packages\\sklearn\\linear_model\\_coordinate_descent.py:530: ConvergenceWarning: Objective did not converge. You might want to increase the number of iterations. Duality gap: 5469.55874145031, tolerance: 3898.686956380658\n",
      "  model = cd_fast.enet_coordinate_descent(\n",
      "C:\\Users\\emrehan\\Anaconda3\\lib\\site-packages\\sklearn\\linear_model\\_coordinate_descent.py:530: ConvergenceWarning: Objective did not converge. You might want to increase the number of iterations. Duality gap: 6540.147679518908, tolerance: 3898.686956380658\n",
      "  model = cd_fast.enet_coordinate_descent(\n",
      "C:\\Users\\emrehan\\Anaconda3\\lib\\site-packages\\sklearn\\linear_model\\_coordinate_descent.py:530: ConvergenceWarning: Objective did not converge. You might want to increase the number of iterations. Duality gap: 4001.756137467921, tolerance: 3898.686956380658\n",
      "  model = cd_fast.enet_coordinate_descent(\n",
      "C:\\Users\\emrehan\\Anaconda3\\lib\\site-packages\\sklearn\\linear_model\\_coordinate_descent.py:530: ConvergenceWarning: Objective did not converge. You might want to increase the number of iterations. Duality gap: 5357.774935692549, tolerance: 3898.686956380658\n",
      "  model = cd_fast.enet_coordinate_descent(\n",
      "C:\\Users\\emrehan\\Anaconda3\\lib\\site-packages\\sklearn\\linear_model\\_coordinate_descent.py:530: ConvergenceWarning: Objective did not converge. You might want to increase the number of iterations. Duality gap: 5543.611320476979, tolerance: 3898.686956380658\n",
      "  model = cd_fast.enet_coordinate_descent(\n",
      "C:\\Users\\emrehan\\Anaconda3\\lib\\site-packages\\sklearn\\linear_model\\_coordinate_descent.py:530: ConvergenceWarning: Objective did not converge. You might want to increase the number of iterations. Duality gap: 38977.90211565606, tolerance: 3898.686956380658\n",
      "  model = cd_fast.enet_coordinate_descent(\n",
      "C:\\Users\\emrehan\\Anaconda3\\lib\\site-packages\\sklearn\\linear_model\\_coordinate_descent.py:530: ConvergenceWarning: Objective did not converge. You might want to increase the number of iterations. Duality gap: 4436895.415748085, tolerance: 3898.686956380658\n",
      "  model = cd_fast.enet_coordinate_descent(\n",
      "C:\\Users\\emrehan\\Anaconda3\\lib\\site-packages\\sklearn\\linear_model\\_coordinate_descent.py:530: ConvergenceWarning: Objective did not converge. You might want to increase the number of iterations. Duality gap: 6555245.313879179, tolerance: 3898.686956380658\n",
      "  model = cd_fast.enet_coordinate_descent(\n",
      "C:\\Users\\emrehan\\Anaconda3\\lib\\site-packages\\sklearn\\linear_model\\_coordinate_descent.py:530: ConvergenceWarning: Objective did not converge. You might want to increase the number of iterations. Duality gap: 7517635.389992818, tolerance: 3898.686956380658\n",
      "  model = cd_fast.enet_coordinate_descent(\n",
      "C:\\Users\\emrehan\\Anaconda3\\lib\\site-packages\\sklearn\\linear_model\\_coordinate_descent.py:530: ConvergenceWarning: Objective did not converge. You might want to increase the number of iterations. Duality gap: 7913116.5529388795, tolerance: 3898.686956380658\n",
      "  model = cd_fast.enet_coordinate_descent(\n",
      "C:\\Users\\emrehan\\Anaconda3\\lib\\site-packages\\sklearn\\linear_model\\_coordinate_descent.py:530: ConvergenceWarning: Objective did not converge. You might want to increase the number of iterations. Duality gap: 8063057.666015288, tolerance: 3898.686956380658\n",
      "  model = cd_fast.enet_coordinate_descent(\n",
      "C:\\Users\\emrehan\\Anaconda3\\lib\\site-packages\\sklearn\\linear_model\\_coordinate_descent.py:530: ConvergenceWarning: Objective did not converge. You might want to increase the number of iterations. Duality gap: 8147851.972007763, tolerance: 3898.686956380658\n",
      "  model = cd_fast.enet_coordinate_descent(\n",
      "C:\\Users\\emrehan\\Anaconda3\\lib\\site-packages\\sklearn\\linear_model\\_coordinate_descent.py:530: ConvergenceWarning: Objective did not converge. You might want to increase the number of iterations. Duality gap: 8195503.925140637, tolerance: 3898.686956380658\n",
      "  model = cd_fast.enet_coordinate_descent(\n",
      "C:\\Users\\emrehan\\Anaconda3\\lib\\site-packages\\sklearn\\linear_model\\_coordinate_descent.py:530: ConvergenceWarning: Objective did not converge. You might want to increase the number of iterations. Duality gap: 8222772.970408569, tolerance: 3898.686956380658\n",
      "  model = cd_fast.enet_coordinate_descent(\n",
      "C:\\Users\\emrehan\\Anaconda3\\lib\\site-packages\\sklearn\\linear_model\\_coordinate_descent.py:530: ConvergenceWarning: Objective did not converge. You might want to increase the number of iterations. Duality gap: 8238618.061152146, tolerance: 3898.686956380658\n",
      "  model = cd_fast.enet_coordinate_descent(\n",
      "C:\\Users\\emrehan\\Anaconda3\\lib\\site-packages\\sklearn\\linear_model\\_coordinate_descent.py:530: ConvergenceWarning: Objective did not converge. You might want to increase the number of iterations. Duality gap: 8247931.056261471, tolerance: 3898.686956380658\n",
      "  model = cd_fast.enet_coordinate_descent(\n",
      "C:\\Users\\emrehan\\Anaconda3\\lib\\site-packages\\sklearn\\linear_model\\_coordinate_descent.py:530: ConvergenceWarning: Objective did not converge. You might want to increase the number of iterations. Duality gap: 8254112.783082803, tolerance: 3898.686956380658\n",
      "  model = cd_fast.enet_coordinate_descent(\n",
      "C:\\Users\\emrehan\\Anaconda3\\lib\\site-packages\\sklearn\\linear_model\\_coordinate_descent.py:530: ConvergenceWarning: Objective did not converge. You might want to increase the number of iterations. Duality gap: 8256643.474169193, tolerance: 3898.686956380658\n",
      "  model = cd_fast.enet_coordinate_descent(\n",
      "C:\\Users\\emrehan\\Anaconda3\\lib\\site-packages\\sklearn\\linear_model\\_coordinate_descent.py:530: ConvergenceWarning: Objective did not converge. You might want to increase the number of iterations. Duality gap: 8256663.517485482, tolerance: 3898.686956380658\n",
      "  model = cd_fast.enet_coordinate_descent(\n",
      "C:\\Users\\emrehan\\Anaconda3\\lib\\site-packages\\sklearn\\linear_model\\_coordinate_descent.py:530: ConvergenceWarning: Objective did not converge. You might want to increase the number of iterations. Duality gap: 8255732.406295831, tolerance: 3898.686956380658\n",
      "  model = cd_fast.enet_coordinate_descent(\n",
      "C:\\Users\\emrehan\\Anaconda3\\lib\\site-packages\\sklearn\\linear_model\\_coordinate_descent.py:530: ConvergenceWarning: Objective did not converge. You might want to increase the number of iterations. Duality gap: 8254488.03221658, tolerance: 3898.686956380658\n",
      "  model = cd_fast.enet_coordinate_descent(\n",
      "C:\\Users\\emrehan\\Anaconda3\\lib\\site-packages\\sklearn\\linear_model\\_coordinate_descent.py:530: ConvergenceWarning: Objective did not converge. You might want to increase the number of iterations. Duality gap: 8253238.172401883, tolerance: 3898.686956380658\n",
      "  model = cd_fast.enet_coordinate_descent(\n",
      "C:\\Users\\emrehan\\Anaconda3\\lib\\site-packages\\sklearn\\linear_model\\_coordinate_descent.py:530: ConvergenceWarning: Objective did not converge. You might want to increase the number of iterations. Duality gap: 8252116.626715335, tolerance: 3898.686956380658\n",
      "  model = cd_fast.enet_coordinate_descent(\n",
      "C:\\Users\\emrehan\\Anaconda3\\lib\\site-packages\\sklearn\\linear_model\\_coordinate_descent.py:530: ConvergenceWarning: Objective did not converge. You might want to increase the number of iterations. Duality gap: 8251167.599148543, tolerance: 3898.686956380658\n",
      "  model = cd_fast.enet_coordinate_descent(\n",
      "C:\\Users\\emrehan\\Anaconda3\\lib\\site-packages\\sklearn\\linear_model\\_coordinate_descent.py:530: ConvergenceWarning: Objective did not converge. You might want to increase the number of iterations. Duality gap: 8250392.22649938, tolerance: 3898.686956380658\n",
      "  model = cd_fast.enet_coordinate_descent(\n",
      "C:\\Users\\emrehan\\Anaconda3\\lib\\site-packages\\sklearn\\linear_model\\_coordinate_descent.py:530: ConvergenceWarning: Objective did not converge. You might want to increase the number of iterations. Duality gap: 8249772.805943212, tolerance: 3898.686956380658\n",
      "  model = cd_fast.enet_coordinate_descent(\n",
      "C:\\Users\\emrehan\\Anaconda3\\lib\\site-packages\\sklearn\\linear_model\\_coordinate_descent.py:530: ConvergenceWarning: Objective did not converge. You might want to increase the number of iterations. Duality gap: 8249285.4570959965, tolerance: 3898.686956380658\n",
      "  model = cd_fast.enet_coordinate_descent(\n",
      "C:\\Users\\emrehan\\Anaconda3\\lib\\site-packages\\sklearn\\linear_model\\_coordinate_descent.py:530: ConvergenceWarning: Objective did not converge. You might want to increase the number of iterations. Duality gap: 8248906.058581409, tolerance: 3898.686956380658\n",
      "  model = cd_fast.enet_coordinate_descent(\n",
      "C:\\Users\\emrehan\\Anaconda3\\lib\\site-packages\\sklearn\\linear_model\\_coordinate_descent.py:530: ConvergenceWarning: Objective did not converge. You might want to increase the number of iterations. Duality gap: 8248612.895174997, tolerance: 3898.686956380658\n",
      "  model = cd_fast.enet_coordinate_descent(\n",
      "C:\\Users\\emrehan\\Anaconda3\\lib\\site-packages\\sklearn\\linear_model\\_coordinate_descent.py:530: ConvergenceWarning: Objective did not converge. You might want to increase the number of iterations. Duality gap: 8248387.61374691, tolerance: 3898.686956380658\n",
      "  model = cd_fast.enet_coordinate_descent(\n",
      "C:\\Users\\emrehan\\Anaconda3\\lib\\site-packages\\sklearn\\linear_model\\_coordinate_descent.py:530: ConvergenceWarning: Objective did not converge. You might want to increase the number of iterations. Duality gap: 8248215.191106187, tolerance: 3898.686956380658\n",
      "  model = cd_fast.enet_coordinate_descent(\n",
      "C:\\Users\\emrehan\\Anaconda3\\lib\\site-packages\\sklearn\\linear_model\\_coordinate_descent.py:530: ConvergenceWarning: Objective did not converge. You might want to increase the number of iterations. Duality gap: 8248083.6060414845, tolerance: 3898.686956380658\n",
      "  model = cd_fast.enet_coordinate_descent(\n",
      "C:\\Users\\emrehan\\Anaconda3\\lib\\site-packages\\sklearn\\linear_model\\_coordinate_descent.py:530: ConvergenceWarning: Objective did not converge. You might want to increase the number of iterations. Duality gap: 8247983.409284977, tolerance: 3898.686956380658\n",
      "  model = cd_fast.enet_coordinate_descent(\n",
      "C:\\Users\\emrehan\\Anaconda3\\lib\\site-packages\\sklearn\\linear_model\\_coordinate_descent.py:530: ConvergenceWarning: Objective did not converge. You might want to increase the number of iterations. Duality gap: 8247907.234834612, tolerance: 3898.686956380658\n",
      "  model = cd_fast.enet_coordinate_descent(\n",
      "C:\\Users\\emrehan\\Anaconda3\\lib\\site-packages\\sklearn\\linear_model\\_coordinate_descent.py:530: ConvergenceWarning: Objective did not converge. You might want to increase the number of iterations. Duality gap: 8247849.397090812, tolerance: 3898.686956380658\n",
      "  model = cd_fast.enet_coordinate_descent(\n",
      "C:\\Users\\emrehan\\Anaconda3\\lib\\site-packages\\sklearn\\linear_model\\_coordinate_descent.py:530: ConvergenceWarning: Objective did not converge. You might want to increase the number of iterations. Duality gap: 8247805.522216801, tolerance: 3898.686956380658\n",
      "  model = cd_fast.enet_coordinate_descent(\n",
      "C:\\Users\\emrehan\\Anaconda3\\lib\\site-packages\\sklearn\\linear_model\\_coordinate_descent.py:530: ConvergenceWarning: Objective did not converge. You might want to increase the number of iterations. Duality gap: 8247772.261812282, tolerance: 3898.686956380658\n",
      "  model = cd_fast.enet_coordinate_descent(\n",
      "C:\\Users\\emrehan\\Anaconda3\\lib\\site-packages\\sklearn\\linear_model\\_coordinate_descent.py:530: ConvergenceWarning: Objective did not converge. You might want to increase the number of iterations. Duality gap: 8247747.060921387, tolerance: 3898.686956380658\n",
      "  model = cd_fast.enet_coordinate_descent(\n"
     ]
    },
    {
     "data": {
      "text/plain": [
       "Text(0, 0.5, 'weights')"
      ]
     },
     "execution_count": 56,
     "metadata": {},
     "output_type": "execute_result"
    },
    {
     "data": {
      "image/png": "[encoded data removed]",
      "text/plain": [
       "<Figure size 432x288 with 1 Axes>"
      ]
     },
     "metadata": {
      "needs_background": "light"
     },
     "output_type": "display_data"
    }
   ],
   "source": [
    "lasso = Lasso()\n",
    "lambdas = 10**np.linspace(10,-2,100)*0.5 \n",
    "coeffs = []\n",
    "\n",
    "for i in lambdas:\n",
    "    lasso.set_params(alpha=i)\n",
    "    lasso.fit(X_train, y_train)\n",
    "    coeffs.append(lasso.coef_)\n",
    "    \n",
    "ax = plt.gca()\n",
    "ax.plot(lambdas*2, coeffs)\n",
    "ax.set_xscale('log')\n",
    "plt.axis('tight')\n",
    "plt.xlabel('alpha')\n",
    "plt.ylabel('weights')"
   ]
  },
  {
   "cell_type": "code",
   "execution_count": 65,
   "id": "388cbc24-02ba-4bc2-a34e-0a361db3acc5",
   "metadata": {},
   "outputs": [
    {
     "name": "stdout",
     "output_type": "stream",
     "text": [
      "356.754527014877\n",
      "356.09758845540347\n",
      "354.4842032023016\n",
      "358.7773464190923\n",
      "360.1910155756468\n"
     ]
    },
    {
     "name": "stderr",
     "output_type": "stream",
     "text": [
      "C:\\Users\\emrehan\\Anaconda3\\lib\\site-packages\\sklearn\\linear_model\\_coordinate_descent.py:530: ConvergenceWarning: Objective did not converge. You might want to increase the number of iterations. Duality gap: 8249174.751388062, tolerance: 3898.686956380658\n",
      "  model = cd_fast.enet_coordinate_descent(\n",
      "C:\\Users\\emrehan\\Anaconda3\\lib\\site-packages\\sklearn\\linear_model\\_coordinate_descent.py:530: ConvergenceWarning: Objective did not converge. You might want to increase the number of iterations. Duality gap: 8256653.399850395, tolerance: 3898.686956380658\n",
      "  model = cd_fast.enet_coordinate_descent(\n",
      "C:\\Users\\emrehan\\Anaconda3\\lib\\site-packages\\sklearn\\linear_model\\_coordinate_descent.py:530: ConvergenceWarning: Objective did not converge. You might want to increase the number of iterations. Duality gap: 8035108.076949988, tolerance: 3898.686956380658\n",
      "  model = cd_fast.enet_coordinate_descent(\n",
      "C:\\Users\\emrehan\\Anaconda3\\lib\\site-packages\\sklearn\\linear_model\\_coordinate_descent.py:530: ConvergenceWarning: Objective did not converge. You might want to increase the number of iterations. Duality gap: 4305.533696062863, tolerance: 3898.686956380658\n",
      "  model = cd_fast.enet_coordinate_descent(\n"
     ]
    }
   ],
   "source": [
    "lasso_model=Lasso(alpha=0.1).fit(X_train,y_train)\n",
    "print(np.sqrt(mean_squared_error(y_test, lasso_model.predict(X_test))))\n",
    "lasso_model=Lasso(alpha=1).fit(X_train,y_train)\n",
    "print(np.sqrt(mean_squared_error(y_test, lasso_model.predict(X_test))))\n",
    "lasso_model=Lasso(alpha=10).fit(X_train,y_train)\n",
    "print(np.sqrt(mean_squared_error(y_test, lasso_model.predict(X_test))))\n",
    "lasso_model=Lasso(alpha=50).fit(X_train,y_train)\n",
    "print(np.sqrt(mean_squared_error(y_test, lasso_model.predict(X_test))))\n",
    "lasso_model=Lasso(alpha=100).fit(X_train,y_train)\n",
    "print(np.sqrt(mean_squared_error(y_test, lasso_model.predict(X_test))))"
   ]
  },
  {
   "cell_type": "code",
   "execution_count": 67,
   "id": "19d1ab07-8319-417b-a06a-b8e4f2ae675f",
   "metadata": {},
   "outputs": [],
   "source": [
    "from sklearn.linear_model import LassoCV"
   ]
  },
  {
   "cell_type": "code",
   "execution_count": 68,
   "id": "ed6a79e7-910e-4787-85fa-8a9a07f5b84e",
   "metadata": {},
   "outputs": [
    {
     "data": {
      "text/plain": [
       "0.3940612643247005"
      ]
     },
     "execution_count": 68,
     "metadata": {},
     "output_type": "execute_result"
    }
   ],
   "source": [
    "lasso_cv_model = LassoCV(alphas = None, \n",
    "                         cv = 10, \n",
    "                         max_iter = 10000, \n",
    "                         normalize = True)\n",
    "lasso_cv_model.fit(X_train,y_train)\n",
    "lasso_cv_model.alpha_"
   ]
  },
  {
   "cell_type": "code",
   "execution_count": 70,
   "id": "d7d0b6ca-1b3a-4f2f-a81a-e125a9716cbb",
   "metadata": {},
   "outputs": [
    {
     "name": "stdout",
     "output_type": "stream",
     "text": [
      "356.5226376958369\n"
     ]
    },
    {
     "name": "stderr",
     "output_type": "stream",
     "text": [
      "C:\\Users\\emrehan\\Anaconda3\\lib\\site-packages\\sklearn\\linear_model\\_coordinate_descent.py:530: ConvergenceWarning: Objective did not converge. You might want to increase the number of iterations. Duality gap: 8252823.943523987, tolerance: 3898.686956380658\n",
      "  model = cd_fast.enet_coordinate_descent(\n"
     ]
    },
    {
     "data": {
      "text/plain": [
       "0.41282875506652217"
      ]
     },
     "execution_count": 70,
     "metadata": {},
     "output_type": "execute_result"
    }
   ],
   "source": [
    "lasso_tuned = Lasso(alpha = lasso_cv_model.alpha_)\n",
    "lasso_tuned.fit(X_train, y_train)\n",
    "y_pred = lasso_tuned.predict(X_test)\n",
    "print(np.sqrt(mean_squared_error(y_test, y_pred)))\n",
    "r2_score(y_test, y_pred)"
   ]
  },
  {
   "cell_type": "code",
   "execution_count": null,
   "id": "f4b060c4-de66-481b-9944-59c8244da258",
   "metadata": {},
   "outputs": [],
   "source": []
  },
  {
   "cell_type": "code",
   "execution_count": 79,
   "id": "59cdd764-02d0-4ba5-9a9a-ff03b4b3cbd8",
   "metadata": {},
   "outputs": [
    {
     "name": "stdout",
     "output_type": "stream",
     "text": [
      "354.7007252727854\n"
     ]
    },
    {
     "name": "stderr",
     "output_type": "stream",
     "text": [
      "C:\\Users\\emrehan\\Anaconda3\\lib\\site-packages\\sklearn\\linear_model\\_coordinate_descent.py:530: ConvergenceWarning: Objective did not converge. You might want to increase the number of iterations. Duality gap: 8165634.877707313, tolerance: 3898.686956380658\n",
      "  model = cd_fast.enet_coordinate_descent(\n"
     ]
    },
    {
     "data": {
      "text/plain": [
       "0.41881458079580847"
      ]
     },
     "execution_count": 79,
     "metadata": {},
     "output_type": "execute_result"
    }
   ],
   "source": [
    "lasso_tuned = Lasso(alpha = 6.5)\n",
    "lasso_tuned.fit(X_train, y_train)\n",
    "y_pred = lasso_tuned.predict(X_test)\n",
    "print(np.sqrt(mean_squared_error(y_test, y_pred)))\n",
    "r2_score(y_test, y_pred)"
   ]
  },
  {
   "cell_type": "code",
   "execution_count": 80,
   "id": "5bbf1772-26d7-4227-b38b-9b77a5749cb0",
   "metadata": {},
   "outputs": [],
   "source": [
    "from sklearn.linear_model import ElasticNet"
   ]
  },
  {
   "cell_type": "code",
   "execution_count": 81,
   "id": "c483e04f-a494-4ac1-a830-d9d52432b0d6",
   "metadata": {},
   "outputs": [
    {
     "name": "stderr",
     "output_type": "stream",
     "text": [
      "C:\\Users\\emrehan\\Anaconda3\\lib\\site-packages\\sklearn\\linear_model\\_coordinate_descent.py:530: ConvergenceWarning: Objective did not converge. You might want to increase the number of iterations. Duality gap: 8487984.79936731, tolerance: 3898.686956380658\n",
      "  model = cd_fast.enet_coordinate_descent(\n"
     ]
    }
   ],
   "source": [
    "enet_model=ElasticNet().fit(X_train,y_train)"
   ]
  },
  {
   "cell_type": "code",
   "execution_count": 82,
   "id": "1028adae-f333-40fc-9b9e-29726fa4fbb3",
   "metadata": {},
   "outputs": [
    {
     "data": {
      "text/plain": [
       "array([ -1.86256172,   8.70489065,   5.10426375,  -2.89875799,\n",
       "        -1.28642985,   5.24343682,   6.04480276,  -0.14701495,\n",
       "        -0.21566628,  -0.7897201 ,   1.80813117,   0.80914508,\n",
       "        -0.61262382,   0.26816203,   0.27172387,  -0.36530729,\n",
       "        19.2186222 , -31.16586592,   8.98369938])"
      ]
     },
     "execution_count": 82,
     "metadata": {},
     "output_type": "execute_result"
    }
   ],
   "source": [
    "enet_model.coef_"
   ]
  },
  {
   "cell_type": "code",
   "execution_count": 84,
   "id": "bd99d49f-20cd-4b5e-83c1-44afee4a0e67",
   "metadata": {},
   "outputs": [
    {
     "data": {
      "text/plain": [
       "-6.465955602111762"
      ]
     },
     "execution_count": 84,
     "metadata": {},
     "output_type": "execute_result"
    }
   ],
   "source": [
    "enet_model.intercept_"
   ]
  },
  {
   "cell_type": "code",
   "execution_count": 86,
   "id": "35aaf2b5-8b23-4887-8b8b-12cb05986190",
   "metadata": {},
   "outputs": [
    {
     "name": "stdout",
     "output_type": "stream",
     "text": [
      "357.16765481812445\n"
     ]
    },
    {
     "data": {
      "text/plain": [
       "0.4107022246932692"
      ]
     },
     "execution_count": 86,
     "metadata": {},
     "output_type": "execute_result"
    }
   ],
   "source": [
    "y_pred=enet_model.predict(X_test)\n",
    "print(np.sqrt(mean_squared_error(y_test, y_pred)))\n",
    "r2_score(y_test, y_pred)"
   ]
  },
  {
   "cell_type": "code",
   "execution_count": 87,
   "id": "97ad1003-f48e-4020-9b03-909730e3cc85",
   "metadata": {},
   "outputs": [
    {
     "data": {
      "text/plain": [
       "5230.7647364798695"
      ]
     },
     "execution_count": 87,
     "metadata": {},
     "output_type": "execute_result"
    }
   ],
   "source": [
    "from sklearn.linear_model import ElasticNetCV\n",
    "enet_cv_model = ElasticNetCV(cv = 10, random_state = 0).fit(X_train, y_train)\n",
    "enet_cv_model.alpha_\n"
   ]
  },
  {
   "cell_type": "code",
   "execution_count": 88,
   "id": "3941701d-c657-4662-8b1e-2376885dd181",
   "metadata": {},
   "outputs": [
    {
     "name": "stdout",
     "output_type": "stream",
     "text": [
      "394.15280563218795\n"
     ]
    },
    {
     "data": {
      "text/plain": [
       "0.2823382467773815"
      ]
     },
     "execution_count": 88,
     "metadata": {},
     "output_type": "execute_result"
    }
   ],
   "source": [
    "enet_tuned = ElasticNet(alpha = enet_cv_model.alpha_).fit(X_train,y_train)\n",
    "y_pred=enet_tuned .predict(X_test)\n",
    "print(np.sqrt(mean_squared_error(y_test, y_pred)))\n",
    "r2_score(y_test, y_pred)"
   ]
  },
  {
   "cell_type": "code",
   "execution_count": null,
   "id": "f7c18d67-f7bd-4d86-95af-cb9102171e1f",
   "metadata": {},
   "outputs": [],
   "source": []
  }
 ],
 "metadata": {
  "kernelspec": {
   "display_name": "Python 3 (ipykernel)",
   "language": "python",
   "name": "python3"
  },
  "language_info": {
   "codemirror_mode": {
    "name": "ipython",
    "version": 3
   },
   "file_extension": ".py",
   "mimetype": "text/x-python",
   "name": "python",
   "nbconvert_exporter": "python",
   "pygments_lexer": "ipython3",
   "version": "3.9.7"
  }
 },
 "nbformat": 4,
 "nbformat_minor": 5
}
