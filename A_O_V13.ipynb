{
 "cells": [
  {
   "cell_type": "code",
   "execution_count": 1,
   "id": "e6893371-82d4-48cf-b13f-ba63b08603f4",
   "metadata": {},
   "outputs": [],
   "source": [
    "import numpy as np\n",
    "import pandas as pd \n",
    "import statsmodels.api as sm\n",
    "import statsmodels.formula.api as smf\n",
    "import seaborn as sns\n",
    "from sklearn.preprocessing import scale \n",
    "from sklearn.model_selection import train_test_split, GridSearchCV, cross_val_score\n",
    "from sklearn.metrics import confusion_matrix, accuracy_score, classification_report\n",
    "from sklearn.metrics import roc_auc_score,roc_curve\n",
    "import statsmodels.formula.api as smf\n",
    "import matplotlib.pyplot as plt\n",
    "from sklearn.neighbors import KNeighborsClassifier\n",
    "from sklearn.discriminant_analysis import LinearDiscriminantAnalysis\n",
    "from sklearn.linear_model import LogisticRegression\n",
    "from sklearn.svm import SVC\n",
    "from sklearn.naive_bayes import GaussianNB\n",
    "from sklearn import tree\n",
    "from sklearn.ensemble import RandomForestClassifier\n",
    "from sklearn.ensemble import GradientBoostingClassifier\n",
    "from xgboost import XGBClassifier\n",
    "from lightgbm import LGBMClassifier\n",
    "from catboost import CatBoostClassifier\n",
    "\n",
    "from warnings import filterwarnings\n",
    "filterwarnings('ignore')"
   ]
  },
  {
   "cell_type": "code",
   "execution_count": 3,
   "id": "ca547d84-55b6-4392-ad98-c10abf912cf2",
   "metadata": {},
   "outputs": [],
   "source": [
    "diabetes = pd.read_csv(\"diabetes.csv\")\n",
    "df = diabetes.copy()\n",
    "df = df.dropna()\n",
    "df.head()\n",
    "y = df[\"Outcome\"]\n",
    "X = df.drop([\"Outcome\"], axis=1)\n",
    "X_train, X_test, y_train, y_test = train_test_split(X, y, \n",
    "                                                    test_size = 0.30, \n",
    "                                                    random_state = 42)"
   ]
  },
  {
   "cell_type": "code",
   "execution_count": 5,
   "id": "4461bb59-afd6-41c5-9ab6-d15d201feffc",
   "metadata": {},
   "outputs": [
    {
     "name": "stdout",
     "output_type": "stream",
     "text": [
      "<class 'pandas.core.frame.DataFrame'>\n",
      "Int64Index: 768 entries, 0 to 767\n",
      "Data columns (total 9 columns):\n",
      " #   Column                    Non-Null Count  Dtype  \n",
      "---  ------                    --------------  -----  \n",
      " 0   Pregnancies               768 non-null    int64  \n",
      " 1   Glucose                   768 non-null    int64  \n",
      " 2   BloodPressure             768 non-null    int64  \n",
      " 3   SkinThickness             768 non-null    int64  \n",
      " 4   Insulin                   768 non-null    int64  \n",
      " 5   BMI                       768 non-null    float64\n",
      " 6   DiabetesPedigreeFunction  768 non-null    float64\n",
      " 7   Age                       768 non-null    int64  \n",
      " 8   Outcome                   768 non-null    int64  \n",
      "dtypes: float64(2), int64(7)\n",
      "memory usage: 60.0 KB\n"
     ]
    }
   ],
   "source": [
    "df.info()"
   ]
  },
  {
   "cell_type": "code",
   "execution_count": 7,
   "id": "2e79b0c5-45c8-4326-b265-f1e85492f514",
   "metadata": {},
   "outputs": [
    {
     "data": {
      "text/html": [
       "<div>\n",
       "<style scoped>\n",
       "    .dataframe tbody tr th:only-of-type {\n",
       "        vertical-align: middle;\n",
       "    }\n",
       "\n",
       "    .dataframe tbody tr th {\n",
       "        vertical-align: top;\n",
       "    }\n",
       "\n",
       "    .dataframe thead th {\n",
       "        text-align: right;\n",
       "    }\n",
       "</style>\n",
       "<table border=\"1\" class=\"dataframe\">\n",
       "  <thead>\n",
       "    <tr style=\"text-align: right;\">\n",
       "      <th></th>\n",
       "      <th>count</th>\n",
       "      <th>mean</th>\n",
       "      <th>std</th>\n",
       "      <th>min</th>\n",
       "      <th>25%</th>\n",
       "      <th>50%</th>\n",
       "      <th>75%</th>\n",
       "      <th>max</th>\n",
       "    </tr>\n",
       "  </thead>\n",
       "  <tbody>\n",
       "    <tr>\n",
       "      <th>Pregnancies</th>\n",
       "      <td>768.0</td>\n",
       "      <td>3.845052</td>\n",
       "      <td>3.369578</td>\n",
       "      <td>0.000</td>\n",
       "      <td>1.00000</td>\n",
       "      <td>3.0000</td>\n",
       "      <td>6.00000</td>\n",
       "      <td>17.00</td>\n",
       "    </tr>\n",
       "    <tr>\n",
       "      <th>Glucose</th>\n",
       "      <td>768.0</td>\n",
       "      <td>120.894531</td>\n",
       "      <td>31.972618</td>\n",
       "      <td>0.000</td>\n",
       "      <td>99.00000</td>\n",
       "      <td>117.0000</td>\n",
       "      <td>140.25000</td>\n",
       "      <td>199.00</td>\n",
       "    </tr>\n",
       "    <tr>\n",
       "      <th>BloodPressure</th>\n",
       "      <td>768.0</td>\n",
       "      <td>69.105469</td>\n",
       "      <td>19.355807</td>\n",
       "      <td>0.000</td>\n",
       "      <td>62.00000</td>\n",
       "      <td>72.0000</td>\n",
       "      <td>80.00000</td>\n",
       "      <td>122.00</td>\n",
       "    </tr>\n",
       "    <tr>\n",
       "      <th>SkinThickness</th>\n",
       "      <td>768.0</td>\n",
       "      <td>20.536458</td>\n",
       "      <td>15.952218</td>\n",
       "      <td>0.000</td>\n",
       "      <td>0.00000</td>\n",
       "      <td>23.0000</td>\n",
       "      <td>32.00000</td>\n",
       "      <td>99.00</td>\n",
       "    </tr>\n",
       "    <tr>\n",
       "      <th>Insulin</th>\n",
       "      <td>768.0</td>\n",
       "      <td>79.799479</td>\n",
       "      <td>115.244002</td>\n",
       "      <td>0.000</td>\n",
       "      <td>0.00000</td>\n",
       "      <td>30.5000</td>\n",
       "      <td>127.25000</td>\n",
       "      <td>846.00</td>\n",
       "    </tr>\n",
       "    <tr>\n",
       "      <th>BMI</th>\n",
       "      <td>768.0</td>\n",
       "      <td>31.992578</td>\n",
       "      <td>7.884160</td>\n",
       "      <td>0.000</td>\n",
       "      <td>27.30000</td>\n",
       "      <td>32.0000</td>\n",
       "      <td>36.60000</td>\n",
       "      <td>67.10</td>\n",
       "    </tr>\n",
       "    <tr>\n",
       "      <th>DiabetesPedigreeFunction</th>\n",
       "      <td>768.0</td>\n",
       "      <td>0.471876</td>\n",
       "      <td>0.331329</td>\n",
       "      <td>0.078</td>\n",
       "      <td>0.24375</td>\n",
       "      <td>0.3725</td>\n",
       "      <td>0.62625</td>\n",
       "      <td>2.42</td>\n",
       "    </tr>\n",
       "    <tr>\n",
       "      <th>Age</th>\n",
       "      <td>768.0</td>\n",
       "      <td>33.240885</td>\n",
       "      <td>11.760232</td>\n",
       "      <td>21.000</td>\n",
       "      <td>24.00000</td>\n",
       "      <td>29.0000</td>\n",
       "      <td>41.00000</td>\n",
       "      <td>81.00</td>\n",
       "    </tr>\n",
       "    <tr>\n",
       "      <th>Outcome</th>\n",
       "      <td>768.0</td>\n",
       "      <td>0.348958</td>\n",
       "      <td>0.476951</td>\n",
       "      <td>0.000</td>\n",
       "      <td>0.00000</td>\n",
       "      <td>0.0000</td>\n",
       "      <td>1.00000</td>\n",
       "      <td>1.00</td>\n",
       "    </tr>\n",
       "  </tbody>\n",
       "</table>\n",
       "</div>"
      ],
      "text/plain": [
       "                          count        mean         std     min       25%  \\\n",
       "Pregnancies               768.0    3.845052    3.369578   0.000   1.00000   \n",
       "Glucose                   768.0  120.894531   31.972618   0.000  99.00000   \n",
       "BloodPressure             768.0   69.105469   19.355807   0.000  62.00000   \n",
       "SkinThickness             768.0   20.536458   15.952218   0.000   0.00000   \n",
       "Insulin                   768.0   79.799479  115.244002   0.000   0.00000   \n",
       "BMI                       768.0   31.992578    7.884160   0.000  27.30000   \n",
       "DiabetesPedigreeFunction  768.0    0.471876    0.331329   0.078   0.24375   \n",
       "Age                       768.0   33.240885   11.760232  21.000  24.00000   \n",
       "Outcome                   768.0    0.348958    0.476951   0.000   0.00000   \n",
       "\n",
       "                               50%        75%     max  \n",
       "Pregnancies                 3.0000    6.00000   17.00  \n",
       "Glucose                   117.0000  140.25000  199.00  \n",
       "BloodPressure              72.0000   80.00000  122.00  \n",
       "SkinThickness              23.0000   32.00000   99.00  \n",
       "Insulin                    30.5000  127.25000  846.00  \n",
       "BMI                        32.0000   36.60000   67.10  \n",
       "DiabetesPedigreeFunction    0.3725    0.62625    2.42  \n",
       "Age                        29.0000   41.00000   81.00  \n",
       "Outcome                     0.0000    1.00000    1.00  "
      ]
     },
     "execution_count": 7,
     "metadata": {},
     "output_type": "execute_result"
    }
   ],
   "source": [
    "df.describe().T"
   ]
  },
  {
   "cell_type": "code",
   "execution_count": 8,
   "id": "022d4388-32d3-413a-9cf9-2d7444465661",
   "metadata": {},
   "outputs": [],
   "source": []
  },
  {
   "cell_type": "code",
   "execution_count": 6,
   "id": "e41ffe8c-557a-40fc-8dd1-6391f9f8ce20",
   "metadata": {},
   "outputs": [
    {
     "name": "stdout",
     "output_type": "stream",
     "text": [
      "Optimization terminated successfully.\n",
      "         Current function value: 0.608498\n",
      "         Iterations 5\n"
     ]
    },
    {
     "data": {
      "text/html": [
       "<table class=\"simpletable\">\n",
       "<caption>Logit Regression Results</caption>\n",
       "<tr>\n",
       "  <th>Dep. Variable:</th>        <td>Outcome</td>     <th>  No. Observations:  </th>  <td>   768</td>  \n",
       "</tr>\n",
       "<tr>\n",
       "  <th>Model:</th>                 <td>Logit</td>      <th>  Df Residuals:      </th>  <td>   760</td>  \n",
       "</tr>\n",
       "<tr>\n",
       "  <th>Method:</th>                 <td>MLE</td>       <th>  Df Model:          </th>  <td>     7</td>  \n",
       "</tr>\n",
       "<tr>\n",
       "  <th>Date:</th>            <td>Tue, 08 Feb 2022</td> <th>  Pseudo R-squ.:     </th>  <td>0.05922</td> \n",
       "</tr>\n",
       "<tr>\n",
       "  <th>Time:</th>                <td>15:44:27</td>     <th>  Log-Likelihood:    </th> <td> -467.33</td> \n",
       "</tr>\n",
       "<tr>\n",
       "  <th>converged:</th>             <td>True</td>       <th>  LL-Null:           </th> <td> -496.74</td> \n",
       "</tr>\n",
       "<tr>\n",
       "  <th>Covariance Type:</th>     <td>nonrobust</td>    <th>  LLR p-value:       </th> <td>2.583e-10</td>\n",
       "</tr>\n",
       "</table>\n",
       "<table class=\"simpletable\">\n",
       "<tr>\n",
       "              <td></td>                <th>coef</th>     <th>std err</th>      <th>z</th>      <th>P>|z|</th>  <th>[0.025</th>    <th>0.975]</th>  \n",
       "</tr>\n",
       "<tr>\n",
       "  <th>Pregnancies</th>              <td>    0.1284</td> <td>    0.029</td> <td>    4.484</td> <td> 0.000</td> <td>    0.072</td> <td>    0.185</td>\n",
       "</tr>\n",
       "<tr>\n",
       "  <th>Glucose</th>                  <td>    0.0129</td> <td>    0.003</td> <td>    4.757</td> <td> 0.000</td> <td>    0.008</td> <td>    0.018</td>\n",
       "</tr>\n",
       "<tr>\n",
       "  <th>BloodPressure</th>            <td>   -0.0303</td> <td>    0.005</td> <td>   -6.481</td> <td> 0.000</td> <td>   -0.039</td> <td>   -0.021</td>\n",
       "</tr>\n",
       "<tr>\n",
       "  <th>SkinThickness</th>            <td>    0.0002</td> <td>    0.006</td> <td>    0.032</td> <td> 0.974</td> <td>   -0.012</td> <td>    0.012</td>\n",
       "</tr>\n",
       "<tr>\n",
       "  <th>Insulin</th>                  <td>    0.0007</td> <td>    0.001</td> <td>    0.942</td> <td> 0.346</td> <td>   -0.001</td> <td>    0.002</td>\n",
       "</tr>\n",
       "<tr>\n",
       "  <th>BMI</th>                      <td>   -0.0048</td> <td>    0.011</td> <td>   -0.449</td> <td> 0.653</td> <td>   -0.026</td> <td>    0.016</td>\n",
       "</tr>\n",
       "<tr>\n",
       "  <th>DiabetesPedigreeFunction</th> <td>    0.3203</td> <td>    0.240</td> <td>    1.335</td> <td> 0.182</td> <td>   -0.150</td> <td>    0.790</td>\n",
       "</tr>\n",
       "<tr>\n",
       "  <th>Age</th>                      <td>   -0.0156</td> <td>    0.008</td> <td>   -1.852</td> <td> 0.064</td> <td>   -0.032</td> <td>    0.001</td>\n",
       "</tr>\n",
       "</table>"
      ],
      "text/plain": [
       "<class 'statsmodels.iolib.summary.Summary'>\n",
       "\"\"\"\n",
       "                           Logit Regression Results                           \n",
       "==============================================================================\n",
       "Dep. Variable:                Outcome   No. Observations:                  768\n",
       "Model:                          Logit   Df Residuals:                      760\n",
       "Method:                           MLE   Df Model:                            7\n",
       "Date:                Tue, 08 Feb 2022   Pseudo R-squ.:                 0.05922\n",
       "Time:                        15:44:27   Log-Likelihood:                -467.33\n",
       "converged:                       True   LL-Null:                       -496.74\n",
       "Covariance Type:            nonrobust   LLR p-value:                 2.583e-10\n",
       "============================================================================================\n",
       "                               coef    std err          z      P>|z|      [0.025      0.975]\n",
       "--------------------------------------------------------------------------------------------\n",
       "Pregnancies                  0.1284      0.029      4.484      0.000       0.072       0.185\n",
       "Glucose                      0.0129      0.003      4.757      0.000       0.008       0.018\n",
       "BloodPressure               -0.0303      0.005     -6.481      0.000      -0.039      -0.021\n",
       "SkinThickness                0.0002      0.006      0.032      0.974      -0.012       0.012\n",
       "Insulin                      0.0007      0.001      0.942      0.346      -0.001       0.002\n",
       "BMI                         -0.0048      0.011     -0.449      0.653      -0.026       0.016\n",
       "DiabetesPedigreeFunction     0.3203      0.240      1.335      0.182      -0.150       0.790\n",
       "Age                         -0.0156      0.008     -1.852      0.064      -0.032       0.001\n",
       "============================================================================================\n",
       "\"\"\""
      ]
     },
     "execution_count": 6,
     "metadata": {},
     "output_type": "execute_result"
    }
   ],
   "source": [
    "\n",
    "\n",
    "loj = sm.Logit(y, X)\n",
    "loj_model= loj.fit()\n",
    "loj_model.summary()"
   ]
  },
  {
   "cell_type": "code",
   "execution_count": 9,
   "id": "19d859fb-2611-4b48-96a7-95436508c40f",
   "metadata": {},
   "outputs": [
    {
     "data": {
      "text/plain": [
       "array([-5.88679617])"
      ]
     },
     "execution_count": 9,
     "metadata": {},
     "output_type": "execute_result"
    }
   ],
   "source": [
    "from sklearn.linear_model import LogisticRegression\n",
    "loj = LogisticRegression(solver = \"liblinear\")\n",
    "loj_model = loj.fit(X,y)\n",
    "loj_model.intercept_"
   ]
  },
  {
   "cell_type": "code",
   "execution_count": 10,
   "id": "c6050556-c4c0-411b-8076-4ed0baf06328",
   "metadata": {},
   "outputs": [
    {
     "data": {
      "text/plain": [
       "array([[ 1.16994476e-01,  2.83733435e-02, -1.68981359e-02,\n",
       "         7.55145090e-04, -6.41407258e-04,  5.97201268e-02,\n",
       "         6.76128123e-01,  7.23498971e-03]])"
      ]
     },
     "execution_count": 10,
     "metadata": {},
     "output_type": "execute_result"
    }
   ],
   "source": [
    "loj_model.coef_"
   ]
  },
  {
   "cell_type": "code",
   "execution_count": 11,
   "id": "90370895-cb33-449b-9aed-8ce71b3909e7",
   "metadata": {},
   "outputs": [
    {
     "data": {
      "text/plain": [
       "array([[448,  52],\n",
       "       [121, 147]], dtype=int64)"
      ]
     },
     "execution_count": 11,
     "metadata": {},
     "output_type": "execute_result"
    }
   ],
   "source": [
    "y_pred = loj_model.predict(X)\n",
    "confusion_matrix(y, y_pred)"
   ]
  },
  {
   "cell_type": "code",
   "execution_count": 12,
   "id": "6006c2f6-0614-4022-8f0a-0f748741e0dc",
   "metadata": {},
   "outputs": [
    {
     "data": {
      "text/plain": [
       "0.7747395833333334"
      ]
     },
     "execution_count": 12,
     "metadata": {},
     "output_type": "execute_result"
    }
   ],
   "source": [
    "accuracy_score(y, y_pred)"
   ]
  },
  {
   "cell_type": "code",
   "execution_count": 13,
   "id": "487a4119-0ff3-4070-9b39-0b891c994d18",
   "metadata": {},
   "outputs": [
    {
     "data": {
      "text/plain": [
       "array([1, 0, 1, 0, 1, 0, 0, 1, 1, 0], dtype=int64)"
      ]
     },
     "execution_count": 13,
     "metadata": {},
     "output_type": "execute_result"
    }
   ],
   "source": [
    "loj_model.predict(X)[0:10]"
   ]
  },
  {
   "cell_type": "code",
   "execution_count": 14,
   "id": "56e97bc3-d972-4d17-98ff-9712d5e69249",
   "metadata": {},
   "outputs": [
    {
     "data": {
      "text/plain": [
       "array([[0.3505852 , 0.6494148 ],\n",
       "       [0.91692518, 0.08307482],\n",
       "       [0.22489628, 0.77510372],\n",
       "       [0.92127453, 0.07872547],\n",
       "       [0.16759435, 0.83240565],\n",
       "       [0.79886109, 0.20113891],\n",
       "       [0.8800353 , 0.1199647 ],\n",
       "       [0.27795677, 0.72204323],\n",
       "       [0.32053464, 0.67946536],\n",
       "       [0.92264521, 0.07735479]])"
      ]
     },
     "execution_count": 14,
     "metadata": {},
     "output_type": "execute_result"
    }
   ],
   "source": [
    "loj_model.predict_proba(X)[0:10][:,0:2]"
   ]
  },
  {
   "cell_type": "code",
   "execution_count": 16,
   "id": "84844db7-b6c7-490b-aaff-84be215311b7",
   "metadata": {},
   "outputs": [
    {
     "data": {
      "image/png": "[encoded data removed]",
      "text/plain": [
       "<Figure size 432x288 with 1 Axes>"
      ]
     },
     "metadata": {
      "needs_background": "light"
     },
     "output_type": "display_data"
    }
   ],
   "source": [
    "logit_roc_auc = roc_auc_score(y, loj_model.predict(X))\n",
    "\n",
    "fpr, tpr, thresholds = roc_curve(y, loj_model.predict_proba(X)[:,1])\n",
    "plt.figure()\n",
    "plt.plot(fpr, tpr, label='AUC (area = %0.2f)' % logit_roc_auc)\n",
    "plt.plot([0, 1], [0, 1],'r--')\n",
    "plt.xlim([0.0, 1.0])\n",
    "plt.ylim([0.0, 1.05])\n",
    "plt.xlabel('False Positive Rate')\n",
    "plt.ylabel('True Positive Rate')\n",
    "plt.title('ROC')\n",
    "plt.show()"
   ]
  },
  {
   "cell_type": "code",
   "execution_count": null,
   "id": "d45211d7-1c18-4319-ba7c-de712903fabf",
   "metadata": {},
   "outputs": [],
   "source": [
    "\n"
   ]
  },
  {
   "cell_type": "code",
   "execution_count": 18,
   "id": "293c8402-df46-47f5-a827-eda13c0bb9db",
   "metadata": {},
   "outputs": [
    {
     "data": {
      "text/plain": [
       "LogisticRegression(solver='liblinear')"
      ]
     },
     "execution_count": 18,
     "metadata": {},
     "output_type": "execute_result"
    }
   ],
   "source": [
    "loj = LogisticRegression(solver = \"liblinear\")\n",
    "loj_model = loj.fit(X_train,y_train)\n",
    "loj_model"
   ]
  },
  {
   "cell_type": "code",
   "execution_count": 19,
   "id": "ac566adc-d1b4-4a10-aae9-be04f1f68cd5",
   "metadata": {},
   "outputs": [
    {
     "data": {
      "text/plain": [
       "0.7532467532467533"
      ]
     },
     "execution_count": 19,
     "metadata": {},
     "output_type": "execute_result"
    }
   ],
   "source": [
    "accuracy_score(y_test, loj_model.predict(X_test))"
   ]
  },
  {
   "cell_type": "code",
   "execution_count": 21,
   "id": "15bc983f-d479-4327-9826-5c51e9a27c55",
   "metadata": {},
   "outputs": [
    {
     "data": {
      "text/plain": [
       "0.7704710144927536"
      ]
     },
     "execution_count": 21,
     "metadata": {},
     "output_type": "execute_result"
    }
   ],
   "source": [
    "cross_val_score(loj_model, X_test, y_test, cv = 10).mean()"
   ]
  },
  {
   "cell_type": "code",
   "execution_count": 22,
   "id": "8dbf5092-877e-425c-91a7-870e48d4eee4",
   "metadata": {},
   "outputs": [
    {
     "data": {
      "text/plain": [
       "array([0.79166667, 0.82608696, 0.73913043, 0.82608696, 0.73913043,\n",
       "       0.91304348, 0.73913043, 0.65217391, 0.65217391, 0.82608696])"
      ]
     },
     "execution_count": 22,
     "metadata": {},
     "output_type": "execute_result"
    }
   ],
   "source": [
    "cross_val_score(loj_model, X_test, y_test, cv = 10)"
   ]
  },
  {
   "cell_type": "code",
   "execution_count": 23,
   "id": "4bd72568-3989-4c6d-b782-b9d9381f9fa0",
   "metadata": {},
   "outputs": [],
   "source": [
    "from sklearn.naive_bayes import GaussianNB\n"
   ]
  },
  {
   "cell_type": "code",
   "execution_count": 24,
   "id": "61599a9b-040d-4aa7-acf0-35025af4a8f6",
   "metadata": {},
   "outputs": [
    {
     "data": {
      "text/plain": [
       "GaussianNB()"
      ]
     },
     "execution_count": 24,
     "metadata": {},
     "output_type": "execute_result"
    }
   ],
   "source": [
    "nb = GaussianNB()\n",
    "nb_model = nb.fit(X_train, y_train)\n",
    "nb_model"
   ]
  },
  {
   "cell_type": "code",
   "execution_count": 25,
   "id": "6db30527-be76-467d-a5b7-45392ec654b8",
   "metadata": {},
   "outputs": [
    {
     "data": {
      "text/plain": [
       "0.7445887445887446"
      ]
     },
     "execution_count": 25,
     "metadata": {},
     "output_type": "execute_result"
    }
   ],
   "source": [
    "y_pred = nb_model.predict(X_test)\n",
    "accuracy_score(y_test, y_pred)"
   ]
  },
  {
   "cell_type": "code",
   "execution_count": 28,
   "id": "d78a7057-1aa0-40c3-a8a9-e1e4d00d49e7",
   "metadata": {},
   "outputs": [
    {
     "data": {
      "text/plain": [
       "0.775"
      ]
     },
     "execution_count": 28,
     "metadata": {},
     "output_type": "execute_result"
    }
   ],
   "source": [
    "cross_val_score(nb_model, X_test, y_test, cv = 10).mean()"
   ]
  },
  {
   "cell_type": "code",
   "execution_count": 11,
   "id": "aa0ea018-19f6-4478-a88e-65656985c9c1",
   "metadata": {},
   "outputs": [
    {
     "data": {
      "text/plain": [
       "KNeighborsClassifier()"
      ]
     },
     "execution_count": 11,
     "metadata": {},
     "output_type": "execute_result"
    }
   ],
   "source": [
    "knn = KNeighborsClassifier()\n",
    "knn_model = knn.fit(X_train, y_train)\n",
    "knn_model"
   ]
  },
  {
   "cell_type": "code",
   "execution_count": 14,
   "id": "50f7a550-c28e-4b71-ad3f-46aeaed4f2dd",
   "metadata": {},
   "outputs": [
    {
     "data": {
      "text/plain": [
       "0.6883116883116883"
      ]
     },
     "execution_count": 14,
     "metadata": {},
     "output_type": "execute_result"
    }
   ],
   "source": [
    "y_pred = knn_model.predict(X_test)\n",
    "accuracy_score(y_test, y_pred)"
   ]
  },
  {
   "cell_type": "code",
   "execution_count": 16,
   "id": "1e0ab748-99c6-490b-8542-9b8a5a888ed6",
   "metadata": {},
   "outputs": [
    {
     "name": "stdout",
     "output_type": "stream",
     "text": [
      "              precision    recall  f1-score   support\n",
      "\n",
      "           0       0.77      0.75      0.76       151\n",
      "           1       0.55      0.56      0.56        80\n",
      "\n",
      "    accuracy                           0.69       231\n",
      "   macro avg       0.66      0.66      0.66       231\n",
      "weighted avg       0.69      0.69      0.69       231\n",
      "\n"
     ]
    }
   ],
   "source": [
    "print(classification_report(y_test, y_pred))"
   ]
  },
  {
   "cell_type": "code",
   "execution_count": 17,
   "id": "858247ab-aae4-4590-b4b8-9ea1b21e4fd5",
   "metadata": {},
   "outputs": [
    {
     "name": "stdout",
     "output_type": "stream",
     "text": [
      "Best Score:0.748637316561845\n",
      "Best Parameters: {'n_neighbors': 11}\n"
     ]
    }
   ],
   "source": [
    "knn_params = {\"n_neighbors\": np.arange(1,50)}\n",
    "knn = KNeighborsClassifier()\n",
    "knn_cv = GridSearchCV(knn, knn_params, cv=10)\n",
    "knn_cv.fit(X_train, y_train)\n",
    "print(\"Best Score:\" + str(knn_cv.best_score_))\n",
    "print(\"Best Parameters: \" + str(knn_cv.best_params_))"
   ]
  },
  {
   "cell_type": "code",
   "execution_count": 18,
   "id": "ace41f34-4cbf-4f66-9f58-c4fbee78c0a6",
   "metadata": {},
   "outputs": [],
   "source": [
    "svm_model = SVC(kernel = \"linear\").fit(X_train, y_train)"
   ]
  },
  {
   "cell_type": "code",
   "execution_count": 19,
   "id": "bec7d7f2-7c34-4d66-99c8-d9c74dcb2d32",
   "metadata": {},
   "outputs": [
    {
     "data": {
      "text/plain": [
       "0.7445887445887446"
      ]
     },
     "execution_count": 19,
     "metadata": {},
     "output_type": "execute_result"
    }
   ],
   "source": [
    "y_pred = svm_model.predict(X_test)\n",
    "accuracy_score(y_test, y_pred)"
   ]
  },
  {
   "cell_type": "code",
   "execution_count": 20,
   "id": "f8bd060b-0656-4336-aaf3-ea7dda11a600",
   "metadata": {},
   "outputs": [
    {
     "name": "stdout",
     "output_type": "stream",
     "text": [
      "Fitting 10 folds for each of 9 candidates, totalling 90 fits\n",
      "Best Parameters {'C': 5}\n"
     ]
    }
   ],
   "source": [
    "svc_params = {\"C\": np.arange(1,10)}\n",
    "\n",
    "svc = SVC(kernel = \"linear\")\n",
    "\n",
    "svc_cv_model = GridSearchCV(svc,svc_params, \n",
    "                            cv = 10, \n",
    "                            n_jobs = -1, \n",
    "                            verbose = 2 )\n",
    "\n",
    "svc_cv_model.fit(X_train, y_train)\n",
    "\n",
    "print(\"Best Parameters \" + str(svc_cv_model.best_params_))"
   ]
  },
  {
   "cell_type": "code",
   "execution_count": 21,
   "id": "fd5e2970-2f79-494d-968a-c5d7de878af4",
   "metadata": {},
   "outputs": [
    {
     "data": {
      "text/plain": [
       "0.7445887445887446"
      ]
     },
     "execution_count": 21,
     "metadata": {},
     "output_type": "execute_result"
    }
   ],
   "source": [
    "svc_tuned = SVC(kernel = \"linear\", C = 5).fit(X_train, y_train)\n",
    "y_pred = svc_tuned.predict(X_test)\n",
    "accuracy_score(y_test, y_pred)"
   ]
  },
  {
   "cell_type": "code",
   "execution_count": 13,
   "id": "44de8cfc-0ae4-4db5-a3e6-4b498abdd241",
   "metadata": {},
   "outputs": [
    {
     "data": {
      "text/plain": [
       "0.7359307359307359"
      ]
     },
     "execution_count": 13,
     "metadata": {},
     "output_type": "execute_result"
    }
   ],
   "source": [
    "svc_model = SVC(kernel = \"rbf\").fit(X_train, y_train)\n",
    "y_pred = svc_model.predict(X_test)\n",
    "accuracy_score(y_test, y_pred)\n"
   ]
  },
  {
   "cell_type": "code",
   "execution_count": 5,
   "id": "2b12e840-b751-4b58-99d0-ecd094cb4d56",
   "metadata": {},
   "outputs": [
    {
     "name": "stdout",
     "output_type": "stream",
     "text": [
      "Fitting 10 folds for each of 64 candidates, totalling 640 fits\n",
      "Best Params: {'C': 10, 'gamma': 0.0001}\n"
     ]
    },
    {
     "data": {
      "text/plain": [
       "0.7359307359307359"
      ]
     },
     "execution_count": 5,
     "metadata": {},
     "output_type": "execute_result"
    }
   ],
   "source": [
    "svc_params = {\"C\": [0.0001, 0.001, 0.1, 1, 5, 10 ,50 ,100],\n",
    "             \"gamma\": [0.0001, 0.001, 0.1, 1, 5, 10 ,50 ,100]}\n",
    "\n",
    "svc = SVC()\n",
    "svc_cv_model = GridSearchCV(svc, svc_params, \n",
    "                         cv = 10, \n",
    "                         n_jobs = -1,\n",
    "                         verbose = 2)\n",
    "\n",
    "svc_cv_model.fit(X_train, y_train)\n",
    "print(\"Best Params: \" + str(svc_cv_model.best_params_))\n",
    "svc_tuned = SVC(C = 10, gamma = 0.0001).fit(X_train, y_train)\n",
    "y_pred = svc_tuned.predict(X_test)\n",
    "accuracy_score(y_test, y_pred)"
   ]
  },
  {
   "cell_type": "code",
   "execution_count": 19,
   "id": "85ca4fee-12b3-4bde-8f75-96c2de7b6ba5",
   "metadata": {},
   "outputs": [],
   "source": [
    "\n",
    "import inspect\n",
    "\n",
    "def get_default_args(func):\n",
    "    signature = inspect.signature(func)\n",
    "    return {\n",
    "        k: v.default\n",
    "        for k, v in signature.parameters.items()\n",
    "        if v.default is not inspect.Parameter.empty\n",
    "    }\n",
    "\n"
   ]
  },
  {
   "cell_type": "code",
   "execution_count": null,
   "id": "006284a0-bf93-40fc-833a-87a4f0dae151",
   "metadata": {},
   "outputs": [],
   "source": []
  },
  {
   "cell_type": "code",
   "execution_count": null,
   "id": "7af57f69-b782-49dd-ac61-e94b902032d3",
   "metadata": {},
   "outputs": [],
   "source": []
  },
  {
   "cell_type": "code",
   "execution_count": 9,
   "id": "e039c369-e7cf-4446-b747-14f8881d91a2",
   "metadata": {},
   "outputs": [
    {
     "data": {
      "text/plain": [
       "<bound method BaseSearchCV.score of GridSearchCV(cv=10, estimator=SVC(), n_jobs=-1,\n",
       "             param_grid={'C': [0.0001, 0.001, 0.1, 1, 5, 10, 50, 100],\n",
       "                         'gamma': [0.0001, 0.001, 0.1, 1, 5, 10, 50, 100]},\n",
       "             verbose=2)>"
      ]
     },
     "execution_count": 9,
     "metadata": {},
     "output_type": "execute_result"
    }
   ],
   "source": [
    "svc_cv_model.score"
   ]
  },
  {
   "cell_type": "code",
   "execution_count": 11,
   "id": "f13d3d20-47f4-4eef-b831-b45d5f2f205a",
   "metadata": {},
   "outputs": [
    {
     "data": {
      "text/plain": [
       "0.6974637681159421"
      ]
     },
     "execution_count": 11,
     "metadata": {},
     "output_type": "execute_result"
    }
   ],
   "source": [
    "cross_val_score(svc_tuned, X_test, y_test, cv = 10).mean()"
   ]
  },
  {
   "cell_type": "code",
   "execution_count": 12,
   "id": "a64c6df0-b69b-4fbb-9cd7-0c9dc792ee26",
   "metadata": {},
   "outputs": [
    {
     "data": {
      "text/plain": [
       "array([0.58333333, 0.82608696, 0.73913043, 0.7826087 , 0.69565217,\n",
       "       0.65217391, 0.7826087 , 0.65217391, 0.65217391, 0.60869565])"
      ]
     },
     "execution_count": 12,
     "metadata": {},
     "output_type": "execute_result"
    }
   ],
   "source": [
    "cross_val_score(svc_tuned, X_test, y_test, cv = 10)"
   ]
  },
  {
   "cell_type": "code",
   "execution_count": 22,
   "id": "98f64e8d-36b0-456f-bcd2-52216b8e2be3",
   "metadata": {},
   "outputs": [],
   "source": [
    "from sklearn.preprocessing import StandardScaler\n",
    "scaler = StandardScaler()\n",
    "scaler.fit(X_train)\n",
    "X_train_scaled = scaler.transform(X_train)\n",
    "X_test_scaled = scaler.transform(X_test)"
   ]
  },
  {
   "cell_type": "code",
   "execution_count": 23,
   "id": "b0add052-3944-4035-9d86-cd1e564ebf0f",
   "metadata": {},
   "outputs": [],
   "source": [
    "from sklearn.neural_network import MLPClassifier"
   ]
  },
  {
   "cell_type": "code",
   "execution_count": 24,
   "id": "67c06e58-9fa9-4f24-a52b-6c6bdd06ee98",
   "metadata": {},
   "outputs": [],
   "source": [
    "mlpc = MLPClassifier().fit(X_train_scaled, y_train)"
   ]
  },
  {
   "cell_type": "code",
   "execution_count": 28,
   "id": "64af2976-1dab-46cb-a5ae-0ff3afd32462",
   "metadata": {},
   "outputs": [],
   "source": [
    "y_pred1 = mlpc.predict(X_test_scaled)\n",
    "y_pred2 = svc_model.predict(X_test)"
   ]
  },
  {
   "cell_type": "code",
   "execution_count": 31,
   "id": "daec2414-acd9-420a-87d8-bca05d8d01a7",
   "metadata": {},
   "outputs": [
    {
     "data": {
      "text/plain": [
       "array([0, 0, 0, 0, 0, 1, 0, 1, 1, 1], dtype=int64)"
      ]
     },
     "execution_count": 31,
     "metadata": {},
     "output_type": "execute_result"
    }
   ],
   "source": [
    "y_pred1[0:10]"
   ]
  },
  {
   "cell_type": "code",
   "execution_count": 32,
   "id": "f66f4382-d969-441b-98bc-dccf0eeabdd6",
   "metadata": {},
   "outputs": [
    {
     "data": {
      "text/plain": [
       "array([0, 0, 0, 0, 0, 0, 0, 0, 1, 1], dtype=int64)"
      ]
     },
     "execution_count": 32,
     "metadata": {},
     "output_type": "execute_result"
    }
   ],
   "source": [
    "y_pred2[0:10]"
   ]
  },
  {
   "cell_type": "code",
   "execution_count": 33,
   "id": "5c80477b-ca89-4f41-8cd7-86f92cf0941f",
   "metadata": {},
   "outputs": [
    {
     "data": {
      "text/plain": [
       "0.7359307359307359"
      ]
     },
     "execution_count": 33,
     "metadata": {},
     "output_type": "execute_result"
    }
   ],
   "source": [
    "accuracy_score(y_test, y_pred1)"
   ]
  },
  {
   "cell_type": "code",
   "execution_count": 34,
   "id": "587a7cbf-608d-4c9f-934a-e70082d6e16e",
   "metadata": {},
   "outputs": [
    {
     "data": {
      "text/plain": [
       "0.7359307359307359"
      ]
     },
     "execution_count": 34,
     "metadata": {},
     "output_type": "execute_result"
    }
   ],
   "source": [
    "accuracy_score(y_test, y_pred2)"
   ]
  },
  {
   "cell_type": "code",
   "execution_count": 35,
   "id": "51ce066b-5e96-4517-ac9b-1e4cc38a0f4b",
   "metadata": {},
   "outputs": [
    {
     "data": {
      "text/plain": [
       "0.8701298701298701"
      ]
     },
     "execution_count": 35,
     "metadata": {},
     "output_type": "execute_result"
    }
   ],
   "source": [
    "accuracy_score(y_pred1, y_pred2)"
   ]
  },
  {
   "cell_type": "code",
   "execution_count": 37,
   "id": "6c846b19-9a7d-4cdc-9870-655104b210cd",
   "metadata": {},
   "outputs": [
    {
     "name": "stdout",
     "output_type": "stream",
     "text": [
      "              precision    recall  f1-score   support\n",
      "\n",
      "           0       0.80      0.79      0.80       151\n",
      "           1       0.62      0.62      0.62        80\n",
      "\n",
      "    accuracy                           0.74       231\n",
      "   macro avg       0.71      0.71      0.71       231\n",
      "weighted avg       0.74      0.74      0.74       231\n",
      "\n"
     ]
    }
   ],
   "source": [
    "print(classification_report(y_test, y_pred1))"
   ]
  },
  {
   "cell_type": "code",
   "execution_count": 38,
   "id": "15682f82-8932-48b5-844c-ba7b5b3b1047",
   "metadata": {},
   "outputs": [
    {
     "name": "stdout",
     "output_type": "stream",
     "text": [
      "              precision    recall  f1-score   support\n",
      "\n",
      "           0       0.76      0.87      0.81       151\n",
      "           1       0.66      0.49      0.56        80\n",
      "\n",
      "    accuracy                           0.74       231\n",
      "   macro avg       0.71      0.68      0.69       231\n",
      "weighted avg       0.73      0.74      0.72       231\n",
      "\n"
     ]
    }
   ],
   "source": [
    "print(classification_report(y_test, y_pred2))"
   ]
  },
  {
   "cell_type": "code",
   "execution_count": 39,
   "id": "31603b9f-c91d-4409-ada2-fca8560d066f",
   "metadata": {},
   "outputs": [
    {
     "name": "stdout",
     "output_type": "stream",
     "text": [
      "Fitting 10 folds for each of 180 candidates, totalling 1800 fits\n",
      "Best Param: {'activation': 'logistic', 'alpha': 0.0001, 'hidden_layer_sizes': (100, 100), 'solver': 'adam'}\n"
     ]
    }
   ],
   "source": [
    "mlpc_params = {\"alpha\": [0.1, 0.01, 0.02, 0.005, 0.0001,0.00001],\n",
    "              \"hidden_layer_sizes\": [(10,10,10),\n",
    "                                     (100,100,100),\n",
    "                                     (100,100),\n",
    "                                     (3,5), \n",
    "                                     (5, 3)],\n",
    "              \"solver\" : [\"lbfgs\",\"adam\",\"sgd\"],\n",
    "              \"activation\": [\"relu\",\"logistic\"]}\n",
    "\n",
    "mlpc = MLPClassifier()\n",
    "mlpc_cv_model = GridSearchCV(mlpc, mlpc_params, \n",
    "                         cv = 10, \n",
    "                         n_jobs = -1,\n",
    "                         verbose = 2)\n",
    "\n",
    "mlpc_cv_model.fit(X_train_scaled, y_train)\n",
    "print(\"Best Param: \" + str(mlpc_cv_model.best_params_))"
   ]
  },
  {
   "cell_type": "code",
   "execution_count": 40,
   "id": "4596d678-6f86-4458-b4d5-f77bc952ab0e",
   "metadata": {},
   "outputs": [
    {
     "data": {
      "text/plain": [
       "0.7402597402597403"
      ]
     },
     "execution_count": 40,
     "metadata": {},
     "output_type": "execute_result"
    }
   ],
   "source": [
    "mlpc_tuned = MLPClassifier(activation = \"logistic\", \n",
    "                           alpha = 0.1, \n",
    "                           hidden_layer_sizes = (100, 100, 100),\n",
    "                          solver = \"adam\")\n",
    "mlpc_tuned.fit(X_train_scaled, y_train)\n",
    "y_pred = mlpc_tuned.predict(X_test_scaled)\n",
    "accuracy_score(y_test, y_pred)"
   ]
  },
  {
   "cell_type": "code",
   "execution_count": 41,
   "id": "ffce6e0d-70fd-4cd7-8646-f3bfe7a46bd7",
   "metadata": {},
   "outputs": [
    {
     "data": {
      "text/plain": [
       "0.7316017316017316"
      ]
     },
     "execution_count": 41,
     "metadata": {},
     "output_type": "execute_result"
    }
   ],
   "source": [
    "mlpc_tuned = MLPClassifier(activation = \"logistic\", \n",
    "                           alpha = 0.0001, \n",
    "                           hidden_layer_sizes = (100,100),\n",
    "                          solver = \"adam\")\n",
    "mlpc_tuned.fit(X_train_scaled, y_train)\n",
    "y_pred = mlpc_tuned.predict(X_test_scaled)\n",
    "accuracy_score(y_test, y_pred)"
   ]
  },
  {
   "cell_type": "code",
   "execution_count": 42,
   "id": "e834e3d2-5ec9-4bbe-9e72-705cad97b3a8",
   "metadata": {},
   "outputs": [],
   "source": [
    "from sklearn.tree import DecisionTreeClassifier"
   ]
  },
  {
   "cell_type": "code",
   "execution_count": 43,
   "id": "23ecea05-509c-4bc1-849d-ce1bf3add1e1",
   "metadata": {},
   "outputs": [],
   "source": [
    "cart = DecisionTreeClassifier()\n",
    "cart_model = cart.fit(X_train, y_train)"
   ]
  },
  {
   "cell_type": "code",
   "execution_count": 44,
   "id": "f2d1ea70-eba7-482c-a8f1-57657301eed5",
   "metadata": {},
   "outputs": [],
   "source": [
    "from skompiler import skompile"
   ]
  },
  {
   "cell_type": "code",
   "execution_count": 45,
   "id": "edd0d95e-967a-485f-8c4a-82366f102c39",
   "metadata": {},
   "outputs": [
    {
     "data": {
      "text/plain": [
       "0.7012987012987013"
      ]
     },
     "execution_count": 45,
     "metadata": {},
     "output_type": "execute_result"
    }
   ],
   "source": [
    "y_pred = cart_model.predict(X_test)\n",
    "accuracy_score(y_test, y_pred)"
   ]
  },
  {
   "cell_type": "code",
   "execution_count": 47,
   "id": "c2f0dfa4-6e5e-4b55-a7f3-7d18cc1b567b",
   "metadata": {},
   "outputs": [],
   "source": [
    "#?cart_model"
   ]
  },
  {
   "cell_type": "code",
   "execution_count": 48,
   "id": "19cd5451-53c5-4af5-9279-92d40d5fdd5d",
   "metadata": {},
   "outputs": [
    {
     "name": "stdout",
     "output_type": "stream",
     "text": [
      "Fitting 10 folds for each of 432 candidates, totalling 4320 fits\n",
      "Best Param {'max_depth': 5, 'min_samples_split': 19}\n"
     ]
    }
   ],
   "source": [
    "cart_grid = {\"max_depth\": range(1,10),\n",
    "            \"min_samples_split\" : list(range(2,50)) }\n",
    "cart = tree.DecisionTreeClassifier()\n",
    "cart_cv = GridSearchCV(cart, cart_grid, cv = 10, n_jobs = -1, verbose = 2)\n",
    "cart_cv_model = cart_cv.fit(X_train, y_train)\n",
    "print(\"Best Param \" + str(cart_cv_model.best_params_))"
   ]
  },
  {
   "cell_type": "code",
   "execution_count": 49,
   "id": "ca59f21c-6586-4d5d-a3a9-a8c2ad69039b",
   "metadata": {},
   "outputs": [
    {
     "data": {
      "text/plain": [
       "0.7532467532467533"
      ]
     },
     "execution_count": 49,
     "metadata": {},
     "output_type": "execute_result"
    }
   ],
   "source": [
    "cart = tree.DecisionTreeClassifier(max_depth = 5, min_samples_split = 19)\n",
    "cart_tuned = cart.fit(X_train, y_train)\n",
    "y_pred = cart_tuned.predict(X_test)\n",
    "accuracy_score(y_test, y_pred)"
   ]
  },
  {
   "cell_type": "code",
   "execution_count": 50,
   "id": "b035ccbf-c010-4f0b-b73b-0231e08753c4",
   "metadata": {},
   "outputs": [
    {
     "data": {
      "text/plain": [
       "0.7445887445887446"
      ]
     },
     "execution_count": 50,
     "metadata": {},
     "output_type": "execute_result"
    }
   ],
   "source": [
    "from sklearn.ensemble import RandomForestClassifier\n",
    "rf_model = RandomForestClassifier().fit(X_train, y_train)\n",
    "y_pred = rf_model.predict(X_test)\n",
    "accuracy_score(y_test, y_pred)"
   ]
  },
  {
   "cell_type": "code",
   "execution_count": 51,
   "id": "d8362b5b-c902-4739-a250-ab91d3d3ea4b",
   "metadata": {},
   "outputs": [
    {
     "name": "stdout",
     "output_type": "stream",
     "text": [
      "Fitting 10 folds for each of 108 candidates, totalling 1080 fits\n",
      "Best Param: {'max_depth': 10, 'max_features': 5, 'min_samples_split': 5, 'n_estimators': 1000}\n"
     ]
    }
   ],
   "source": [
    "rf_params = {\"max_depth\": [2,5,8,10],\n",
    "            \"max_features\": [2,5,8],\n",
    "            \"n_estimators\": [10,500,1000],\n",
    "            \"min_samples_split\": [2,5,10]}\n",
    "rf_model = RandomForestClassifier()\n",
    "\n",
    "rf_cv_model = GridSearchCV(rf_model, \n",
    "                           rf_params, \n",
    "                           cv = 10, \n",
    "                           n_jobs = -1, \n",
    "                           verbose = 2) \n",
    "rf_cv_model.fit(X_train, y_train)\n",
    "print(\"Best Param: \" + str(rf_cv_model.best_params_))"
   ]
  },
  {
   "cell_type": "code",
   "execution_count": 52,
   "id": "86d8103b-532a-4668-94d5-a2769020d7b7",
   "metadata": {},
   "outputs": [
    {
     "data": {
      "text/plain": [
       "0.7532467532467533"
      ]
     },
     "execution_count": 52,
     "metadata": {},
     "output_type": "execute_result"
    }
   ],
   "source": [
    "rf_tuned = RandomForestClassifier(max_depth = 10, \n",
    "                                  max_features = 8, \n",
    "                                  min_samples_split = 10,\n",
    "                                  n_estimators = 1000)\n",
    "\n",
    "rf_tuned.fit(X_train, y_train)\n",
    "y_pred = rf_tuned.predict(X_test)\n",
    "accuracy_score(y_test, y_pred)"
   ]
  },
  {
   "cell_type": "code",
   "execution_count": 53,
   "id": "f690ecee-1337-4e9a-938b-fdb3c79921b4",
   "metadata": {},
   "outputs": [
    {
     "data": {
      "text/plain": [
       "0.7359307359307359"
      ]
     },
     "execution_count": 53,
     "metadata": {},
     "output_type": "execute_result"
    }
   ],
   "source": [
    "rf_tuned = RandomForestClassifier(max_depth = 10, \n",
    "                                  max_features = 5, \n",
    "                                  min_samples_split = 5,\n",
    "                                  n_estimators = 1000)\n",
    "\n",
    "rf_tuned.fit(X_train, y_train)\n",
    "y_pred = rf_tuned.predict(X_test)\n",
    "accuracy_score(y_test, y_pred)"
   ]
  },
  {
   "cell_type": "code",
   "execution_count": 54,
   "id": "61284d0d-e588-495d-bf8c-e3eab2805263",
   "metadata": {},
   "outputs": [
    {
     "data": {
      "text/plain": [
       "Text(0.5, 0, 'Importance Levels')"
      ]
     },
     "execution_count": 54,
     "metadata": {},
     "output_type": "execute_result"
    },
    {
     "data": {
      "image/png": "[encoded data removed]",
      "text/plain": [
       "<Figure size 432x288 with 1 Axes>"
      ]
     },
     "metadata": {
      "needs_background": "light"
     },
     "output_type": "display_data"
    }
   ],
   "source": [
    "Importance = pd.DataFrame({\"Importance\": rf_tuned.feature_importances_*100},\n",
    "                         index = X_train.columns)\n",
    "Importance.sort_values(by = \"Importance\", \n",
    "                       axis = 0, \n",
    "                       ascending = True).plot(kind =\"barh\", color = \"r\")\n",
    "\n",
    "plt.xlabel(\"Importance Levels\")"
   ]
  },
  {
   "cell_type": "code",
   "execution_count": 55,
   "id": "1143e526-2823-4398-af80-399218264d3d",
   "metadata": {},
   "outputs": [
    {
     "data": {
      "text/plain": [
       "0.7489177489177489"
      ]
     },
     "execution_count": 55,
     "metadata": {},
     "output_type": "execute_result"
    }
   ],
   "source": [
    "from sklearn.ensemble import GradientBoostingClassifier\n",
    "gbm_model = GradientBoostingClassifier().fit(X_train, y_train)\n",
    "y_pred = gbm_model.predict(X_test)\n",
    "accuracy_score(y_test, y_pred)"
   ]
  },
  {
   "cell_type": "code",
   "execution_count": 56,
   "id": "550032fd-415a-4d8f-97e1-00f3c22aa40f",
   "metadata": {},
   "outputs": [
    {
     "name": "stdout",
     "output_type": "stream",
     "text": [
      "Fitting 10 folds for each of 108 candidates, totalling 1080 fits\n",
      "Best Params{'learning_rate': 0.01, 'max_depth': 5, 'min_samples_split': 2, 'n_estimators': 500}\n"
     ]
    }
   ],
   "source": [
    "gbm_params = {\"learning_rate\" : [0.001, 0.01, 0.1, 0.05],\n",
    "             \"n_estimators\": [100,500,100],\n",
    "             \"max_depth\": [3,5,10],\n",
    "             \"min_samples_split\": [2,5,10]}\n",
    "gbm = GradientBoostingClassifier()\n",
    "\n",
    "gbm_cv = GridSearchCV(gbm, gbm_params, cv = 10, n_jobs = -1, verbose = 2)\n",
    "gbm_cv.fit(X_train, y_train)\n",
    "print(\"Best Params\" + str(gbm_cv.best_params_))"
   ]
  },
  {
   "cell_type": "code",
   "execution_count": 57,
   "id": "f170511d-11ac-48b4-8202-8c2a8f205dbd",
   "metadata": {},
   "outputs": [
    {
     "data": {
      "text/plain": [
       "0.7489177489177489"
      ]
     },
     "execution_count": 57,
     "metadata": {},
     "output_type": "execute_result"
    }
   ],
   "source": [
    "gbm = GradientBoostingClassifier(learning_rate = 0.01, \n",
    "                                 max_depth = 3,\n",
    "                                min_samples_split = 5,\n",
    "                                n_estimators = 500)\n",
    "gbm_tuned =  gbm.fit(X_train,y_train)\n",
    "y_pred = gbm_tuned.predict(X_test)\n",
    "accuracy_score(y_test, y_pred)"
   ]
  },
  {
   "cell_type": "code",
   "execution_count": 58,
   "id": "a50d155d-d62c-429a-b8d5-f370c7940344",
   "metadata": {},
   "outputs": [
    {
     "data": {
      "text/plain": [
       "0.7316017316017316"
      ]
     },
     "execution_count": 58,
     "metadata": {},
     "output_type": "execute_result"
    }
   ],
   "source": [
    "gbm = GradientBoostingClassifier(learning_rate = 0.01, \n",
    "                                 max_depth = 5,\n",
    "                                min_samples_split = 2,\n",
    "                                n_estimators = 500)\n",
    "gbm_tuned =  gbm.fit(X_train,y_train)\n",
    "y_pred = gbm_tuned.predict(X_test)\n",
    "accuracy_score(y_test, y_pred)"
   ]
  },
  {
   "cell_type": "code",
   "execution_count": 59,
   "id": "d04434d3-f6d3-421e-b334-237ea44bca1e",
   "metadata": {},
   "outputs": [],
   "source": [
    "from xgboost import XGBClassifier\n"
   ]
  },
  {
   "cell_type": "code",
   "execution_count": 60,
   "id": "5ac4fb98-5d93-45aa-b34e-7eed97fcc330",
   "metadata": {},
   "outputs": [
    {
     "name": "stdout",
     "output_type": "stream",
     "text": [
      "[15:54:45] WARNING: C:/Users/Administrator/workspace/xgboost-win64_release_1.5.1/src/learner.cc:1115: Starting in XGBoost 1.3.0, the default evaluation metric used with the objective 'binary:logistic' was changed from 'error' to 'logloss'. Explicitly set eval_metric if you'd like to restore the old behavior.\n"
     ]
    },
    {
     "data": {
      "text/plain": [
       "0.7359307359307359"
      ]
     },
     "execution_count": 60,
     "metadata": {},
     "output_type": "execute_result"
    }
   ],
   "source": [
    "xgb_model = XGBClassifier().fit(X_train, y_train)\n",
    "y_pred = xgb_model.predict(X_test)\n",
    "accuracy_score(y_test, y_pred)"
   ]
  },
  {
   "cell_type": "code",
   "execution_count": 61,
   "id": "59df5503-ebd2-4f08-8ead-95f15929a6e7",
   "metadata": {},
   "outputs": [
    {
     "name": "stdout",
     "output_type": "stream",
     "text": [
      "Fitting 10 folds for each of 576 candidates, totalling 5760 fits\n"
     ]
    },
    {
     "ename": "KeyboardInterrupt",
     "evalue": "",
     "output_type": "error",
     "traceback": [
      "\u001b[1;31m---------------------------------------------------------------------------\u001b[0m",
      "\u001b[1;31mKeyboardInterrupt\u001b[0m                         Traceback (most recent call last)",
      "\u001b[1;32m~\\AppData\\Local\\Temp/ipykernel_11972/1916959376.py\u001b[0m in \u001b[0;36m<module>\u001b[1;34m\u001b[0m\n\u001b[0;32m      8\u001b[0m \u001b[1;33m\u001b[0m\u001b[0m\n\u001b[0;32m      9\u001b[0m \u001b[0mxgb_cv_model\u001b[0m \u001b[1;33m=\u001b[0m \u001b[0mGridSearchCV\u001b[0m\u001b[1;33m(\u001b[0m\u001b[0mxgb\u001b[0m\u001b[1;33m,\u001b[0m \u001b[0mxgb_params\u001b[0m\u001b[1;33m,\u001b[0m \u001b[0mcv\u001b[0m \u001b[1;33m=\u001b[0m \u001b[1;36m10\u001b[0m\u001b[1;33m,\u001b[0m \u001b[0mn_jobs\u001b[0m \u001b[1;33m=\u001b[0m \u001b[1;33m-\u001b[0m\u001b[1;36m1\u001b[0m\u001b[1;33m,\u001b[0m \u001b[0mverbose\u001b[0m \u001b[1;33m=\u001b[0m \u001b[1;36m2\u001b[0m\u001b[1;33m)\u001b[0m\u001b[1;33m\u001b[0m\u001b[1;33m\u001b[0m\u001b[0m\n\u001b[1;32m---> 10\u001b[1;33m \u001b[0mxgb_cv_model\u001b[0m\u001b[1;33m.\u001b[0m\u001b[0mfit\u001b[0m\u001b[1;33m(\u001b[0m\u001b[0mX_train\u001b[0m\u001b[1;33m,\u001b[0m \u001b[0my_train\u001b[0m\u001b[1;33m)\u001b[0m\u001b[1;33m\u001b[0m\u001b[1;33m\u001b[0m\u001b[0m\n\u001b[0m\u001b[0;32m     11\u001b[0m \u001b[0mxgb_cv_model\u001b[0m\u001b[1;33m.\u001b[0m\u001b[0mbest_params_\u001b[0m\u001b[1;33m\u001b[0m\u001b[1;33m\u001b[0m\u001b[0m\n",
      "\u001b[1;32m~\\Anaconda3\\lib\\site-packages\\sklearn\\utils\\validation.py\u001b[0m in \u001b[0;36minner_f\u001b[1;34m(*args, **kwargs)\u001b[0m\n\u001b[0;32m     61\u001b[0m             \u001b[0mextra_args\u001b[0m \u001b[1;33m=\u001b[0m \u001b[0mlen\u001b[0m\u001b[1;33m(\u001b[0m\u001b[0margs\u001b[0m\u001b[1;33m)\u001b[0m \u001b[1;33m-\u001b[0m \u001b[0mlen\u001b[0m\u001b[1;33m(\u001b[0m\u001b[0mall_args\u001b[0m\u001b[1;33m)\u001b[0m\u001b[1;33m\u001b[0m\u001b[1;33m\u001b[0m\u001b[0m\n\u001b[0;32m     62\u001b[0m             \u001b[1;32mif\u001b[0m \u001b[0mextra_args\u001b[0m \u001b[1;33m<=\u001b[0m \u001b[1;36m0\u001b[0m\u001b[1;33m:\u001b[0m\u001b[1;33m\u001b[0m\u001b[1;33m\u001b[0m\u001b[0m\n\u001b[1;32m---> 63\u001b[1;33m                 \u001b[1;32mreturn\u001b[0m \u001b[0mf\u001b[0m\u001b[1;33m(\u001b[0m\u001b[1;33m*\u001b[0m\u001b[0margs\u001b[0m\u001b[1;33m,\u001b[0m \u001b[1;33m**\u001b[0m\u001b[0mkwargs\u001b[0m\u001b[1;33m)\u001b[0m\u001b[1;33m\u001b[0m\u001b[1;33m\u001b[0m\u001b[0m\n\u001b[0m\u001b[0;32m     64\u001b[0m \u001b[1;33m\u001b[0m\u001b[0m\n\u001b[0;32m     65\u001b[0m             \u001b[1;31m# extra_args > 0\u001b[0m\u001b[1;33m\u001b[0m\u001b[1;33m\u001b[0m\u001b[0m\n",
      "\u001b[1;32m~\\Anaconda3\\lib\\site-packages\\sklearn\\model_selection\\_search.py\u001b[0m in \u001b[0;36mfit\u001b[1;34m(self, X, y, groups, **fit_params)\u001b[0m\n\u001b[0;32m    839\u001b[0m                 \u001b[1;32mreturn\u001b[0m \u001b[0mresults\u001b[0m\u001b[1;33m\u001b[0m\u001b[1;33m\u001b[0m\u001b[0m\n\u001b[0;32m    840\u001b[0m \u001b[1;33m\u001b[0m\u001b[0m\n\u001b[1;32m--> 841\u001b[1;33m             \u001b[0mself\u001b[0m\u001b[1;33m.\u001b[0m\u001b[0m_run_search\u001b[0m\u001b[1;33m(\u001b[0m\u001b[0mevaluate_candidates\u001b[0m\u001b[1;33m)\u001b[0m\u001b[1;33m\u001b[0m\u001b[1;33m\u001b[0m\u001b[0m\n\u001b[0m\u001b[0;32m    842\u001b[0m \u001b[1;33m\u001b[0m\u001b[0m\n\u001b[0;32m    843\u001b[0m             \u001b[1;31m# multimetric is determined here because in the case of a callable\u001b[0m\u001b[1;33m\u001b[0m\u001b[1;33m\u001b[0m\u001b[0m\n",
      "\u001b[1;32m~\\Anaconda3\\lib\\site-packages\\sklearn\\model_selection\\_search.py\u001b[0m in \u001b[0;36m_run_search\u001b[1;34m(self, evaluate_candidates)\u001b[0m\n\u001b[0;32m   1294\u001b[0m     \u001b[1;32mdef\u001b[0m \u001b[0m_run_search\u001b[0m\u001b[1;33m(\u001b[0m\u001b[0mself\u001b[0m\u001b[1;33m,\u001b[0m \u001b[0mevaluate_candidates\u001b[0m\u001b[1;33m)\u001b[0m\u001b[1;33m:\u001b[0m\u001b[1;33m\u001b[0m\u001b[1;33m\u001b[0m\u001b[0m\n\u001b[0;32m   1295\u001b[0m         \u001b[1;34m\"\"\"Search all candidates in param_grid\"\"\"\u001b[0m\u001b[1;33m\u001b[0m\u001b[1;33m\u001b[0m\u001b[0m\n\u001b[1;32m-> 1296\u001b[1;33m         \u001b[0mevaluate_candidates\u001b[0m\u001b[1;33m(\u001b[0m\u001b[0mParameterGrid\u001b[0m\u001b[1;33m(\u001b[0m\u001b[0mself\u001b[0m\u001b[1;33m.\u001b[0m\u001b[0mparam_grid\u001b[0m\u001b[1;33m)\u001b[0m\u001b[1;33m)\u001b[0m\u001b[1;33m\u001b[0m\u001b[1;33m\u001b[0m\u001b[0m\n\u001b[0m\u001b[0;32m   1297\u001b[0m \u001b[1;33m\u001b[0m\u001b[0m\n\u001b[0;32m   1298\u001b[0m \u001b[1;33m\u001b[0m\u001b[0m\n",
      "\u001b[1;32m~\\Anaconda3\\lib\\site-packages\\sklearn\\model_selection\\_search.py\u001b[0m in \u001b[0;36mevaluate_candidates\u001b[1;34m(candidate_params, cv, more_results)\u001b[0m\n\u001b[0;32m    793\u001b[0m                               n_splits, n_candidates, n_candidates * n_splits))\n\u001b[0;32m    794\u001b[0m \u001b[1;33m\u001b[0m\u001b[0m\n\u001b[1;32m--> 795\u001b[1;33m                 out = parallel(delayed(_fit_and_score)(clone(base_estimator),\n\u001b[0m\u001b[0;32m    796\u001b[0m                                                        \u001b[0mX\u001b[0m\u001b[1;33m,\u001b[0m \u001b[0my\u001b[0m\u001b[1;33m,\u001b[0m\u001b[1;33m\u001b[0m\u001b[1;33m\u001b[0m\u001b[0m\n\u001b[0;32m    797\u001b[0m                                                        \u001b[0mtrain\u001b[0m\u001b[1;33m=\u001b[0m\u001b[0mtrain\u001b[0m\u001b[1;33m,\u001b[0m \u001b[0mtest\u001b[0m\u001b[1;33m=\u001b[0m\u001b[0mtest\u001b[0m\u001b[1;33m,\u001b[0m\u001b[1;33m\u001b[0m\u001b[1;33m\u001b[0m\u001b[0m\n",
      "\u001b[1;32m~\\Anaconda3\\lib\\site-packages\\joblib\\parallel.py\u001b[0m in \u001b[0;36m__call__\u001b[1;34m(self, iterable)\u001b[0m\n\u001b[0;32m   1054\u001b[0m \u001b[1;33m\u001b[0m\u001b[0m\n\u001b[0;32m   1055\u001b[0m             \u001b[1;32mwith\u001b[0m \u001b[0mself\u001b[0m\u001b[1;33m.\u001b[0m\u001b[0m_backend\u001b[0m\u001b[1;33m.\u001b[0m\u001b[0mretrieval_context\u001b[0m\u001b[1;33m(\u001b[0m\u001b[1;33m)\u001b[0m\u001b[1;33m:\u001b[0m\u001b[1;33m\u001b[0m\u001b[1;33m\u001b[0m\u001b[0m\n\u001b[1;32m-> 1056\u001b[1;33m                 \u001b[0mself\u001b[0m\u001b[1;33m.\u001b[0m\u001b[0mretrieve\u001b[0m\u001b[1;33m(\u001b[0m\u001b[1;33m)\u001b[0m\u001b[1;33m\u001b[0m\u001b[1;33m\u001b[0m\u001b[0m\n\u001b[0m\u001b[0;32m   1057\u001b[0m             \u001b[1;31m# Make sure that we get a last message telling us we are done\u001b[0m\u001b[1;33m\u001b[0m\u001b[1;33m\u001b[0m\u001b[0m\n\u001b[0;32m   1058\u001b[0m             \u001b[0melapsed_time\u001b[0m \u001b[1;33m=\u001b[0m \u001b[0mtime\u001b[0m\u001b[1;33m.\u001b[0m\u001b[0mtime\u001b[0m\u001b[1;33m(\u001b[0m\u001b[1;33m)\u001b[0m \u001b[1;33m-\u001b[0m \u001b[0mself\u001b[0m\u001b[1;33m.\u001b[0m\u001b[0m_start_time\u001b[0m\u001b[1;33m\u001b[0m\u001b[1;33m\u001b[0m\u001b[0m\n",
      "\u001b[1;32m~\\Anaconda3\\lib\\site-packages\\joblib\\parallel.py\u001b[0m in \u001b[0;36mretrieve\u001b[1;34m(self)\u001b[0m\n\u001b[0;32m    933\u001b[0m             \u001b[1;32mtry\u001b[0m\u001b[1;33m:\u001b[0m\u001b[1;33m\u001b[0m\u001b[1;33m\u001b[0m\u001b[0m\n\u001b[0;32m    934\u001b[0m                 \u001b[1;32mif\u001b[0m \u001b[0mgetattr\u001b[0m\u001b[1;33m(\u001b[0m\u001b[0mself\u001b[0m\u001b[1;33m.\u001b[0m\u001b[0m_backend\u001b[0m\u001b[1;33m,\u001b[0m \u001b[1;34m'supports_timeout'\u001b[0m\u001b[1;33m,\u001b[0m \u001b[1;32mFalse\u001b[0m\u001b[1;33m)\u001b[0m\u001b[1;33m:\u001b[0m\u001b[1;33m\u001b[0m\u001b[1;33m\u001b[0m\u001b[0m\n\u001b[1;32m--> 935\u001b[1;33m                     \u001b[0mself\u001b[0m\u001b[1;33m.\u001b[0m\u001b[0m_output\u001b[0m\u001b[1;33m.\u001b[0m\u001b[0mextend\u001b[0m\u001b[1;33m(\u001b[0m\u001b[0mjob\u001b[0m\u001b[1;33m.\u001b[0m\u001b[0mget\u001b[0m\u001b[1;33m(\u001b[0m\u001b[0mtimeout\u001b[0m\u001b[1;33m=\u001b[0m\u001b[0mself\u001b[0m\u001b[1;33m.\u001b[0m\u001b[0mtimeout\u001b[0m\u001b[1;33m)\u001b[0m\u001b[1;33m)\u001b[0m\u001b[1;33m\u001b[0m\u001b[1;33m\u001b[0m\u001b[0m\n\u001b[0m\u001b[0;32m    936\u001b[0m                 \u001b[1;32melse\u001b[0m\u001b[1;33m:\u001b[0m\u001b[1;33m\u001b[0m\u001b[1;33m\u001b[0m\u001b[0m\n\u001b[0;32m    937\u001b[0m                     \u001b[0mself\u001b[0m\u001b[1;33m.\u001b[0m\u001b[0m_output\u001b[0m\u001b[1;33m.\u001b[0m\u001b[0mextend\u001b[0m\u001b[1;33m(\u001b[0m\u001b[0mjob\u001b[0m\u001b[1;33m.\u001b[0m\u001b[0mget\u001b[0m\u001b[1;33m(\u001b[0m\u001b[1;33m)\u001b[0m\u001b[1;33m)\u001b[0m\u001b[1;33m\u001b[0m\u001b[1;33m\u001b[0m\u001b[0m\n",
      "\u001b[1;32m~\\Anaconda3\\lib\\site-packages\\joblib\\_parallel_backends.py\u001b[0m in \u001b[0;36mwrap_future_result\u001b[1;34m(future, timeout)\u001b[0m\n\u001b[0;32m    540\u001b[0m         AsyncResults.get from multiprocessing.\"\"\"\n\u001b[0;32m    541\u001b[0m         \u001b[1;32mtry\u001b[0m\u001b[1;33m:\u001b[0m\u001b[1;33m\u001b[0m\u001b[1;33m\u001b[0m\u001b[0m\n\u001b[1;32m--> 542\u001b[1;33m             \u001b[1;32mreturn\u001b[0m \u001b[0mfuture\u001b[0m\u001b[1;33m.\u001b[0m\u001b[0mresult\u001b[0m\u001b[1;33m(\u001b[0m\u001b[0mtimeout\u001b[0m\u001b[1;33m=\u001b[0m\u001b[0mtimeout\u001b[0m\u001b[1;33m)\u001b[0m\u001b[1;33m\u001b[0m\u001b[1;33m\u001b[0m\u001b[0m\n\u001b[0m\u001b[0;32m    543\u001b[0m         \u001b[1;32mexcept\u001b[0m \u001b[0mCfTimeoutError\u001b[0m \u001b[1;32mas\u001b[0m \u001b[0me\u001b[0m\u001b[1;33m:\u001b[0m\u001b[1;33m\u001b[0m\u001b[1;33m\u001b[0m\u001b[0m\n\u001b[0;32m    544\u001b[0m             \u001b[1;32mraise\u001b[0m \u001b[0mTimeoutError\u001b[0m \u001b[1;32mfrom\u001b[0m \u001b[0me\u001b[0m\u001b[1;33m\u001b[0m\u001b[1;33m\u001b[0m\u001b[0m\n",
      "\u001b[1;32m~\\Anaconda3\\lib\\concurrent\\futures\\_base.py\u001b[0m in \u001b[0;36mresult\u001b[1;34m(self, timeout)\u001b[0m\n\u001b[0;32m    438\u001b[0m                     \u001b[1;32mreturn\u001b[0m \u001b[0mself\u001b[0m\u001b[1;33m.\u001b[0m\u001b[0m__get_result\u001b[0m\u001b[1;33m(\u001b[0m\u001b[1;33m)\u001b[0m\u001b[1;33m\u001b[0m\u001b[1;33m\u001b[0m\u001b[0m\n\u001b[0;32m    439\u001b[0m \u001b[1;33m\u001b[0m\u001b[0m\n\u001b[1;32m--> 440\u001b[1;33m                 \u001b[0mself\u001b[0m\u001b[1;33m.\u001b[0m\u001b[0m_condition\u001b[0m\u001b[1;33m.\u001b[0m\u001b[0mwait\u001b[0m\u001b[1;33m(\u001b[0m\u001b[0mtimeout\u001b[0m\u001b[1;33m)\u001b[0m\u001b[1;33m\u001b[0m\u001b[1;33m\u001b[0m\u001b[0m\n\u001b[0m\u001b[0;32m    441\u001b[0m \u001b[1;33m\u001b[0m\u001b[0m\n\u001b[0;32m    442\u001b[0m                 \u001b[1;32mif\u001b[0m \u001b[0mself\u001b[0m\u001b[1;33m.\u001b[0m\u001b[0m_state\u001b[0m \u001b[1;32min\u001b[0m \u001b[1;33m[\u001b[0m\u001b[0mCANCELLED\u001b[0m\u001b[1;33m,\u001b[0m \u001b[0mCANCELLED_AND_NOTIFIED\u001b[0m\u001b[1;33m]\u001b[0m\u001b[1;33m:\u001b[0m\u001b[1;33m\u001b[0m\u001b[1;33m\u001b[0m\u001b[0m\n",
      "\u001b[1;32m~\\Anaconda3\\lib\\threading.py\u001b[0m in \u001b[0;36mwait\u001b[1;34m(self, timeout)\u001b[0m\n\u001b[0;32m    310\u001b[0m         \u001b[1;32mtry\u001b[0m\u001b[1;33m:\u001b[0m    \u001b[1;31m# restore state no matter what (e.g., KeyboardInterrupt)\u001b[0m\u001b[1;33m\u001b[0m\u001b[1;33m\u001b[0m\u001b[0m\n\u001b[0;32m    311\u001b[0m             \u001b[1;32mif\u001b[0m \u001b[0mtimeout\u001b[0m \u001b[1;32mis\u001b[0m \u001b[1;32mNone\u001b[0m\u001b[1;33m:\u001b[0m\u001b[1;33m\u001b[0m\u001b[1;33m\u001b[0m\u001b[0m\n\u001b[1;32m--> 312\u001b[1;33m                 \u001b[0mwaiter\u001b[0m\u001b[1;33m.\u001b[0m\u001b[0macquire\u001b[0m\u001b[1;33m(\u001b[0m\u001b[1;33m)\u001b[0m\u001b[1;33m\u001b[0m\u001b[1;33m\u001b[0m\u001b[0m\n\u001b[0m\u001b[0;32m    313\u001b[0m                 \u001b[0mgotit\u001b[0m \u001b[1;33m=\u001b[0m \u001b[1;32mTrue\u001b[0m\u001b[1;33m\u001b[0m\u001b[1;33m\u001b[0m\u001b[0m\n\u001b[0;32m    314\u001b[0m             \u001b[1;32melse\u001b[0m\u001b[1;33m:\u001b[0m\u001b[1;33m\u001b[0m\u001b[1;33m\u001b[0m\u001b[0m\n",
      "\u001b[1;31mKeyboardInterrupt\u001b[0m: "
     ]
    }
   ],
   "source": [
    "xgb_params = {\n",
    "        'n_estimators': [100, 500, 1000, 2000],\n",
    "        'subsample': [0.6, 0.8, 1.0],\n",
    "        'max_depth': [3, 4, 5,6],\n",
    "        'learning_rate': [0.1,0.01,0.02,0.05],\n",
    "        \"min_samples_split\": [2,5,10]}\n",
    "xgb = XGBClassifier()\n",
    "\n",
    "xgb_cv_model = GridSearchCV(xgb, xgb_params, cv = 10, n_jobs = -1, verbose = 2)\n",
    "xgb_cv_model.fit(X_train, y_train)\n",
    "xgb_cv_model.best_params_"
   ]
  },
  {
   "cell_type": "code",
   "execution_count": 62,
   "id": "5c3f37fb-84ab-4bdb-be7b-e257c11daabc",
   "metadata": {},
   "outputs": [
    {
     "name": "stdout",
     "output_type": "stream",
     "text": [
      "[16:10:17] WARNING: C:/Users/Administrator/workspace/xgboost-win64_release_1.5.1/src/learner.cc:576: \n",
      "Parameters: { \"min_samples_split\" } might not be used.\n",
      "\n",
      "  This could be a false alarm, with some parameters getting used by language bindings but\n",
      "  then being mistakenly passed down to XGBoost core, or some parameter actually being used\n",
      "  but getting flagged wrongly here. Please open an issue if you find any such cases.\n",
      "\n",
      "\n",
      "[16:10:17] WARNING: C:/Users/Administrator/workspace/xgboost-win64_release_1.5.1/src/learner.cc:1115: Starting in XGBoost 1.3.0, the default evaluation metric used with the objective 'binary:logistic' was changed from 'error' to 'logloss'. Explicitly set eval_metric if you'd like to restore the old behavior.\n"
     ]
    },
    {
     "data": {
      "text/plain": [
       "0.7445887445887446"
      ]
     },
     "execution_count": 62,
     "metadata": {},
     "output_type": "execute_result"
    }
   ],
   "source": [
    "xgb = XGBClassifier(learning_rate = 0.01, \n",
    "                    max_depth = 6,\n",
    "                    min_samples_split = 2,\n",
    "                    n_estimators = 100,\n",
    "                    subsample = 0.8)\n",
    "xgb_tuned =  xgb.fit(X_train,y_train)\n",
    "y_pred = xgb_tuned.predict(X_test)\n",
    "accuracy_score(y_test, y_pred)"
   ]
  },
  {
   "cell_type": "code",
   "execution_count": 63,
   "id": "ed559b19-3968-4502-91ab-d9ffefbc4e19",
   "metadata": {},
   "outputs": [],
   "source": [
    "from lightgbm import LGBMClassifier"
   ]
  },
  {
   "cell_type": "code",
   "execution_count": 64,
   "id": "94dbf256-3db9-49f4-9f3f-e992e637359a",
   "metadata": {},
   "outputs": [
    {
     "data": {
      "text/plain": [
       "0.7229437229437229"
      ]
     },
     "execution_count": 64,
     "metadata": {},
     "output_type": "execute_result"
    }
   ],
   "source": [
    "lgbm_model = LGBMClassifier().fit(X_train, y_train)\n",
    "y_pred = lgbm_model.predict(X_test)\n",
    "accuracy_score(y_test, y_pred)"
   ]
  },
  {
   "cell_type": "code",
   "execution_count": 66,
   "id": "f5d7faf2-2845-4474-8ed3-3612e856a7e8",
   "metadata": {},
   "outputs": [
    {
     "name": "stdout",
     "output_type": "stream",
     "text": [
      "Fitting 10 folds for each of 576 candidates, totalling 5760 fits\n"
     ]
    },
    {
     "ename": "KeyboardInterrupt",
     "evalue": "",
     "output_type": "error",
     "traceback": [
      "\u001b[1;31m---------------------------------------------------------------------------\u001b[0m",
      "\u001b[1;31mKeyboardInterrupt\u001b[0m                         Traceback (most recent call last)",
      "\u001b[1;32m~\\AppData\\Local\\Temp/ipykernel_11972/650560375.py\u001b[0m in \u001b[0;36m<module>\u001b[1;34m\u001b[0m\n\u001b[0;32m     10\u001b[0m                              \u001b[0mn_jobs\u001b[0m \u001b[1;33m=\u001b[0m \u001b[1;33m-\u001b[0m\u001b[1;36m1\u001b[0m\u001b[1;33m,\u001b[0m\u001b[1;33m\u001b[0m\u001b[1;33m\u001b[0m\u001b[0m\n\u001b[0;32m     11\u001b[0m                              verbose = 2)\n\u001b[1;32m---> 12\u001b[1;33m \u001b[0mlgbm_cv_model\u001b[0m\u001b[1;33m.\u001b[0m\u001b[0mfit\u001b[0m\u001b[1;33m(\u001b[0m\u001b[0mX_train\u001b[0m\u001b[1;33m,\u001b[0m \u001b[0my_train\u001b[0m\u001b[1;33m)\u001b[0m\u001b[1;33m\u001b[0m\u001b[1;33m\u001b[0m\u001b[0m\n\u001b[0m\u001b[0;32m     13\u001b[0m \u001b[0mlgbm_cv_model\u001b[0m\u001b[1;33m.\u001b[0m\u001b[0mbest_params_\u001b[0m\u001b[1;33m\u001b[0m\u001b[1;33m\u001b[0m\u001b[0m\n",
      "\u001b[1;32m~\\Anaconda3\\lib\\site-packages\\sklearn\\utils\\validation.py\u001b[0m in \u001b[0;36minner_f\u001b[1;34m(*args, **kwargs)\u001b[0m\n\u001b[0;32m     61\u001b[0m             \u001b[0mextra_args\u001b[0m \u001b[1;33m=\u001b[0m \u001b[0mlen\u001b[0m\u001b[1;33m(\u001b[0m\u001b[0margs\u001b[0m\u001b[1;33m)\u001b[0m \u001b[1;33m-\u001b[0m \u001b[0mlen\u001b[0m\u001b[1;33m(\u001b[0m\u001b[0mall_args\u001b[0m\u001b[1;33m)\u001b[0m\u001b[1;33m\u001b[0m\u001b[1;33m\u001b[0m\u001b[0m\n\u001b[0;32m     62\u001b[0m             \u001b[1;32mif\u001b[0m \u001b[0mextra_args\u001b[0m \u001b[1;33m<=\u001b[0m \u001b[1;36m0\u001b[0m\u001b[1;33m:\u001b[0m\u001b[1;33m\u001b[0m\u001b[1;33m\u001b[0m\u001b[0m\n\u001b[1;32m---> 63\u001b[1;33m                 \u001b[1;32mreturn\u001b[0m \u001b[0mf\u001b[0m\u001b[1;33m(\u001b[0m\u001b[1;33m*\u001b[0m\u001b[0margs\u001b[0m\u001b[1;33m,\u001b[0m \u001b[1;33m**\u001b[0m\u001b[0mkwargs\u001b[0m\u001b[1;33m)\u001b[0m\u001b[1;33m\u001b[0m\u001b[1;33m\u001b[0m\u001b[0m\n\u001b[0m\u001b[0;32m     64\u001b[0m \u001b[1;33m\u001b[0m\u001b[0m\n\u001b[0;32m     65\u001b[0m             \u001b[1;31m# extra_args > 0\u001b[0m\u001b[1;33m\u001b[0m\u001b[1;33m\u001b[0m\u001b[0m\n",
      "\u001b[1;32m~\\Anaconda3\\lib\\site-packages\\sklearn\\model_selection\\_search.py\u001b[0m in \u001b[0;36mfit\u001b[1;34m(self, X, y, groups, **fit_params)\u001b[0m\n\u001b[0;32m    839\u001b[0m                 \u001b[1;32mreturn\u001b[0m \u001b[0mresults\u001b[0m\u001b[1;33m\u001b[0m\u001b[1;33m\u001b[0m\u001b[0m\n\u001b[0;32m    840\u001b[0m \u001b[1;33m\u001b[0m\u001b[0m\n\u001b[1;32m--> 841\u001b[1;33m             \u001b[0mself\u001b[0m\u001b[1;33m.\u001b[0m\u001b[0m_run_search\u001b[0m\u001b[1;33m(\u001b[0m\u001b[0mevaluate_candidates\u001b[0m\u001b[1;33m)\u001b[0m\u001b[1;33m\u001b[0m\u001b[1;33m\u001b[0m\u001b[0m\n\u001b[0m\u001b[0;32m    842\u001b[0m \u001b[1;33m\u001b[0m\u001b[0m\n\u001b[0;32m    843\u001b[0m             \u001b[1;31m# multimetric is determined here because in the case of a callable\u001b[0m\u001b[1;33m\u001b[0m\u001b[1;33m\u001b[0m\u001b[0m\n",
      "\u001b[1;32m~\\Anaconda3\\lib\\site-packages\\sklearn\\model_selection\\_search.py\u001b[0m in \u001b[0;36m_run_search\u001b[1;34m(self, evaluate_candidates)\u001b[0m\n\u001b[0;32m   1294\u001b[0m     \u001b[1;32mdef\u001b[0m \u001b[0m_run_search\u001b[0m\u001b[1;33m(\u001b[0m\u001b[0mself\u001b[0m\u001b[1;33m,\u001b[0m \u001b[0mevaluate_candidates\u001b[0m\u001b[1;33m)\u001b[0m\u001b[1;33m:\u001b[0m\u001b[1;33m\u001b[0m\u001b[1;33m\u001b[0m\u001b[0m\n\u001b[0;32m   1295\u001b[0m         \u001b[1;34m\"\"\"Search all candidates in param_grid\"\"\"\u001b[0m\u001b[1;33m\u001b[0m\u001b[1;33m\u001b[0m\u001b[0m\n\u001b[1;32m-> 1296\u001b[1;33m         \u001b[0mevaluate_candidates\u001b[0m\u001b[1;33m(\u001b[0m\u001b[0mParameterGrid\u001b[0m\u001b[1;33m(\u001b[0m\u001b[0mself\u001b[0m\u001b[1;33m.\u001b[0m\u001b[0mparam_grid\u001b[0m\u001b[1;33m)\u001b[0m\u001b[1;33m)\u001b[0m\u001b[1;33m\u001b[0m\u001b[1;33m\u001b[0m\u001b[0m\n\u001b[0m\u001b[0;32m   1297\u001b[0m \u001b[1;33m\u001b[0m\u001b[0m\n\u001b[0;32m   1298\u001b[0m \u001b[1;33m\u001b[0m\u001b[0m\n",
      "\u001b[1;32m~\\Anaconda3\\lib\\site-packages\\sklearn\\model_selection\\_search.py\u001b[0m in \u001b[0;36mevaluate_candidates\u001b[1;34m(candidate_params, cv, more_results)\u001b[0m\n\u001b[0;32m    793\u001b[0m                               n_splits, n_candidates, n_candidates * n_splits))\n\u001b[0;32m    794\u001b[0m \u001b[1;33m\u001b[0m\u001b[0m\n\u001b[1;32m--> 795\u001b[1;33m                 out = parallel(delayed(_fit_and_score)(clone(base_estimator),\n\u001b[0m\u001b[0;32m    796\u001b[0m                                                        \u001b[0mX\u001b[0m\u001b[1;33m,\u001b[0m \u001b[0my\u001b[0m\u001b[1;33m,\u001b[0m\u001b[1;33m\u001b[0m\u001b[1;33m\u001b[0m\u001b[0m\n\u001b[0;32m    797\u001b[0m                                                        \u001b[0mtrain\u001b[0m\u001b[1;33m=\u001b[0m\u001b[0mtrain\u001b[0m\u001b[1;33m,\u001b[0m \u001b[0mtest\u001b[0m\u001b[1;33m=\u001b[0m\u001b[0mtest\u001b[0m\u001b[1;33m,\u001b[0m\u001b[1;33m\u001b[0m\u001b[1;33m\u001b[0m\u001b[0m\n",
      "\u001b[1;32m~\\Anaconda3\\lib\\site-packages\\joblib\\parallel.py\u001b[0m in \u001b[0;36m__call__\u001b[1;34m(self, iterable)\u001b[0m\n\u001b[0;32m   1054\u001b[0m \u001b[1;33m\u001b[0m\u001b[0m\n\u001b[0;32m   1055\u001b[0m             \u001b[1;32mwith\u001b[0m \u001b[0mself\u001b[0m\u001b[1;33m.\u001b[0m\u001b[0m_backend\u001b[0m\u001b[1;33m.\u001b[0m\u001b[0mretrieval_context\u001b[0m\u001b[1;33m(\u001b[0m\u001b[1;33m)\u001b[0m\u001b[1;33m:\u001b[0m\u001b[1;33m\u001b[0m\u001b[1;33m\u001b[0m\u001b[0m\n\u001b[1;32m-> 1056\u001b[1;33m                 \u001b[0mself\u001b[0m\u001b[1;33m.\u001b[0m\u001b[0mretrieve\u001b[0m\u001b[1;33m(\u001b[0m\u001b[1;33m)\u001b[0m\u001b[1;33m\u001b[0m\u001b[1;33m\u001b[0m\u001b[0m\n\u001b[0m\u001b[0;32m   1057\u001b[0m             \u001b[1;31m# Make sure that we get a last message telling us we are done\u001b[0m\u001b[1;33m\u001b[0m\u001b[1;33m\u001b[0m\u001b[0m\n\u001b[0;32m   1058\u001b[0m             \u001b[0melapsed_time\u001b[0m \u001b[1;33m=\u001b[0m \u001b[0mtime\u001b[0m\u001b[1;33m.\u001b[0m\u001b[0mtime\u001b[0m\u001b[1;33m(\u001b[0m\u001b[1;33m)\u001b[0m \u001b[1;33m-\u001b[0m \u001b[0mself\u001b[0m\u001b[1;33m.\u001b[0m\u001b[0m_start_time\u001b[0m\u001b[1;33m\u001b[0m\u001b[1;33m\u001b[0m\u001b[0m\n",
      "\u001b[1;32m~\\Anaconda3\\lib\\site-packages\\joblib\\parallel.py\u001b[0m in \u001b[0;36mretrieve\u001b[1;34m(self)\u001b[0m\n\u001b[0;32m    933\u001b[0m             \u001b[1;32mtry\u001b[0m\u001b[1;33m:\u001b[0m\u001b[1;33m\u001b[0m\u001b[1;33m\u001b[0m\u001b[0m\n\u001b[0;32m    934\u001b[0m                 \u001b[1;32mif\u001b[0m \u001b[0mgetattr\u001b[0m\u001b[1;33m(\u001b[0m\u001b[0mself\u001b[0m\u001b[1;33m.\u001b[0m\u001b[0m_backend\u001b[0m\u001b[1;33m,\u001b[0m \u001b[1;34m'supports_timeout'\u001b[0m\u001b[1;33m,\u001b[0m \u001b[1;32mFalse\u001b[0m\u001b[1;33m)\u001b[0m\u001b[1;33m:\u001b[0m\u001b[1;33m\u001b[0m\u001b[1;33m\u001b[0m\u001b[0m\n\u001b[1;32m--> 935\u001b[1;33m                     \u001b[0mself\u001b[0m\u001b[1;33m.\u001b[0m\u001b[0m_output\u001b[0m\u001b[1;33m.\u001b[0m\u001b[0mextend\u001b[0m\u001b[1;33m(\u001b[0m\u001b[0mjob\u001b[0m\u001b[1;33m.\u001b[0m\u001b[0mget\u001b[0m\u001b[1;33m(\u001b[0m\u001b[0mtimeout\u001b[0m\u001b[1;33m=\u001b[0m\u001b[0mself\u001b[0m\u001b[1;33m.\u001b[0m\u001b[0mtimeout\u001b[0m\u001b[1;33m)\u001b[0m\u001b[1;33m)\u001b[0m\u001b[1;33m\u001b[0m\u001b[1;33m\u001b[0m\u001b[0m\n\u001b[0m\u001b[0;32m    936\u001b[0m                 \u001b[1;32melse\u001b[0m\u001b[1;33m:\u001b[0m\u001b[1;33m\u001b[0m\u001b[1;33m\u001b[0m\u001b[0m\n\u001b[0;32m    937\u001b[0m                     \u001b[0mself\u001b[0m\u001b[1;33m.\u001b[0m\u001b[0m_output\u001b[0m\u001b[1;33m.\u001b[0m\u001b[0mextend\u001b[0m\u001b[1;33m(\u001b[0m\u001b[0mjob\u001b[0m\u001b[1;33m.\u001b[0m\u001b[0mget\u001b[0m\u001b[1;33m(\u001b[0m\u001b[1;33m)\u001b[0m\u001b[1;33m)\u001b[0m\u001b[1;33m\u001b[0m\u001b[1;33m\u001b[0m\u001b[0m\n",
      "\u001b[1;32m~\\Anaconda3\\lib\\site-packages\\joblib\\_parallel_backends.py\u001b[0m in \u001b[0;36mwrap_future_result\u001b[1;34m(future, timeout)\u001b[0m\n\u001b[0;32m    540\u001b[0m         AsyncResults.get from multiprocessing.\"\"\"\n\u001b[0;32m    541\u001b[0m         \u001b[1;32mtry\u001b[0m\u001b[1;33m:\u001b[0m\u001b[1;33m\u001b[0m\u001b[1;33m\u001b[0m\u001b[0m\n\u001b[1;32m--> 542\u001b[1;33m             \u001b[1;32mreturn\u001b[0m \u001b[0mfuture\u001b[0m\u001b[1;33m.\u001b[0m\u001b[0mresult\u001b[0m\u001b[1;33m(\u001b[0m\u001b[0mtimeout\u001b[0m\u001b[1;33m=\u001b[0m\u001b[0mtimeout\u001b[0m\u001b[1;33m)\u001b[0m\u001b[1;33m\u001b[0m\u001b[1;33m\u001b[0m\u001b[0m\n\u001b[0m\u001b[0;32m    543\u001b[0m         \u001b[1;32mexcept\u001b[0m \u001b[0mCfTimeoutError\u001b[0m \u001b[1;32mas\u001b[0m \u001b[0me\u001b[0m\u001b[1;33m:\u001b[0m\u001b[1;33m\u001b[0m\u001b[1;33m\u001b[0m\u001b[0m\n\u001b[0;32m    544\u001b[0m             \u001b[1;32mraise\u001b[0m \u001b[0mTimeoutError\u001b[0m \u001b[1;32mfrom\u001b[0m \u001b[0me\u001b[0m\u001b[1;33m\u001b[0m\u001b[1;33m\u001b[0m\u001b[0m\n",
      "\u001b[1;32m~\\Anaconda3\\lib\\concurrent\\futures\\_base.py\u001b[0m in \u001b[0;36mresult\u001b[1;34m(self, timeout)\u001b[0m\n\u001b[0;32m    438\u001b[0m                     \u001b[1;32mreturn\u001b[0m \u001b[0mself\u001b[0m\u001b[1;33m.\u001b[0m\u001b[0m__get_result\u001b[0m\u001b[1;33m(\u001b[0m\u001b[1;33m)\u001b[0m\u001b[1;33m\u001b[0m\u001b[1;33m\u001b[0m\u001b[0m\n\u001b[0;32m    439\u001b[0m \u001b[1;33m\u001b[0m\u001b[0m\n\u001b[1;32m--> 440\u001b[1;33m                 \u001b[0mself\u001b[0m\u001b[1;33m.\u001b[0m\u001b[0m_condition\u001b[0m\u001b[1;33m.\u001b[0m\u001b[0mwait\u001b[0m\u001b[1;33m(\u001b[0m\u001b[0mtimeout\u001b[0m\u001b[1;33m)\u001b[0m\u001b[1;33m\u001b[0m\u001b[1;33m\u001b[0m\u001b[0m\n\u001b[0m\u001b[0;32m    441\u001b[0m \u001b[1;33m\u001b[0m\u001b[0m\n\u001b[0;32m    442\u001b[0m                 \u001b[1;32mif\u001b[0m \u001b[0mself\u001b[0m\u001b[1;33m.\u001b[0m\u001b[0m_state\u001b[0m \u001b[1;32min\u001b[0m \u001b[1;33m[\u001b[0m\u001b[0mCANCELLED\u001b[0m\u001b[1;33m,\u001b[0m \u001b[0mCANCELLED_AND_NOTIFIED\u001b[0m\u001b[1;33m]\u001b[0m\u001b[1;33m:\u001b[0m\u001b[1;33m\u001b[0m\u001b[1;33m\u001b[0m\u001b[0m\n",
      "\u001b[1;32m~\\Anaconda3\\lib\\threading.py\u001b[0m in \u001b[0;36mwait\u001b[1;34m(self, timeout)\u001b[0m\n\u001b[0;32m    310\u001b[0m         \u001b[1;32mtry\u001b[0m\u001b[1;33m:\u001b[0m    \u001b[1;31m# restore state no matter what (e.g., KeyboardInterrupt)\u001b[0m\u001b[1;33m\u001b[0m\u001b[1;33m\u001b[0m\u001b[0m\n\u001b[0;32m    311\u001b[0m             \u001b[1;32mif\u001b[0m \u001b[0mtimeout\u001b[0m \u001b[1;32mis\u001b[0m \u001b[1;32mNone\u001b[0m\u001b[1;33m:\u001b[0m\u001b[1;33m\u001b[0m\u001b[1;33m\u001b[0m\u001b[0m\n\u001b[1;32m--> 312\u001b[1;33m                 \u001b[0mwaiter\u001b[0m\u001b[1;33m.\u001b[0m\u001b[0macquire\u001b[0m\u001b[1;33m(\u001b[0m\u001b[1;33m)\u001b[0m\u001b[1;33m\u001b[0m\u001b[1;33m\u001b[0m\u001b[0m\n\u001b[0m\u001b[0;32m    313\u001b[0m                 \u001b[0mgotit\u001b[0m \u001b[1;33m=\u001b[0m \u001b[1;32mTrue\u001b[0m\u001b[1;33m\u001b[0m\u001b[1;33m\u001b[0m\u001b[0m\n\u001b[0;32m    314\u001b[0m             \u001b[1;32melse\u001b[0m\u001b[1;33m:\u001b[0m\u001b[1;33m\u001b[0m\u001b[1;33m\u001b[0m\u001b[0m\n",
      "\u001b[1;31mKeyboardInterrupt\u001b[0m: "
     ]
    }
   ],
   "source": [
    "\n",
    "lgbm_params = {\n",
    "        'n_estimators': [100, 500, 1000, 2000],\n",
    "        'subsample': [0.6, 0.8, 1.0],\n",
    "        'max_depth': [3, 4, 5,6],\n",
    "        'learning_rate': [0.1,0.01,0.02,0.05],\n",
    "        \"min_child_samples\": [5,10,20]}\n",
    "lgbm = LGBMClassifier()\n",
    "lgbm_cv_model = GridSearchCV(lgbm, lgbm_params, \n",
    "                             cv = 10, \n",
    "                             n_jobs = -1, \n",
    "                             verbose = 2)\n",
    "lgbm_cv_model.fit(X_train, y_train)\n",
    "lgbm_cv_model.best_params_"
   ]
  },
  {
   "cell_type": "code",
   "execution_count": 67,
   "id": "a27cfba9-a625-4685-a699-f4754fc71c7c",
   "metadata": {},
   "outputs": [],
   "source": [
    "df = diabetes.copy()\n",
    "df = df.dropna()\n",
    "y = df[\"Outcome\"]\n",
    "X = df.drop(['Outcome'], axis=1)\n",
    "#X = df[\"Pregnancies\"]\n",
    "X = pd.DataFrame(X)\n",
    "X_train, X_test, y_train, y_test = train_test_split(X, y, \n",
    "                                                    test_size=0.30, \n",
    "                                                    random_state=42)"
   ]
  },
  {
   "cell_type": "code",
   "execution_count": 68,
   "id": "d7334909-ee4d-469d-b4c5-13fbb9e839b0",
   "metadata": {},
   "outputs": [
    {
     "name": "stdout",
     "output_type": "stream",
     "text": [
      "Learning rate set to 0.0079\n",
      "0:\tlearn: 0.6879744\ttotal: 166ms\tremaining: 2m 45s\n",
      "1:\tlearn: 0.6843414\ttotal: 168ms\tremaining: 1m 23s\n",
      "2:\tlearn: 0.6805760\ttotal: 170ms\tremaining: 56.6s\n",
      "3:\tlearn: 0.6765782\ttotal: 172ms\tremaining: 42.8s\n",
      "4:\tlearn: 0.6720829\ttotal: 174ms\tremaining: 34.6s\n",
      "5:\tlearn: 0.6681617\ttotal: 176ms\tremaining: 29.2s\n",
      "6:\tlearn: 0.6641912\ttotal: 178ms\tremaining: 25.2s\n",
      "7:\tlearn: 0.6602881\ttotal: 179ms\tremaining: 22.2s\n",
      "8:\tlearn: 0.6562626\ttotal: 181ms\tremaining: 19.9s\n",
      "9:\tlearn: 0.6528483\ttotal: 183ms\tremaining: 18.1s\n",
      "10:\tlearn: 0.6487823\ttotal: 185ms\tremaining: 16.6s\n",
      "11:\tlearn: 0.6454980\ttotal: 187ms\tremaining: 15.4s\n",
      "12:\tlearn: 0.6418953\ttotal: 189ms\tremaining: 14.3s\n",
      "13:\tlearn: 0.6374431\ttotal: 190ms\tremaining: 13.4s\n",
      "14:\tlearn: 0.6339676\ttotal: 192ms\tremaining: 12.6s\n",
      "15:\tlearn: 0.6304252\ttotal: 194ms\tremaining: 11.9s\n",
      "16:\tlearn: 0.6266998\ttotal: 195ms\tremaining: 11.3s\n",
      "17:\tlearn: 0.6237660\ttotal: 197ms\tremaining: 10.7s\n",
      "18:\tlearn: 0.6204394\ttotal: 198ms\tremaining: 10.2s\n",
      "19:\tlearn: 0.6170129\ttotal: 200ms\tremaining: 9.81s\n",
      "20:\tlearn: 0.6133404\ttotal: 202ms\tremaining: 9.41s\n",
      "21:\tlearn: 0.6104932\ttotal: 204ms\tremaining: 9.05s\n",
      "22:\tlearn: 0.6069523\ttotal: 205ms\tremaining: 8.72s\n",
      "23:\tlearn: 0.6036467\ttotal: 207ms\tremaining: 8.41s\n",
      "24:\tlearn: 0.6005392\ttotal: 208ms\tremaining: 8.13s\n",
      "25:\tlearn: 0.5977520\ttotal: 210ms\tremaining: 7.87s\n",
      "26:\tlearn: 0.5948189\ttotal: 212ms\tremaining: 7.62s\n",
      "27:\tlearn: 0.5919831\ttotal: 213ms\tremaining: 7.4s\n",
      "28:\tlearn: 0.5885065\ttotal: 215ms\tremaining: 7.18s\n",
      "29:\tlearn: 0.5848273\ttotal: 216ms\tremaining: 6.99s\n",
      "30:\tlearn: 0.5822076\ttotal: 218ms\tremaining: 6.81s\n",
      "31:\tlearn: 0.5790604\ttotal: 220ms\tremaining: 6.64s\n",
      "32:\tlearn: 0.5762252\ttotal: 221ms\tremaining: 6.48s\n",
      "33:\tlearn: 0.5745338\ttotal: 223ms\tremaining: 6.33s\n",
      "34:\tlearn: 0.5719085\ttotal: 224ms\tremaining: 6.19s\n",
      "35:\tlearn: 0.5693365\ttotal: 226ms\tremaining: 6.05s\n",
      "36:\tlearn: 0.5665486\ttotal: 228ms\tremaining: 5.93s\n",
      "37:\tlearn: 0.5647413\ttotal: 230ms\tremaining: 5.81s\n",
      "38:\tlearn: 0.5622430\ttotal: 231ms\tremaining: 5.69s\n",
      "39:\tlearn: 0.5600038\ttotal: 233ms\tremaining: 5.58s\n",
      "40:\tlearn: 0.5579786\ttotal: 234ms\tremaining: 5.48s\n",
      "41:\tlearn: 0.5555817\ttotal: 236ms\tremaining: 5.37s\n",
      "42:\tlearn: 0.5533884\ttotal: 237ms\tremaining: 5.28s\n",
      "43:\tlearn: 0.5503718\ttotal: 239ms\tremaining: 5.18s\n",
      "44:\tlearn: 0.5482587\ttotal: 240ms\tremaining: 5.1s\n",
      "45:\tlearn: 0.5458783\ttotal: 242ms\tremaining: 5.02s\n",
      "46:\tlearn: 0.5441370\ttotal: 244ms\tremaining: 4.94s\n",
      "47:\tlearn: 0.5422492\ttotal: 245ms\tremaining: 4.86s\n",
      "48:\tlearn: 0.5397111\ttotal: 247ms\tremaining: 4.79s\n",
      "49:\tlearn: 0.5378482\ttotal: 248ms\tremaining: 4.71s\n",
      "50:\tlearn: 0.5355250\ttotal: 250ms\tremaining: 4.64s\n",
      "51:\tlearn: 0.5334717\ttotal: 251ms\tremaining: 4.58s\n",
      "52:\tlearn: 0.5308796\ttotal: 252ms\tremaining: 4.51s\n",
      "53:\tlearn: 0.5291891\ttotal: 254ms\tremaining: 4.45s\n",
      "54:\tlearn: 0.5273404\ttotal: 255ms\tremaining: 4.39s\n",
      "55:\tlearn: 0.5252025\ttotal: 257ms\tremaining: 4.33s\n",
      "56:\tlearn: 0.5232146\ttotal: 258ms\tremaining: 4.27s\n",
      "57:\tlearn: 0.5212394\ttotal: 260ms\tremaining: 4.21s\n",
      "58:\tlearn: 0.5188927\ttotal: 261ms\tremaining: 4.16s\n",
      "59:\tlearn: 0.5166496\ttotal: 262ms\tremaining: 4.11s\n",
      "60:\tlearn: 0.5151264\ttotal: 264ms\tremaining: 4.06s\n",
      "61:\tlearn: 0.5128109\ttotal: 265ms\tremaining: 4.01s\n",
      "62:\tlearn: 0.5114747\ttotal: 266ms\tremaining: 3.96s\n",
      "63:\tlearn: 0.5096208\ttotal: 268ms\tremaining: 3.92s\n",
      "64:\tlearn: 0.5072601\ttotal: 270ms\tremaining: 3.88s\n",
      "65:\tlearn: 0.5052770\ttotal: 271ms\tremaining: 3.84s\n",
      "66:\tlearn: 0.5036623\ttotal: 273ms\tremaining: 3.79s\n",
      "67:\tlearn: 0.5017328\ttotal: 274ms\tremaining: 3.76s\n",
      "68:\tlearn: 0.5005425\ttotal: 275ms\tremaining: 3.71s\n",
      "69:\tlearn: 0.4991695\ttotal: 277ms\tremaining: 3.68s\n",
      "70:\tlearn: 0.4976900\ttotal: 278ms\tremaining: 3.64s\n",
      "71:\tlearn: 0.4958907\ttotal: 280ms\tremaining: 3.61s\n",
      "72:\tlearn: 0.4944550\ttotal: 281ms\tremaining: 3.57s\n",
      "73:\tlearn: 0.4929501\ttotal: 283ms\tremaining: 3.54s\n",
      "74:\tlearn: 0.4913299\ttotal: 284ms\tremaining: 3.5s\n",
      "75:\tlearn: 0.4898798\ttotal: 286ms\tremaining: 3.47s\n",
      "76:\tlearn: 0.4882946\ttotal: 287ms\tremaining: 3.44s\n",
      "77:\tlearn: 0.4866733\ttotal: 289ms\tremaining: 3.41s\n",
      "78:\tlearn: 0.4849083\ttotal: 290ms\tremaining: 3.38s\n",
      "79:\tlearn: 0.4832344\ttotal: 291ms\tremaining: 3.35s\n",
      "80:\tlearn: 0.4822155\ttotal: 293ms\tremaining: 3.32s\n",
      "81:\tlearn: 0.4805651\ttotal: 294ms\tremaining: 3.29s\n",
      "82:\tlearn: 0.4789437\ttotal: 296ms\tremaining: 3.27s\n",
      "83:\tlearn: 0.4773680\ttotal: 297ms\tremaining: 3.24s\n",
      "84:\tlearn: 0.4759592\ttotal: 299ms\tremaining: 3.22s\n",
      "85:\tlearn: 0.4743296\ttotal: 300ms\tremaining: 3.19s\n",
      "86:\tlearn: 0.4733053\ttotal: 302ms\tremaining: 3.17s\n",
      "87:\tlearn: 0.4719029\ttotal: 303ms\tremaining: 3.14s\n",
      "88:\tlearn: 0.4704197\ttotal: 304ms\tremaining: 3.12s\n",
      "89:\tlearn: 0.4692434\ttotal: 306ms\tremaining: 3.09s\n",
      "90:\tlearn: 0.4676877\ttotal: 307ms\tremaining: 3.07s\n",
      "91:\tlearn: 0.4663135\ttotal: 309ms\tremaining: 3.04s\n",
      "92:\tlearn: 0.4648501\ttotal: 310ms\tremaining: 3.02s\n",
      "93:\tlearn: 0.4634104\ttotal: 312ms\tremaining: 3s\n",
      "94:\tlearn: 0.4622453\ttotal: 313ms\tremaining: 2.98s\n",
      "95:\tlearn: 0.4610022\ttotal: 314ms\tremaining: 2.96s\n",
      "96:\tlearn: 0.4596122\ttotal: 316ms\tremaining: 2.94s\n",
      "97:\tlearn: 0.4586478\ttotal: 317ms\tremaining: 2.92s\n",
      "98:\tlearn: 0.4574414\ttotal: 319ms\tremaining: 2.9s\n",
      "99:\tlearn: 0.4564241\ttotal: 320ms\tremaining: 2.88s\n",
      "100:\tlearn: 0.4550640\ttotal: 322ms\tremaining: 2.86s\n",
      "101:\tlearn: 0.4542409\ttotal: 323ms\tremaining: 2.84s\n",
      "102:\tlearn: 0.4532567\ttotal: 324ms\tremaining: 2.83s\n",
      "103:\tlearn: 0.4520656\ttotal: 326ms\tremaining: 2.81s\n",
      "104:\tlearn: 0.4507238\ttotal: 327ms\tremaining: 2.79s\n",
      "105:\tlearn: 0.4498366\ttotal: 329ms\tremaining: 2.77s\n",
      "106:\tlearn: 0.4487896\ttotal: 330ms\tremaining: 2.76s\n",
      "107:\tlearn: 0.4479770\ttotal: 332ms\tremaining: 2.74s\n",
      "108:\tlearn: 0.4470681\ttotal: 333ms\tremaining: 2.72s\n",
      "109:\tlearn: 0.4461679\ttotal: 335ms\tremaining: 2.71s\n",
      "110:\tlearn: 0.4449306\ttotal: 336ms\tremaining: 2.69s\n",
      "111:\tlearn: 0.4442033\ttotal: 338ms\tremaining: 2.68s\n",
      "112:\tlearn: 0.4431958\ttotal: 339ms\tremaining: 2.66s\n",
      "113:\tlearn: 0.4420872\ttotal: 341ms\tremaining: 2.65s\n",
      "114:\tlearn: 0.4411093\ttotal: 343ms\tremaining: 2.63s\n",
      "115:\tlearn: 0.4404177\ttotal: 344ms\tremaining: 2.62s\n",
      "116:\tlearn: 0.4393393\ttotal: 345ms\tremaining: 2.61s\n",
      "117:\tlearn: 0.4385459\ttotal: 347ms\tremaining: 2.59s\n",
      "118:\tlearn: 0.4376311\ttotal: 349ms\tremaining: 2.58s\n",
      "119:\tlearn: 0.4365919\ttotal: 350ms\tremaining: 2.57s\n",
      "120:\tlearn: 0.4356995\ttotal: 352ms\tremaining: 2.55s\n",
      "121:\tlearn: 0.4348411\ttotal: 353ms\tremaining: 2.54s\n",
      "122:\tlearn: 0.4339453\ttotal: 355ms\tremaining: 2.53s\n",
      "123:\tlearn: 0.4328034\ttotal: 356ms\tremaining: 2.51s\n",
      "124:\tlearn: 0.4319283\ttotal: 357ms\tremaining: 2.5s\n",
      "125:\tlearn: 0.4312557\ttotal: 359ms\tremaining: 2.49s\n",
      "126:\tlearn: 0.4304026\ttotal: 361ms\tremaining: 2.48s\n",
      "127:\tlearn: 0.4298280\ttotal: 363ms\tremaining: 2.47s\n",
      "128:\tlearn: 0.4289908\ttotal: 364ms\tremaining: 2.46s\n",
      "129:\tlearn: 0.4281060\ttotal: 366ms\tremaining: 2.45s\n",
      "130:\tlearn: 0.4274906\ttotal: 368ms\tremaining: 2.44s\n",
      "131:\tlearn: 0.4263412\ttotal: 369ms\tremaining: 2.43s\n",
      "132:\tlearn: 0.4253331\ttotal: 371ms\tremaining: 2.42s\n",
      "133:\tlearn: 0.4243619\ttotal: 372ms\tremaining: 2.4s\n",
      "134:\tlearn: 0.4236335\ttotal: 373ms\tremaining: 2.39s\n",
      "135:\tlearn: 0.4228861\ttotal: 375ms\tremaining: 2.38s\n",
      "136:\tlearn: 0.4221383\ttotal: 376ms\tremaining: 2.37s\n",
      "137:\tlearn: 0.4212787\ttotal: 378ms\tremaining: 2.36s\n",
      "138:\tlearn: 0.4205727\ttotal: 379ms\tremaining: 2.35s\n",
      "139:\tlearn: 0.4198398\ttotal: 381ms\tremaining: 2.34s\n",
      "140:\tlearn: 0.4190528\ttotal: 382ms\tremaining: 2.33s\n",
      "141:\tlearn: 0.4181762\ttotal: 384ms\tremaining: 2.32s\n",
      "142:\tlearn: 0.4177653\ttotal: 385ms\tremaining: 2.31s\n",
      "143:\tlearn: 0.4171131\ttotal: 387ms\tremaining: 2.3s\n",
      "144:\tlearn: 0.4165639\ttotal: 388ms\tremaining: 2.29s\n",
      "145:\tlearn: 0.4156471\ttotal: 390ms\tremaining: 2.28s\n",
      "146:\tlearn: 0.4153234\ttotal: 391ms\tremaining: 2.27s\n",
      "147:\tlearn: 0.4145420\ttotal: 392ms\tremaining: 2.26s\n",
      "148:\tlearn: 0.4139180\ttotal: 394ms\tremaining: 2.25s\n",
      "149:\tlearn: 0.4128167\ttotal: 395ms\tremaining: 2.24s\n",
      "150:\tlearn: 0.4120071\ttotal: 397ms\tremaining: 2.23s\n",
      "151:\tlearn: 0.4115050\ttotal: 398ms\tremaining: 2.22s\n",
      "152:\tlearn: 0.4103879\ttotal: 400ms\tremaining: 2.21s\n",
      "153:\tlearn: 0.4096975\ttotal: 401ms\tremaining: 2.2s\n",
      "154:\tlearn: 0.4090180\ttotal: 403ms\tremaining: 2.19s\n",
      "155:\tlearn: 0.4084361\ttotal: 404ms\tremaining: 2.19s\n",
      "156:\tlearn: 0.4075079\ttotal: 406ms\tremaining: 2.18s\n",
      "157:\tlearn: 0.4070229\ttotal: 407ms\tremaining: 2.17s\n",
      "158:\tlearn: 0.4060864\ttotal: 408ms\tremaining: 2.16s\n",
      "159:\tlearn: 0.4055216\ttotal: 410ms\tremaining: 2.15s\n",
      "160:\tlearn: 0.4049737\ttotal: 411ms\tremaining: 2.14s\n",
      "161:\tlearn: 0.4043031\ttotal: 413ms\tremaining: 2.13s\n",
      "162:\tlearn: 0.4037889\ttotal: 414ms\tremaining: 2.13s\n",
      "163:\tlearn: 0.4029969\ttotal: 416ms\tremaining: 2.12s\n",
      "164:\tlearn: 0.4019218\ttotal: 417ms\tremaining: 2.11s\n",
      "165:\tlearn: 0.4013294\ttotal: 419ms\tremaining: 2.1s\n",
      "166:\tlearn: 0.4007642\ttotal: 420ms\tremaining: 2.1s\n",
      "167:\tlearn: 0.4000706\ttotal: 422ms\tremaining: 2.09s\n",
      "168:\tlearn: 0.3996680\ttotal: 423ms\tremaining: 2.08s\n",
      "169:\tlearn: 0.3989467\ttotal: 425ms\tremaining: 2.07s\n",
      "170:\tlearn: 0.3983710\ttotal: 426ms\tremaining: 2.07s\n",
      "171:\tlearn: 0.3975278\ttotal: 428ms\tremaining: 2.06s\n",
      "172:\tlearn: 0.3969084\ttotal: 429ms\tremaining: 2.05s\n",
      "173:\tlearn: 0.3965347\ttotal: 431ms\tremaining: 2.04s\n",
      "174:\tlearn: 0.3956732\ttotal: 432ms\tremaining: 2.04s\n",
      "175:\tlearn: 0.3952873\ttotal: 433ms\tremaining: 2.03s\n",
      "176:\tlearn: 0.3945194\ttotal: 435ms\tremaining: 2.02s\n",
      "177:\tlearn: 0.3937662\ttotal: 436ms\tremaining: 2.02s\n",
      "178:\tlearn: 0.3930186\ttotal: 438ms\tremaining: 2.01s\n",
      "179:\tlearn: 0.3923731\ttotal: 439ms\tremaining: 2s\n",
      "180:\tlearn: 0.3918567\ttotal: 441ms\tremaining: 1.99s\n",
      "181:\tlearn: 0.3910109\ttotal: 442ms\tremaining: 1.99s\n",
      "182:\tlearn: 0.3904347\ttotal: 444ms\tremaining: 1.98s\n",
      "183:\tlearn: 0.3898631\ttotal: 445ms\tremaining: 1.97s\n",
      "184:\tlearn: 0.3889877\ttotal: 447ms\tremaining: 1.97s\n",
      "185:\tlearn: 0.3883860\ttotal: 448ms\tremaining: 1.96s\n",
      "186:\tlearn: 0.3876585\ttotal: 449ms\tremaining: 1.95s\n",
      "187:\tlearn: 0.3871096\ttotal: 451ms\tremaining: 1.95s\n",
      "188:\tlearn: 0.3866930\ttotal: 452ms\tremaining: 1.94s\n",
      "189:\tlearn: 0.3860056\ttotal: 454ms\tremaining: 1.93s\n",
      "190:\tlearn: 0.3854310\ttotal: 455ms\tremaining: 1.93s\n",
      "191:\tlearn: 0.3848506\ttotal: 457ms\tremaining: 1.92s\n",
      "192:\tlearn: 0.3842016\ttotal: 458ms\tremaining: 1.92s\n",
      "193:\tlearn: 0.3836819\ttotal: 460ms\tremaining: 1.91s\n",
      "194:\tlearn: 0.3830974\ttotal: 461ms\tremaining: 1.9s\n",
      "195:\tlearn: 0.3827259\ttotal: 463ms\tremaining: 1.9s\n",
      "196:\tlearn: 0.3822292\ttotal: 464ms\tremaining: 1.89s\n",
      "197:\tlearn: 0.3818127\ttotal: 466ms\tremaining: 1.89s\n",
      "198:\tlearn: 0.3813381\ttotal: 467ms\tremaining: 1.88s\n",
      "199:\tlearn: 0.3808627\ttotal: 469ms\tremaining: 1.88s\n",
      "200:\tlearn: 0.3802744\ttotal: 470ms\tremaining: 1.87s\n",
      "201:\tlearn: 0.3797151\ttotal: 472ms\tremaining: 1.86s\n",
      "202:\tlearn: 0.3792543\ttotal: 474ms\tremaining: 1.86s\n",
      "203:\tlearn: 0.3787526\ttotal: 475ms\tremaining: 1.85s\n",
      "204:\tlearn: 0.3783154\ttotal: 477ms\tremaining: 1.85s\n",
      "205:\tlearn: 0.3778142\ttotal: 478ms\tremaining: 1.84s\n",
      "206:\tlearn: 0.3770761\ttotal: 480ms\tremaining: 1.84s\n",
      "207:\tlearn: 0.3766516\ttotal: 481ms\tremaining: 1.83s\n",
      "208:\tlearn: 0.3760002\ttotal: 483ms\tremaining: 1.83s\n",
      "209:\tlearn: 0.3753742\ttotal: 484ms\tremaining: 1.82s\n",
      "210:\tlearn: 0.3748945\ttotal: 486ms\tremaining: 1.82s\n",
      "211:\tlearn: 0.3741601\ttotal: 488ms\tremaining: 1.81s\n",
      "212:\tlearn: 0.3737583\ttotal: 489ms\tremaining: 1.81s\n",
      "213:\tlearn: 0.3731306\ttotal: 491ms\tremaining: 1.8s\n",
      "214:\tlearn: 0.3725594\ttotal: 492ms\tremaining: 1.8s\n",
      "215:\tlearn: 0.3717840\ttotal: 493ms\tremaining: 1.79s\n",
      "216:\tlearn: 0.3712366\ttotal: 495ms\tremaining: 1.78s\n",
      "217:\tlearn: 0.3706128\ttotal: 496ms\tremaining: 1.78s\n",
      "218:\tlearn: 0.3701763\ttotal: 498ms\tremaining: 1.77s\n",
      "219:\tlearn: 0.3696732\ttotal: 499ms\tremaining: 1.77s\n",
      "220:\tlearn: 0.3694511\ttotal: 500ms\tremaining: 1.76s\n",
      "221:\tlearn: 0.3691241\ttotal: 502ms\tremaining: 1.76s\n",
      "222:\tlearn: 0.3685841\ttotal: 504ms\tremaining: 1.75s\n",
      "223:\tlearn: 0.3680235\ttotal: 505ms\tremaining: 1.75s\n",
      "224:\tlearn: 0.3674146\ttotal: 506ms\tremaining: 1.74s\n",
      "225:\tlearn: 0.3669959\ttotal: 508ms\tremaining: 1.74s\n",
      "226:\tlearn: 0.3664598\ttotal: 510ms\tremaining: 1.74s\n",
      "227:\tlearn: 0.3660285\ttotal: 511ms\tremaining: 1.73s\n",
      "228:\tlearn: 0.3656118\ttotal: 513ms\tremaining: 1.73s\n",
      "229:\tlearn: 0.3653013\ttotal: 514ms\tremaining: 1.72s\n",
      "230:\tlearn: 0.3648384\ttotal: 516ms\tremaining: 1.72s\n",
      "231:\tlearn: 0.3645751\ttotal: 517ms\tremaining: 1.71s\n",
      "232:\tlearn: 0.3642266\ttotal: 518ms\tremaining: 1.71s\n",
      "233:\tlearn: 0.3638032\ttotal: 520ms\tremaining: 1.7s\n",
      "234:\tlearn: 0.3634127\ttotal: 521ms\tremaining: 1.7s\n",
      "235:\tlearn: 0.3628147\ttotal: 523ms\tremaining: 1.69s\n",
      "236:\tlearn: 0.3624876\ttotal: 524ms\tremaining: 1.69s\n",
      "237:\tlearn: 0.3621678\ttotal: 526ms\tremaining: 1.68s\n",
      "238:\tlearn: 0.3617236\ttotal: 527ms\tremaining: 1.68s\n",
      "239:\tlearn: 0.3613139\ttotal: 528ms\tremaining: 1.67s\n",
      "240:\tlearn: 0.3608153\ttotal: 530ms\tremaining: 1.67s\n",
      "241:\tlearn: 0.3605083\ttotal: 531ms\tremaining: 1.66s\n",
      "242:\tlearn: 0.3600805\ttotal: 533ms\tremaining: 1.66s\n",
      "243:\tlearn: 0.3598540\ttotal: 534ms\tremaining: 1.65s\n",
      "244:\tlearn: 0.3594826\ttotal: 535ms\tremaining: 1.65s\n",
      "245:\tlearn: 0.3589942\ttotal: 537ms\tremaining: 1.65s\n",
      "246:\tlearn: 0.3580868\ttotal: 538ms\tremaining: 1.64s\n",
      "247:\tlearn: 0.3577168\ttotal: 540ms\tremaining: 1.64s\n",
      "248:\tlearn: 0.3572695\ttotal: 541ms\tremaining: 1.63s\n",
      "249:\tlearn: 0.3569883\ttotal: 542ms\tremaining: 1.63s\n",
      "250:\tlearn: 0.3564914\ttotal: 544ms\tremaining: 1.62s\n",
      "251:\tlearn: 0.3563154\ttotal: 545ms\tremaining: 1.62s\n",
      "252:\tlearn: 0.3559500\ttotal: 547ms\tremaining: 1.61s\n",
      "253:\tlearn: 0.3556725\ttotal: 548ms\tremaining: 1.61s\n",
      "254:\tlearn: 0.3554429\ttotal: 550ms\tremaining: 1.6s\n",
      "255:\tlearn: 0.3550410\ttotal: 551ms\tremaining: 1.6s\n",
      "256:\tlearn: 0.3544784\ttotal: 552ms\tremaining: 1.6s\n",
      "257:\tlearn: 0.3541264\ttotal: 554ms\tremaining: 1.59s\n",
      "258:\tlearn: 0.3534407\ttotal: 555ms\tremaining: 1.59s\n",
      "259:\tlearn: 0.3531235\ttotal: 557ms\tremaining: 1.58s\n",
      "260:\tlearn: 0.3527207\ttotal: 558ms\tremaining: 1.58s\n",
      "261:\tlearn: 0.3523243\ttotal: 560ms\tremaining: 1.58s\n",
      "262:\tlearn: 0.3520765\ttotal: 561ms\tremaining: 1.57s\n",
      "263:\tlearn: 0.3515223\ttotal: 562ms\tremaining: 1.57s\n",
      "264:\tlearn: 0.3511085\ttotal: 564ms\tremaining: 1.56s\n",
      "265:\tlearn: 0.3507609\ttotal: 565ms\tremaining: 1.56s\n",
      "266:\tlearn: 0.3505624\ttotal: 567ms\tremaining: 1.55s\n",
      "267:\tlearn: 0.3502285\ttotal: 568ms\tremaining: 1.55s\n",
      "268:\tlearn: 0.3497636\ttotal: 569ms\tremaining: 1.55s\n",
      "269:\tlearn: 0.3493754\ttotal: 571ms\tremaining: 1.54s\n",
      "270:\tlearn: 0.3490792\ttotal: 572ms\tremaining: 1.54s\n",
      "271:\tlearn: 0.3487020\ttotal: 574ms\tremaining: 1.53s\n",
      "272:\tlearn: 0.3483143\ttotal: 575ms\tremaining: 1.53s\n",
      "273:\tlearn: 0.3478934\ttotal: 576ms\tremaining: 1.53s\n",
      "274:\tlearn: 0.3475017\ttotal: 578ms\tremaining: 1.52s\n",
      "275:\tlearn: 0.3471957\ttotal: 579ms\tremaining: 1.52s\n",
      "276:\tlearn: 0.3468656\ttotal: 581ms\tremaining: 1.51s\n",
      "277:\tlearn: 0.3464868\ttotal: 582ms\tremaining: 1.51s\n",
      "278:\tlearn: 0.3462092\ttotal: 583ms\tremaining: 1.51s\n",
      "279:\tlearn: 0.3460606\ttotal: 584ms\tremaining: 1.5s\n",
      "280:\tlearn: 0.3455830\ttotal: 586ms\tremaining: 1.5s\n",
      "281:\tlearn: 0.3453044\ttotal: 587ms\tremaining: 1.5s\n",
      "282:\tlearn: 0.3444292\ttotal: 589ms\tremaining: 1.49s\n",
      "283:\tlearn: 0.3440907\ttotal: 590ms\tremaining: 1.49s\n",
      "284:\tlearn: 0.3435897\ttotal: 592ms\tremaining: 1.48s\n",
      "285:\tlearn: 0.3432924\ttotal: 593ms\tremaining: 1.48s\n",
      "286:\tlearn: 0.3429693\ttotal: 594ms\tremaining: 1.48s\n",
      "287:\tlearn: 0.3423841\ttotal: 596ms\tremaining: 1.47s\n",
      "288:\tlearn: 0.3419082\ttotal: 597ms\tremaining: 1.47s\n",
      "289:\tlearn: 0.3417444\ttotal: 599ms\tremaining: 1.47s\n",
      "290:\tlearn: 0.3413183\ttotal: 600ms\tremaining: 1.46s\n",
      "291:\tlearn: 0.3410967\ttotal: 602ms\tremaining: 1.46s\n",
      "292:\tlearn: 0.3405444\ttotal: 603ms\tremaining: 1.45s\n",
      "293:\tlearn: 0.3400621\ttotal: 604ms\tremaining: 1.45s\n",
      "294:\tlearn: 0.3397168\ttotal: 606ms\tremaining: 1.45s\n",
      "295:\tlearn: 0.3393361\ttotal: 607ms\tremaining: 1.44s\n",
      "296:\tlearn: 0.3390740\ttotal: 608ms\tremaining: 1.44s\n",
      "297:\tlearn: 0.3385868\ttotal: 610ms\tremaining: 1.44s\n",
      "298:\tlearn: 0.3383527\ttotal: 611ms\tremaining: 1.43s\n",
      "299:\tlearn: 0.3381225\ttotal: 613ms\tremaining: 1.43s\n",
      "300:\tlearn: 0.3377180\ttotal: 614ms\tremaining: 1.43s\n",
      "301:\tlearn: 0.3373683\ttotal: 616ms\tremaining: 1.42s\n",
      "302:\tlearn: 0.3369712\ttotal: 617ms\tremaining: 1.42s\n",
      "303:\tlearn: 0.3365943\ttotal: 618ms\tremaining: 1.42s\n",
      "304:\tlearn: 0.3361416\ttotal: 620ms\tremaining: 1.41s\n",
      "305:\tlearn: 0.3357881\ttotal: 621ms\tremaining: 1.41s\n",
      "306:\tlearn: 0.3355420\ttotal: 623ms\tremaining: 1.41s\n",
      "307:\tlearn: 0.3353969\ttotal: 624ms\tremaining: 1.4s\n",
      "308:\tlearn: 0.3350159\ttotal: 626ms\tremaining: 1.4s\n",
      "309:\tlearn: 0.3347592\ttotal: 627ms\tremaining: 1.4s\n",
      "310:\tlearn: 0.3344209\ttotal: 628ms\tremaining: 1.39s\n",
      "311:\tlearn: 0.3340571\ttotal: 630ms\tremaining: 1.39s\n",
      "312:\tlearn: 0.3337410\ttotal: 631ms\tremaining: 1.39s\n",
      "313:\tlearn: 0.3335433\ttotal: 633ms\tremaining: 1.38s\n",
      "314:\tlearn: 0.3331226\ttotal: 634ms\tremaining: 1.38s\n",
      "315:\tlearn: 0.3326529\ttotal: 635ms\tremaining: 1.38s\n",
      "316:\tlearn: 0.3324585\ttotal: 637ms\tremaining: 1.37s\n",
      "317:\tlearn: 0.3319313\ttotal: 638ms\tremaining: 1.37s\n",
      "318:\tlearn: 0.3317666\ttotal: 640ms\tremaining: 1.36s\n",
      "319:\tlearn: 0.3316420\ttotal: 641ms\tremaining: 1.36s\n",
      "320:\tlearn: 0.3313743\ttotal: 643ms\tremaining: 1.36s\n",
      "321:\tlearn: 0.3311034\ttotal: 644ms\tremaining: 1.35s\n",
      "322:\tlearn: 0.3308718\ttotal: 645ms\tremaining: 1.35s\n",
      "323:\tlearn: 0.3305797\ttotal: 647ms\tremaining: 1.35s\n",
      "324:\tlearn: 0.3303344\ttotal: 648ms\tremaining: 1.35s\n",
      "325:\tlearn: 0.3299356\ttotal: 650ms\tremaining: 1.34s\n",
      "326:\tlearn: 0.3297079\ttotal: 651ms\tremaining: 1.34s\n",
      "327:\tlearn: 0.3293339\ttotal: 652ms\tremaining: 1.34s\n",
      "328:\tlearn: 0.3289580\ttotal: 654ms\tremaining: 1.33s\n",
      "329:\tlearn: 0.3285913\ttotal: 655ms\tremaining: 1.33s\n",
      "330:\tlearn: 0.3282758\ttotal: 657ms\tremaining: 1.33s\n",
      "331:\tlearn: 0.3279623\ttotal: 658ms\tremaining: 1.32s\n",
      "332:\tlearn: 0.3274888\ttotal: 660ms\tremaining: 1.32s\n",
      "333:\tlearn: 0.3271103\ttotal: 661ms\tremaining: 1.32s\n",
      "334:\tlearn: 0.3266782\ttotal: 662ms\tremaining: 1.31s\n",
      "335:\tlearn: 0.3263302\ttotal: 664ms\tremaining: 1.31s\n",
      "336:\tlearn: 0.3260965\ttotal: 665ms\tremaining: 1.31s\n",
      "337:\tlearn: 0.3259158\ttotal: 667ms\tremaining: 1.3s\n",
      "338:\tlearn: 0.3258232\ttotal: 668ms\tremaining: 1.3s\n",
      "339:\tlearn: 0.3256590\ttotal: 670ms\tremaining: 1.3s\n",
      "340:\tlearn: 0.3251070\ttotal: 671ms\tremaining: 1.3s\n",
      "341:\tlearn: 0.3248128\ttotal: 673ms\tremaining: 1.29s\n",
      "342:\tlearn: 0.3245641\ttotal: 674ms\tremaining: 1.29s\n",
      "343:\tlearn: 0.3244393\ttotal: 675ms\tremaining: 1.29s\n",
      "344:\tlearn: 0.3239917\ttotal: 677ms\tremaining: 1.28s\n",
      "345:\tlearn: 0.3236587\ttotal: 679ms\tremaining: 1.28s\n",
      "346:\tlearn: 0.3232919\ttotal: 680ms\tremaining: 1.28s\n",
      "347:\tlearn: 0.3229349\ttotal: 681ms\tremaining: 1.28s\n",
      "348:\tlearn: 0.3227158\ttotal: 683ms\tremaining: 1.27s\n",
      "349:\tlearn: 0.3222736\ttotal: 685ms\tremaining: 1.27s\n",
      "350:\tlearn: 0.3219319\ttotal: 686ms\tremaining: 1.27s\n",
      "351:\tlearn: 0.3216924\ttotal: 688ms\tremaining: 1.26s\n",
      "352:\tlearn: 0.3214005\ttotal: 689ms\tremaining: 1.26s\n",
      "353:\tlearn: 0.3212561\ttotal: 690ms\tremaining: 1.26s\n",
      "354:\tlearn: 0.3210802\ttotal: 692ms\tremaining: 1.26s\n",
      "355:\tlearn: 0.3208611\ttotal: 693ms\tremaining: 1.25s\n",
      "356:\tlearn: 0.3207409\ttotal: 694ms\tremaining: 1.25s\n",
      "357:\tlearn: 0.3204410\ttotal: 696ms\tremaining: 1.25s\n",
      "358:\tlearn: 0.3201386\ttotal: 698ms\tremaining: 1.25s\n",
      "359:\tlearn: 0.3199546\ttotal: 699ms\tremaining: 1.24s\n",
      "360:\tlearn: 0.3196740\ttotal: 700ms\tremaining: 1.24s\n",
      "361:\tlearn: 0.3193086\ttotal: 702ms\tremaining: 1.24s\n",
      "362:\tlearn: 0.3190555\ttotal: 703ms\tremaining: 1.23s\n",
      "363:\tlearn: 0.3186316\ttotal: 705ms\tremaining: 1.23s\n",
      "364:\tlearn: 0.3182750\ttotal: 706ms\tremaining: 1.23s\n",
      "365:\tlearn: 0.3179150\ttotal: 707ms\tremaining: 1.23s\n",
      "366:\tlearn: 0.3176213\ttotal: 709ms\tremaining: 1.22s\n",
      "367:\tlearn: 0.3174330\ttotal: 710ms\tremaining: 1.22s\n",
      "368:\tlearn: 0.3170058\ttotal: 712ms\tremaining: 1.22s\n",
      "369:\tlearn: 0.3167177\ttotal: 714ms\tremaining: 1.22s\n",
      "370:\tlearn: 0.3165966\ttotal: 715ms\tremaining: 1.21s\n",
      "371:\tlearn: 0.3163434\ttotal: 717ms\tremaining: 1.21s\n",
      "372:\tlearn: 0.3158102\ttotal: 718ms\tremaining: 1.21s\n",
      "373:\tlearn: 0.3156989\ttotal: 720ms\tremaining: 1.2s\n",
      "374:\tlearn: 0.3153516\ttotal: 721ms\tremaining: 1.2s\n",
      "375:\tlearn: 0.3151365\ttotal: 723ms\tremaining: 1.2s\n",
      "376:\tlearn: 0.3148602\ttotal: 724ms\tremaining: 1.2s\n",
      "377:\tlearn: 0.3146425\ttotal: 726ms\tremaining: 1.19s\n",
      "378:\tlearn: 0.3140533\ttotal: 728ms\tremaining: 1.19s\n",
      "379:\tlearn: 0.3138100\ttotal: 729ms\tremaining: 1.19s\n",
      "380:\tlearn: 0.3134537\ttotal: 731ms\tremaining: 1.19s\n",
      "381:\tlearn: 0.3131326\ttotal: 732ms\tremaining: 1.18s\n",
      "382:\tlearn: 0.3127691\ttotal: 734ms\tremaining: 1.18s\n",
      "383:\tlearn: 0.3123777\ttotal: 735ms\tremaining: 1.18s\n",
      "384:\tlearn: 0.3120189\ttotal: 737ms\tremaining: 1.18s\n",
      "385:\tlearn: 0.3117879\ttotal: 738ms\tremaining: 1.17s\n",
      "386:\tlearn: 0.3117281\ttotal: 739ms\tremaining: 1.17s\n",
      "387:\tlearn: 0.3114269\ttotal: 741ms\tremaining: 1.17s\n",
      "388:\tlearn: 0.3111523\ttotal: 742ms\tremaining: 1.17s\n",
      "389:\tlearn: 0.3107485\ttotal: 744ms\tremaining: 1.16s\n",
      "390:\tlearn: 0.3104823\ttotal: 745ms\tremaining: 1.16s\n",
      "391:\tlearn: 0.3102043\ttotal: 747ms\tremaining: 1.16s\n",
      "392:\tlearn: 0.3100756\ttotal: 748ms\tremaining: 1.16s\n",
      "393:\tlearn: 0.3096455\ttotal: 749ms\tremaining: 1.15s\n",
      "394:\tlearn: 0.3094293\ttotal: 751ms\tremaining: 1.15s\n",
      "395:\tlearn: 0.3091670\ttotal: 752ms\tremaining: 1.15s\n",
      "396:\tlearn: 0.3089720\ttotal: 753ms\tremaining: 1.14s\n",
      "397:\tlearn: 0.3087352\ttotal: 755ms\tremaining: 1.14s\n",
      "398:\tlearn: 0.3083025\ttotal: 756ms\tremaining: 1.14s\n",
      "399:\tlearn: 0.3080730\ttotal: 758ms\tremaining: 1.14s\n",
      "400:\tlearn: 0.3075862\ttotal: 759ms\tremaining: 1.13s\n",
      "401:\tlearn: 0.3072950\ttotal: 761ms\tremaining: 1.13s\n",
      "402:\tlearn: 0.3069260\ttotal: 762ms\tremaining: 1.13s\n",
      "403:\tlearn: 0.3066624\ttotal: 764ms\tremaining: 1.13s\n",
      "404:\tlearn: 0.3064005\ttotal: 765ms\tremaining: 1.12s\n",
      "405:\tlearn: 0.3062175\ttotal: 766ms\tremaining: 1.12s\n",
      "406:\tlearn: 0.3059133\ttotal: 768ms\tremaining: 1.12s\n",
      "407:\tlearn: 0.3056401\ttotal: 769ms\tremaining: 1.11s\n",
      "408:\tlearn: 0.3053706\ttotal: 771ms\tremaining: 1.11s\n",
      "409:\tlearn: 0.3051702\ttotal: 772ms\tremaining: 1.11s\n",
      "410:\tlearn: 0.3047998\ttotal: 774ms\tremaining: 1.11s\n",
      "411:\tlearn: 0.3044851\ttotal: 775ms\tremaining: 1.11s\n",
      "412:\tlearn: 0.3041596\ttotal: 776ms\tremaining: 1.1s\n",
      "413:\tlearn: 0.3039484\ttotal: 778ms\tremaining: 1.1s\n",
      "414:\tlearn: 0.3035868\ttotal: 779ms\tremaining: 1.1s\n",
      "415:\tlearn: 0.3034963\ttotal: 781ms\tremaining: 1.1s\n",
      "416:\tlearn: 0.3032978\ttotal: 782ms\tremaining: 1.09s\n",
      "417:\tlearn: 0.3029297\ttotal: 784ms\tremaining: 1.09s\n",
      "418:\tlearn: 0.3026614\ttotal: 785ms\tremaining: 1.09s\n",
      "419:\tlearn: 0.3025338\ttotal: 787ms\tremaining: 1.09s\n",
      "420:\tlearn: 0.3023329\ttotal: 788ms\tremaining: 1.08s\n",
      "421:\tlearn: 0.3020878\ttotal: 790ms\tremaining: 1.08s\n",
      "422:\tlearn: 0.3018350\ttotal: 791ms\tremaining: 1.08s\n",
      "423:\tlearn: 0.3016547\ttotal: 792ms\tremaining: 1.08s\n",
      "424:\tlearn: 0.3013340\ttotal: 794ms\tremaining: 1.07s\n",
      "425:\tlearn: 0.3012067\ttotal: 795ms\tremaining: 1.07s\n",
      "426:\tlearn: 0.3010644\ttotal: 797ms\tremaining: 1.07s\n",
      "427:\tlearn: 0.3008560\ttotal: 798ms\tremaining: 1.07s\n",
      "428:\tlearn: 0.3007435\ttotal: 800ms\tremaining: 1.06s\n",
      "429:\tlearn: 0.3005282\ttotal: 801ms\tremaining: 1.06s\n",
      "430:\tlearn: 0.3002332\ttotal: 802ms\tremaining: 1.06s\n",
      "431:\tlearn: 0.2999973\ttotal: 804ms\tremaining: 1.06s\n",
      "432:\tlearn: 0.2998342\ttotal: 805ms\tremaining: 1.05s\n",
      "433:\tlearn: 0.2995772\ttotal: 807ms\tremaining: 1.05s\n",
      "434:\tlearn: 0.2994191\ttotal: 808ms\tremaining: 1.05s\n",
      "435:\tlearn: 0.2992121\ttotal: 810ms\tremaining: 1.05s\n",
      "436:\tlearn: 0.2990371\ttotal: 811ms\tremaining: 1.04s\n",
      "437:\tlearn: 0.2988313\ttotal: 812ms\tremaining: 1.04s\n",
      "438:\tlearn: 0.2986686\ttotal: 814ms\tremaining: 1.04s\n",
      "439:\tlearn: 0.2985372\ttotal: 815ms\tremaining: 1.04s\n",
      "440:\tlearn: 0.2982802\ttotal: 817ms\tremaining: 1.03s\n",
      "441:\tlearn: 0.2978098\ttotal: 818ms\tremaining: 1.03s\n",
      "442:\tlearn: 0.2975569\ttotal: 820ms\tremaining: 1.03s\n",
      "443:\tlearn: 0.2974696\ttotal: 821ms\tremaining: 1.03s\n",
      "444:\tlearn: 0.2971000\ttotal: 822ms\tremaining: 1.02s\n",
      "445:\tlearn: 0.2968185\ttotal: 824ms\tremaining: 1.02s\n",
      "446:\tlearn: 0.2965820\ttotal: 825ms\tremaining: 1.02s\n",
      "447:\tlearn: 0.2963367\ttotal: 827ms\tremaining: 1.02s\n",
      "448:\tlearn: 0.2962052\ttotal: 828ms\tremaining: 1.02s\n",
      "449:\tlearn: 0.2958710\ttotal: 830ms\tremaining: 1.01s\n",
      "450:\tlearn: 0.2957278\ttotal: 831ms\tremaining: 1.01s\n",
      "451:\tlearn: 0.2954078\ttotal: 832ms\tremaining: 1.01s\n",
      "452:\tlearn: 0.2950464\ttotal: 834ms\tremaining: 1.01s\n",
      "453:\tlearn: 0.2943738\ttotal: 835ms\tremaining: 1s\n",
      "454:\tlearn: 0.2940240\ttotal: 837ms\tremaining: 1s\n",
      "455:\tlearn: 0.2937387\ttotal: 838ms\tremaining: 1s\n",
      "456:\tlearn: 0.2932645\ttotal: 840ms\tremaining: 998ms\n",
      "457:\tlearn: 0.2930212\ttotal: 841ms\tremaining: 996ms\n",
      "458:\tlearn: 0.2927047\ttotal: 843ms\tremaining: 993ms\n",
      "459:\tlearn: 0.2925782\ttotal: 844ms\tremaining: 991ms\n",
      "460:\tlearn: 0.2923455\ttotal: 846ms\tremaining: 989ms\n",
      "461:\tlearn: 0.2921114\ttotal: 847ms\tremaining: 987ms\n",
      "462:\tlearn: 0.2918372\ttotal: 849ms\tremaining: 985ms\n",
      "463:\tlearn: 0.2916646\ttotal: 851ms\tremaining: 983ms\n",
      "464:\tlearn: 0.2914858\ttotal: 852ms\tremaining: 980ms\n",
      "465:\tlearn: 0.2913746\ttotal: 853ms\tremaining: 978ms\n",
      "466:\tlearn: 0.2911112\ttotal: 855ms\tremaining: 976ms\n",
      "467:\tlearn: 0.2909419\ttotal: 856ms\tremaining: 973ms\n",
      "468:\tlearn: 0.2907768\ttotal: 858ms\tremaining: 971ms\n",
      "469:\tlearn: 0.2905672\ttotal: 859ms\tremaining: 969ms\n",
      "470:\tlearn: 0.2902868\ttotal: 860ms\tremaining: 966ms\n",
      "471:\tlearn: 0.2901459\ttotal: 862ms\tremaining: 964ms\n",
      "472:\tlearn: 0.2895721\ttotal: 863ms\tremaining: 962ms\n",
      "473:\tlearn: 0.2893069\ttotal: 865ms\tremaining: 960ms\n",
      "474:\tlearn: 0.2892238\ttotal: 866ms\tremaining: 957ms\n",
      "475:\tlearn: 0.2890793\ttotal: 868ms\tremaining: 955ms\n",
      "476:\tlearn: 0.2888606\ttotal: 869ms\tremaining: 953ms\n",
      "477:\tlearn: 0.2885725\ttotal: 871ms\tremaining: 951ms\n",
      "478:\tlearn: 0.2884059\ttotal: 872ms\tremaining: 949ms\n",
      "479:\tlearn: 0.2881226\ttotal: 874ms\tremaining: 946ms\n",
      "480:\tlearn: 0.2878577\ttotal: 875ms\tremaining: 944ms\n",
      "481:\tlearn: 0.2876443\ttotal: 876ms\tremaining: 942ms\n",
      "482:\tlearn: 0.2872679\ttotal: 878ms\tremaining: 940ms\n",
      "483:\tlearn: 0.2869225\ttotal: 879ms\tremaining: 937ms\n",
      "484:\tlearn: 0.2867176\ttotal: 881ms\tremaining: 935ms\n",
      "485:\tlearn: 0.2863829\ttotal: 882ms\tremaining: 933ms\n",
      "486:\tlearn: 0.2862343\ttotal: 884ms\tremaining: 931ms\n",
      "487:\tlearn: 0.2860281\ttotal: 885ms\tremaining: 928ms\n",
      "488:\tlearn: 0.2858158\ttotal: 887ms\tremaining: 926ms\n",
      "489:\tlearn: 0.2857030\ttotal: 888ms\tremaining: 924ms\n",
      "490:\tlearn: 0.2853467\ttotal: 889ms\tremaining: 922ms\n",
      "491:\tlearn: 0.2852238\ttotal: 891ms\tremaining: 920ms\n",
      "492:\tlearn: 0.2848703\ttotal: 892ms\tremaining: 918ms\n",
      "493:\tlearn: 0.2847930\ttotal: 894ms\tremaining: 915ms\n",
      "494:\tlearn: 0.2844460\ttotal: 895ms\tremaining: 913ms\n",
      "495:\tlearn: 0.2842826\ttotal: 897ms\tremaining: 911ms\n",
      "496:\tlearn: 0.2840736\ttotal: 898ms\tremaining: 909ms\n",
      "497:\tlearn: 0.2838086\ttotal: 899ms\tremaining: 907ms\n",
      "498:\tlearn: 0.2836780\ttotal: 901ms\tremaining: 904ms\n",
      "499:\tlearn: 0.2835099\ttotal: 902ms\tremaining: 902ms\n",
      "500:\tlearn: 0.2833241\ttotal: 904ms\tremaining: 900ms\n",
      "501:\tlearn: 0.2831782\ttotal: 905ms\tremaining: 898ms\n",
      "502:\tlearn: 0.2829458\ttotal: 907ms\tremaining: 896ms\n",
      "503:\tlearn: 0.2824786\ttotal: 908ms\tremaining: 894ms\n",
      "504:\tlearn: 0.2823866\ttotal: 910ms\tremaining: 892ms\n",
      "505:\tlearn: 0.2821895\ttotal: 911ms\tremaining: 889ms\n",
      "506:\tlearn: 0.2817553\ttotal: 913ms\tremaining: 887ms\n",
      "507:\tlearn: 0.2815476\ttotal: 914ms\tremaining: 885ms\n",
      "508:\tlearn: 0.2813923\ttotal: 916ms\tremaining: 883ms\n",
      "509:\tlearn: 0.2812253\ttotal: 917ms\tremaining: 881ms\n",
      "510:\tlearn: 0.2811270\ttotal: 918ms\tremaining: 879ms\n",
      "511:\tlearn: 0.2809442\ttotal: 920ms\tremaining: 877ms\n",
      "512:\tlearn: 0.2806583\ttotal: 921ms\tremaining: 875ms\n",
      "513:\tlearn: 0.2804053\ttotal: 923ms\tremaining: 873ms\n",
      "514:\tlearn: 0.2802933\ttotal: 924ms\tremaining: 871ms\n",
      "515:\tlearn: 0.2802130\ttotal: 926ms\tremaining: 868ms\n",
      "516:\tlearn: 0.2800198\ttotal: 927ms\tremaining: 866ms\n",
      "517:\tlearn: 0.2797297\ttotal: 929ms\tremaining: 864ms\n",
      "518:\tlearn: 0.2792613\ttotal: 930ms\tremaining: 862ms\n",
      "519:\tlearn: 0.2791178\ttotal: 932ms\tremaining: 860ms\n",
      "520:\tlearn: 0.2787684\ttotal: 933ms\tremaining: 858ms\n",
      "521:\tlearn: 0.2785238\ttotal: 934ms\tremaining: 856ms\n",
      "522:\tlearn: 0.2784354\ttotal: 936ms\tremaining: 854ms\n",
      "523:\tlearn: 0.2782083\ttotal: 937ms\tremaining: 852ms\n",
      "524:\tlearn: 0.2779862\ttotal: 939ms\tremaining: 849ms\n",
      "525:\tlearn: 0.2778577\ttotal: 940ms\tremaining: 847ms\n",
      "526:\tlearn: 0.2776799\ttotal: 942ms\tremaining: 845ms\n",
      "527:\tlearn: 0.2774047\ttotal: 943ms\tremaining: 843ms\n",
      "528:\tlearn: 0.2770705\ttotal: 945ms\tremaining: 841ms\n",
      "529:\tlearn: 0.2767879\ttotal: 946ms\tremaining: 839ms\n",
      "530:\tlearn: 0.2765573\ttotal: 947ms\tremaining: 837ms\n",
      "531:\tlearn: 0.2762926\ttotal: 949ms\tremaining: 835ms\n",
      "532:\tlearn: 0.2760226\ttotal: 950ms\tremaining: 833ms\n",
      "533:\tlearn: 0.2759634\ttotal: 952ms\tremaining: 831ms\n",
      "534:\tlearn: 0.2755854\ttotal: 953ms\tremaining: 828ms\n",
      "535:\tlearn: 0.2753839\ttotal: 955ms\tremaining: 827ms\n",
      "536:\tlearn: 0.2748993\ttotal: 956ms\tremaining: 825ms\n",
      "537:\tlearn: 0.2747174\ttotal: 958ms\tremaining: 823ms\n",
      "538:\tlearn: 0.2745669\ttotal: 959ms\tremaining: 820ms\n",
      "539:\tlearn: 0.2742959\ttotal: 961ms\tremaining: 819ms\n",
      "540:\tlearn: 0.2740799\ttotal: 963ms\tremaining: 817ms\n",
      "541:\tlearn: 0.2739597\ttotal: 965ms\tremaining: 815ms\n",
      "542:\tlearn: 0.2737468\ttotal: 967ms\tremaining: 814ms\n",
      "543:\tlearn: 0.2736213\ttotal: 969ms\tremaining: 813ms\n",
      "544:\tlearn: 0.2734265\ttotal: 971ms\tremaining: 811ms\n",
      "545:\tlearn: 0.2731554\ttotal: 973ms\tremaining: 809ms\n",
      "546:\tlearn: 0.2730985\ttotal: 974ms\tremaining: 807ms\n",
      "547:\tlearn: 0.2727592\ttotal: 975ms\tremaining: 805ms\n",
      "548:\tlearn: 0.2725759\ttotal: 977ms\tremaining: 802ms\n",
      "549:\tlearn: 0.2723701\ttotal: 978ms\tremaining: 800ms\n",
      "550:\tlearn: 0.2720963\ttotal: 980ms\tremaining: 798ms\n",
      "551:\tlearn: 0.2717838\ttotal: 981ms\tremaining: 796ms\n",
      "552:\tlearn: 0.2716459\ttotal: 982ms\tremaining: 794ms\n",
      "553:\tlearn: 0.2714241\ttotal: 984ms\tremaining: 792ms\n",
      "554:\tlearn: 0.2710796\ttotal: 985ms\tremaining: 790ms\n",
      "555:\tlearn: 0.2708530\ttotal: 987ms\tremaining: 788ms\n",
      "556:\tlearn: 0.2707057\ttotal: 988ms\tremaining: 786ms\n",
      "557:\tlearn: 0.2702598\ttotal: 990ms\tremaining: 784ms\n",
      "558:\tlearn: 0.2701429\ttotal: 991ms\tremaining: 782ms\n",
      "559:\tlearn: 0.2699466\ttotal: 993ms\tremaining: 780ms\n",
      "560:\tlearn: 0.2697293\ttotal: 995ms\tremaining: 778ms\n",
      "561:\tlearn: 0.2694486\ttotal: 996ms\tremaining: 776ms\n",
      "562:\tlearn: 0.2690466\ttotal: 998ms\tremaining: 774ms\n",
      "563:\tlearn: 0.2689248\ttotal: 999ms\tremaining: 772ms\n",
      "564:\tlearn: 0.2686948\ttotal: 1s\tremaining: 770ms\n",
      "565:\tlearn: 0.2685619\ttotal: 1s\tremaining: 768ms\n",
      "566:\tlearn: 0.2683828\ttotal: 1s\tremaining: 766ms\n",
      "567:\tlearn: 0.2679790\ttotal: 1s\tremaining: 765ms\n",
      "568:\tlearn: 0.2678450\ttotal: 1.01s\tremaining: 763ms\n",
      "569:\tlearn: 0.2676119\ttotal: 1.01s\tremaining: 762ms\n",
      "570:\tlearn: 0.2673814\ttotal: 1.01s\tremaining: 760ms\n",
      "571:\tlearn: 0.2672294\ttotal: 1.01s\tremaining: 758ms\n",
      "572:\tlearn: 0.2669753\ttotal: 1.01s\tremaining: 756ms\n",
      "573:\tlearn: 0.2668201\ttotal: 1.02s\tremaining: 754ms\n",
      "574:\tlearn: 0.2663744\ttotal: 1.02s\tremaining: 752ms\n",
      "575:\tlearn: 0.2663089\ttotal: 1.02s\tremaining: 750ms\n",
      "576:\tlearn: 0.2661984\ttotal: 1.02s\tremaining: 748ms\n",
      "577:\tlearn: 0.2657423\ttotal: 1.02s\tremaining: 746ms\n",
      "578:\tlearn: 0.2655906\ttotal: 1.02s\tremaining: 744ms\n",
      "579:\tlearn: 0.2652973\ttotal: 1.02s\tremaining: 742ms\n",
      "580:\tlearn: 0.2651702\ttotal: 1.03s\tremaining: 740ms\n",
      "581:\tlearn: 0.2649804\ttotal: 1.03s\tremaining: 738ms\n",
      "582:\tlearn: 0.2648733\ttotal: 1.03s\tremaining: 736ms\n",
      "583:\tlearn: 0.2645161\ttotal: 1.03s\tremaining: 735ms\n",
      "584:\tlearn: 0.2643629\ttotal: 1.03s\tremaining: 733ms\n",
      "585:\tlearn: 0.2640424\ttotal: 1.03s\tremaining: 731ms\n",
      "586:\tlearn: 0.2639059\ttotal: 1.03s\tremaining: 729ms\n",
      "587:\tlearn: 0.2635783\ttotal: 1.04s\tremaining: 727ms\n",
      "588:\tlearn: 0.2633252\ttotal: 1.04s\tremaining: 725ms\n",
      "589:\tlearn: 0.2631536\ttotal: 1.04s\tremaining: 723ms\n",
      "590:\tlearn: 0.2629800\ttotal: 1.04s\tremaining: 721ms\n",
      "591:\tlearn: 0.2626833\ttotal: 1.04s\tremaining: 719ms\n",
      "592:\tlearn: 0.2624857\ttotal: 1.04s\tremaining: 717ms\n",
      "593:\tlearn: 0.2622796\ttotal: 1.04s\tremaining: 715ms\n",
      "594:\tlearn: 0.2619838\ttotal: 1.05s\tremaining: 713ms\n",
      "595:\tlearn: 0.2618002\ttotal: 1.05s\tremaining: 711ms\n",
      "596:\tlearn: 0.2615721\ttotal: 1.05s\tremaining: 709ms\n",
      "597:\tlearn: 0.2615152\ttotal: 1.05s\tremaining: 707ms\n",
      "598:\tlearn: 0.2613501\ttotal: 1.05s\tremaining: 705ms\n",
      "599:\tlearn: 0.2611080\ttotal: 1.05s\tremaining: 703ms\n",
      "600:\tlearn: 0.2609645\ttotal: 1.05s\tremaining: 701ms\n",
      "601:\tlearn: 0.2606897\ttotal: 1.06s\tremaining: 699ms\n",
      "602:\tlearn: 0.2602639\ttotal: 1.06s\tremaining: 697ms\n",
      "603:\tlearn: 0.2599329\ttotal: 1.06s\tremaining: 695ms\n",
      "604:\tlearn: 0.2597957\ttotal: 1.06s\tremaining: 693ms\n",
      "605:\tlearn: 0.2595943\ttotal: 1.06s\tremaining: 691ms\n",
      "606:\tlearn: 0.2593111\ttotal: 1.06s\tremaining: 689ms\n",
      "607:\tlearn: 0.2591161\ttotal: 1.07s\tremaining: 688ms\n",
      "608:\tlearn: 0.2588429\ttotal: 1.07s\tremaining: 686ms\n",
      "609:\tlearn: 0.2586168\ttotal: 1.07s\tremaining: 684ms\n",
      "610:\tlearn: 0.2583814\ttotal: 1.07s\tremaining: 682ms\n",
      "611:\tlearn: 0.2582859\ttotal: 1.07s\tremaining: 680ms\n",
      "612:\tlearn: 0.2581228\ttotal: 1.07s\tremaining: 679ms\n",
      "613:\tlearn: 0.2576821\ttotal: 1.08s\tremaining: 677ms\n",
      "614:\tlearn: 0.2573665\ttotal: 1.08s\tremaining: 675ms\n",
      "615:\tlearn: 0.2571712\ttotal: 1.08s\tremaining: 673ms\n",
      "616:\tlearn: 0.2569123\ttotal: 1.08s\tremaining: 671ms\n",
      "617:\tlearn: 0.2567421\ttotal: 1.08s\tremaining: 669ms\n",
      "618:\tlearn: 0.2565468\ttotal: 1.08s\tremaining: 667ms\n",
      "619:\tlearn: 0.2560903\ttotal: 1.08s\tremaining: 665ms\n",
      "620:\tlearn: 0.2558848\ttotal: 1.09s\tremaining: 663ms\n",
      "621:\tlearn: 0.2557082\ttotal: 1.09s\tremaining: 661ms\n",
      "622:\tlearn: 0.2555673\ttotal: 1.09s\tremaining: 660ms\n",
      "623:\tlearn: 0.2553104\ttotal: 1.09s\tremaining: 658ms\n",
      "624:\tlearn: 0.2551517\ttotal: 1.09s\tremaining: 656ms\n",
      "625:\tlearn: 0.2548730\ttotal: 1.09s\tremaining: 654ms\n",
      "626:\tlearn: 0.2547001\ttotal: 1.09s\tremaining: 652ms\n",
      "627:\tlearn: 0.2545593\ttotal: 1.1s\tremaining: 650ms\n",
      "628:\tlearn: 0.2543065\ttotal: 1.1s\tremaining: 648ms\n",
      "629:\tlearn: 0.2541924\ttotal: 1.1s\tremaining: 646ms\n",
      "630:\tlearn: 0.2540412\ttotal: 1.1s\tremaining: 644ms\n",
      "631:\tlearn: 0.2540272\ttotal: 1.1s\tremaining: 642ms\n",
      "632:\tlearn: 0.2538574\ttotal: 1.1s\tremaining: 640ms\n",
      "633:\tlearn: 0.2535445\ttotal: 1.1s\tremaining: 638ms\n",
      "634:\tlearn: 0.2533613\ttotal: 1.11s\tremaining: 636ms\n",
      "635:\tlearn: 0.2532291\ttotal: 1.11s\tremaining: 635ms\n",
      "636:\tlearn: 0.2529860\ttotal: 1.11s\tremaining: 633ms\n",
      "637:\tlearn: 0.2529107\ttotal: 1.11s\tremaining: 631ms\n",
      "638:\tlearn: 0.2528306\ttotal: 1.11s\tremaining: 629ms\n",
      "639:\tlearn: 0.2527318\ttotal: 1.11s\tremaining: 627ms\n",
      "640:\tlearn: 0.2526089\ttotal: 1.11s\tremaining: 625ms\n",
      "641:\tlearn: 0.2523294\ttotal: 1.12s\tremaining: 623ms\n",
      "642:\tlearn: 0.2521745\ttotal: 1.12s\tremaining: 621ms\n",
      "643:\tlearn: 0.2520903\ttotal: 1.12s\tremaining: 619ms\n",
      "644:\tlearn: 0.2518111\ttotal: 1.12s\tremaining: 617ms\n",
      "645:\tlearn: 0.2517013\ttotal: 1.12s\tremaining: 615ms\n",
      "646:\tlearn: 0.2513785\ttotal: 1.12s\tremaining: 613ms\n",
      "647:\tlearn: 0.2510264\ttotal: 1.13s\tremaining: 612ms\n",
      "648:\tlearn: 0.2509075\ttotal: 1.13s\tremaining: 610ms\n",
      "649:\tlearn: 0.2507789\ttotal: 1.13s\tremaining: 608ms\n",
      "650:\tlearn: 0.2505793\ttotal: 1.13s\tremaining: 606ms\n",
      "651:\tlearn: 0.2504598\ttotal: 1.13s\tremaining: 604ms\n",
      "652:\tlearn: 0.2502472\ttotal: 1.13s\tremaining: 602ms\n",
      "653:\tlearn: 0.2501631\ttotal: 1.14s\tremaining: 601ms\n",
      "654:\tlearn: 0.2500554\ttotal: 1.14s\tremaining: 599ms\n",
      "655:\tlearn: 0.2499953\ttotal: 1.14s\tremaining: 597ms\n",
      "656:\tlearn: 0.2497997\ttotal: 1.14s\tremaining: 595ms\n",
      "657:\tlearn: 0.2496228\ttotal: 1.14s\tremaining: 593ms\n",
      "658:\tlearn: 0.2493790\ttotal: 1.14s\tremaining: 591ms\n",
      "659:\tlearn: 0.2490870\ttotal: 1.14s\tremaining: 589ms\n",
      "660:\tlearn: 0.2489131\ttotal: 1.15s\tremaining: 587ms\n",
      "661:\tlearn: 0.2487822\ttotal: 1.15s\tremaining: 585ms\n",
      "662:\tlearn: 0.2486344\ttotal: 1.15s\tremaining: 584ms\n",
      "663:\tlearn: 0.2485112\ttotal: 1.15s\tremaining: 582ms\n",
      "664:\tlearn: 0.2483456\ttotal: 1.15s\tremaining: 580ms\n",
      "665:\tlearn: 0.2478812\ttotal: 1.15s\tremaining: 578ms\n",
      "666:\tlearn: 0.2477720\ttotal: 1.15s\tremaining: 576ms\n",
      "667:\tlearn: 0.2476856\ttotal: 1.16s\tremaining: 574ms\n",
      "668:\tlearn: 0.2473703\ttotal: 1.16s\tremaining: 572ms\n",
      "669:\tlearn: 0.2469242\ttotal: 1.16s\tremaining: 571ms\n",
      "670:\tlearn: 0.2468015\ttotal: 1.16s\tremaining: 569ms\n",
      "671:\tlearn: 0.2464829\ttotal: 1.16s\tremaining: 567ms\n",
      "672:\tlearn: 0.2462695\ttotal: 1.16s\tremaining: 565ms\n",
      "673:\tlearn: 0.2460049\ttotal: 1.16s\tremaining: 563ms\n",
      "674:\tlearn: 0.2459397\ttotal: 1.17s\tremaining: 561ms\n",
      "675:\tlearn: 0.2457831\ttotal: 1.17s\tremaining: 559ms\n",
      "676:\tlearn: 0.2456189\ttotal: 1.17s\tremaining: 558ms\n",
      "677:\tlearn: 0.2453592\ttotal: 1.17s\tremaining: 556ms\n",
      "678:\tlearn: 0.2450781\ttotal: 1.17s\tremaining: 554ms\n",
      "679:\tlearn: 0.2449079\ttotal: 1.17s\tremaining: 552ms\n",
      "680:\tlearn: 0.2447622\ttotal: 1.17s\tremaining: 550ms\n",
      "681:\tlearn: 0.2446009\ttotal: 1.18s\tremaining: 548ms\n",
      "682:\tlearn: 0.2444911\ttotal: 1.18s\tremaining: 546ms\n",
      "683:\tlearn: 0.2442647\ttotal: 1.18s\tremaining: 545ms\n",
      "684:\tlearn: 0.2439881\ttotal: 1.18s\tremaining: 543ms\n",
      "685:\tlearn: 0.2438743\ttotal: 1.18s\tremaining: 541ms\n",
      "686:\tlearn: 0.2436232\ttotal: 1.18s\tremaining: 539ms\n",
      "687:\tlearn: 0.2432542\ttotal: 1.19s\tremaining: 537ms\n",
      "688:\tlearn: 0.2430422\ttotal: 1.19s\tremaining: 536ms\n",
      "689:\tlearn: 0.2427875\ttotal: 1.19s\tremaining: 534ms\n",
      "690:\tlearn: 0.2426080\ttotal: 1.19s\tremaining: 533ms\n",
      "691:\tlearn: 0.2423995\ttotal: 1.19s\tremaining: 531ms\n",
      "692:\tlearn: 0.2422839\ttotal: 1.19s\tremaining: 529ms\n",
      "693:\tlearn: 0.2419745\ttotal: 1.2s\tremaining: 528ms\n",
      "694:\tlearn: 0.2419342\ttotal: 1.2s\tremaining: 526ms\n",
      "695:\tlearn: 0.2417488\ttotal: 1.2s\tremaining: 524ms\n",
      "696:\tlearn: 0.2416767\ttotal: 1.2s\tremaining: 522ms\n",
      "697:\tlearn: 0.2415790\ttotal: 1.2s\tremaining: 520ms\n",
      "698:\tlearn: 0.2412939\ttotal: 1.2s\tremaining: 518ms\n",
      "699:\tlearn: 0.2411213\ttotal: 1.21s\tremaining: 516ms\n",
      "700:\tlearn: 0.2408446\ttotal: 1.21s\tremaining: 515ms\n",
      "701:\tlearn: 0.2405587\ttotal: 1.21s\tremaining: 513ms\n",
      "702:\tlearn: 0.2403313\ttotal: 1.21s\tremaining: 511ms\n",
      "703:\tlearn: 0.2401492\ttotal: 1.21s\tremaining: 510ms\n",
      "704:\tlearn: 0.2398918\ttotal: 1.21s\tremaining: 508ms\n",
      "705:\tlearn: 0.2396047\ttotal: 1.21s\tremaining: 506ms\n",
      "706:\tlearn: 0.2395006\ttotal: 1.22s\tremaining: 504ms\n",
      "707:\tlearn: 0.2394055\ttotal: 1.22s\tremaining: 502ms\n",
      "708:\tlearn: 0.2392352\ttotal: 1.22s\tremaining: 500ms\n",
      "709:\tlearn: 0.2390019\ttotal: 1.22s\tremaining: 499ms\n",
      "710:\tlearn: 0.2388457\ttotal: 1.22s\tremaining: 497ms\n",
      "711:\tlearn: 0.2386594\ttotal: 1.22s\tremaining: 495ms\n",
      "712:\tlearn: 0.2385861\ttotal: 1.23s\tremaining: 493ms\n",
      "713:\tlearn: 0.2383764\ttotal: 1.23s\tremaining: 491ms\n",
      "714:\tlearn: 0.2382499\ttotal: 1.23s\tremaining: 490ms\n",
      "715:\tlearn: 0.2380496\ttotal: 1.23s\tremaining: 488ms\n",
      "716:\tlearn: 0.2377915\ttotal: 1.23s\tremaining: 486ms\n",
      "717:\tlearn: 0.2376989\ttotal: 1.23s\tremaining: 484ms\n",
      "718:\tlearn: 0.2375933\ttotal: 1.23s\tremaining: 482ms\n",
      "719:\tlearn: 0.2374398\ttotal: 1.24s\tremaining: 481ms\n",
      "720:\tlearn: 0.2372318\ttotal: 1.24s\tremaining: 479ms\n",
      "721:\tlearn: 0.2370847\ttotal: 1.24s\tremaining: 477ms\n",
      "722:\tlearn: 0.2367496\ttotal: 1.24s\tremaining: 475ms\n",
      "723:\tlearn: 0.2363787\ttotal: 1.24s\tremaining: 473ms\n",
      "724:\tlearn: 0.2362295\ttotal: 1.24s\tremaining: 472ms\n",
      "725:\tlearn: 0.2361886\ttotal: 1.24s\tremaining: 470ms\n",
      "726:\tlearn: 0.2360077\ttotal: 1.25s\tremaining: 468ms\n",
      "727:\tlearn: 0.2358936\ttotal: 1.25s\tremaining: 466ms\n",
      "728:\tlearn: 0.2357625\ttotal: 1.25s\tremaining: 464ms\n",
      "729:\tlearn: 0.2356657\ttotal: 1.25s\tremaining: 463ms\n",
      "730:\tlearn: 0.2355083\ttotal: 1.25s\tremaining: 461ms\n",
      "731:\tlearn: 0.2354345\ttotal: 1.25s\tremaining: 459ms\n",
      "732:\tlearn: 0.2353153\ttotal: 1.25s\tremaining: 457ms\n",
      "733:\tlearn: 0.2352290\ttotal: 1.26s\tremaining: 455ms\n",
      "734:\tlearn: 0.2351001\ttotal: 1.26s\tremaining: 454ms\n",
      "735:\tlearn: 0.2349968\ttotal: 1.26s\tremaining: 452ms\n",
      "736:\tlearn: 0.2349104\ttotal: 1.26s\tremaining: 450ms\n",
      "737:\tlearn: 0.2348057\ttotal: 1.26s\tremaining: 448ms\n",
      "738:\tlearn: 0.2346429\ttotal: 1.26s\tremaining: 446ms\n",
      "739:\tlearn: 0.2344062\ttotal: 1.26s\tremaining: 445ms\n",
      "740:\tlearn: 0.2343251\ttotal: 1.27s\tremaining: 443ms\n",
      "741:\tlearn: 0.2339286\ttotal: 1.27s\tremaining: 441ms\n",
      "742:\tlearn: 0.2337558\ttotal: 1.27s\tremaining: 439ms\n",
      "743:\tlearn: 0.2336824\ttotal: 1.27s\tremaining: 437ms\n",
      "744:\tlearn: 0.2336136\ttotal: 1.27s\tremaining: 435ms\n",
      "745:\tlearn: 0.2334585\ttotal: 1.27s\tremaining: 434ms\n",
      "746:\tlearn: 0.2330439\ttotal: 1.27s\tremaining: 432ms\n",
      "747:\tlearn: 0.2327640\ttotal: 1.28s\tremaining: 430ms\n",
      "748:\tlearn: 0.2325958\ttotal: 1.28s\tremaining: 428ms\n",
      "749:\tlearn: 0.2323885\ttotal: 1.28s\tremaining: 426ms\n",
      "750:\tlearn: 0.2321622\ttotal: 1.28s\tremaining: 425ms\n",
      "751:\tlearn: 0.2320129\ttotal: 1.28s\tremaining: 423ms\n",
      "752:\tlearn: 0.2319447\ttotal: 1.28s\tremaining: 421ms\n",
      "753:\tlearn: 0.2318012\ttotal: 1.28s\tremaining: 419ms\n",
      "754:\tlearn: 0.2316776\ttotal: 1.29s\tremaining: 418ms\n",
      "755:\tlearn: 0.2315503\ttotal: 1.29s\tremaining: 416ms\n",
      "756:\tlearn: 0.2313964\ttotal: 1.29s\tremaining: 414ms\n",
      "757:\tlearn: 0.2313403\ttotal: 1.29s\tremaining: 412ms\n",
      "758:\tlearn: 0.2311582\ttotal: 1.29s\tremaining: 410ms\n",
      "759:\tlearn: 0.2309643\ttotal: 1.29s\tremaining: 409ms\n",
      "760:\tlearn: 0.2308683\ttotal: 1.29s\tremaining: 407ms\n",
      "761:\tlearn: 0.2306519\ttotal: 1.3s\tremaining: 405ms\n",
      "762:\tlearn: 0.2304512\ttotal: 1.3s\tremaining: 403ms\n",
      "763:\tlearn: 0.2303585\ttotal: 1.3s\tremaining: 402ms\n",
      "764:\tlearn: 0.2301186\ttotal: 1.3s\tremaining: 400ms\n",
      "765:\tlearn: 0.2299520\ttotal: 1.3s\tremaining: 398ms\n",
      "766:\tlearn: 0.2298211\ttotal: 1.3s\tremaining: 396ms\n",
      "767:\tlearn: 0.2296461\ttotal: 1.3s\tremaining: 394ms\n",
      "768:\tlearn: 0.2294316\ttotal: 1.31s\tremaining: 393ms\n",
      "769:\tlearn: 0.2292530\ttotal: 1.31s\tremaining: 391ms\n",
      "770:\tlearn: 0.2290728\ttotal: 1.31s\tremaining: 389ms\n",
      "771:\tlearn: 0.2288433\ttotal: 1.31s\tremaining: 387ms\n",
      "772:\tlearn: 0.2287000\ttotal: 1.31s\tremaining: 386ms\n",
      "773:\tlearn: 0.2284832\ttotal: 1.31s\tremaining: 384ms\n",
      "774:\tlearn: 0.2283585\ttotal: 1.31s\tremaining: 382ms\n",
      "775:\tlearn: 0.2282229\ttotal: 1.32s\tremaining: 380ms\n",
      "776:\tlearn: 0.2281303\ttotal: 1.32s\tremaining: 379ms\n",
      "777:\tlearn: 0.2279449\ttotal: 1.32s\tremaining: 377ms\n",
      "778:\tlearn: 0.2277649\ttotal: 1.32s\tremaining: 375ms\n",
      "779:\tlearn: 0.2276696\ttotal: 1.32s\tremaining: 373ms\n",
      "780:\tlearn: 0.2274767\ttotal: 1.32s\tremaining: 371ms\n",
      "781:\tlearn: 0.2272327\ttotal: 1.33s\tremaining: 370ms\n",
      "782:\tlearn: 0.2270917\ttotal: 1.33s\tremaining: 368ms\n",
      "783:\tlearn: 0.2269343\ttotal: 1.33s\tremaining: 366ms\n",
      "784:\tlearn: 0.2266742\ttotal: 1.33s\tremaining: 364ms\n",
      "785:\tlearn: 0.2264986\ttotal: 1.33s\tremaining: 363ms\n",
      "786:\tlearn: 0.2263188\ttotal: 1.33s\tremaining: 361ms\n",
      "787:\tlearn: 0.2261086\ttotal: 1.33s\tremaining: 359ms\n",
      "788:\tlearn: 0.2258824\ttotal: 1.34s\tremaining: 357ms\n",
      "789:\tlearn: 0.2256495\ttotal: 1.34s\tremaining: 356ms\n",
      "790:\tlearn: 0.2253640\ttotal: 1.34s\tremaining: 354ms\n",
      "791:\tlearn: 0.2253015\ttotal: 1.34s\tremaining: 352ms\n",
      "792:\tlearn: 0.2251932\ttotal: 1.34s\tremaining: 350ms\n",
      "793:\tlearn: 0.2250610\ttotal: 1.34s\tremaining: 349ms\n",
      "794:\tlearn: 0.2249378\ttotal: 1.34s\tremaining: 347ms\n",
      "795:\tlearn: 0.2247418\ttotal: 1.35s\tremaining: 345ms\n",
      "796:\tlearn: 0.2243590\ttotal: 1.35s\tremaining: 343ms\n",
      "797:\tlearn: 0.2241881\ttotal: 1.35s\tremaining: 342ms\n",
      "798:\tlearn: 0.2239846\ttotal: 1.35s\tremaining: 340ms\n",
      "799:\tlearn: 0.2238098\ttotal: 1.35s\tremaining: 338ms\n",
      "800:\tlearn: 0.2237013\ttotal: 1.35s\tremaining: 337ms\n",
      "801:\tlearn: 0.2235843\ttotal: 1.36s\tremaining: 335ms\n",
      "802:\tlearn: 0.2234171\ttotal: 1.36s\tremaining: 333ms\n",
      "803:\tlearn: 0.2232202\ttotal: 1.36s\tremaining: 331ms\n",
      "804:\tlearn: 0.2230832\ttotal: 1.36s\tremaining: 330ms\n",
      "805:\tlearn: 0.2229630\ttotal: 1.36s\tremaining: 328ms\n",
      "806:\tlearn: 0.2227556\ttotal: 1.36s\tremaining: 326ms\n",
      "807:\tlearn: 0.2225513\ttotal: 1.36s\tremaining: 324ms\n",
      "808:\tlearn: 0.2224407\ttotal: 1.37s\tremaining: 323ms\n",
      "809:\tlearn: 0.2223815\ttotal: 1.37s\tremaining: 321ms\n",
      "810:\tlearn: 0.2221158\ttotal: 1.37s\tremaining: 319ms\n",
      "811:\tlearn: 0.2218880\ttotal: 1.37s\tremaining: 318ms\n",
      "812:\tlearn: 0.2217191\ttotal: 1.37s\tremaining: 316ms\n",
      "813:\tlearn: 0.2216216\ttotal: 1.37s\tremaining: 314ms\n",
      "814:\tlearn: 0.2214471\ttotal: 1.38s\tremaining: 312ms\n",
      "815:\tlearn: 0.2212460\ttotal: 1.38s\tremaining: 311ms\n",
      "816:\tlearn: 0.2210716\ttotal: 1.38s\tremaining: 309ms\n",
      "817:\tlearn: 0.2207700\ttotal: 1.38s\tremaining: 307ms\n",
      "818:\tlearn: 0.2206518\ttotal: 1.38s\tremaining: 305ms\n",
      "819:\tlearn: 0.2205547\ttotal: 1.38s\tremaining: 304ms\n",
      "820:\tlearn: 0.2202621\ttotal: 1.39s\tremaining: 302ms\n",
      "821:\tlearn: 0.2200709\ttotal: 1.39s\tremaining: 300ms\n",
      "822:\tlearn: 0.2199827\ttotal: 1.39s\tremaining: 299ms\n",
      "823:\tlearn: 0.2198117\ttotal: 1.39s\tremaining: 297ms\n",
      "824:\tlearn: 0.2196338\ttotal: 1.39s\tremaining: 295ms\n",
      "825:\tlearn: 0.2193833\ttotal: 1.39s\tremaining: 293ms\n",
      "826:\tlearn: 0.2191040\ttotal: 1.39s\tremaining: 292ms\n",
      "827:\tlearn: 0.2188188\ttotal: 1.4s\tremaining: 290ms\n",
      "828:\tlearn: 0.2186232\ttotal: 1.4s\tremaining: 288ms\n",
      "829:\tlearn: 0.2184637\ttotal: 1.4s\tremaining: 287ms\n",
      "830:\tlearn: 0.2183447\ttotal: 1.4s\tremaining: 285ms\n",
      "831:\tlearn: 0.2181185\ttotal: 1.4s\tremaining: 283ms\n",
      "832:\tlearn: 0.2179230\ttotal: 1.4s\tremaining: 281ms\n",
      "833:\tlearn: 0.2177289\ttotal: 1.41s\tremaining: 280ms\n",
      "834:\tlearn: 0.2174576\ttotal: 1.41s\tremaining: 278ms\n",
      "835:\tlearn: 0.2173258\ttotal: 1.41s\tremaining: 276ms\n",
      "836:\tlearn: 0.2171739\ttotal: 1.41s\tremaining: 275ms\n",
      "837:\tlearn: 0.2169270\ttotal: 1.41s\tremaining: 273ms\n",
      "838:\tlearn: 0.2166864\ttotal: 1.41s\tremaining: 271ms\n",
      "839:\tlearn: 0.2164157\ttotal: 1.41s\tremaining: 269ms\n",
      "840:\tlearn: 0.2163378\ttotal: 1.42s\tremaining: 268ms\n",
      "841:\tlearn: 0.2162199\ttotal: 1.42s\tremaining: 266ms\n",
      "842:\tlearn: 0.2158899\ttotal: 1.42s\tremaining: 264ms\n",
      "843:\tlearn: 0.2158699\ttotal: 1.42s\tremaining: 263ms\n",
      "844:\tlearn: 0.2157586\ttotal: 1.42s\tremaining: 261ms\n",
      "845:\tlearn: 0.2155410\ttotal: 1.42s\tremaining: 259ms\n",
      "846:\tlearn: 0.2153727\ttotal: 1.43s\tremaining: 257ms\n",
      "847:\tlearn: 0.2151920\ttotal: 1.43s\tremaining: 256ms\n",
      "848:\tlearn: 0.2148853\ttotal: 1.43s\tremaining: 254ms\n",
      "849:\tlearn: 0.2148101\ttotal: 1.43s\tremaining: 252ms\n",
      "850:\tlearn: 0.2146415\ttotal: 1.43s\tremaining: 251ms\n",
      "851:\tlearn: 0.2144046\ttotal: 1.43s\tremaining: 249ms\n",
      "852:\tlearn: 0.2143299\ttotal: 1.44s\tremaining: 247ms\n",
      "853:\tlearn: 0.2141792\ttotal: 1.44s\tremaining: 246ms\n",
      "854:\tlearn: 0.2141206\ttotal: 1.44s\tremaining: 244ms\n",
      "855:\tlearn: 0.2139337\ttotal: 1.44s\tremaining: 242ms\n",
      "856:\tlearn: 0.2136557\ttotal: 1.44s\tremaining: 241ms\n",
      "857:\tlearn: 0.2134691\ttotal: 1.44s\tremaining: 239ms\n",
      "858:\tlearn: 0.2132437\ttotal: 1.44s\tremaining: 237ms\n",
      "859:\tlearn: 0.2130466\ttotal: 1.45s\tremaining: 235ms\n",
      "860:\tlearn: 0.2129277\ttotal: 1.45s\tremaining: 234ms\n",
      "861:\tlearn: 0.2125050\ttotal: 1.45s\tremaining: 232ms\n",
      "862:\tlearn: 0.2122203\ttotal: 1.45s\tremaining: 230ms\n",
      "863:\tlearn: 0.2121312\ttotal: 1.45s\tremaining: 229ms\n",
      "864:\tlearn: 0.2120307\ttotal: 1.45s\tremaining: 227ms\n",
      "865:\tlearn: 0.2118465\ttotal: 1.46s\tremaining: 225ms\n",
      "866:\tlearn: 0.2117302\ttotal: 1.46s\tremaining: 224ms\n",
      "867:\tlearn: 0.2114227\ttotal: 1.46s\tremaining: 222ms\n",
      "868:\tlearn: 0.2113260\ttotal: 1.46s\tremaining: 220ms\n",
      "869:\tlearn: 0.2111942\ttotal: 1.46s\tremaining: 218ms\n",
      "870:\tlearn: 0.2110035\ttotal: 1.46s\tremaining: 217ms\n",
      "871:\tlearn: 0.2107816\ttotal: 1.46s\tremaining: 215ms\n",
      "872:\tlearn: 0.2104724\ttotal: 1.47s\tremaining: 213ms\n",
      "873:\tlearn: 0.2102684\ttotal: 1.47s\tremaining: 212ms\n",
      "874:\tlearn: 0.2101032\ttotal: 1.47s\tremaining: 210ms\n",
      "875:\tlearn: 0.2099989\ttotal: 1.47s\tremaining: 208ms\n",
      "876:\tlearn: 0.2099035\ttotal: 1.47s\tremaining: 206ms\n",
      "877:\tlearn: 0.2097173\ttotal: 1.47s\tremaining: 205ms\n",
      "878:\tlearn: 0.2095486\ttotal: 1.48s\tremaining: 203ms\n",
      "879:\tlearn: 0.2093830\ttotal: 1.48s\tremaining: 201ms\n",
      "880:\tlearn: 0.2092829\ttotal: 1.48s\tremaining: 200ms\n",
      "881:\tlearn: 0.2089713\ttotal: 1.48s\tremaining: 198ms\n",
      "882:\tlearn: 0.2087959\ttotal: 1.48s\tremaining: 196ms\n",
      "883:\tlearn: 0.2087119\ttotal: 1.48s\tremaining: 195ms\n",
      "884:\tlearn: 0.2086137\ttotal: 1.48s\tremaining: 193ms\n",
      "885:\tlearn: 0.2084851\ttotal: 1.49s\tremaining: 191ms\n",
      "886:\tlearn: 0.2082519\ttotal: 1.49s\tremaining: 189ms\n",
      "887:\tlearn: 0.2082281\ttotal: 1.49s\tremaining: 188ms\n",
      "888:\tlearn: 0.2080446\ttotal: 1.49s\tremaining: 186ms\n",
      "889:\tlearn: 0.2079331\ttotal: 1.49s\tremaining: 184ms\n",
      "890:\tlearn: 0.2076840\ttotal: 1.49s\tremaining: 183ms\n",
      "891:\tlearn: 0.2074361\ttotal: 1.49s\tremaining: 181ms\n",
      "892:\tlearn: 0.2072691\ttotal: 1.5s\tremaining: 179ms\n",
      "893:\tlearn: 0.2071863\ttotal: 1.5s\tremaining: 178ms\n",
      "894:\tlearn: 0.2070482\ttotal: 1.5s\tremaining: 176ms\n",
      "895:\tlearn: 0.2068719\ttotal: 1.5s\tremaining: 174ms\n",
      "896:\tlearn: 0.2068010\ttotal: 1.5s\tremaining: 172ms\n",
      "897:\tlearn: 0.2066289\ttotal: 1.5s\tremaining: 171ms\n",
      "898:\tlearn: 0.2065124\ttotal: 1.5s\tremaining: 169ms\n",
      "899:\tlearn: 0.2063746\ttotal: 1.51s\tremaining: 167ms\n",
      "900:\tlearn: 0.2060329\ttotal: 1.51s\tremaining: 166ms\n",
      "901:\tlearn: 0.2059134\ttotal: 1.51s\tremaining: 164ms\n",
      "902:\tlearn: 0.2056670\ttotal: 1.51s\tremaining: 162ms\n",
      "903:\tlearn: 0.2055800\ttotal: 1.51s\tremaining: 161ms\n",
      "904:\tlearn: 0.2054935\ttotal: 1.51s\tremaining: 159ms\n",
      "905:\tlearn: 0.2054216\ttotal: 1.51s\tremaining: 157ms\n",
      "906:\tlearn: 0.2053141\ttotal: 1.52s\tremaining: 155ms\n",
      "907:\tlearn: 0.2051578\ttotal: 1.52s\tremaining: 154ms\n",
      "908:\tlearn: 0.2051277\ttotal: 1.52s\tremaining: 152ms\n",
      "909:\tlearn: 0.2049773\ttotal: 1.52s\tremaining: 150ms\n",
      "910:\tlearn: 0.2049041\ttotal: 1.52s\tremaining: 149ms\n",
      "911:\tlearn: 0.2048033\ttotal: 1.52s\tremaining: 147ms\n",
      "912:\tlearn: 0.2046646\ttotal: 1.52s\tremaining: 145ms\n",
      "913:\tlearn: 0.2045087\ttotal: 1.53s\tremaining: 144ms\n",
      "914:\tlearn: 0.2043556\ttotal: 1.53s\tremaining: 142ms\n",
      "915:\tlearn: 0.2042029\ttotal: 1.53s\tremaining: 140ms\n",
      "916:\tlearn: 0.2041374\ttotal: 1.53s\tremaining: 139ms\n",
      "917:\tlearn: 0.2039668\ttotal: 1.53s\tremaining: 137ms\n",
      "918:\tlearn: 0.2038225\ttotal: 1.53s\tremaining: 135ms\n",
      "919:\tlearn: 0.2037351\ttotal: 1.54s\tremaining: 134ms\n",
      "920:\tlearn: 0.2035562\ttotal: 1.54s\tremaining: 132ms\n",
      "921:\tlearn: 0.2033158\ttotal: 1.54s\tremaining: 130ms\n",
      "922:\tlearn: 0.2031272\ttotal: 1.54s\tremaining: 129ms\n",
      "923:\tlearn: 0.2028653\ttotal: 1.54s\tremaining: 127ms\n",
      "924:\tlearn: 0.2027730\ttotal: 1.54s\tremaining: 125ms\n",
      "925:\tlearn: 0.2025642\ttotal: 1.55s\tremaining: 124ms\n",
      "926:\tlearn: 0.2025182\ttotal: 1.55s\tremaining: 122ms\n",
      "927:\tlearn: 0.2023242\ttotal: 1.55s\tremaining: 120ms\n",
      "928:\tlearn: 0.2021505\ttotal: 1.55s\tremaining: 119ms\n",
      "929:\tlearn: 0.2019405\ttotal: 1.55s\tremaining: 117ms\n",
      "930:\tlearn: 0.2018581\ttotal: 1.55s\tremaining: 115ms\n",
      "931:\tlearn: 0.2015040\ttotal: 1.55s\tremaining: 113ms\n",
      "932:\tlearn: 0.2012963\ttotal: 1.56s\tremaining: 112ms\n",
      "933:\tlearn: 0.2011157\ttotal: 1.56s\tremaining: 110ms\n",
      "934:\tlearn: 0.2010048\ttotal: 1.56s\tremaining: 108ms\n",
      "935:\tlearn: 0.2008797\ttotal: 1.56s\tremaining: 107ms\n",
      "936:\tlearn: 0.2006119\ttotal: 1.56s\tremaining: 105ms\n",
      "937:\tlearn: 0.2003997\ttotal: 1.56s\tremaining: 103ms\n",
      "938:\tlearn: 0.2002994\ttotal: 1.56s\tremaining: 102ms\n",
      "939:\tlearn: 0.2001781\ttotal: 1.57s\tremaining: 100ms\n",
      "940:\tlearn: 0.2001108\ttotal: 1.57s\tremaining: 98.3ms\n",
      "941:\tlearn: 0.1998029\ttotal: 1.57s\tremaining: 96.6ms\n",
      "942:\tlearn: 0.1996730\ttotal: 1.57s\tremaining: 94.9ms\n",
      "943:\tlearn: 0.1996001\ttotal: 1.57s\tremaining: 93.3ms\n",
      "944:\tlearn: 0.1995043\ttotal: 1.57s\tremaining: 91.6ms\n",
      "945:\tlearn: 0.1993791\ttotal: 1.57s\tremaining: 89.9ms\n",
      "946:\tlearn: 0.1993067\ttotal: 1.58s\tremaining: 88.2ms\n",
      "947:\tlearn: 0.1991825\ttotal: 1.58s\tremaining: 86.5ms\n",
      "948:\tlearn: 0.1991477\ttotal: 1.58s\tremaining: 84.9ms\n",
      "949:\tlearn: 0.1989893\ttotal: 1.58s\tremaining: 83.2ms\n",
      "950:\tlearn: 0.1989476\ttotal: 1.58s\tremaining: 81.5ms\n",
      "951:\tlearn: 0.1988571\ttotal: 1.58s\tremaining: 79.8ms\n",
      "952:\tlearn: 0.1987463\ttotal: 1.58s\tremaining: 78.2ms\n",
      "953:\tlearn: 0.1985914\ttotal: 1.59s\tremaining: 76.5ms\n",
      "954:\tlearn: 0.1984601\ttotal: 1.59s\tremaining: 74.8ms\n",
      "955:\tlearn: 0.1983558\ttotal: 1.59s\tremaining: 73.1ms\n",
      "956:\tlearn: 0.1981887\ttotal: 1.59s\tremaining: 71.5ms\n",
      "957:\tlearn: 0.1979755\ttotal: 1.59s\tremaining: 69.8ms\n",
      "958:\tlearn: 0.1978122\ttotal: 1.59s\tremaining: 68.1ms\n",
      "959:\tlearn: 0.1976791\ttotal: 1.59s\tremaining: 66.4ms\n",
      "960:\tlearn: 0.1976331\ttotal: 1.6s\tremaining: 64.8ms\n",
      "961:\tlearn: 0.1974878\ttotal: 1.6s\tremaining: 63.1ms\n",
      "962:\tlearn: 0.1973825\ttotal: 1.6s\tremaining: 61.5ms\n",
      "963:\tlearn: 0.1973230\ttotal: 1.6s\tremaining: 59.8ms\n",
      "964:\tlearn: 0.1970565\ttotal: 1.6s\tremaining: 58.2ms\n",
      "965:\tlearn: 0.1969765\ttotal: 1.6s\tremaining: 56.5ms\n",
      "966:\tlearn: 0.1967186\ttotal: 1.61s\tremaining: 54.8ms\n",
      "967:\tlearn: 0.1965649\ttotal: 1.61s\tremaining: 53.1ms\n",
      "968:\tlearn: 0.1964461\ttotal: 1.61s\tremaining: 51.5ms\n",
      "969:\tlearn: 0.1962676\ttotal: 1.61s\tremaining: 49.8ms\n",
      "970:\tlearn: 0.1961347\ttotal: 1.61s\tremaining: 48.1ms\n",
      "971:\tlearn: 0.1960023\ttotal: 1.61s\tremaining: 46.5ms\n",
      "972:\tlearn: 0.1958286\ttotal: 1.61s\tremaining: 44.8ms\n",
      "973:\tlearn: 0.1956880\ttotal: 1.62s\tremaining: 43.2ms\n",
      "974:\tlearn: 0.1955273\ttotal: 1.62s\tremaining: 41.5ms\n",
      "975:\tlearn: 0.1954718\ttotal: 1.62s\tremaining: 39.8ms\n",
      "976:\tlearn: 0.1954058\ttotal: 1.62s\tremaining: 38.2ms\n",
      "977:\tlearn: 0.1953148\ttotal: 1.62s\tremaining: 36.5ms\n",
      "978:\tlearn: 0.1951338\ttotal: 1.62s\tremaining: 34.8ms\n",
      "979:\tlearn: 0.1950429\ttotal: 1.63s\tremaining: 33.2ms\n",
      "980:\tlearn: 0.1950004\ttotal: 1.63s\tremaining: 31.5ms\n",
      "981:\tlearn: 0.1948226\ttotal: 1.63s\tremaining: 29.8ms\n",
      "982:\tlearn: 0.1946439\ttotal: 1.63s\tremaining: 28.2ms\n",
      "983:\tlearn: 0.1945826\ttotal: 1.63s\tremaining: 26.5ms\n",
      "984:\tlearn: 0.1944658\ttotal: 1.63s\tremaining: 24.9ms\n",
      "985:\tlearn: 0.1943315\ttotal: 1.63s\tremaining: 23.2ms\n",
      "986:\tlearn: 0.1941699\ttotal: 1.64s\tremaining: 21.5ms\n",
      "987:\tlearn: 0.1939214\ttotal: 1.64s\tremaining: 19.9ms\n",
      "988:\tlearn: 0.1937600\ttotal: 1.64s\tremaining: 18.2ms\n",
      "989:\tlearn: 0.1936543\ttotal: 1.64s\tremaining: 16.6ms\n",
      "990:\tlearn: 0.1935242\ttotal: 1.64s\tremaining: 14.9ms\n",
      "991:\tlearn: 0.1933722\ttotal: 1.64s\tremaining: 13.3ms\n",
      "992:\tlearn: 0.1932137\ttotal: 1.65s\tremaining: 11.6ms\n",
      "993:\tlearn: 0.1931190\ttotal: 1.65s\tremaining: 9.94ms\n",
      "994:\tlearn: 0.1930025\ttotal: 1.65s\tremaining: 8.28ms\n",
      "995:\tlearn: 0.1929036\ttotal: 1.65s\tremaining: 6.62ms\n",
      "996:\tlearn: 0.1927199\ttotal: 1.65s\tremaining: 4.97ms\n",
      "997:\tlearn: 0.1927060\ttotal: 1.65s\tremaining: 3.31ms\n",
      "998:\tlearn: 0.1926449\ttotal: 1.65s\tremaining: 1.66ms\n",
      "999:\tlearn: 0.1925922\ttotal: 1.66s\tremaining: 0us\n"
     ]
    },
    {
     "data": {
      "text/plain": [
       "0.7402597402597403"
      ]
     },
     "execution_count": 68,
     "metadata": {},
     "output_type": "execute_result"
    }
   ],
   "source": [
    "from catboost import CatBoostClassifier\n",
    "cat_model = CatBoostClassifier().fit(X_train, y_train)\n",
    "y_pred = cat_model.predict(X_test)\n",
    "accuracy_score(y_test, y_pred)"
   ]
  },
  {
   "cell_type": "code",
   "execution_count": 69,
   "id": "19b0e734-ab76-4c93-9578-45015fd68979",
   "metadata": {},
   "outputs": [
    {
     "name": "stdout",
     "output_type": "stream",
     "text": [
      "Fitting 5 folds for each of 18 candidates, totalling 90 fits\n",
      "0:\tlearn: 0.6863312\ttotal: 16.4ms\tremaining: 3.26s\n",
      "1:\tlearn: 0.6811157\ttotal: 19.4ms\tremaining: 1.92s\n",
      "2:\tlearn: 0.6752970\ttotal: 22.5ms\tremaining: 1.48s\n",
      "3:\tlearn: 0.6697432\ttotal: 25.7ms\tremaining: 1.26s\n",
      "4:\tlearn: 0.6641758\ttotal: 28.6ms\tremaining: 1.11s\n",
      "5:\tlearn: 0.6576656\ttotal: 31.6ms\tremaining: 1.02s\n",
      "6:\tlearn: 0.6521870\ttotal: 35.1ms\tremaining: 968ms\n",
      "7:\tlearn: 0.6465564\ttotal: 38.3ms\tremaining: 919ms\n",
      "8:\tlearn: 0.6407595\ttotal: 41.2ms\tremaining: 874ms\n",
      "9:\tlearn: 0.6357725\ttotal: 44.1ms\tremaining: 837ms\n",
      "10:\tlearn: 0.6299942\ttotal: 47.2ms\tremaining: 811ms\n",
      "11:\tlearn: 0.6240480\ttotal: 50.2ms\tremaining: 786ms\n",
      "12:\tlearn: 0.6196095\ttotal: 53.3ms\tremaining: 766ms\n",
      "13:\tlearn: 0.6148715\ttotal: 56.5ms\tremaining: 750ms\n",
      "14:\tlearn: 0.6092626\ttotal: 59.4ms\tremaining: 733ms\n",
      "15:\tlearn: 0.6046764\ttotal: 62.7ms\tremaining: 721ms\n",
      "16:\tlearn: 0.6012725\ttotal: 65.8ms\tremaining: 708ms\n",
      "17:\tlearn: 0.5958121\ttotal: 68.8ms\tremaining: 696ms\n",
      "18:\tlearn: 0.5903243\ttotal: 72ms\tremaining: 686ms\n",
      "19:\tlearn: 0.5866024\ttotal: 75ms\tremaining: 675ms\n",
      "20:\tlearn: 0.5831390\ttotal: 78.5ms\tremaining: 669ms\n",
      "21:\tlearn: 0.5787381\ttotal: 82ms\tremaining: 663ms\n",
      "22:\tlearn: 0.5749016\ttotal: 85ms\tremaining: 654ms\n",
      "23:\tlearn: 0.5703199\ttotal: 88.3ms\tremaining: 648ms\n",
      "24:\tlearn: 0.5662368\ttotal: 91.3ms\tremaining: 639ms\n",
      "25:\tlearn: 0.5628682\ttotal: 94.6ms\tremaining: 633ms\n",
      "26:\tlearn: 0.5589082\ttotal: 98ms\tremaining: 628ms\n",
      "27:\tlearn: 0.5543910\ttotal: 101ms\tremaining: 620ms\n",
      "28:\tlearn: 0.5503864\ttotal: 104ms\tremaining: 614ms\n",
      "29:\tlearn: 0.5470574\ttotal: 107ms\tremaining: 608ms\n",
      "30:\tlearn: 0.5441267\ttotal: 111ms\tremaining: 603ms\n",
      "31:\tlearn: 0.5396280\ttotal: 114ms\tremaining: 597ms\n",
      "32:\tlearn: 0.5356242\ttotal: 117ms\tremaining: 591ms\n",
      "33:\tlearn: 0.5315397\ttotal: 120ms\tremaining: 585ms\n",
      "34:\tlearn: 0.5279847\ttotal: 123ms\tremaining: 580ms\n",
      "35:\tlearn: 0.5248380\ttotal: 126ms\tremaining: 575ms\n",
      "36:\tlearn: 0.5223885\ttotal: 129ms\tremaining: 569ms\n",
      "37:\tlearn: 0.5198269\ttotal: 132ms\tremaining: 565ms\n",
      "38:\tlearn: 0.5167431\ttotal: 136ms\tremaining: 560ms\n",
      "39:\tlearn: 0.5138833\ttotal: 138ms\tremaining: 554ms\n",
      "40:\tlearn: 0.5101494\ttotal: 142ms\tremaining: 550ms\n",
      "41:\tlearn: 0.5066102\ttotal: 145ms\tremaining: 545ms\n",
      "42:\tlearn: 0.5033714\ttotal: 148ms\tremaining: 540ms\n",
      "43:\tlearn: 0.5005898\ttotal: 151ms\tremaining: 535ms\n",
      "44:\tlearn: 0.4980703\ttotal: 154ms\tremaining: 530ms\n",
      "45:\tlearn: 0.4959251\ttotal: 157ms\tremaining: 527ms\n",
      "46:\tlearn: 0.4933987\ttotal: 160ms\tremaining: 522ms\n",
      "47:\tlearn: 0.4906194\ttotal: 164ms\tremaining: 518ms\n",
      "48:\tlearn: 0.4878359\ttotal: 167ms\tremaining: 514ms\n",
      "49:\tlearn: 0.4850755\ttotal: 170ms\tremaining: 510ms\n",
      "50:\tlearn: 0.4825927\ttotal: 173ms\tremaining: 506ms\n",
      "51:\tlearn: 0.4798298\ttotal: 176ms\tremaining: 502ms\n",
      "52:\tlearn: 0.4776108\ttotal: 179ms\tremaining: 498ms\n",
      "53:\tlearn: 0.4754405\ttotal: 183ms\tremaining: 493ms\n",
      "54:\tlearn: 0.4733501\ttotal: 186ms\tremaining: 491ms\n",
      "55:\tlearn: 0.4706076\ttotal: 190ms\tremaining: 488ms\n",
      "56:\tlearn: 0.4677355\ttotal: 193ms\tremaining: 484ms\n",
      "57:\tlearn: 0.4656740\ttotal: 196ms\tremaining: 481ms\n",
      "58:\tlearn: 0.4637413\ttotal: 199ms\tremaining: 476ms\n",
      "59:\tlearn: 0.4615248\ttotal: 203ms\tremaining: 473ms\n",
      "60:\tlearn: 0.4599759\ttotal: 206ms\tremaining: 469ms\n",
      "61:\tlearn: 0.4583985\ttotal: 207ms\tremaining: 461ms\n",
      "62:\tlearn: 0.4567064\ttotal: 210ms\tremaining: 457ms\n",
      "63:\tlearn: 0.4540942\ttotal: 214ms\tremaining: 454ms\n",
      "64:\tlearn: 0.4529822\ttotal: 215ms\tremaining: 446ms\n",
      "65:\tlearn: 0.4512090\ttotal: 219ms\tremaining: 444ms\n",
      "66:\tlearn: 0.4486739\ttotal: 222ms\tremaining: 440ms\n",
      "67:\tlearn: 0.4467865\ttotal: 225ms\tremaining: 436ms\n",
      "68:\tlearn: 0.4449614\ttotal: 228ms\tremaining: 432ms\n",
      "69:\tlearn: 0.4426120\ttotal: 231ms\tremaining: 428ms\n",
      "70:\tlearn: 0.4401612\ttotal: 234ms\tremaining: 426ms\n",
      "71:\tlearn: 0.4380696\ttotal: 238ms\tremaining: 422ms\n",
      "72:\tlearn: 0.4367153\ttotal: 241ms\tremaining: 419ms\n",
      "73:\tlearn: 0.4353223\ttotal: 244ms\tremaining: 415ms\n",
      "74:\tlearn: 0.4339943\ttotal: 247ms\tremaining: 412ms\n",
      "75:\tlearn: 0.4315641\ttotal: 250ms\tremaining: 408ms\n",
      "76:\tlearn: 0.4298680\ttotal: 253ms\tremaining: 404ms\n",
      "77:\tlearn: 0.4285275\ttotal: 256ms\tremaining: 401ms\n",
      "78:\tlearn: 0.4265791\ttotal: 259ms\tremaining: 397ms\n",
      "79:\tlearn: 0.4244024\ttotal: 262ms\tremaining: 393ms\n",
      "80:\tlearn: 0.4228361\ttotal: 265ms\tremaining: 390ms\n",
      "81:\tlearn: 0.4214212\ttotal: 268ms\tremaining: 386ms\n",
      "82:\tlearn: 0.4200602\ttotal: 271ms\tremaining: 382ms\n",
      "83:\tlearn: 0.4184320\ttotal: 274ms\tremaining: 379ms\n",
      "84:\tlearn: 0.4167986\ttotal: 277ms\tremaining: 375ms\n",
      "85:\tlearn: 0.4156404\ttotal: 280ms\tremaining: 372ms\n",
      "86:\tlearn: 0.4140656\ttotal: 283ms\tremaining: 368ms\n",
      "87:\tlearn: 0.4124223\ttotal: 286ms\tremaining: 364ms\n",
      "88:\tlearn: 0.4107329\ttotal: 289ms\tremaining: 361ms\n",
      "89:\tlearn: 0.4090922\ttotal: 292ms\tremaining: 357ms\n",
      "90:\tlearn: 0.4075416\ttotal: 295ms\tremaining: 354ms\n",
      "91:\tlearn: 0.4062399\ttotal: 298ms\tremaining: 350ms\n",
      "92:\tlearn: 0.4044658\ttotal: 301ms\tremaining: 347ms\n",
      "93:\tlearn: 0.4030179\ttotal: 304ms\tremaining: 343ms\n",
      "94:\tlearn: 0.4012034\ttotal: 307ms\tremaining: 340ms\n",
      "95:\tlearn: 0.3994677\ttotal: 310ms\tremaining: 336ms\n",
      "96:\tlearn: 0.3983236\ttotal: 313ms\tremaining: 333ms\n",
      "97:\tlearn: 0.3969830\ttotal: 316ms\tremaining: 329ms\n",
      "98:\tlearn: 0.3955620\ttotal: 319ms\tremaining: 326ms\n",
      "99:\tlearn: 0.3946122\ttotal: 322ms\tremaining: 322ms\n",
      "100:\tlearn: 0.3932345\ttotal: 325ms\tremaining: 319ms\n",
      "101:\tlearn: 0.3920746\ttotal: 328ms\tremaining: 316ms\n",
      "102:\tlearn: 0.3911707\ttotal: 332ms\tremaining: 312ms\n",
      "103:\tlearn: 0.3895752\ttotal: 335ms\tremaining: 309ms\n",
      "104:\tlearn: 0.3880976\ttotal: 338ms\tremaining: 305ms\n",
      "105:\tlearn: 0.3867508\ttotal: 341ms\tremaining: 302ms\n",
      "106:\tlearn: 0.3855281\ttotal: 344ms\tremaining: 299ms\n",
      "107:\tlearn: 0.3841015\ttotal: 347ms\tremaining: 295ms\n",
      "108:\tlearn: 0.3829276\ttotal: 350ms\tremaining: 292ms\n",
      "109:\tlearn: 0.3818795\ttotal: 353ms\tremaining: 289ms\n",
      "110:\tlearn: 0.3809667\ttotal: 356ms\tremaining: 285ms\n",
      "111:\tlearn: 0.3790017\ttotal: 359ms\tremaining: 282ms\n",
      "112:\tlearn: 0.3774333\ttotal: 363ms\tremaining: 279ms\n",
      "113:\tlearn: 0.3762372\ttotal: 366ms\tremaining: 276ms\n",
      "114:\tlearn: 0.3750418\ttotal: 369ms\tremaining: 273ms\n",
      "115:\tlearn: 0.3735203\ttotal: 372ms\tremaining: 270ms\n",
      "116:\tlearn: 0.3727671\ttotal: 376ms\tremaining: 267ms\n",
      "117:\tlearn: 0.3713847\ttotal: 379ms\tremaining: 263ms\n",
      "118:\tlearn: 0.3705588\ttotal: 382ms\tremaining: 260ms\n",
      "119:\tlearn: 0.3694386\ttotal: 387ms\tremaining: 258ms\n",
      "120:\tlearn: 0.3687438\ttotal: 390ms\tremaining: 255ms\n",
      "121:\tlearn: 0.3679429\ttotal: 393ms\tremaining: 251ms\n",
      "122:\tlearn: 0.3666192\ttotal: 396ms\tremaining: 248ms\n",
      "123:\tlearn: 0.3654787\ttotal: 399ms\tremaining: 245ms\n",
      "124:\tlearn: 0.3643185\ttotal: 403ms\tremaining: 242ms\n",
      "125:\tlearn: 0.3636195\ttotal: 406ms\tremaining: 239ms\n",
      "126:\tlearn: 0.3625184\ttotal: 409ms\tremaining: 235ms\n",
      "127:\tlearn: 0.3609778\ttotal: 412ms\tremaining: 232ms\n",
      "128:\tlearn: 0.3595979\ttotal: 415ms\tremaining: 229ms\n",
      "129:\tlearn: 0.3583702\ttotal: 420ms\tremaining: 226ms\n",
      "130:\tlearn: 0.3569225\ttotal: 423ms\tremaining: 223ms\n",
      "131:\tlearn: 0.3558535\ttotal: 426ms\tremaining: 219ms\n",
      "132:\tlearn: 0.3548312\ttotal: 429ms\tremaining: 216ms\n",
      "133:\tlearn: 0.3533459\ttotal: 432ms\tremaining: 213ms\n",
      "134:\tlearn: 0.3524239\ttotal: 435ms\tremaining: 210ms\n",
      "135:\tlearn: 0.3517958\ttotal: 439ms\tremaining: 206ms\n",
      "136:\tlearn: 0.3504984\ttotal: 442ms\tremaining: 203ms\n",
      "137:\tlearn: 0.3497339\ttotal: 445ms\tremaining: 200ms\n",
      "138:\tlearn: 0.3488643\ttotal: 448ms\tremaining: 197ms\n",
      "139:\tlearn: 0.3482265\ttotal: 451ms\tremaining: 193ms\n",
      "140:\tlearn: 0.3470774\ttotal: 455ms\tremaining: 190ms\n",
      "141:\tlearn: 0.3458237\ttotal: 458ms\tremaining: 187ms\n",
      "142:\tlearn: 0.3445470\ttotal: 461ms\tremaining: 184ms\n",
      "143:\tlearn: 0.3436377\ttotal: 464ms\tremaining: 180ms\n",
      "144:\tlearn: 0.3426585\ttotal: 467ms\tremaining: 177ms\n",
      "145:\tlearn: 0.3417233\ttotal: 471ms\tremaining: 174ms\n",
      "146:\tlearn: 0.3407541\ttotal: 474ms\tremaining: 171ms\n",
      "147:\tlearn: 0.3397798\ttotal: 477ms\tremaining: 168ms\n",
      "148:\tlearn: 0.3390128\ttotal: 480ms\tremaining: 164ms\n",
      "149:\tlearn: 0.3381272\ttotal: 483ms\tremaining: 161ms\n",
      "150:\tlearn: 0.3374740\ttotal: 487ms\tremaining: 158ms\n",
      "151:\tlearn: 0.3365500\ttotal: 490ms\tremaining: 155ms\n",
      "152:\tlearn: 0.3358489\ttotal: 493ms\tremaining: 151ms\n",
      "153:\tlearn: 0.3346096\ttotal: 496ms\tremaining: 148ms\n",
      "154:\tlearn: 0.3335622\ttotal: 499ms\tremaining: 145ms\n",
      "155:\tlearn: 0.3330435\ttotal: 502ms\tremaining: 142ms\n",
      "156:\tlearn: 0.3323843\ttotal: 505ms\tremaining: 138ms\n",
      "157:\tlearn: 0.3312172\ttotal: 508ms\tremaining: 135ms\n",
      "158:\tlearn: 0.3299437\ttotal: 511ms\tremaining: 132ms\n",
      "159:\tlearn: 0.3286515\ttotal: 515ms\tremaining: 129ms\n",
      "160:\tlearn: 0.3275885\ttotal: 519ms\tremaining: 126ms\n",
      "161:\tlearn: 0.3266739\ttotal: 522ms\tremaining: 122ms\n",
      "162:\tlearn: 0.3258986\ttotal: 526ms\tremaining: 119ms\n",
      "163:\tlearn: 0.3249133\ttotal: 529ms\tremaining: 116ms\n",
      "164:\tlearn: 0.3241480\ttotal: 547ms\tremaining: 116ms\n",
      "165:\tlearn: 0.3237404\ttotal: 551ms\tremaining: 113ms\n",
      "166:\tlearn: 0.3228217\ttotal: 555ms\tremaining: 110ms\n",
      "167:\tlearn: 0.3218088\ttotal: 559ms\tremaining: 106ms\n",
      "168:\tlearn: 0.3209179\ttotal: 564ms\tremaining: 104ms\n",
      "169:\tlearn: 0.3200101\ttotal: 568ms\tremaining: 100ms\n",
      "170:\tlearn: 0.3188984\ttotal: 571ms\tremaining: 96.9ms\n",
      "171:\tlearn: 0.3178642\ttotal: 575ms\tremaining: 93.6ms\n",
      "172:\tlearn: 0.3172455\ttotal: 580ms\tremaining: 90.4ms\n",
      "173:\tlearn: 0.3166261\ttotal: 583ms\tremaining: 87.1ms\n",
      "174:\tlearn: 0.3157320\ttotal: 587ms\tremaining: 83.8ms\n",
      "175:\tlearn: 0.3149761\ttotal: 590ms\tremaining: 80.5ms\n",
      "176:\tlearn: 0.3142430\ttotal: 594ms\tremaining: 77.2ms\n",
      "177:\tlearn: 0.3138263\ttotal: 598ms\tremaining: 73.9ms\n",
      "178:\tlearn: 0.3133229\ttotal: 601ms\tremaining: 70.5ms\n",
      "179:\tlearn: 0.3124656\ttotal: 604ms\tremaining: 67.1ms\n",
      "180:\tlearn: 0.3114844\ttotal: 607ms\tremaining: 63.7ms\n",
      "181:\tlearn: 0.3109799\ttotal: 610ms\tremaining: 60.3ms\n",
      "182:\tlearn: 0.3105137\ttotal: 613ms\tremaining: 56.9ms\n",
      "183:\tlearn: 0.3094123\ttotal: 616ms\tremaining: 53.6ms\n",
      "184:\tlearn: 0.3087045\ttotal: 619ms\tremaining: 50.2ms\n",
      "185:\tlearn: 0.3079423\ttotal: 623ms\tremaining: 46.9ms\n",
      "186:\tlearn: 0.3071831\ttotal: 626ms\tremaining: 43.5ms\n",
      "187:\tlearn: 0.3061123\ttotal: 629ms\tremaining: 40.2ms\n",
      "188:\tlearn: 0.3054302\ttotal: 633ms\tremaining: 36.8ms\n",
      "189:\tlearn: 0.3048047\ttotal: 636ms\tremaining: 33.5ms\n",
      "190:\tlearn: 0.3042241\ttotal: 639ms\tremaining: 30.1ms\n",
      "191:\tlearn: 0.3036602\ttotal: 642ms\tremaining: 26.8ms\n",
      "192:\tlearn: 0.3028507\ttotal: 645ms\tremaining: 23.4ms\n",
      "193:\tlearn: 0.3019733\ttotal: 648ms\tremaining: 20.1ms\n",
      "194:\tlearn: 0.3009586\ttotal: 652ms\tremaining: 16.7ms\n",
      "195:\tlearn: 0.3001835\ttotal: 655ms\tremaining: 13.4ms\n",
      "196:\tlearn: 0.2999266\ttotal: 657ms\tremaining: 10ms\n",
      "197:\tlearn: 0.2993811\ttotal: 660ms\tremaining: 6.66ms\n",
      "198:\tlearn: 0.2986293\ttotal: 663ms\tremaining: 3.33ms\n",
      "199:\tlearn: 0.2980044\ttotal: 666ms\tremaining: 0us\n"
     ]
    },
    {
     "data": {
      "text/plain": [
       "{'depth': 8, 'iterations': 200, 'learning_rate': 0.01}"
      ]
     },
     "execution_count": 69,
     "metadata": {},
     "output_type": "execute_result"
    }
   ],
   "source": [
    "catb_params = {\n",
    "    'iterations': [200,500],\n",
    "    'learning_rate': [0.01,0.05, 0.1],\n",
    "    'depth': [3,5,8] }\n",
    "catb = CatBoostClassifier()\n",
    "catb_cv_model = GridSearchCV(catb, catb_params, cv=5, n_jobs = -1, verbose = 2)\n",
    "catb_cv_model.fit(X_train, y_train)\n",
    "catb_cv_model.best_params_"
   ]
  },
  {
   "cell_type": "code",
   "execution_count": 70,
   "id": "4b0d0511-78d4-4736-9031-9e751e80fd68",
   "metadata": {},
   "outputs": [
    {
     "name": "stdout",
     "output_type": "stream",
     "text": [
      "0:\tlearn: 0.6616270\ttotal: 1.36ms\tremaining: 272ms\n",
      "1:\tlearn: 0.6400322\ttotal: 2.79ms\tremaining: 277ms\n",
      "2:\tlearn: 0.6218089\ttotal: 3.98ms\tremaining: 262ms\n",
      "3:\tlearn: 0.6091426\ttotal: 5.22ms\tremaining: 256ms\n",
      "4:\tlearn: 0.5937764\ttotal: 6.37ms\tremaining: 248ms\n",
      "5:\tlearn: 0.5776944\ttotal: 7.49ms\tremaining: 242ms\n",
      "6:\tlearn: 0.5640806\ttotal: 8.52ms\tremaining: 235ms\n",
      "7:\tlearn: 0.5465023\ttotal: 9.72ms\tremaining: 233ms\n",
      "8:\tlearn: 0.5342910\ttotal: 11ms\tremaining: 233ms\n",
      "9:\tlearn: 0.5253110\ttotal: 12.4ms\tremaining: 236ms\n",
      "10:\tlearn: 0.5152173\ttotal: 13.8ms\tremaining: 237ms\n",
      "11:\tlearn: 0.5038768\ttotal: 15.2ms\tremaining: 238ms\n",
      "12:\tlearn: 0.4940545\ttotal: 16.6ms\tremaining: 238ms\n",
      "13:\tlearn: 0.4868880\ttotal: 17.8ms\tremaining: 236ms\n",
      "14:\tlearn: 0.4799839\ttotal: 19ms\tremaining: 235ms\n",
      "15:\tlearn: 0.4744068\ttotal: 20.4ms\tremaining: 234ms\n",
      "16:\tlearn: 0.4684004\ttotal: 21.5ms\tremaining: 231ms\n",
      "17:\tlearn: 0.4618850\ttotal: 22.7ms\tremaining: 229ms\n",
      "18:\tlearn: 0.4560376\ttotal: 23.8ms\tremaining: 227ms\n",
      "19:\tlearn: 0.4520084\ttotal: 25.1ms\tremaining: 226ms\n",
      "20:\tlearn: 0.4496671\ttotal: 26.2ms\tremaining: 223ms\n",
      "21:\tlearn: 0.4455551\ttotal: 27.4ms\tremaining: 222ms\n",
      "22:\tlearn: 0.4422781\ttotal: 28.8ms\tremaining: 221ms\n",
      "23:\tlearn: 0.4386630\ttotal: 29.9ms\tremaining: 220ms\n",
      "24:\tlearn: 0.4349463\ttotal: 31.4ms\tremaining: 220ms\n",
      "25:\tlearn: 0.4309778\ttotal: 32.7ms\tremaining: 219ms\n",
      "26:\tlearn: 0.4266714\ttotal: 33.9ms\tremaining: 217ms\n",
      "27:\tlearn: 0.4234692\ttotal: 35.1ms\tremaining: 215ms\n",
      "28:\tlearn: 0.4208624\ttotal: 36.2ms\tremaining: 214ms\n",
      "29:\tlearn: 0.4172232\ttotal: 37.5ms\tremaining: 212ms\n",
      "30:\tlearn: 0.4133147\ttotal: 38.7ms\tremaining: 211ms\n",
      "31:\tlearn: 0.4101905\ttotal: 39.9ms\tremaining: 209ms\n",
      "32:\tlearn: 0.4066286\ttotal: 41ms\tremaining: 207ms\n",
      "33:\tlearn: 0.4044740\ttotal: 42.2ms\tremaining: 206ms\n",
      "34:\tlearn: 0.4022900\ttotal: 43.4ms\tremaining: 205ms\n",
      "35:\tlearn: 0.3999429\ttotal: 44.6ms\tremaining: 203ms\n",
      "36:\tlearn: 0.3962978\ttotal: 45.8ms\tremaining: 202ms\n",
      "37:\tlearn: 0.3933701\ttotal: 47.1ms\tremaining: 201ms\n",
      "38:\tlearn: 0.3912523\ttotal: 48.3ms\tremaining: 199ms\n",
      "39:\tlearn: 0.3893302\ttotal: 49.5ms\tremaining: 198ms\n",
      "40:\tlearn: 0.3875203\ttotal: 50.8ms\tremaining: 197ms\n",
      "41:\tlearn: 0.3849304\ttotal: 52ms\tremaining: 196ms\n",
      "42:\tlearn: 0.3813299\ttotal: 53.2ms\tremaining: 194ms\n",
      "43:\tlearn: 0.3795402\ttotal: 54.4ms\tremaining: 193ms\n",
      "44:\tlearn: 0.3777184\ttotal: 55.7ms\tremaining: 192ms\n",
      "45:\tlearn: 0.3756954\ttotal: 57ms\tremaining: 191ms\n",
      "46:\tlearn: 0.3745321\ttotal: 58.3ms\tremaining: 190ms\n",
      "47:\tlearn: 0.3721354\ttotal: 59.4ms\tremaining: 188ms\n",
      "48:\tlearn: 0.3685780\ttotal: 60.6ms\tremaining: 187ms\n",
      "49:\tlearn: 0.3666452\ttotal: 61.8ms\tremaining: 186ms\n",
      "50:\tlearn: 0.3644728\ttotal: 63ms\tremaining: 184ms\n",
      "51:\tlearn: 0.3625128\ttotal: 64.1ms\tremaining: 182ms\n",
      "52:\tlearn: 0.3611870\ttotal: 65.2ms\tremaining: 181ms\n",
      "53:\tlearn: 0.3603816\ttotal: 66.4ms\tremaining: 180ms\n",
      "54:\tlearn: 0.3589946\ttotal: 67.8ms\tremaining: 179ms\n",
      "55:\tlearn: 0.3575038\ttotal: 69.2ms\tremaining: 178ms\n",
      "56:\tlearn: 0.3554533\ttotal: 71.3ms\tremaining: 179ms\n",
      "57:\tlearn: 0.3544004\ttotal: 72.5ms\tremaining: 178ms\n",
      "58:\tlearn: 0.3526026\ttotal: 74.1ms\tremaining: 177ms\n",
      "59:\tlearn: 0.3511301\ttotal: 75.3ms\tremaining: 176ms\n",
      "60:\tlearn: 0.3494133\ttotal: 76.6ms\tremaining: 174ms\n",
      "61:\tlearn: 0.3483027\ttotal: 77.8ms\tremaining: 173ms\n",
      "62:\tlearn: 0.3451450\ttotal: 79ms\tremaining: 172ms\n",
      "63:\tlearn: 0.3435204\ttotal: 80.2ms\tremaining: 170ms\n",
      "64:\tlearn: 0.3422728\ttotal: 81.3ms\tremaining: 169ms\n",
      "65:\tlearn: 0.3398199\ttotal: 82.6ms\tremaining: 168ms\n",
      "66:\tlearn: 0.3384822\ttotal: 83.7ms\tremaining: 166ms\n",
      "67:\tlearn: 0.3351317\ttotal: 84.9ms\tremaining: 165ms\n",
      "68:\tlearn: 0.3340115\ttotal: 86ms\tremaining: 163ms\n",
      "69:\tlearn: 0.3331121\ttotal: 87.2ms\tremaining: 162ms\n",
      "70:\tlearn: 0.3316302\ttotal: 88.4ms\tremaining: 161ms\n",
      "71:\tlearn: 0.3301733\ttotal: 89.5ms\tremaining: 159ms\n",
      "72:\tlearn: 0.3295149\ttotal: 90.6ms\tremaining: 158ms\n",
      "73:\tlearn: 0.3284217\ttotal: 91.7ms\tremaining: 156ms\n",
      "74:\tlearn: 0.3279660\ttotal: 92.8ms\tremaining: 155ms\n",
      "75:\tlearn: 0.3268952\ttotal: 94ms\tremaining: 153ms\n",
      "76:\tlearn: 0.3254518\ttotal: 95.1ms\tremaining: 152ms\n",
      "77:\tlearn: 0.3241106\ttotal: 96.3ms\tremaining: 151ms\n",
      "78:\tlearn: 0.3228759\ttotal: 97.4ms\tremaining: 149ms\n",
      "79:\tlearn: 0.3219436\ttotal: 98.5ms\tremaining: 148ms\n",
      "80:\tlearn: 0.3206056\ttotal: 99.6ms\tremaining: 146ms\n",
      "81:\tlearn: 0.3191827\ttotal: 101ms\tremaining: 145ms\n",
      "82:\tlearn: 0.3170886\ttotal: 102ms\tremaining: 144ms\n",
      "83:\tlearn: 0.3160838\ttotal: 104ms\tremaining: 143ms\n",
      "84:\tlearn: 0.3150899\ttotal: 105ms\tremaining: 142ms\n",
      "85:\tlearn: 0.3140124\ttotal: 106ms\tremaining: 141ms\n",
      "86:\tlearn: 0.3130193\ttotal: 107ms\tremaining: 139ms\n",
      "87:\tlearn: 0.3106871\ttotal: 108ms\tremaining: 138ms\n",
      "88:\tlearn: 0.3086032\ttotal: 109ms\tremaining: 136ms\n",
      "89:\tlearn: 0.3064108\ttotal: 111ms\tremaining: 135ms\n",
      "90:\tlearn: 0.3045562\ttotal: 112ms\tremaining: 134ms\n",
      "91:\tlearn: 0.3036883\ttotal: 113ms\tremaining: 132ms\n",
      "92:\tlearn: 0.3032737\ttotal: 114ms\tremaining: 131ms\n",
      "93:\tlearn: 0.3023179\ttotal: 115ms\tremaining: 130ms\n",
      "94:\tlearn: 0.3009276\ttotal: 116ms\tremaining: 128ms\n",
      "95:\tlearn: 0.2995992\ttotal: 117ms\tremaining: 127ms\n",
      "96:\tlearn: 0.2985231\ttotal: 118ms\tremaining: 126ms\n",
      "97:\tlearn: 0.2976560\ttotal: 119ms\tremaining: 124ms\n",
      "98:\tlearn: 0.2963154\ttotal: 121ms\tremaining: 123ms\n",
      "99:\tlearn: 0.2953531\ttotal: 122ms\tremaining: 122ms\n",
      "100:\tlearn: 0.2938846\ttotal: 123ms\tremaining: 120ms\n",
      "101:\tlearn: 0.2921889\ttotal: 124ms\tremaining: 119ms\n",
      "102:\tlearn: 0.2912674\ttotal: 125ms\tremaining: 118ms\n",
      "103:\tlearn: 0.2908713\ttotal: 126ms\tremaining: 116ms\n",
      "104:\tlearn: 0.2899328\ttotal: 127ms\tremaining: 115ms\n",
      "105:\tlearn: 0.2890519\ttotal: 128ms\tremaining: 114ms\n",
      "106:\tlearn: 0.2877014\ttotal: 129ms\tremaining: 112ms\n",
      "107:\tlearn: 0.2861653\ttotal: 130ms\tremaining: 111ms\n",
      "108:\tlearn: 0.2856113\ttotal: 132ms\tremaining: 110ms\n",
      "109:\tlearn: 0.2849766\ttotal: 133ms\tremaining: 108ms\n",
      "110:\tlearn: 0.2834395\ttotal: 134ms\tremaining: 107ms\n",
      "111:\tlearn: 0.2827715\ttotal: 135ms\tremaining: 106ms\n",
      "112:\tlearn: 0.2818655\ttotal: 136ms\tremaining: 105ms\n",
      "113:\tlearn: 0.2807385\ttotal: 137ms\tremaining: 103ms\n",
      "114:\tlearn: 0.2796023\ttotal: 138ms\tremaining: 102ms\n",
      "115:\tlearn: 0.2784442\ttotal: 139ms\tremaining: 101ms\n",
      "116:\tlearn: 0.2768195\ttotal: 140ms\tremaining: 99.4ms\n",
      "117:\tlearn: 0.2764916\ttotal: 141ms\tremaining: 98.1ms\n",
      "118:\tlearn: 0.2746645\ttotal: 142ms\tremaining: 96.8ms\n",
      "119:\tlearn: 0.2741106\ttotal: 143ms\tremaining: 95.5ms\n",
      "120:\tlearn: 0.2735159\ttotal: 144ms\tremaining: 94.2ms\n",
      "121:\tlearn: 0.2730517\ttotal: 145ms\tremaining: 93ms\n",
      "122:\tlearn: 0.2722698\ttotal: 147ms\tremaining: 91.7ms\n",
      "123:\tlearn: 0.2716146\ttotal: 148ms\tremaining: 90.5ms\n",
      "124:\tlearn: 0.2700179\ttotal: 149ms\tremaining: 89.2ms\n",
      "125:\tlearn: 0.2696332\ttotal: 150ms\tremaining: 87.9ms\n",
      "126:\tlearn: 0.2687926\ttotal: 151ms\tremaining: 86.7ms\n",
      "127:\tlearn: 0.2678068\ttotal: 152ms\tremaining: 85.5ms\n",
      "128:\tlearn: 0.2670116\ttotal: 153ms\tremaining: 84.2ms\n",
      "129:\tlearn: 0.2661414\ttotal: 154ms\tremaining: 83ms\n",
      "130:\tlearn: 0.2650632\ttotal: 156ms\tremaining: 82ms\n",
      "131:\tlearn: 0.2648298\ttotal: 157ms\tremaining: 80.8ms\n",
      "132:\tlearn: 0.2641863\ttotal: 158ms\tremaining: 79.6ms\n",
      "133:\tlearn: 0.2633376\ttotal: 159ms\tremaining: 78.3ms\n",
      "134:\tlearn: 0.2624161\ttotal: 160ms\tremaining: 77.1ms\n",
      "135:\tlearn: 0.2618961\ttotal: 161ms\tremaining: 75.9ms\n",
      "136:\tlearn: 0.2610856\ttotal: 162ms\tremaining: 74.6ms\n",
      "137:\tlearn: 0.2603948\ttotal: 163ms\tremaining: 73.4ms\n",
      "138:\tlearn: 0.2588774\ttotal: 165ms\tremaining: 72.2ms\n",
      "139:\tlearn: 0.2572880\ttotal: 166ms\tremaining: 71ms\n",
      "140:\tlearn: 0.2563731\ttotal: 167ms\tremaining: 69.8ms\n",
      "141:\tlearn: 0.2556204\ttotal: 168ms\tremaining: 68.7ms\n",
      "142:\tlearn: 0.2547857\ttotal: 169ms\tremaining: 67.5ms\n",
      "143:\tlearn: 0.2529240\ttotal: 170ms\tremaining: 66.3ms\n",
      "144:\tlearn: 0.2521550\ttotal: 172ms\tremaining: 65.1ms\n",
      "145:\tlearn: 0.2513649\ttotal: 173ms\tremaining: 63.8ms\n",
      "146:\tlearn: 0.2497788\ttotal: 174ms\tremaining: 62.6ms\n",
      "147:\tlearn: 0.2479468\ttotal: 175ms\tremaining: 61.5ms\n",
      "148:\tlearn: 0.2466481\ttotal: 176ms\tremaining: 60.3ms\n",
      "149:\tlearn: 0.2460545\ttotal: 177ms\tremaining: 59.2ms\n",
      "150:\tlearn: 0.2452748\ttotal: 179ms\tremaining: 58.2ms\n",
      "151:\tlearn: 0.2450248\ttotal: 181ms\tremaining: 57ms\n",
      "152:\tlearn: 0.2444881\ttotal: 182ms\tremaining: 55.8ms\n",
      "153:\tlearn: 0.2432526\ttotal: 183ms\tremaining: 54.6ms\n",
      "154:\tlearn: 0.2427632\ttotal: 184ms\tremaining: 53.4ms\n",
      "155:\tlearn: 0.2425398\ttotal: 185ms\tremaining: 52.2ms\n",
      "156:\tlearn: 0.2416328\ttotal: 186ms\tremaining: 51ms\n",
      "157:\tlearn: 0.2409543\ttotal: 187ms\tremaining: 49.8ms\n",
      "158:\tlearn: 0.2403395\ttotal: 188ms\tremaining: 48.5ms\n",
      "159:\tlearn: 0.2395237\ttotal: 189ms\tremaining: 47.3ms\n",
      "160:\tlearn: 0.2390837\ttotal: 190ms\tremaining: 46.1ms\n",
      "161:\tlearn: 0.2384153\ttotal: 192ms\tremaining: 45ms\n",
      "162:\tlearn: 0.2376410\ttotal: 193ms\tremaining: 43.9ms\n",
      "163:\tlearn: 0.2366812\ttotal: 194ms\tremaining: 42.7ms\n",
      "164:\tlearn: 0.2348688\ttotal: 195ms\tremaining: 41.5ms\n",
      "165:\tlearn: 0.2344013\ttotal: 197ms\tremaining: 40.3ms\n",
      "166:\tlearn: 0.2328825\ttotal: 198ms\tremaining: 39.1ms\n",
      "167:\tlearn: 0.2319733\ttotal: 199ms\tremaining: 37.9ms\n",
      "168:\tlearn: 0.2312842\ttotal: 200ms\tremaining: 36.7ms\n",
      "169:\tlearn: 0.2306607\ttotal: 201ms\tremaining: 35.5ms\n",
      "170:\tlearn: 0.2290393\ttotal: 202ms\tremaining: 34.3ms\n",
      "171:\tlearn: 0.2284539\ttotal: 203ms\tremaining: 33.1ms\n",
      "172:\tlearn: 0.2277365\ttotal: 204ms\tremaining: 31.9ms\n",
      "173:\tlearn: 0.2257754\ttotal: 206ms\tremaining: 30.7ms\n",
      "174:\tlearn: 0.2252312\ttotal: 207ms\tremaining: 29.5ms\n",
      "175:\tlearn: 0.2233510\ttotal: 208ms\tremaining: 28.4ms\n",
      "176:\tlearn: 0.2228426\ttotal: 209ms\tremaining: 27.2ms\n",
      "177:\tlearn: 0.2223245\ttotal: 210ms\tremaining: 26ms\n",
      "178:\tlearn: 0.2206959\ttotal: 211ms\tremaining: 24.8ms\n",
      "179:\tlearn: 0.2199697\ttotal: 212ms\tremaining: 23.6ms\n",
      "180:\tlearn: 0.2193349\ttotal: 213ms\tremaining: 22.4ms\n",
      "181:\tlearn: 0.2184913\ttotal: 215ms\tremaining: 21.2ms\n",
      "182:\tlearn: 0.2180382\ttotal: 216ms\tremaining: 20ms\n",
      "183:\tlearn: 0.2175915\ttotal: 217ms\tremaining: 18.8ms\n",
      "184:\tlearn: 0.2170264\ttotal: 218ms\tremaining: 17.7ms\n",
      "185:\tlearn: 0.2166247\ttotal: 219ms\tremaining: 16.5ms\n",
      "186:\tlearn: 0.2162110\ttotal: 220ms\tremaining: 15.3ms\n",
      "187:\tlearn: 0.2155026\ttotal: 221ms\tremaining: 14.1ms\n",
      "188:\tlearn: 0.2152076\ttotal: 222ms\tremaining: 12.9ms\n",
      "189:\tlearn: 0.2138091\ttotal: 223ms\tremaining: 11.8ms\n",
      "190:\tlearn: 0.2122243\ttotal: 225ms\tremaining: 10.6ms\n",
      "191:\tlearn: 0.2109937\ttotal: 226ms\tremaining: 9.4ms\n",
      "192:\tlearn: 0.2099906\ttotal: 227ms\tremaining: 8.22ms\n",
      "193:\tlearn: 0.2095110\ttotal: 228ms\tremaining: 7.04ms\n",
      "194:\tlearn: 0.2084723\ttotal: 229ms\tremaining: 5.87ms\n",
      "195:\tlearn: 0.2076215\ttotal: 230ms\tremaining: 4.69ms\n",
      "196:\tlearn: 0.2071555\ttotal: 231ms\tremaining: 3.52ms\n",
      "197:\tlearn: 0.2064088\ttotal: 232ms\tremaining: 2.34ms\n",
      "198:\tlearn: 0.2062316\ttotal: 233ms\tremaining: 1.17ms\n",
      "199:\tlearn: 0.2056560\ttotal: 234ms\tremaining: 0us\n"
     ]
    }
   ],
   "source": [
    "catb = CatBoostClassifier(iterations = 200, \n",
    "                          learning_rate = 0.05, \n",
    "                          depth = 5)\n",
    "\n",
    "catb_tuned = catb.fit(X_train, y_train)\n",
    "y_pred = catb_tuned.predict(X_test)\n"
   ]
  },
  {
   "cell_type": "code",
   "execution_count": 72,
   "id": "66e262b1-f02d-406d-9eb6-cd59c195ecae",
   "metadata": {},
   "outputs": [
    {
     "data": {
      "text/plain": [
       "0.7445887445887446"
      ]
     },
     "execution_count": 72,
     "metadata": {},
     "output_type": "execute_result"
    }
   ],
   "source": [
    "accuracy_score(y_test, y_pred)"
   ]
  },
  {
   "cell_type": "code",
   "execution_count": 73,
   "id": "95be8f78-02ba-4fda-a8c2-5955a3f34e8b",
   "metadata": {},
   "outputs": [
    {
     "name": "stdout",
     "output_type": "stream",
     "text": [
      "0:\tlearn: 0.6863312\ttotal: 3.73ms\tremaining: 743ms\n",
      "1:\tlearn: 0.6811157\ttotal: 7.27ms\tremaining: 720ms\n",
      "2:\tlearn: 0.6752970\ttotal: 10.6ms\tremaining: 695ms\n",
      "3:\tlearn: 0.6697432\ttotal: 14ms\tremaining: 685ms\n",
      "4:\tlearn: 0.6641758\ttotal: 18ms\tremaining: 701ms\n",
      "5:\tlearn: 0.6576656\ttotal: 21.7ms\tremaining: 701ms\n",
      "6:\tlearn: 0.6521870\ttotal: 25.6ms\tremaining: 705ms\n",
      "7:\tlearn: 0.6465564\ttotal: 29.2ms\tremaining: 700ms\n",
      "8:\tlearn: 0.6407595\ttotal: 32.7ms\tremaining: 693ms\n",
      "9:\tlearn: 0.6357725\ttotal: 36ms\tremaining: 685ms\n",
      "10:\tlearn: 0.6299942\ttotal: 39.8ms\tremaining: 684ms\n",
      "11:\tlearn: 0.6240480\ttotal: 43.3ms\tremaining: 678ms\n",
      "12:\tlearn: 0.6196095\ttotal: 46.9ms\tremaining: 675ms\n",
      "13:\tlearn: 0.6148715\ttotal: 50.4ms\tremaining: 669ms\n",
      "14:\tlearn: 0.6092626\ttotal: 53.7ms\tremaining: 663ms\n",
      "15:\tlearn: 0.6046764\ttotal: 57.2ms\tremaining: 658ms\n",
      "16:\tlearn: 0.6012725\ttotal: 60.7ms\tremaining: 653ms\n",
      "17:\tlearn: 0.5958121\ttotal: 64.3ms\tremaining: 650ms\n",
      "18:\tlearn: 0.5903243\ttotal: 67.7ms\tremaining: 645ms\n",
      "19:\tlearn: 0.5866024\ttotal: 71.2ms\tremaining: 641ms\n",
      "20:\tlearn: 0.5831390\ttotal: 74.7ms\tremaining: 637ms\n",
      "21:\tlearn: 0.5787381\ttotal: 78.7ms\tremaining: 637ms\n",
      "22:\tlearn: 0.5749016\ttotal: 83.4ms\tremaining: 642ms\n",
      "23:\tlearn: 0.5703199\ttotal: 86.8ms\tremaining: 637ms\n",
      "24:\tlearn: 0.5662368\ttotal: 90.1ms\tremaining: 631ms\n",
      "25:\tlearn: 0.5628682\ttotal: 93.2ms\tremaining: 624ms\n",
      "26:\tlearn: 0.5589082\ttotal: 97.3ms\tremaining: 624ms\n",
      "27:\tlearn: 0.5543910\ttotal: 100ms\tremaining: 617ms\n",
      "28:\tlearn: 0.5503864\ttotal: 103ms\tremaining: 610ms\n",
      "29:\tlearn: 0.5470574\ttotal: 107ms\tremaining: 604ms\n",
      "30:\tlearn: 0.5441267\ttotal: 110ms\tremaining: 598ms\n",
      "31:\tlearn: 0.5396280\ttotal: 114ms\tremaining: 596ms\n",
      "32:\tlearn: 0.5356242\ttotal: 117ms\tremaining: 593ms\n",
      "33:\tlearn: 0.5315397\ttotal: 121ms\tremaining: 590ms\n",
      "34:\tlearn: 0.5279847\ttotal: 125ms\tremaining: 587ms\n",
      "35:\tlearn: 0.5248380\ttotal: 129ms\tremaining: 586ms\n",
      "36:\tlearn: 0.5223885\ttotal: 132ms\tremaining: 581ms\n",
      "37:\tlearn: 0.5198269\ttotal: 135ms\tremaining: 575ms\n",
      "38:\tlearn: 0.5167431\ttotal: 138ms\tremaining: 570ms\n",
      "39:\tlearn: 0.5138833\ttotal: 141ms\tremaining: 565ms\n",
      "40:\tlearn: 0.5101494\ttotal: 145ms\tremaining: 561ms\n",
      "41:\tlearn: 0.5066102\ttotal: 148ms\tremaining: 556ms\n",
      "42:\tlearn: 0.5033714\ttotal: 151ms\tremaining: 551ms\n",
      "43:\tlearn: 0.5005898\ttotal: 154ms\tremaining: 547ms\n",
      "44:\tlearn: 0.4980703\ttotal: 158ms\tremaining: 543ms\n",
      "45:\tlearn: 0.4959251\ttotal: 161ms\tremaining: 539ms\n",
      "46:\tlearn: 0.4933987\ttotal: 164ms\tremaining: 534ms\n",
      "47:\tlearn: 0.4906194\ttotal: 167ms\tremaining: 529ms\n",
      "48:\tlearn: 0.4878359\ttotal: 170ms\tremaining: 525ms\n",
      "49:\tlearn: 0.4850755\ttotal: 173ms\tremaining: 520ms\n",
      "50:\tlearn: 0.4825927\ttotal: 177ms\tremaining: 516ms\n",
      "51:\tlearn: 0.4798298\ttotal: 181ms\tremaining: 514ms\n",
      "52:\tlearn: 0.4776108\ttotal: 184ms\tremaining: 510ms\n",
      "53:\tlearn: 0.4754405\ttotal: 187ms\tremaining: 506ms\n",
      "54:\tlearn: 0.4733501\ttotal: 190ms\tremaining: 502ms\n",
      "55:\tlearn: 0.4706076\ttotal: 194ms\tremaining: 498ms\n",
      "56:\tlearn: 0.4677355\ttotal: 197ms\tremaining: 495ms\n",
      "57:\tlearn: 0.4656740\ttotal: 200ms\tremaining: 491ms\n",
      "58:\tlearn: 0.4637413\ttotal: 204ms\tremaining: 486ms\n",
      "59:\tlearn: 0.4615248\ttotal: 208ms\tremaining: 486ms\n",
      "60:\tlearn: 0.4599759\ttotal: 212ms\tremaining: 484ms\n",
      "61:\tlearn: 0.4583985\ttotal: 213ms\tremaining: 475ms\n",
      "62:\tlearn: 0.4567064\ttotal: 217ms\tremaining: 471ms\n",
      "63:\tlearn: 0.4540942\ttotal: 220ms\tremaining: 468ms\n",
      "64:\tlearn: 0.4529822\ttotal: 222ms\tremaining: 460ms\n",
      "65:\tlearn: 0.4512090\ttotal: 225ms\tremaining: 456ms\n",
      "66:\tlearn: 0.4486739\ttotal: 228ms\tremaining: 453ms\n",
      "67:\tlearn: 0.4467865\ttotal: 231ms\tremaining: 449ms\n",
      "68:\tlearn: 0.4449614\ttotal: 236ms\tremaining: 449ms\n",
      "69:\tlearn: 0.4426120\ttotal: 240ms\tremaining: 445ms\n",
      "70:\tlearn: 0.4401612\ttotal: 244ms\tremaining: 443ms\n",
      "71:\tlearn: 0.4380696\ttotal: 247ms\tremaining: 439ms\n",
      "72:\tlearn: 0.4367153\ttotal: 250ms\tremaining: 436ms\n",
      "73:\tlearn: 0.4353223\ttotal: 254ms\tremaining: 433ms\n",
      "74:\tlearn: 0.4339943\ttotal: 257ms\tremaining: 429ms\n",
      "75:\tlearn: 0.4315641\ttotal: 261ms\tremaining: 426ms\n",
      "76:\tlearn: 0.4298680\ttotal: 264ms\tremaining: 422ms\n",
      "77:\tlearn: 0.4285275\ttotal: 268ms\tremaining: 419ms\n",
      "78:\tlearn: 0.4265791\ttotal: 271ms\tremaining: 415ms\n",
      "79:\tlearn: 0.4244024\ttotal: 274ms\tremaining: 411ms\n",
      "80:\tlearn: 0.4228361\ttotal: 277ms\tremaining: 407ms\n",
      "81:\tlearn: 0.4214212\ttotal: 280ms\tremaining: 403ms\n",
      "82:\tlearn: 0.4200602\ttotal: 284ms\tremaining: 400ms\n",
      "83:\tlearn: 0.4184320\ttotal: 287ms\tremaining: 396ms\n",
      "84:\tlearn: 0.4167986\ttotal: 290ms\tremaining: 392ms\n",
      "85:\tlearn: 0.4156404\ttotal: 293ms\tremaining: 388ms\n",
      "86:\tlearn: 0.4140656\ttotal: 296ms\tremaining: 384ms\n",
      "87:\tlearn: 0.4124223\ttotal: 299ms\tremaining: 380ms\n",
      "88:\tlearn: 0.4107329\ttotal: 302ms\tremaining: 376ms\n",
      "89:\tlearn: 0.4090922\ttotal: 305ms\tremaining: 372ms\n",
      "90:\tlearn: 0.4075416\ttotal: 308ms\tremaining: 369ms\n",
      "91:\tlearn: 0.4062399\ttotal: 311ms\tremaining: 365ms\n",
      "92:\tlearn: 0.4044658\ttotal: 314ms\tremaining: 361ms\n",
      "93:\tlearn: 0.4030179\ttotal: 317ms\tremaining: 357ms\n",
      "94:\tlearn: 0.4012034\ttotal: 320ms\tremaining: 353ms\n",
      "95:\tlearn: 0.3994677\ttotal: 323ms\tremaining: 350ms\n",
      "96:\tlearn: 0.3983236\ttotal: 327ms\tremaining: 347ms\n",
      "97:\tlearn: 0.3969830\ttotal: 330ms\tremaining: 343ms\n",
      "98:\tlearn: 0.3955620\ttotal: 333ms\tremaining: 340ms\n",
      "99:\tlearn: 0.3946122\ttotal: 336ms\tremaining: 336ms\n",
      "100:\tlearn: 0.3932345\ttotal: 339ms\tremaining: 332ms\n",
      "101:\tlearn: 0.3920746\ttotal: 342ms\tremaining: 329ms\n",
      "102:\tlearn: 0.3911707\ttotal: 345ms\tremaining: 325ms\n",
      "103:\tlearn: 0.3895752\ttotal: 348ms\tremaining: 321ms\n",
      "104:\tlearn: 0.3880976\ttotal: 351ms\tremaining: 318ms\n",
      "105:\tlearn: 0.3867508\ttotal: 354ms\tremaining: 314ms\n",
      "106:\tlearn: 0.3855281\ttotal: 357ms\tremaining: 311ms\n",
      "107:\tlearn: 0.3841015\ttotal: 361ms\tremaining: 307ms\n",
      "108:\tlearn: 0.3829276\ttotal: 364ms\tremaining: 304ms\n",
      "109:\tlearn: 0.3818795\ttotal: 368ms\tremaining: 301ms\n",
      "110:\tlearn: 0.3809667\ttotal: 371ms\tremaining: 298ms\n",
      "111:\tlearn: 0.3790017\ttotal: 374ms\tremaining: 294ms\n",
      "112:\tlearn: 0.3774333\ttotal: 378ms\tremaining: 291ms\n",
      "113:\tlearn: 0.3762372\ttotal: 382ms\tremaining: 288ms\n",
      "114:\tlearn: 0.3750418\ttotal: 385ms\tremaining: 285ms\n",
      "115:\tlearn: 0.3735203\ttotal: 388ms\tremaining: 281ms\n",
      "116:\tlearn: 0.3727671\ttotal: 391ms\tremaining: 278ms\n",
      "117:\tlearn: 0.3713847\ttotal: 395ms\tremaining: 274ms\n",
      "118:\tlearn: 0.3705588\ttotal: 398ms\tremaining: 271ms\n",
      "119:\tlearn: 0.3694386\ttotal: 401ms\tremaining: 267ms\n",
      "120:\tlearn: 0.3687438\ttotal: 404ms\tremaining: 263ms\n",
      "121:\tlearn: 0.3679429\ttotal: 407ms\tremaining: 260ms\n",
      "122:\tlearn: 0.3666192\ttotal: 410ms\tremaining: 256ms\n",
      "123:\tlearn: 0.3654787\ttotal: 413ms\tremaining: 253ms\n",
      "124:\tlearn: 0.3643185\ttotal: 416ms\tremaining: 250ms\n",
      "125:\tlearn: 0.3636195\ttotal: 419ms\tremaining: 246ms\n",
      "126:\tlearn: 0.3625184\ttotal: 422ms\tremaining: 243ms\n",
      "127:\tlearn: 0.3609778\ttotal: 425ms\tremaining: 239ms\n",
      "128:\tlearn: 0.3595979\ttotal: 428ms\tremaining: 236ms\n",
      "129:\tlearn: 0.3583702\ttotal: 431ms\tremaining: 232ms\n",
      "130:\tlearn: 0.3569225\ttotal: 434ms\tremaining: 229ms\n",
      "131:\tlearn: 0.3558535\ttotal: 437ms\tremaining: 225ms\n",
      "132:\tlearn: 0.3548312\ttotal: 440ms\tremaining: 222ms\n",
      "133:\tlearn: 0.3533459\ttotal: 443ms\tremaining: 218ms\n",
      "134:\tlearn: 0.3524239\ttotal: 446ms\tremaining: 215ms\n",
      "135:\tlearn: 0.3517958\ttotal: 449ms\tremaining: 211ms\n",
      "136:\tlearn: 0.3504984\ttotal: 452ms\tremaining: 208ms\n",
      "137:\tlearn: 0.3497339\ttotal: 455ms\tremaining: 204ms\n",
      "138:\tlearn: 0.3488643\ttotal: 458ms\tremaining: 201ms\n",
      "139:\tlearn: 0.3482265\ttotal: 460ms\tremaining: 197ms\n",
      "140:\tlearn: 0.3470774\ttotal: 463ms\tremaining: 194ms\n",
      "141:\tlearn: 0.3458237\ttotal: 466ms\tremaining: 190ms\n",
      "142:\tlearn: 0.3445470\ttotal: 469ms\tremaining: 187ms\n",
      "143:\tlearn: 0.3436377\ttotal: 472ms\tremaining: 184ms\n",
      "144:\tlearn: 0.3426585\ttotal: 475ms\tremaining: 180ms\n",
      "145:\tlearn: 0.3417233\ttotal: 478ms\tremaining: 177ms\n",
      "146:\tlearn: 0.3407541\ttotal: 481ms\tremaining: 173ms\n",
      "147:\tlearn: 0.3397798\ttotal: 484ms\tremaining: 170ms\n",
      "148:\tlearn: 0.3390128\ttotal: 487ms\tremaining: 167ms\n",
      "149:\tlearn: 0.3381272\ttotal: 490ms\tremaining: 163ms\n",
      "150:\tlearn: 0.3374740\ttotal: 493ms\tremaining: 160ms\n",
      "151:\tlearn: 0.3365500\ttotal: 496ms\tremaining: 157ms\n",
      "152:\tlearn: 0.3358489\ttotal: 499ms\tremaining: 153ms\n",
      "153:\tlearn: 0.3346096\ttotal: 502ms\tremaining: 150ms\n",
      "154:\tlearn: 0.3335622\ttotal: 505ms\tremaining: 147ms\n",
      "155:\tlearn: 0.3330435\ttotal: 508ms\tremaining: 143ms\n",
      "156:\tlearn: 0.3323843\ttotal: 511ms\tremaining: 140ms\n",
      "157:\tlearn: 0.3312172\ttotal: 514ms\tremaining: 137ms\n",
      "158:\tlearn: 0.3299437\ttotal: 517ms\tremaining: 133ms\n",
      "159:\tlearn: 0.3286515\ttotal: 520ms\tremaining: 130ms\n",
      "160:\tlearn: 0.3275885\ttotal: 523ms\tremaining: 127ms\n",
      "161:\tlearn: 0.3266739\ttotal: 526ms\tremaining: 123ms\n",
      "162:\tlearn: 0.3258986\ttotal: 529ms\tremaining: 120ms\n",
      "163:\tlearn: 0.3249133\ttotal: 533ms\tremaining: 117ms\n",
      "164:\tlearn: 0.3241480\ttotal: 536ms\tremaining: 114ms\n",
      "165:\tlearn: 0.3237404\ttotal: 539ms\tremaining: 110ms\n",
      "166:\tlearn: 0.3228217\ttotal: 542ms\tremaining: 107ms\n",
      "167:\tlearn: 0.3218088\ttotal: 546ms\tremaining: 104ms\n",
      "168:\tlearn: 0.3209179\ttotal: 549ms\tremaining: 101ms\n",
      "169:\tlearn: 0.3200101\ttotal: 552ms\tremaining: 97.3ms\n",
      "170:\tlearn: 0.3188984\ttotal: 555ms\tremaining: 94ms\n",
      "171:\tlearn: 0.3178642\ttotal: 558ms\tremaining: 90.8ms\n",
      "172:\tlearn: 0.3172455\ttotal: 561ms\tremaining: 87.6ms\n",
      "173:\tlearn: 0.3166261\ttotal: 564ms\tremaining: 84.3ms\n",
      "174:\tlearn: 0.3157320\ttotal: 568ms\tremaining: 81.1ms\n",
      "175:\tlearn: 0.3149761\ttotal: 572ms\tremaining: 77.9ms\n",
      "176:\tlearn: 0.3142430\ttotal: 575ms\tremaining: 74.7ms\n",
      "177:\tlearn: 0.3138263\ttotal: 578ms\tremaining: 71.5ms\n",
      "178:\tlearn: 0.3133229\ttotal: 582ms\tremaining: 68.3ms\n",
      "179:\tlearn: 0.3124656\ttotal: 585ms\tremaining: 65ms\n",
      "180:\tlearn: 0.3114844\ttotal: 588ms\tremaining: 61.7ms\n",
      "181:\tlearn: 0.3109799\ttotal: 591ms\tremaining: 58.4ms\n",
      "182:\tlearn: 0.3105137\ttotal: 594ms\tremaining: 55.2ms\n",
      "183:\tlearn: 0.3094123\ttotal: 597ms\tremaining: 51.9ms\n",
      "184:\tlearn: 0.3087045\ttotal: 600ms\tremaining: 48.7ms\n",
      "185:\tlearn: 0.3079423\ttotal: 604ms\tremaining: 45.4ms\n",
      "186:\tlearn: 0.3071831\ttotal: 607ms\tremaining: 42.2ms\n",
      "187:\tlearn: 0.3061123\ttotal: 610ms\tremaining: 38.9ms\n",
      "188:\tlearn: 0.3054302\ttotal: 613ms\tremaining: 35.7ms\n",
      "189:\tlearn: 0.3048047\ttotal: 616ms\tremaining: 32.4ms\n",
      "190:\tlearn: 0.3042241\ttotal: 619ms\tremaining: 29.2ms\n",
      "191:\tlearn: 0.3036602\ttotal: 622ms\tremaining: 25.9ms\n",
      "192:\tlearn: 0.3028507\ttotal: 625ms\tremaining: 22.7ms\n",
      "193:\tlearn: 0.3019733\ttotal: 629ms\tremaining: 19.4ms\n",
      "194:\tlearn: 0.3009586\ttotal: 632ms\tremaining: 16.2ms\n",
      "195:\tlearn: 0.3001835\ttotal: 635ms\tremaining: 13ms\n",
      "196:\tlearn: 0.2999266\ttotal: 637ms\tremaining: 9.7ms\n",
      "197:\tlearn: 0.2993811\ttotal: 640ms\tremaining: 6.46ms\n",
      "198:\tlearn: 0.2986293\ttotal: 643ms\tremaining: 3.23ms\n",
      "199:\tlearn: 0.2980044\ttotal: 647ms\tremaining: 0us\n"
     ]
    }
   ],
   "source": [
    "catb = CatBoostClassifier(iterations = 200, \n",
    "                          learning_rate = 0.01, \n",
    "                          depth = 8)\n",
    "\n",
    "catb_tuned = catb.fit(X_train, y_train)\n",
    "y_pred = catb_tuned.predict(X_test)\n"
   ]
  },
  {
   "cell_type": "code",
   "execution_count": 74,
   "id": "58f1cf7b-8766-499e-95aa-ba89c6d69fdd",
   "metadata": {},
   "outputs": [
    {
     "data": {
      "text/plain": [
       "0.7532467532467533"
      ]
     },
     "execution_count": 74,
     "metadata": {},
     "output_type": "execute_result"
    }
   ],
   "source": [
    "accuracy_score(y_test, y_pred)"
   ]
  },
  {
   "cell_type": "code",
   "execution_count": null,
   "id": "634c1353-0480-4eeb-add7-4f48498d0709",
   "metadata": {},
   "outputs": [],
   "source": []
  }
 ],
 "metadata": {
  "kernelspec": {
   "display_name": "Python 3 (ipykernel)",
   "language": "python",
   "name": "python3"
  },
  "language_info": {
   "codemirror_mode": {
    "name": "ipython",
    "version": 3
   },
   "file_extension": ".py",
   "mimetype": "text/x-python",
   "name": "python",
   "nbconvert_exporter": "python",
   "pygments_lexer": "ipython3",
   "version": "3.9.7"
  }
 },
 "nbformat": 4,
 "nbformat_minor": 5
}
